{
 "cells": [
  {
   "cell_type": "markdown",
   "metadata": {
    "colab_type": "text",
    "id": "mt5O3Y-fb5Du"
   },
   "source": [
    "##Import"
   ]
  },
  {
   "cell_type": "code",
   "execution_count": 1,
   "metadata": {},
   "outputs": [],
   "source": [
    "%run models.py"
   ]
  },
  {
   "cell_type": "code",
   "execution_count": 2,
   "metadata": {},
   "outputs": [],
   "source": [
    "%run constants.py"
   ]
  },
  {
   "cell_type": "code",
   "execution_count": 3,
   "metadata": {
    "colab": {
     "base_uri": "https://localhost:8080/",
     "height": 33
    },
    "colab_type": "code",
    "executionInfo": {
     "elapsed": 30350,
     "status": "ok",
     "timestamp": 1594882297070,
     "user": {
      "displayName": "Tien LE KHAC",
      "photoUrl": "https://lh3.googleusercontent.com/a-/AOh14GhATILfEwLuvrRlBGPMrmY7nclZNsxGKzoqqHB_Cg=s64",
      "userId": "18298916241916904857"
     },
     "user_tz": -420
    },
    "id": "YIQ708lZS2lF",
    "outputId": "fb43b716-4056-4cac-e841-d31d8b139fe4"
   },
   "outputs": [],
   "source": [
    "import numpy as np\n",
    "import pandas as pd\n",
    "import torch as th\n",
    "from torch.autograd import Variable as V\n",
    "import torch.autograd as autograd\n",
    "import torch.nn as nn\n",
    "import torch.nn.functional as F\n",
    "import torch.optim as optim\n",
    "from sklearn.utils import shuffle\n",
    "from sklearn.metrics import confusion_matrix\n",
    "import pickle\n",
    "\n",
    "\n",
    "# Own Custom Module to import models and constants\n",
    "from models import *\n",
    "from constants import *\n",
    "\n",
    "import matplotlib.pyplot as plt\n",
    "import adabound \n",
    "import math\n",
    "import os\n",
    "from datetime import date\n",
    "import timeit"
   ]
  },
  {
   "cell_type": "markdown",
   "metadata": {
    "colab_type": "text",
    "id": "DZkqASdBS-QA"
   },
   "source": [
    "#**1. Chuẩn bị**"
   ]
  },
  {
   "cell_type": "markdown",
   "metadata": {
    "colab_type": "text",
    "id": "3rFWSSBQF99E"
   },
   "source": [
    "##Paths"
   ]
  },
  {
   "cell_type": "code",
   "execution_count": 4,
   "metadata": {
    "colab": {},
    "colab_type": "code",
    "executionInfo": {
     "elapsed": 30359,
     "status": "ok",
     "timestamp": 1594882297088,
     "user": {
      "displayName": "Tien LE KHAC",
      "photoUrl": "https://lh3.googleusercontent.com/a-/AOh14GhATILfEwLuvrRlBGPMrmY7nclZNsxGKzoqqHB_Cg=s64",
      "userId": "18298916241916904857"
     },
     "user_tz": -420
    },
    "id": "uW-RHzMwdsG5"
   },
   "outputs": [],
   "source": [
    "\n",
    "\n",
    "base_path = \"E:/An toàn thông tin/Code/\"\n",
    "Dataset_Path = \"E:/An toàn thông tin/Code/Dataset/NSL-KDD Processed/Final - For Using/\"\n",
    "SavedModelPath = base_path + \"Saved Model/\"\n",
    "\n",
    "# Dataset Path\n",
    "Trainsets_Path = Dataset_Path + \"Trainset/\"\n",
    "g_trainset_path = Trainsets_Path + \"GAN-G.csv\"\n",
    "d_trainset_path = Trainsets_Path + \"GAN-D.csv\"\n",
    "testset_path = Dataset_Path + \"Testset/\" + \"KDDTest+.csv\"\n",
    "\n",
    "# GAN Saved Models Paths\n",
    "GAN_Model_Path = SavedModelPath + \"GANModel/\"\n",
    "\n",
    "# IDS Pytorch Saved Models Paths\n",
    "IDS_Saved_Path = SavedModelPath + \"IDSModel/\""
   ]
  },
  {
   "cell_type": "markdown",
   "metadata": {
    "colab_type": "text",
    "id": "XwTYqTdfF-wS"
   },
   "source": [
    "##Global Variables"
   ]
  },
  {
   "cell_type": "code",
   "execution_count": 5,
   "metadata": {
    "colab": {},
    "colab_type": "code",
    "executionInfo": {
     "elapsed": 30329,
     "status": "ok",
     "timestamp": 1594882297091,
     "user": {
      "displayName": "Tien LE KHAC",
      "photoUrl": "https://lh3.googleusercontent.com/a-/AOh14GhATILfEwLuvrRlBGPMrmY7nclZNsxGKzoqqHB_Cg=s64",
      "userId": "18298916241916904857"
     },
     "user_tz": -420
    },
    "id": "8rBB0NLwGAce"
   },
   "outputs": [],
   "source": [
    "# Global Variables\n",
    "N_FEATURES = 41\n",
    "# IDS\n",
    "IDS_INPUT_DIM = N_FEATURES\n",
    "IDS_OUTPUT_DIM = 2\n",
    "ATTACK_CATEGORIES = ['DOS', 'U2R_AND_R2L']\n",
    "\n",
    "POS_FUNCTIONAL_FEATURES = {'DOS': DOS_FEATURES, 'U2R_AND_R2L': U2R_AND_R2L_FEATURES}\n",
    "POS_NONFUNCTIONAL_FEATURES = {}\n",
    "for attack_category, pos_functional_feature in POS_FUNCTIONAL_FEATURES.items():\n",
    "    pos_nonfunctional_feature = []\n",
    "    for i in range(N_FEATURES):\n",
    "        if i not in pos_functional_feature:\n",
    "            pos_nonfunctional_feature.append(i)\n",
    "    POS_NONFUNCTIONAL_FEATURES[attack_category] = pos_nonfunctional_feature\n",
    "\n",
    "IDS_MODELS = {'GaussianNB', 'MultinomialNB', 'ComplementNB', 'BernoulliNB', 'DT', 'RF', 'KNN'}"
   ]
  },
  {
   "cell_type": "code",
   "execution_count": 6,
   "metadata": {
    "colab": {
     "base_uri": "https://localhost:8080/",
     "height": 102
    },
    "colab_type": "code",
    "executionInfo": {
     "elapsed": 30317,
     "status": "ok",
     "timestamp": 1594882297094,
     "user": {
      "displayName": "Tien LE KHAC",
      "photoUrl": "https://lh3.googleusercontent.com/a-/AOh14GhATILfEwLuvrRlBGPMrmY7nclZNsxGKzoqqHB_Cg=s64",
      "userId": "18298916241916904857"
     },
     "user_tz": -420
    },
    "id": "hlE7gDk07ybi",
    "outputId": "ef53a20b-0231-453b-ce0a-6e64bce77dbd"
   },
   "outputs": [
    {
     "name": "stdout",
     "output_type": "stream",
     "text": [
      "Position of Functional Features\n",
      "   {'DOS': [0, 1, 2, 3, 4, 5, 6, 7, 8, 23, 24, 25, 26, 27, 28, 29, 30], 'U2R_AND_R2L': [0, 1, 2, 3, 4, 5, 6, 7, 8, 9, 10, 11, 12, 13, 14, 15, 16, 17, 18, 19, 20, 21, 22]}\n",
      "Position of Functional Features:\n",
      "   {'DOS': [9, 10, 11, 12, 13, 14, 15, 16, 17, 18, 19, 20, 21, 22, 31, 32, 33, 34, 35, 36, 37, 38, 39, 40], 'U2R_AND_R2L': [23, 24, 25, 26, 27, 28, 29, 30, 31, 32, 33, 34, 35, 36, 37, 38, 39, 40]}\n"
     ]
    }
   ],
   "source": [
    "print('Position of Functional Features\\n  ', POS_FUNCTIONAL_FEATURES)\n",
    "print('Position of Functional Features:\\n  ', POS_NONFUNCTIONAL_FEATURES)"
   ]
  },
  {
   "cell_type": "markdown",
   "metadata": {
    "colab_type": "text",
    "id": "otbVJEAzcTv4"
   },
   "source": [
    "# **2. Định nghĩa Model**"
   ]
  },
  {
   "cell_type": "markdown",
   "metadata": {
    "colab_type": "text",
    "id": "FVn0MzP1HW_0"
   },
   "source": [
    "##Models"
   ]
  },
  {
   "cell_type": "code",
   "execution_count": 7,
   "metadata": {
    "colab": {},
    "colab_type": "code",
    "executionInfo": {
     "elapsed": 30313,
     "status": "ok",
     "timestamp": 1594882297096,
     "user": {
      "displayName": "Tien LE KHAC",
      "photoUrl": "https://lh3.googleusercontent.com/a-/AOh14GhATILfEwLuvrRlBGPMrmY7nclZNsxGKzoqqHB_Cg=s64",
      "userId": "18298916241916904857"
     },
     "user_tz": -420
    },
    "id": "sqogk9lIw_Uk"
   },
   "outputs": [],
   "source": [
    "# Load from model.py module"
   ]
  },
  {
   "cell_type": "markdown",
   "metadata": {
    "colab_type": "text",
    "id": "MdPRWEuxBAcd"
   },
   "source": [
    "##Functions"
   ]
  },
  {
   "cell_type": "markdown",
   "metadata": {
    "colab_type": "text",
    "id": "TcJBwwXf924F"
   },
   "source": [
    "### Processing Data Functions"
   ]
  },
  {
   "cell_type": "code",
   "execution_count": 8,
   "metadata": {
    "colab": {},
    "colab_type": "code",
    "executionInfo": {
     "elapsed": 30306,
     "status": "ok",
     "timestamp": 1594882297098,
     "user": {
      "displayName": "Tien LE KHAC",
      "photoUrl": "https://lh3.googleusercontent.com/a-/AOh14GhATILfEwLuvrRlBGPMrmY7nclZNsxGKzoqqHB_Cg=s64",
      "userId": "18298916241916904857"
     },
     "user_tz": -420
    },
    "id": "r81eRs5hx8Lf"
   },
   "outputs": [],
   "source": [
    "# Processing Data Functions\n",
    "# create_batch2 - Hàm tạo Batch\n",
    "def create_batch2(x,batch_size):\n",
    "    a = list(range(len(x)))\n",
    "    np.random.shuffle(a)\n",
    "    x = x[a]\n",
    "    batch_x = [x[batch_size * i : (i+1)*batch_size,:] for i in range(len(x)//batch_size)]\n",
    "    return np.array(batch_x)\n",
    "# preprocess_malicious_data - Hàm tiền xử lý dữ liệu tấn công\n",
    "def preprocess_malicious_data(dataset, attack_category):\n",
    "    if attack_category != 'DOS' and attack_category != 'U2R_AND_R2L':\n",
    "      raise ValueError(\"Preprocess Data Fail: Invalid Attack Category\")\n",
    "    attack_data = dataset[dataset['class'] == attack_category]\n",
    "    del attack_data[\"class\"]\n",
    "    return np.array(attack_data)"
   ]
  },
  {
   "cell_type": "markdown",
   "metadata": {
    "colab_type": "text",
    "id": "fM7pjZa999Ht"
   },
   "source": [
    "### IDS Functions"
   ]
  },
  {
   "cell_type": "code",
   "execution_count": 9,
   "metadata": {
    "colab": {},
    "colab_type": "code",
    "executionInfo": {
     "elapsed": 30303,
     "status": "ok",
     "timestamp": 1594882297100,
     "user": {
      "displayName": "Tien LE KHAC",
      "photoUrl": "https://lh3.googleusercontent.com/a-/AOh14GhATILfEwLuvrRlBGPMrmY7nclZNsxGKzoqqHB_Cg=s64",
      "userId": "18298916241916904857"
     },
     "user_tz": -420
    },
    "id": "Ukp0y2LiyGmy"
   },
   "outputs": [],
   "source": [
    "# IDS Functions\n",
    "# get_sklearn_ids_path - Get path for sklearn IDS Models\n",
    "def get_sklearn_ids_path(model_name, attack_category, created_date):\n",
    "    if attack_category != 'DOS' and attack_category != 'U2R_AND_R2L':\n",
    "        raise ValueError(\"Preprocess Data Fail: Invalid Attack Category\")\n",
    "    ids_path = str(f\"{IDS_Saved_Path}{attack_category}/Machine_Learning/created_date_{created_date}_{model_name}.pkl\")\n",
    "    if not os.path.exists(ids_path):\n",
    "        raise ValueError(f\"Invalid path: {ids_path}\\nNot exist file!\")\n",
    "    return ids_path\n",
    "# load_pytorch_ids_model - Load PyTorch IDS Models\n",
    "def load_sklearn_ids_model(model_name, attack_category, created_date):\n",
    "    ids_model_path = get_sklearn_ids_path(model_name, attack_category, created_date)\n",
    "    with open(ids_model_path, 'rb') as file:\n",
    "        pickle_model = pickle.load(file)\n",
    "        print(f\"Loaded Model From Disk: {ids_model_path}\")\n",
    "    return pickle_model"
   ]
  },
  {
   "cell_type": "markdown",
   "metadata": {
    "colab_type": "text",
    "id": "J9Q5DryD-Dl0"
   },
   "source": [
    "### GAN Functions"
   ]
  },
  {
   "cell_type": "code",
   "execution_count": 10,
   "metadata": {
    "colab": {},
    "colab_type": "code",
    "executionInfo": {
     "elapsed": 30293,
     "status": "ok",
     "timestamp": 1594882297102,
     "user": {
      "displayName": "Tien LE KHAC",
      "photoUrl": "https://lh3.googleusercontent.com/a-/AOh14GhATILfEwLuvrRlBGPMrmY7nclZNsxGKzoqqHB_Cg=s64",
      "userId": "18298916241916904857"
     },
     "user_tz": -420
    },
    "id": "tV5MHCxUA-8G"
   },
   "outputs": [],
   "source": [
    "# GAN Functions\n",
    "# init_generator - Khoi tao model GAN-G\n",
    "def init_generator(input_dim, output_dim, adversarial_attack_type = 1):\n",
    "    if adversarial_attack_type == 1:\n",
    "        generator = Generator_A1(input_dim, output_dim)\n",
    "    elif adversarial_attack_type == 2:\n",
    "        generator = Generator_A2(input_dim, output_dim)\n",
    "    elif adversarial_attack_type == 3:\n",
    "        '''\n",
    "            adversarial_attack_type 3: G-input is nonfunctional feature, G-out is adversarial nonfuncitonal feature.\n",
    "            --> input_dim = output_dim = len(nonfunctional_features)\n",
    "        ''' \n",
    "        generator = Generator_A2(output_dim, output_dim)\n",
    "    else:\n",
    "        raise ValueError(\"Init GAN - Generator: Invalid Adversarial Attack Type\")\n",
    "    return generator\n",
    "\n",
    "# gen_adversarial_attack - Tao luu luong tan cong doi khang\n",
    "def gen_adversarial_attack(generator, noise_dim, raw_attack, attack_category, adversarial_attack_type = 1):\n",
    "    if adversarial_attack_type == 1:\n",
    "        adversarial_attack = generator(noise_dim, raw_attack, attack_category, POS_NONFUNCTIONAL_FEATURES)\n",
    "    elif adversarial_attack_type == 2:\n",
    "        batch_size = len(raw_attack)\n",
    "        noise = V(th.Tensor(np.random.uniform(0,1,(batch_size, noise_dim))))\n",
    "        generator_out = generator(noise)\n",
    "        adversarial_attack = gen_adversarial_attack_a2(generator_out, raw_attack, attack_category, POS_NONFUNCTIONAL_FEATURES)\n",
    "    elif  adversarial_attack_type == 3:\n",
    "        pos_nonfunctional_feature = POS_NONFUNCTIONAL_FEATURES[attack_category]\n",
    "        # get nonfunctional features val\n",
    "        nonfunctional_feature = raw_attack[:, pos_nonfunctional_feature]\n",
    "        generator_out = generator(nonfunctional_feature)\n",
    "        adversarial_attack = gen_adversarial_attack_a2(generator_out, raw_attack, attack_category, POS_NONFUNCTIONAL_FEATURES)\n",
    "    else:\n",
    "        raise ValueError(\"Init GAN - Generator: Invalid Adversarial Attack Type\")\n",
    "    return adversarial_attack\n",
    "\n",
    "# train_generator - Train Generator\n",
    "def train_generator(generator, discriminator, optimizer_G, noise_dim, attack_traffic, attack_category, adversarial_attack_type):\n",
    "    for p in discriminator.parameters():  \n",
    "        p.requires_grad = False\n",
    "    optimizer_G.zero_grad()        \n",
    "    # GAN-G Generate Adversarial Attack\n",
    "    adversarial_attack = gen_adversarial_attack(generator, noise_dim, attack_traffic, attack_category, adversarial_attack_type)\n",
    "    # GAN-D predict, GAN-G update parameter\n",
    "    D_pred = discriminator(adversarial_attack)\n",
    "    g_loss = -th.mean(D_pred)\n",
    "    g_loss.backward()\n",
    "    optimizer_G.step()\n",
    "    return g_loss\n",
    "\n",
    "# train_discriminator - Train Discriminator\n",
    "def train_discriminator(discriminator, ids_model, generator, critic_iters, clamp, optimizer_D, normal_b, noise_dim, attack_traffic, attack_category, adversarial_attack_type):\n",
    "    run_d_loss = 0\n",
    "    cnt = 0\n",
    "    for p in discriminator.parameters(): \n",
    "        p.requires_grad = True\n",
    "    for c in range(critic_iters):\n",
    "        optimizer_D.zero_grad()\n",
    "        for p in discriminator.parameters():\n",
    "            p.data.clamp_(-clamp, clamp)\n",
    "        # GAN-G Generate Adversarial Attack\n",
    "        adversarial_attack = gen_adversarial_attack(generator, noise_dim, attack_traffic, attack_category, adversarial_attack_type)\n",
    "        # Make data to feed IDS\n",
    "        ids_input = th.cat((adversarial_attack,normal_b))\n",
    "        l = list(range(len(ids_input)))\n",
    "        np.random.shuffle(l)\n",
    "        ids_input = V(th.Tensor(ids_input[l]))\n",
    "        # IDS Predict\n",
    "        ids_pred_label = V(th.Tensor(ids_model.predict(ids_input)))\n",
    "        pred_normal = ids_input[ids_pred_label==0]\n",
    "        pred_attack = ids_input[ids_pred_label==1]\n",
    "        if len(pred_attack) == 0:\n",
    "            cnt += 1\n",
    "            break\n",
    "        # Make GAN-D input\n",
    "        D_noraml = discriminator(V(th.Tensor(pred_normal)))\n",
    "        D_attack= discriminator(V(th.Tensor(pred_attack)))\n",
    "        # Loss and Update Parameter\n",
    "        loss_normal = th.mean(D_noraml)\n",
    "        loss_attack = th.mean(D_attack)\n",
    "        gradient_penalty = compute_gradient_penalty(discriminator, normal_b.data, adversarial_attack.data)\n",
    "        d_loss = loss_attack - loss_normal #+ LAMBDA * gradient_penalty\n",
    "        d_loss.backward()\n",
    "        optimizer_D.step()\n",
    "        run_d_loss += d_loss.item()\n",
    "    return run_d_loss, cnt\n",
    "\n",
    "# compute_gradient_penalty - Compute Gradient Penalty\n",
    "def compute_gradient_penalty(D, normal_t, attack_t):\n",
    "    alpha = th.Tensor(np.random.random((normal_t.shape[0], 1)))\n",
    "    between_n_a = (alpha * normal_t + ((1 - alpha) * attack_t)).requires_grad_(True)\n",
    "    d_between_n_a = D(between_n_a)\n",
    "    adv = V(th.Tensor(normal_t.shape[0], 1).fill_(1.0), requires_grad=False)\n",
    "\n",
    "    gradients = autograd.grad(\n",
    "        outputs=d_between_n_a,\n",
    "        inputs=between_n_a,\n",
    "        grad_outputs=adv,\n",
    "        create_graph=True,\n",
    "        retain_graph=True,\n",
    "        only_inputs=True,\n",
    "    )[0]\n",
    "    gradients = gradients.view(gradients.size(0), -1)\n",
    "    gradient_penalty = ((gradients.norm(2, dim=1) - 1) ** 2).mean()\n",
    "    return gradient_penalty"
   ]
  },
  {
   "cell_type": "markdown",
   "metadata": {
    "colab_type": "text",
    "id": "jRhNLI_jSKIg"
   },
   "source": [
    "### Generate Adversarial Attack Functions"
   ]
  },
  {
   "cell_type": "code",
   "execution_count": 11,
   "metadata": {
    "colab": {},
    "colab_type": "code",
    "executionInfo": {
     "elapsed": 30291,
     "status": "ok",
     "timestamp": 1594882297104,
     "user": {
      "displayName": "Tien LE KHAC",
      "photoUrl": "https://lh3.googleusercontent.com/a-/AOh14GhATILfEwLuvrRlBGPMrmY7nclZNsxGKzoqqHB_Cg=s64",
      "userId": "18298916241916904857"
     },
     "user_tz": -420
    },
    "id": "RyrR7KLNSPtu"
   },
   "outputs": [],
   "source": [
    "# cal_dr - Tinh DR\n",
    "def cal_dr(ids_model, normal, raw_attack, adversarial_attack):\n",
    "    # Make data to feed IDS contain: Attack & Normal\n",
    "    o_ids_input = th.cat((raw_attack, normal))\n",
    "    a_ids_input = th.cat((adversarial_attack,normal))\n",
    "    # Shuffle Input\n",
    "    l = list(range(len(a_ids_input)))\n",
    "    np.random.shuffle(l)\n",
    "    o_ids_input = o_ids_input[l]\n",
    "    a_ids_input = a_ids_input[l]\n",
    "    # IDS Predict Label\n",
    "    o_pred_label = th.Tensor(ids_model.predict(o_ids_input))\n",
    "    a_pred_label = th.Tensor(ids_model.predict(a_ids_input))\n",
    "    # True Label\n",
    "    ids_true_label = np.r_[np.ones(BATCH_SIZE),np.zeros(BATCH_SIZE)][l]\n",
    "    # Calc DR\n",
    "    tn1, fn1, fp1, tp1 = confusion_matrix(ids_true_label,o_pred_label).ravel()\n",
    "    tn2, fn2, fp2, tp2 = confusion_matrix(ids_true_label,a_pred_label).ravel()\n",
    "    origin_dr = tp1/(tp1 + fp1)\n",
    "    adversarial_dr = tp2/(tp2 + fp2)\n",
    "    return origin_dr, adversarial_dr"
   ]
  },
  {
   "cell_type": "markdown",
   "metadata": {
    "colab_type": "text",
    "id": "nDp5Uy_HaShp"
   },
   "source": [
    "# **3. Run Model**"
   ]
  },
  {
   "cell_type": "code",
   "execution_count": 12,
   "metadata": {
    "cellView": "both",
    "colab": {},
    "colab_type": "code",
    "executionInfo": {
     "elapsed": 30286,
     "status": "ok",
     "timestamp": 1594882297107,
     "user": {
      "displayName": "Tien LE KHAC",
      "photoUrl": "https://lh3.googleusercontent.com/a-/AOh14GhATILfEwLuvrRlBGPMrmY7nclZNsxGKzoqqHB_Cg=s64",
      "userId": "18298916241916904857"
     },
     "user_tz": -420
    },
    "id": "7hTHJcBcRKjg"
   },
   "outputs": [],
   "source": [
    "ids_model_name = \"KNN\" #@param ['GaussianNB', 'MultinomialNB', 'ComplementNB', 'BernoulliNB', 'DT', 'RF', 'KNN']\n",
    "MAX_EPOCH = 100 #@param [\"10\", \"100\"] {type:\"raw\"}\n",
    "ids_created_date = '2023-11-27' "
   ]
  },
  {
   "cell_type": "markdown",
   "metadata": {
    "colab_type": "text",
    "id": "s8tEzhBNxvGM"
   },
   "source": [
    "##**3.1 Run IDSGAN**"
   ]
  },
  {
   "cell_type": "code",
   "execution_count": 13,
   "metadata": {
    "colab": {},
    "colab_type": "code",
    "id": "j01YlgClq7yq"
   },
   "outputs": [],
   "source": [
    "# Hyber Parameters\n",
    "BATCH_SIZE = 64\n",
    "learning_rate = 0.0001\n",
    "LAMBDA = 10\n",
    "CLAMP = 0.01\n",
    "CRITIC_ITERS = 5          # For WGAN and WGAN-GP, number of critic iters per gen iter\n",
    "\n",
    "# GAN-D\n",
    "D_INPUT_DIM = N_FEATURES\n",
    "D_OUTPUT_DIM = 1\n",
    "discriminator = Discriminator(D_INPUT_DIM,D_OUTPUT_DIM)\n",
    "optimizer_D = optim.RMSprop(discriminator.parameters(), lr=learning_rate)\n",
    "\n",
    "# GAN-G\n",
    "NOISE_DIM = 9\n",
    "G_INPUT_DIM = NOISE_DIM     # Generator input dimension is dimention of noise"
   ]
  },
  {
   "cell_type": "code",
   "execution_count": 14,
   "metadata": {
    "colab": {
     "base_uri": "https://localhost:8080/",
     "height": 51
    },
    "colab_type": "code",
    "executionInfo": {
     "elapsed": 8724,
     "status": "ok",
     "timestamp": 1594499999875,
     "user": {
      "displayName": "Machine Ubuntu",
      "photoUrl": "",
      "userId": "14037080372597024989"
     },
     "user_tz": -420
    },
    "id": "xG09yA2D9bzg",
    "outputId": "eb75943e-6998-4131-bed5-e7c5d542eec7"
   },
   "outputs": [
    {
     "name": "stdout",
     "output_type": "stream",
     "text": [
      "Amout of Generator Trainset: 23488\n",
      "Amout of Discriminator Trainset: 33672\n"
     ]
    }
   ],
   "source": [
    "# Get today to set created time for GAN models\n",
    "today = str(date.today())\n",
    "\n",
    "## Prepare Dataset\n",
    "g_train_data = pd.read_csv(g_trainset_path)\n",
    "d_train_data = pd.read_csv(d_trainset_path)\n",
    "\n",
    "# All normal record in train_data\n",
    "del d_train_data[\"class\"]\n",
    "normal = np.array(d_train_data)\n",
    "\n",
    "print(\"Amout of Generator Trainset:\", g_train_data.shape[0])\n",
    "print(\"Amout of Discriminator Trainset:\", d_train_data.shape[0])"
   ]
  },
  {
   "cell_type": "code",
   "execution_count": 15,
   "metadata": {
    "colab": {
     "base_uri": "https://localhost:8080/",
     "height": 1000
    },
    "colab_type": "code",
    "id": "m9C1uFo0vnv7",
    "outputId": "2ecb7860-f57b-42b4-bf3e-963a3b872052"
   },
   "outputs": [
    {
     "name": "stdout",
     "output_type": "stream",
     "text": [
      "======================================== TRAINING GAN ========================================\n",
      "================================================================================\n",
      " IDS Model: KNN\n",
      "********************************************************************************\n",
      " Adversarial Attack Type : 3\n",
      "--------------------------------------------------------------------------------\n",
      " Attack Category: U2R_AND_R2L\n",
      "Loaded Model From Disk: E:/An toàn thông tin/Code/Saved Model/IDSModel/U2R_AND_R2L/Machine_Learning/created_date_2023-11-27_KNN.pkl\n",
      "-->IDSGAN start training\n",
      "     Epoch          G-Loss          D-Loss         O-DR(%)         A-DR(%)      Runtime(s)\n",
      "         1           -5.99           -0.14           84.58            0.00          210.63\n",
      "         2           -6.78           -0.21           84.58            0.00          199.73\n",
      "         3           -8.27           -0.33           84.58            0.00          205.24\n",
      "         4           -9.76           -0.40           84.58            0.00          194.38\n",
      "         5           -9.98           -0.39           84.58            0.00          191.66\n",
      "         6           -9.83           -0.40           84.58            0.00          199.46\n",
      "         7           -9.74           -0.41           84.58            0.00          196.67\n",
      "         8           -9.70           -0.38           84.58            0.00          194.75\n",
      "         9           -9.66           -0.39           84.58            0.00          195.74\n",
      "        10           -9.59           -0.42           84.58            0.00          196.04\n",
      "      -> Generator 10 epoch is saved  to: E:/An toàn thông tin/Code/Saved Model/GANModel/KNN/U2R_AND_R2L/Generator/3/10epoch_time_created_2023-11-28.pth\n",
      "        11           -9.61           -0.38           84.58            0.00          195.13\n",
      "        12           -9.51           -0.40           84.58            0.00          194.20\n",
      "        13           -9.48           -0.41           84.58            0.00          196.14\n",
      "        14           -9.45           -0.39           84.58            0.00          195.71\n",
      "        15           -9.40           -0.41           84.58            0.00          197.28\n",
      "        16           -9.36           -0.40           84.58            0.00          197.80\n",
      "        17           -9.33           -0.40           84.58            0.00          197.34\n",
      "        18           -9.29           -0.38           84.58            0.00          194.38\n",
      "        19           -9.24           -0.39           84.58            0.00          197.38\n",
      "        20           -9.22           -0.40           84.58            0.00          198.45\n",
      "      -> Generator 20 epoch is saved  to: E:/An toàn thông tin/Code/Saved Model/GANModel/KNN/U2R_AND_R2L/Generator/3/20epoch_time_created_2023-11-28.pth\n",
      "        21           -9.22           -0.40           84.58            0.00          196.47\n",
      "        22           -9.22           -0.41           84.58            0.00          199.72\n",
      "        23           -9.19           -0.40           84.58            0.00          196.62\n",
      "        24           -9.20           -0.41           84.58            0.00          198.09\n",
      "        25           -9.21           -0.41           84.58            0.00          196.18\n",
      "        26           -9.22           -0.42           84.58            0.00          197.52\n",
      "        27           -9.23           -0.39           84.58            0.00          196.41\n",
      "        28           -9.20           -0.41           84.58            0.00          198.11\n",
      "        29           -9.21           -0.40           84.58            0.00          197.24\n",
      "        30           -9.23           -0.38           84.58            0.00          197.21\n",
      "      -> Generator 30 epoch is saved  to: E:/An toàn thông tin/Code/Saved Model/GANModel/KNN/U2R_AND_R2L/Generator/3/30epoch_time_created_2023-11-28.pth\n",
      "        31           -9.19           -0.40           84.58            0.00          197.01\n",
      "        32           -9.21           -0.41           84.58            0.00          198.37\n",
      "        33           -9.23           -0.38           84.58            0.00          197.22\n",
      "        34           -9.25           -0.39           84.58            0.00          197.04\n",
      "        35           -9.25           -0.40           84.58            0.00          197.55\n",
      "        36           -9.20           -0.40           84.58            0.00          199.24\n",
      "        37           -9.19           -0.40           84.58            0.00          198.16\n",
      "        38           -9.20           -0.40           84.58            0.00          197.47\n",
      "        39           -9.22           -0.41           84.58            0.00          198.31\n",
      "        40           -9.20           -0.38           84.58            0.00          195.86\n",
      "      -> Generator 40 epoch is saved  to: E:/An toàn thông tin/Code/Saved Model/GANModel/KNN/U2R_AND_R2L/Generator/3/40epoch_time_created_2023-11-28.pth\n",
      "        41           -9.19           -0.40           84.58            0.00          197.55\n",
      "        42           -9.21           -0.41           84.58            0.00          198.54\n",
      "        43           -9.19           -0.38           84.58            0.00          198.88\n",
      "        44           -9.20           -0.40           84.58            0.00          188.74\n",
      "        45           -9.23           -0.40           84.58            0.00          189.55\n",
      "        46           -9.22           -0.39           84.58            0.00          191.28\n",
      "        47           -9.20           -0.40           84.58            0.00          190.55\n",
      "        48           -9.19           -0.38           84.58            0.00          190.93\n",
      "        49           -9.22           -0.39           84.58            0.00          194.04\n",
      "        50           -9.22           -0.40           84.58            0.00          194.02\n",
      "      -> Generator 50 epoch is saved  to: E:/An toàn thông tin/Code/Saved Model/GANModel/KNN/U2R_AND_R2L/Generator/3/50epoch_time_created_2023-11-28.pth\n",
      "        51           -9.24           -0.39           84.58            0.00          194.03\n",
      "        52           -9.21           -0.41           84.58            0.00          195.29\n",
      "        53           -9.21           -0.40           84.58            0.00          194.20\n",
      "        54           -9.24           -0.40           84.58            0.00          193.97\n",
      "        55           -9.22           -0.39           84.58            0.00          193.48\n",
      "        56           -9.18           -0.39           84.58            0.00          193.97\n",
      "        57           -9.20           -0.40           84.58            0.00          193.95\n",
      "        58           -9.20           -0.39           84.58            0.00          193.34\n",
      "        59           -9.22           -0.38           84.58            0.00          192.70\n",
      "        60           -9.23           -0.40           84.58            0.00          194.07\n",
      "      -> Generator 60 epoch is saved  to: E:/An toàn thông tin/Code/Saved Model/GANModel/KNN/U2R_AND_R2L/Generator/3/60epoch_time_created_2023-11-28.pth\n",
      "        61           -9.20           -0.40           84.58            0.00          194.26\n",
      "        62           -9.20           -0.39           84.58            0.00          192.71\n",
      "        63           -9.19           -0.41           84.58            0.00          193.12\n",
      "        64           -9.20           -0.41           84.58            0.00          193.86\n",
      "        65           -9.22           -0.42           84.58            0.00          194.46\n",
      "        66           -9.23           -0.40           84.58            0.00          193.53\n",
      "        67           -9.19           -0.42           84.58            0.00          194.68\n",
      "        68           -9.23           -0.41           84.58            0.00          193.48\n",
      "        69           -9.21           -0.41           84.58            0.00          193.69\n",
      "        70           -9.20           -0.42           84.58            0.00          195.00\n",
      "      -> Generator 70 epoch is saved  to: E:/An toàn thông tin/Code/Saved Model/GANModel/KNN/U2R_AND_R2L/Generator/3/70epoch_time_created_2023-11-28.pth\n",
      "        71           -9.20           -0.40           84.58            0.00          194.77\n",
      "        72           -9.20           -0.38           84.58            0.00          195.59\n",
      "        73           -9.24           -0.41           84.58            0.00          193.25\n",
      "        74           -9.26           -0.40           84.58            0.00          190.33\n",
      "        75           -9.19           -0.42           84.58            0.00          192.58\n",
      "        76           -9.19           -0.42           84.58            0.00          195.35\n",
      "        77           -9.20           -0.39           84.58            0.00          193.17\n",
      "        78           -9.19           -0.39           84.58            0.00          190.92\n",
      "        79           -9.23           -0.41           84.58            0.00          193.03\n",
      "        80           -9.20           -0.40           84.58            0.00          195.80\n",
      "      -> Generator 80 epoch is saved  to: E:/An toàn thông tin/Code/Saved Model/GANModel/KNN/U2R_AND_R2L/Generator/3/80epoch_time_created_2023-11-28.pth\n",
      "        81           -9.21           -0.41           84.58            0.00          194.90\n",
      "        82           -9.19           -0.38           84.58            0.00          193.68\n",
      "        83           -9.20           -0.40           84.58            0.00          195.32\n",
      "        84           -9.21           -0.41           84.58            0.00          194.31\n",
      "        85           -9.21           -0.41           84.58            0.00          195.12\n",
      "        86           -9.18           -0.38           84.58            0.00          193.55\n",
      "        87           -9.20           -0.41           84.58            0.00          195.17\n",
      "        88           -9.22           -0.39           84.58            0.00          193.73\n",
      "        89           -9.27           -0.40           84.58            0.00          193.96\n",
      "        90           -9.21           -0.41           84.58            0.00          194.79\n",
      "      -> Generator 90 epoch is saved  to: E:/An toàn thông tin/Code/Saved Model/GANModel/KNN/U2R_AND_R2L/Generator/3/90epoch_time_created_2023-11-28.pth\n",
      "        91           -9.20           -0.39           84.58            0.00          195.39\n",
      "        92           -9.20           -0.40           84.58            0.00          195.09\n",
      "        93           -9.20           -0.38           84.58            0.00          193.26\n",
      "        94           -9.20           -0.42           84.58            0.00          195.74\n",
      "        95           -9.23           -0.41           84.58            0.00          195.66\n",
      "        96           -9.20           -0.40           84.58            0.00          194.61\n",
      "        97           -9.19           -0.40           84.58            0.00          194.71\n",
      "        98           -9.20           -0.41           84.58            0.00          194.90\n",
      "        99           -9.22           -0.39           84.58            0.00          194.68\n",
      "       100           -9.19           -0.39           84.58            0.00          193.78\n",
      "      -> Generator 100 epoch is saved  to: E:/An toàn thông tin/Code/Saved Model/GANModel/KNN/U2R_AND_R2L/Generator/3/100epoch_time_created_2023-11-28.pth\n",
      "Training Runtime: 19539.84\n",
      "IDSGAN finish training!\n"
     ]
    },
    {
     "data": {
      "image/png": "[encoded data removed]",
      "text/plain": [
       "<Figure size 640x480 with 1 Axes>"
      ]
     },
     "metadata": {},
     "output_type": "display_data"
    },
    {
     "data": {
      "image/png": "[encoded data removed]",
      "text/plain": [
       "<Figure size 640x480 with 1 Axes>"
      ]
     },
     "metadata": {},
     "output_type": "display_data"
    },
    {
     "name": "stdout",
     "output_type": "stream",
     "text": [
      "      -> Saved Discrimninator 100 epoch to: E:/An toàn thông tin/Code/Saved Model/GANModel/KNN/U2R_AND_R2L/Discriminator/3/101epoch_time_created_2023-11-28.pth\n"
     ]
    }
   ],
   "source": [
    "print(f\"{40*'='} TRAINING GAN {40*'='}\")\n",
    "print(f\"{80*'='}\\n IDS Model: {ids_model_name}\")\n",
    "for adversarial_attack_type in [3]:\n",
    "    print(f\"{80*'*'}\\n Adversarial Attack Type : {adversarial_attack_type}\")\n",
    "    # for attack_category in ATTACK_CATEGORIES:\n",
    "    for attack_category in ['U2R_AND_R2L']:\n",
    "        print(f\"{80*'-'}\\n Attack Category: {attack_category}\")\n",
    "        total_time_start = timeit.default_timer()\n",
    "\n",
    "        # Load sklearn IDS Model\n",
    "        ids_model = load_sklearn_ids_model(ids_model_name, attack_category, ids_created_date)\n",
    "        # Init GAN-G model\n",
    "        G_OUTPUT_DIM = len(POS_NONFUNCTIONAL_FEATURES[attack_category])     # Generator output is number of nonfunctional feature\n",
    "        if adversarial_attack_type == 3:\n",
    "            '''\n",
    "            adversarial_attack_type 3: G-input is nonfunctional feature, G-out is adversarial nonfuncitonal feature.\n",
    "            --> input_dim = output_dim = len(nonfunctional_features)\n",
    "            ''' \n",
    "            generator = init_generator(G_OUTPUT_DIM,G_OUTPUT_DIM, adversarial_attack_type)\n",
    "        else:    \n",
    "            generator = init_generator(G_INPUT_DIM,G_OUTPUT_DIM, adversarial_attack_type)\n",
    "        optimizer_G = optim.RMSprop(generator.parameters(), lr=learning_rate)\n",
    "        # Load Raw Attack Dataset\n",
    "        raw_attack = preprocess_malicious_data(g_train_data, attack_category)\n",
    "        # Prepare Save Folder\n",
    "        GAN_4IDS_Model_Path = str(f\"{GAN_Model_Path}{ids_model_name}/\")\n",
    "        if not os.path.exists(GAN_4IDS_Model_Path):\n",
    "                os.makedirs(GAN_4IDS_Model_Path)\n",
    "        GAN_G_Model_4Category_Path = str(f\"{GAN_4IDS_Model_Path}{attack_category}/Generator/{adversarial_attack_type}/\")\n",
    "        GAN_D_Model_4Category_Path = str(f\"{GAN_4IDS_Model_Path}{attack_category}/Discriminator/{adversarial_attack_type}/\")\n",
    "        for directory in [GAN_G_Model_4Category_Path, GAN_D_Model_4Category_Path]:\n",
    "            if not os.path.exists(directory):\n",
    "                os.makedirs(directory)\n",
    "\n",
    "        # Create batch of attack traffic\n",
    "        batch_attack = create_batch2(raw_attack,BATCH_SIZE)\n",
    "        # Declare Loss, DR List and Train GAN-G, GAN-D\n",
    "        d_losses,g_losses = [],[]\n",
    "        o_dr, a_dr = [],[]\n",
    "        generator.train()\n",
    "        discriminator.train()\n",
    "\n",
    "        # Start Training\n",
    "        print(f\"-->IDSGAN start training\")\n",
    "        labels = ['Epoch', 'G-Loss', 'D-Loss', 'O-DR(%)', 'A-DR(%)', 'Runtime(s)']\n",
    "        print(\"{: >10} {: >15} {: >15} {: >15} {: >15} {: >15}\".format(*labels))\n",
    "        for epoch in range(MAX_EPOCH):\n",
    "            batch_normal = create_batch2(normal,BATCH_SIZE)\n",
    "            epoch_time_start = timeit.default_timer()\n",
    "            cnt = 0\n",
    "            run_g_loss = 0.\n",
    "            run_d_loss = 0.\n",
    "            epoch_o_drs, epoch_a_drs = [], []\n",
    "\n",
    "            for idx, bn in enumerate(batch_normal):\n",
    "                normal_b = th.Tensor(bn.astype(\"float64\"))\n",
    "                attack_traffic  = V(th.Tensor(batch_attack[idx % len(batch_attack)]))\n",
    "                #  Train Generator\n",
    "                g_loss = train_generator(generator, discriminator, optimizer_G, NOISE_DIM, attack_traffic, attack_category, adversarial_attack_type)\n",
    "                run_g_loss += g_loss.item()\n",
    "\n",
    "                # Train Discriminator\n",
    "                d_loss, current_cnt = train_discriminator(discriminator, ids_model, generator, CRITIC_ITERS, CLAMP, optimizer_D, normal_b, NOISE_DIM, attack_traffic, attack_category, adversarial_attack_type)\n",
    "                run_d_loss += d_loss\n",
    "                cnt += current_cnt\n",
    "                \n",
    "                # CALC Epoch DR\n",
    "                adversarial_attack = gen_adversarial_attack(generator, NOISE_DIM, attack_traffic, attack_category, adversarial_attack_type).detach()\n",
    "                origin_dr, adversarial_dr = cal_dr(ids_model, normal_b, attack_traffic, adversarial_attack)\n",
    "                epoch_o_drs.append(origin_dr)\n",
    "                epoch_a_drs.append(adversarial_dr)\n",
    "\n",
    "            if cnt >= (len(normal)/BATCH_SIZE):\n",
    "                print(\"Not exist predicted attack traffic\")\n",
    "                break\n",
    "            d_losses.append(run_d_loss/CRITIC_ITERS)\n",
    "            g_losses.append(run_g_loss)\n",
    "            epoch_o_dr = np.mean(epoch_o_drs)\n",
    "            epoch_a_dr = np.mean(epoch_a_drs)\n",
    "            o_dr.append(epoch_o_dr)\n",
    "            a_dr.append(epoch_a_dr)\n",
    "            \n",
    "            runtime = timeit.default_timer() - epoch_time_start\n",
    "            print_vals = [(epoch + 1), run_g_loss, (run_d_loss/CRITIC_ITERS), (epoch_o_dr*100), (epoch_a_dr*100), runtime]\n",
    "            print_string = []\n",
    "            for val in print_vals:\n",
    "                if isinstance(val, float):\n",
    "                    print_string.append(str(f\"{val:.2f}\"))\n",
    "                else:\n",
    "                    print_string.append(str(val))\n",
    "            print(\"{: >10} {: >15} {: >15} {: >15} {: >15} {: >15}\".format(*print_string))\n",
    "            # Save Adversarial Dataset each 10 epoch\n",
    "            if ((epoch + 1) % 10 == 0):\n",
    "                path = GAN_G_Model_4Category_Path + f\"{epoch + 1}epoch_time_created_{today}.pth\"\n",
    "                th.save(generator.state_dict(), path)\n",
    "                print(f\"{6*' '}-> Generator {epoch + 1} epoch is saved  to: {path}\")\n",
    "        total_runtime = timeit.default_timer() - total_time_start\n",
    "        print(f\"Training Runtime: {total_runtime:.2f}\")\n",
    "        print(\"IDSGAN finish training!\")\n",
    "        \n",
    "        # Show Graph\n",
    "        # Loss-Graph\n",
    "        plt.plot(d_losses,label = \"D_loss\")\n",
    "        plt.plot(g_losses, label = \"G_loss\")\n",
    "        plt.legend()\n",
    "        plt.show()\n",
    "        # DR-Graph\n",
    "        plt.plot(o_dr,label = \"Origin DR\")\n",
    "        plt.plot(a_dr, label = \"Adversarial DR\")\n",
    "        plt.legend()\n",
    "        plt.show()\n",
    "\n",
    "        # Save Model\n",
    "        path = GAN_D_Model_4Category_Path + f\"{MAX_EPOCH + 1}epoch_time_created_{today}.pth\"\n",
    "        th.save(discriminator.state_dict(), path)\n",
    "        print(f\"{6*' '}-> Saved Discrimninator {MAX_EPOCH} epoch to: {path}\")"
   ]
  },
  {
   "cell_type": "markdown",
   "metadata": {
    "colab_type": "text",
    "id": "jQNXCNMEx1bn"
   },
   "source": [
    "## **3.2 Run Generate Adversarial Traffic**"
   ]
  },
  {
   "cell_type": "code",
   "execution_count": 16,
   "metadata": {
    "colab": {},
    "colab_type": "code",
    "executionInfo": {
     "elapsed": 3276,
     "status": "ok",
     "timestamp": 1594882297110,
     "user": {
      "displayName": "Tien LE KHAC",
      "photoUrl": "https://lh3.googleusercontent.com/a-/AOh14GhATILfEwLuvrRlBGPMrmY7nclZNsxGKzoqqHB_Cg=s64",
      "userId": "18298916241916904857"
     },
     "user_tz": -420
    },
    "id": "I0w_F6zKcgrF"
   },
   "outputs": [],
   "source": [
    "# Hyber Parameters\n",
    "BATCH_SIZE = 256 # Batch size\n",
    "\n",
    "# GAN-G\n",
    "NOISE_DIM = 9\n",
    "G_INPUT_DIM = NOISE_DIM     # Generator input dimension is dimention of noise"
   ]
  },
  {
   "cell_type": "code",
   "execution_count": 19,
   "metadata": {
    "colab": {
     "base_uri": "https://localhost:8080/",
     "height": 50
    },
    "colab_type": "code",
    "executionInfo": {
     "elapsed": 4687,
     "status": "ok",
     "timestamp": 1594882298535,
     "user": {
      "displayName": "Tien LE KHAC",
      "photoUrl": "https://lh3.googleusercontent.com/a-/AOh14GhATILfEwLuvrRlBGPMrmY7nclZNsxGKzoqqHB_Cg=s64",
      "userId": "18298916241916904857"
     },
     "user_tz": -420
    },
    "id": "HPx41fPd6CiW",
    "outputId": "9093aa86-a5b4-4572-c43c-a6f43d38cc46"
   },
   "outputs": [
    {
     "name": "stdout",
     "output_type": "stream",
     "text": [
      "Amount of KDDTest+: \t\t20123\n",
      "Amount of Normal:\t\t9711 (37 batchs - 256 records/batch)\n"
     ]
    }
   ],
   "source": [
    "# gan_model_time_created = str(date.today())\n",
    "gan_model_time_created = '2023-11-28'\n",
    "\n",
    "# Load Testset\n",
    "testset = pd.read_csv(testset_path)\n",
    "print(f\"Amount of KDDTest+: \\t\\t{len(testset)}\")\n",
    "# test_normal\n",
    "test_normal = np.array(testset[testset[\"class\"] == 'Normal'])[:,:-1]\n",
    "# Create batch of normal traffic\n",
    "test_batch_normal = create_batch2(test_normal,BATCH_SIZE).astype('float64')\n",
    "print(f\"Amount of Normal:\\t\\t{len(test_normal)} ({len(test_batch_normal)} batchs - {BATCH_SIZE} records/batch)\")"
   ]
  },
  {
   "cell_type": "code",
   "execution_count": 20,
   "metadata": {
    "colab": {
     "base_uri": "https://localhost:8080/",
     "height": 686
    },
    "colab_type": "code",
    "executionInfo": {
     "elapsed": 593115,
     "status": "error",
     "timestamp": 1594882886971,
     "user": {
      "displayName": "Tien LE KHAC",
      "photoUrl": "https://lh3.googleusercontent.com/a-/AOh14GhATILfEwLuvrRlBGPMrmY7nclZNsxGKzoqqHB_Cg=s64",
      "userId": "18298916241916904857"
     },
     "user_tz": -420
    },
    "id": "ZhPpd8MCx10u",
    "outputId": "4b0d284a-f15e-4964-d5e1-10afbc296b92"
   },
   "outputs": [
    {
     "name": "stdout",
     "output_type": "stream",
     "text": [
      "======================================== ADVERSARIAL TRAFFIC EVALUATING ========================================\n",
      "================================================================================\n",
      " IDS Model: KNN\n",
      "--------------------------------------------------------------------------------\n",
      " Adversarial Attack Type : 3\n",
      "*****\n",
      " - Attack Category: U2R_AND_R2L\n",
      "Loaded Model From Disk: E:/An toàn thông tin/Code/Saved Model/IDSModel/U2R_AND_R2L/Machine_Learning/created_date_2023-11-27_KNN.pkl\n",
      "    Amout of U2R_AND_R2L:\t2952 (11 batchs - 256 records/batch)\n",
      "\t  10 epochs:\tOrigin DR : 3.78% \t Adversarial DR : 0.00% \t EIR : 100.00%\n",
      "\t  20 epochs:\tOrigin DR : 3.78% \t Adversarial DR : 0.00% \t EIR : 100.00%\n",
      "\t  30 epochs:\tOrigin DR : 3.78% \t Adversarial DR : 0.00% \t EIR : 100.00%\n",
      "\t  40 epochs:\tOrigin DR : 3.78% \t Adversarial DR : 0.00% \t EIR : 100.00%\n",
      "\t  50 epochs:\tOrigin DR : 3.78% \t Adversarial DR : 0.00% \t EIR : 100.00%\n",
      "\t  60 epochs:\tOrigin DR : 3.78% \t Adversarial DR : 0.00% \t EIR : 100.00%\n",
      "\t  70 epochs:\tOrigin DR : 3.78% \t Adversarial DR : 0.00% \t EIR : 100.00%\n",
      "\t  80 epochs:\tOrigin DR : 3.78% \t Adversarial DR : 0.00% \t EIR : 100.00%\n",
      "\t  90 epochs:\tOrigin DR : 3.78% \t Adversarial DR : 0.00% \t EIR : 100.00%\n",
      "\t 100 epochs:\tOrigin DR : 3.78% \t Adversarial DR : 0.00% \t EIR : 100.00%\n"
     ]
    }
   ],
   "source": [
    "# Adversarial Traffic Evaluating\n",
    "print(f\"{40*'='} ADVERSARIAL TRAFFIC EVALUATING {40*'='}\")\n",
    "print(f\"{80*'='}\\n IDS Model: {ids_model_name}\")\n",
    "\n",
    "# for attack_category in ATTACK_CATEGORIES:\n",
    "for attack_category in ['U2R_AND_R2L']:\n",
    "    for adversarial_attack_type in [3]:\n",
    "        print(f\"{80*'-'}\\n Adversarial Attack Type : {adversarial_attack_type}\")\n",
    "        print(f\"{5*'*'}\\n - Attack Category: {attack_category}\")\n",
    "        \n",
    "        # Load sklearn IDS Model\n",
    "        ids_model = load_sklearn_ids_model(ids_model_name, attack_category, ids_created_date)\n",
    "        # Init GAN-G model\n",
    "        G_OUTPUT_DIM = len(POS_NONFUNCTIONAL_FEATURES[attack_category])     # Generator output is number of nonfunctional feature\n",
    "        generator = init_generator(G_INPUT_DIM,G_OUTPUT_DIM, adversarial_attack_type)\n",
    "        # Load Attack Dataset\n",
    "        test_raw_attack = preprocess_malicious_data(testset, attack_category)\n",
    "        # Create batch of attack traffic\n",
    "        batch_attack = create_batch2(test_raw_attack, BATCH_SIZE)\n",
    "        n_batch_attack = len(batch_attack)\n",
    "        print(f\"{4*' '}Amout of {attack_category}:\\t{len(test_raw_attack)} ({n_batch_attack} batchs - {BATCH_SIZE} records/batch)\")\n",
    "        \n",
    "        # Calc DR through each epoch\n",
    "        for epoch in range(10, MAX_EPOCH + 1, 10):\n",
    "            # Load GAN-G Model\n",
    "            gan_g_model_path = str(f\"{GAN_Model_Path}{ids_model_name}/{attack_category}/Generator/{adversarial_attack_type}/{epoch}epoch_time_created_{gan_model_time_created}.pth\")\n",
    "            param = th.load(gan_g_model_path,map_location=lambda x,y:x)\n",
    "            generator.load_state_dict(param)\n",
    "            generator.eval()\n",
    "\n",
    "            o_dr,a_dr =[],[]\n",
    "            with th.no_grad():\n",
    "                for idx, bn in enumerate(test_batch_normal):\n",
    "                    normal_b = th.Tensor(bn)\n",
    "                    attack_b = th.Tensor(batch_attack[idx % n_batch_attack])\n",
    "                    # Generate Adversarial Traffic\n",
    "                    adversarial_attack_b = gen_adversarial_attack(generator, NOISE_DIM, attack_b, attack_category, adversarial_attack_type).detach()\n",
    "\n",
    "                    # Calc DR\n",
    "                    origin_dr, adversarial_dr = cal_dr(ids_model, normal_b, attack_b, adversarial_attack_b)\n",
    "                    o_dr.append(origin_dr)\n",
    "                    a_dr.append(adversarial_dr)\n",
    "            eir = 1 - (np.mean(a_dr)/np.mean(o_dr))\n",
    "            print(f\"\\t {epoch:3d} epochs:\\tOrigin DR : {np.mean(o_dr)*100:.2f}% \\t Adversarial DR : {np.mean(a_dr)*100:.2f}% \\t EIR : {eir*100:.2f}%\")"
   ]
  },
  {
   "cell_type": "markdown",
   "metadata": {
    "colab_type": "text",
    "id": "mwWugTozppL5"
   },
   "source": [
    "The Saved Model stored in [Google Drive - GAN Model](https://drive.google.com/drive/u/1/folders/1VNFW-k5SbR0eGsJ_np3U-W3Rcz_n4I8N)\n",
    "\n",
    "The Result of Code stored in [Github - Thesis](https://github.com/thetinybug/thesis-IDSGAN)"
   ]
  }
 ],
 "metadata": {
  "colab": {
   "collapsed_sections": [],
   "name": "2. GAN and Gen_Machine_Learning_IDS_KNNCluster_KNN - U2R_R2L - A3.ipynb",
   "provenance": [
    {
     "file_id": "1__oEcuLAwPtIYf5J9l75rsRQ1RPYE56v",
     "timestamp": 1593183432956
    },
    {
     "file_id": "1mkhrbHfNqYSDxkiyP7BsFofEaWEWP5fM",
     "timestamp": 1592983611776
    }
   ],
   "toc_visible": true
  },
  "kernelspec": {
   "display_name": "Python 3 (ipykernel)",
   "language": "python",
   "name": "python3"
  },
  "language_info": {
   "codemirror_mode": {
    "name": "ipython",
    "version": 3
   },
   "file_extension": ".py",
   "mimetype": "text/x-python",
   "name": "python",
   "nbconvert_exporter": "python",
   "pygments_lexer": "ipython3",
   "version": "3.11.4"
  }
 },
 "nbformat": 4,
 "nbformat_minor": 4
}
