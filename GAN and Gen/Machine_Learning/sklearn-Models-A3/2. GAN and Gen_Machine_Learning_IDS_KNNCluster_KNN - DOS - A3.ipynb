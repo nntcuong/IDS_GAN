{
 "cells": [
  {
   "cell_type": "markdown",
   "metadata": {
    "colab_type": "text",
    "id": "m27n3nFSTSv2"
   },
   "source": [
    "#**0. Thư viện**"
   ]
  },
  {
   "cell_type": "markdown",
   "metadata": {
    "colab_type": "text",
    "id": "08Q42YHGbvLT"
   },
   "source": [
    "##Cài đặt "
   ]
  },
  {
   "cell_type": "markdown",
   "metadata": {
    "colab_type": "text",
    "id": "mt5O3Y-fb5Du"
   },
   "source": [
    "##Import"
   ]
  },
  {
   "cell_type": "code",
   "execution_count": 1,
   "metadata": {},
   "outputs": [],
   "source": [
    "%run models.py"
   ]
  },
  {
   "cell_type": "code",
   "execution_count": 2,
   "metadata": {},
   "outputs": [],
   "source": [
    "%run constants.py"
   ]
  },
  {
   "cell_type": "code",
   "execution_count": 3,
   "metadata": {
    "colab": {
     "base_uri": "https://localhost:8080/",
     "height": 34
    },
    "colab_type": "code",
    "executionInfo": {
     "elapsed": 13206,
     "status": "ok",
     "timestamp": 1594499251955,
     "user": {
      "displayName": "Machine Ubuntu",
      "photoUrl": "",
      "userId": "14037080372597024989"
     },
     "user_tz": -420
    },
    "id": "YIQ708lZS2lF",
    "outputId": "96f21817-0d4b-4a52-d9b1-201b2126abda"
   },
   "outputs": [],
   "source": [
    "import numpy as np\n",
    "import pandas as pd\n",
    "import torch as th\n",
    "from torch.autograd import Variable as V\n",
    "import torch.autograd as autograd\n",
    "import torch.nn as nn\n",
    "import torch.nn.functional as F\n",
    "import torch.optim as optim\n",
    "from sklearn.utils import shuffle\n",
    "from sklearn.metrics import confusion_matrix\n",
    "import pickle\n",
    "\n",
    "\n",
    "\n",
    "# Own Custom Module to import models and constants\n",
    "from models import *\n",
    "from constants import *\n",
    "\n",
    "import matplotlib.pyplot as plt\n",
    "import adabound \n",
    "import math\n",
    "import os\n",
    "from datetime import date\n",
    "import timeit"
   ]
  },
  {
   "cell_type": "markdown",
   "metadata": {
    "colab_type": "text",
    "id": "DZkqASdBS-QA"
   },
   "source": [
    "#**1. Chuẩn bị**"
   ]
  },
  {
   "cell_type": "markdown",
   "metadata": {
    "colab_type": "text",
    "id": "3rFWSSBQF99E"
   },
   "source": [
    "##Paths"
   ]
  },
  {
   "cell_type": "code",
   "execution_count": 4,
   "metadata": {
    "colab": {},
    "colab_type": "code",
    "executionInfo": {
     "elapsed": 13190,
     "status": "ok",
     "timestamp": 1594499251957,
     "user": {
      "displayName": "Machine Ubuntu",
      "photoUrl": "",
      "userId": "14037080372597024989"
     },
     "user_tz": -420
    },
    "id": "uW-RHzMwdsG5"
   },
   "outputs": [],
   "source": [
    "\n",
    "\n",
    "base_path = \"E:/An toàn thông tin/Code/\"\n",
    "Dataset_Path = \"E:/An toàn thông tin/Code/Dataset/NSL-KDD Processed/Final - For Using/\"\n",
    "SavedModelPath = base_path + \"Saved Model/\"\n",
    "\n",
    "# Dataset Path\n",
    "Trainsets_Path = Dataset_Path + \"Trainset/\"\n",
    "g_trainset_path = Trainsets_Path + \"GAN-G.csv\"\n",
    "d_trainset_path = Trainsets_Path + \"GAN-D.csv\"\n",
    "testset_path = Dataset_Path + \"Testset/\" + \"KDDTest+.csv\"\n",
    "\n",
    "# GAN Saved Models Paths\n",
    "GAN_Model_Path = SavedModelPath + \"GANModel/\"\n",
    "\n",
    "# IDS Pytorch Saved Models Paths\n",
    "IDS_Saved_Path = SavedModelPath + \"IDSModel/\""
   ]
  },
  {
   "cell_type": "markdown",
   "metadata": {
    "colab_type": "text",
    "id": "XwTYqTdfF-wS"
   },
   "source": [
    "##Global Variables"
   ]
  },
  {
   "cell_type": "code",
   "execution_count": 5,
   "metadata": {
    "colab": {},
    "colab_type": "code",
    "executionInfo": {
     "elapsed": 13134,
     "status": "ok",
     "timestamp": 1594499251959,
     "user": {
      "displayName": "Machine Ubuntu",
      "photoUrl": "",
      "userId": "14037080372597024989"
     },
     "user_tz": -420
    },
    "id": "8rBB0NLwGAce"
   },
   "outputs": [],
   "source": [
    "# Global Variables\n",
    "N_FEATURES = 41\n",
    "# IDS\n",
    "IDS_INPUT_DIM = N_FEATURES\n",
    "IDS_OUTPUT_DIM = 2\n",
    "ATTACK_CATEGORIES = ['DOS', 'U2R_AND_R2L']\n",
    "\n",
    "POS_FUNCTIONAL_FEATURES = {'DOS': DOS_FEATURES, 'U2R_AND_R2L': U2R_AND_R2L_FEATURES}\n",
    "POS_NONFUNCTIONAL_FEATURES = {}\n",
    "for attack_category, pos_functional_feature in POS_FUNCTIONAL_FEATURES.items():\n",
    "    pos_nonfunctional_feature = []\n",
    "    for i in range(N_FEATURES):\n",
    "        if i not in pos_functional_feature:\n",
    "            pos_nonfunctional_feature.append(i)\n",
    "    POS_NONFUNCTIONAL_FEATURES[attack_category] = pos_nonfunctional_feature\n",
    "\n",
    "IDS_MODELS = {'GaussianNB', 'MultinomialNB', 'ComplementNB', 'BernoulliNB', 'DT', 'RF', 'KNN'}"
   ]
  },
  {
   "cell_type": "code",
   "execution_count": 6,
   "metadata": {
    "colab": {
     "base_uri": "https://localhost:8080/",
     "height": 105
    },
    "colab_type": "code",
    "executionInfo": {
     "elapsed": 13080,
     "status": "ok",
     "timestamp": 1594499251961,
     "user": {
      "displayName": "Machine Ubuntu",
      "photoUrl": "",
      "userId": "14037080372597024989"
     },
     "user_tz": -420
    },
    "id": "hlE7gDk07ybi",
    "outputId": "4c00da3c-6efa-4883-e2bd-ba420a9f483f"
   },
   "outputs": [
    {
     "name": "stdout",
     "output_type": "stream",
     "text": [
      "Position of Functional Features\n",
      "   {'DOS': [0, 1, 2, 3, 4, 5, 6, 7, 8, 23, 24, 25, 26, 27, 28, 29, 30], 'U2R_AND_R2L': [0, 1, 2, 3, 4, 5, 6, 7, 8, 9, 10, 11, 12, 13, 14, 15, 16, 17, 18, 19, 20, 21, 22]}\n",
      "Position of Functional Features:\n",
      "   {'DOS': [9, 10, 11, 12, 13, 14, 15, 16, 17, 18, 19, 20, 21, 22, 31, 32, 33, 34, 35, 36, 37, 38, 39, 40], 'U2R_AND_R2L': [23, 24, 25, 26, 27, 28, 29, 30, 31, 32, 33, 34, 35, 36, 37, 38, 39, 40]}\n"
     ]
    }
   ],
   "source": [
    "print('Position of Functional Features\\n  ', POS_FUNCTIONAL_FEATURES)\n",
    "print('Position of Functional Features:\\n  ', POS_NONFUNCTIONAL_FEATURES)"
   ]
  },
  {
   "cell_type": "markdown",
   "metadata": {
    "colab_type": "text",
    "id": "otbVJEAzcTv4"
   },
   "source": [
    "# **2. Định nghĩa Model**"
   ]
  },
  {
   "cell_type": "markdown",
   "metadata": {
    "colab_type": "text",
    "id": "FVn0MzP1HW_0"
   },
   "source": [
    "##Models"
   ]
  },
  {
   "cell_type": "code",
   "execution_count": 7,
   "metadata": {
    "colab": {},
    "colab_type": "code",
    "executionInfo": {
     "elapsed": 13047,
     "status": "ok",
     "timestamp": 1594499251962,
     "user": {
      "displayName": "Machine Ubuntu",
      "photoUrl": "",
      "userId": "14037080372597024989"
     },
     "user_tz": -420
    },
    "id": "sqogk9lIw_Uk"
   },
   "outputs": [],
   "source": [
    "# Load from model.py module"
   ]
  },
  {
   "cell_type": "markdown",
   "metadata": {
    "colab_type": "text",
    "id": "MdPRWEuxBAcd"
   },
   "source": [
    "##Functions"
   ]
  },
  {
   "cell_type": "markdown",
   "metadata": {
    "colab_type": "text",
    "id": "TcJBwwXf924F"
   },
   "source": [
    "### Processing Data Functions"
   ]
  },
  {
   "cell_type": "code",
   "execution_count": 8,
   "metadata": {
    "colab": {},
    "colab_type": "code",
    "executionInfo": {
     "elapsed": 13023,
     "status": "ok",
     "timestamp": 1594499251964,
     "user": {
      "displayName": "Machine Ubuntu",
      "photoUrl": "",
      "userId": "14037080372597024989"
     },
     "user_tz": -420
    },
    "id": "r81eRs5hx8Lf"
   },
   "outputs": [],
   "source": [
    "# Processing Data Functions\n",
    "# create_batch2 - Hàm tạo Batch\n",
    "def create_batch2(x,batch_size):\n",
    "    a = list(range(len(x)))\n",
    "    np.random.shuffle(a)\n",
    "    x = x[a]\n",
    "    batch_x = [x[batch_size * i : (i+1)*batch_size,:] for i in range(len(x)//batch_size)]\n",
    "    return np.array(batch_x)\n",
    "# preprocess_malicious_data - Hàm tiền xử lý dữ liệu tấn công\n",
    "def preprocess_malicious_data(dataset, attack_category):\n",
    "    if attack_category != 'DOS' and attack_category != 'U2R_AND_R2L':\n",
    "      raise ValueError(\"Preprocess Data Fail: Invalid Attack Category\")\n",
    "    attack_data = dataset[dataset['class'] == attack_category]\n",
    "    del attack_data[\"class\"]\n",
    "    return np.array(attack_data)"
   ]
  },
  {
   "cell_type": "markdown",
   "metadata": {
    "colab_type": "text",
    "id": "fM7pjZa999Ht"
   },
   "source": [
    "### IDS Functions"
   ]
  },
  {
   "cell_type": "code",
   "execution_count": 9,
   "metadata": {
    "colab": {},
    "colab_type": "code",
    "executionInfo": {
     "elapsed": 13002,
     "status": "ok",
     "timestamp": 1594499251965,
     "user": {
      "displayName": "Machine Ubuntu",
      "photoUrl": "",
      "userId": "14037080372597024989"
     },
     "user_tz": -420
    },
    "id": "Ukp0y2LiyGmy"
   },
   "outputs": [],
   "source": [
    "# IDS Functions\n",
    "# get_sklearn_ids_path - Get path for sklearn IDS Models\n",
    "def get_sklearn_ids_path(model_name, attack_category, created_date):\n",
    "    if attack_category != 'DOS' and attack_category != 'U2R_AND_R2L':\n",
    "        raise ValueError(\"Preprocess Data Fail: Invalid Attack Category\")\n",
    "    ids_path = str(f\"{IDS_Saved_Path}{attack_category}/Machine_Learning/created_date_{created_date}_{model_name}.pkl\")\n",
    "    if not os.path.exists(ids_path):\n",
    "        raise ValueError(f\"Invalid path: {ids_path}\\nNot exist file!\")\n",
    "    return ids_path\n",
    "# load_pytorch_ids_model - Load PyTorch IDS Models\n",
    "def load_sklearn_ids_model(model_name, attack_category, created_date):\n",
    "    ids_model_path = get_sklearn_ids_path(model_name, attack_category, created_date)\n",
    "    with open(ids_model_path, 'rb') as file:\n",
    "        pickle_model = pickle.load(file)\n",
    "        print(f\"Loaded Model From Disk: {ids_model_path}\")\n",
    "    return pickle_model"
   ]
  },
  {
   "cell_type": "markdown",
   "metadata": {
    "colab_type": "text",
    "id": "J9Q5DryD-Dl0"
   },
   "source": [
    "### GAN Functions"
   ]
  },
  {
   "cell_type": "code",
   "execution_count": 10,
   "metadata": {
    "colab": {},
    "colab_type": "code",
    "executionInfo": {
     "elapsed": 1042,
     "status": "ok",
     "timestamp": 1594499586540,
     "user": {
      "displayName": "Machine Ubuntu",
      "photoUrl": "",
      "userId": "14037080372597024989"
     },
     "user_tz": -420
    },
    "id": "tV5MHCxUA-8G"
   },
   "outputs": [],
   "source": [
    "# GAN Functions\n",
    "# init_generator - Khoi tao model GAN-G\n",
    "def init_generator(input_dim, output_dim, adversarial_attack_type = 1):\n",
    "    if adversarial_attack_type == 1:\n",
    "        generator = Generator_A1(input_dim, output_dim)\n",
    "    elif adversarial_attack_type == 2:\n",
    "        generator = Generator_A2(input_dim, output_dim)\n",
    "    elif adversarial_attack_type == 3:\n",
    "        '''\n",
    "            adversarial_attack_type 3: G-input is nonfunctional feature, G-out is adversarial nonfuncitonal feature.\n",
    "            --> input_dim = output_dim = len(nonfunctional_features)\n",
    "        ''' \n",
    "        generator = Generator_A2(output_dim, output_dim)\n",
    "    else:\n",
    "        raise ValueError(\"Init GAN - Generator: Invalid Adversarial Attack Type\")\n",
    "    return generator\n",
    "\n",
    "# gen_adversarial_attack - Tao luu luong tan cong doi khang\n",
    "def gen_adversarial_attack(generator, noise_dim, raw_attack, attack_category, adversarial_attack_type = 1):\n",
    "    if adversarial_attack_type == 1:\n",
    "        adversarial_attack = generator(noise_dim, raw_attack, attack_category, POS_NONFUNCTIONAL_FEATURES)\n",
    "    elif adversarial_attack_type == 2:\n",
    "        batch_size = len(raw_attack)\n",
    "        noise = V(th.Tensor(np.random.uniform(0,1,(batch_size, noise_dim))))\n",
    "        generator_out = generator(noise)\n",
    "        adversarial_attack = gen_adversarial_attack_a2(generator_out, raw_attack, attack_category, POS_NONFUNCTIONAL_FEATURES)\n",
    "    elif  adversarial_attack_type == 3:\n",
    "        pos_nonfunctional_feature = POS_NONFUNCTIONAL_FEATURES[attack_category]\n",
    "        # get nonfunctional features val\n",
    "        nonfunctional_feature = raw_attack[:, pos_nonfunctional_feature]\n",
    "        generator_out = generator(nonfunctional_feature)\n",
    "        adversarial_attack = gen_adversarial_attack_a2(generator_out, raw_attack, attack_category, POS_NONFUNCTIONAL_FEATURES)\n",
    "    else:\n",
    "        raise ValueError(\"Init GAN - Generator: Invalid Adversarial Attack Type\")\n",
    "    return adversarial_attack\n",
    "\n",
    "# train_generator - Train Generator\n",
    "def train_generator(generator, discriminator, optimizer_G, noise_dim, attack_traffic, attack_category, adversarial_attack_type):\n",
    "    for p in discriminator.parameters():  \n",
    "        p.requires_grad = False\n",
    "    optimizer_G.zero_grad()        \n",
    "    # GAN-G Generate Adversarial Attack\n",
    "    adversarial_attack = gen_adversarial_attack(generator, noise_dim, attack_traffic, attack_category, adversarial_attack_type)\n",
    "    # GAN-D predict, GAN-G update parameter\n",
    "    D_pred = discriminator(adversarial_attack)\n",
    "    g_loss = -th.mean(D_pred)\n",
    "    g_loss.backward()\n",
    "    optimizer_G.step()\n",
    "    return g_loss\n",
    "\n",
    "# train_discriminator - Train Discriminator\n",
    "def train_discriminator(discriminator, ids_model, generator, critic_iters, clamp, optimizer_D, normal_b, noise_dim, attack_traffic, attack_category, adversarial_attack_type):\n",
    "    run_d_loss = 0\n",
    "    cnt = 0\n",
    "    for p in discriminator.parameters(): \n",
    "        p.requires_grad = True\n",
    "    for c in range(critic_iters):\n",
    "        optimizer_D.zero_grad()\n",
    "        for p in discriminator.parameters():\n",
    "            p.data.clamp_(-clamp, clamp)\n",
    "        # GAN-G Generate Adversarial Attack\n",
    "        adversarial_attack = gen_adversarial_attack(generator, noise_dim, attack_traffic, attack_category, adversarial_attack_type)\n",
    "        # Make data to feed IDS\n",
    "        ids_input = th.cat((adversarial_attack,normal_b))\n",
    "        l = list(range(len(ids_input)))\n",
    "        np.random.shuffle(l)\n",
    "        ids_input = V(th.Tensor(ids_input[l]))\n",
    "        # IDS Predict\n",
    "        ids_pred_label = V(th.Tensor(ids_model.predict(ids_input)))\n",
    "        pred_normal = ids_input[ids_pred_label==0]\n",
    "        pred_attack = ids_input[ids_pred_label==1]\n",
    "        if len(pred_attack) == 0:\n",
    "            cnt += 1\n",
    "            break\n",
    "        # Make GAN-D input\n",
    "        D_noraml = discriminator(V(th.Tensor(pred_normal)))\n",
    "        D_attack= discriminator(V(th.Tensor(pred_attack)))\n",
    "        # Loss and Update Parameter\n",
    "        loss_normal = th.mean(D_noraml)\n",
    "        loss_attack = th.mean(D_attack)\n",
    "        gradient_penalty = compute_gradient_penalty(discriminator, normal_b.data, adversarial_attack.data)\n",
    "        d_loss = loss_attack - loss_normal #+ LAMBDA * gradient_penalty\n",
    "        d_loss.backward()\n",
    "        optimizer_D.step()\n",
    "        run_d_loss += d_loss.item()\n",
    "    return run_d_loss, cnt\n",
    "\n",
    "# compute_gradient_penalty - Compute Gradient Penalty\n",
    "def compute_gradient_penalty(D, normal_t, attack_t):\n",
    "    alpha = th.Tensor(np.random.random((normal_t.shape[0], 1)))\n",
    "    between_n_a = (alpha * normal_t + ((1 - alpha) * attack_t)).requires_grad_(True)\n",
    "    d_between_n_a = D(between_n_a)\n",
    "    adv = V(th.Tensor(normal_t.shape[0], 1).fill_(1.0), requires_grad=False)\n",
    "\n",
    "    gradients = autograd.grad(\n",
    "        outputs=d_between_n_a,\n",
    "        inputs=between_n_a,\n",
    "        grad_outputs=adv,\n",
    "        create_graph=True,\n",
    "        retain_graph=True,\n",
    "        only_inputs=True,\n",
    "    )[0]\n",
    "    gradients = gradients.view(gradients.size(0), -1)\n",
    "    gradient_penalty = ((gradients.norm(2, dim=1) - 1) ** 2).mean()\n",
    "    return gradient_penalty"
   ]
  },
  {
   "cell_type": "markdown",
   "metadata": {
    "colab_type": "text",
    "id": "jRhNLI_jSKIg"
   },
   "source": [
    "### Generate Adversarial Attack Functions"
   ]
  },
  {
   "cell_type": "code",
   "execution_count": 11,
   "metadata": {
    "colab": {},
    "colab_type": "code",
    "executionInfo": {
     "elapsed": 12961,
     "status": "ok",
     "timestamp": 1594499251968,
     "user": {
      "displayName": "Machine Ubuntu",
      "photoUrl": "",
      "userId": "14037080372597024989"
     },
     "user_tz": -420
    },
    "id": "RyrR7KLNSPtu"
   },
   "outputs": [],
   "source": [
    "# cal_dr - Tinh DR\n",
    "def cal_dr(ids_model, normal, raw_attack, adversarial_attack):\n",
    "    # Make data to feed IDS contain: Attack & Normal\n",
    "    o_ids_input = th.cat((raw_attack, normal))\n",
    "    a_ids_input = th.cat((adversarial_attack,normal))\n",
    "    # Shuffle Input\n",
    "    l = list(range(len(a_ids_input)))\n",
    "    np.random.shuffle(l)\n",
    "    o_ids_input = o_ids_input[l]\n",
    "    a_ids_input = a_ids_input[l]\n",
    "    # IDS Predict Label\n",
    "    o_pred_label = th.Tensor(ids_model.predict(o_ids_input))\n",
    "    a_pred_label = th.Tensor(ids_model.predict(a_ids_input))\n",
    "    # True Label\n",
    "    ids_true_label = np.r_[np.ones(BATCH_SIZE),np.zeros(BATCH_SIZE)][l]\n",
    "    # Calc DR\n",
    "    tn1, fn1, fp1, tp1 = confusion_matrix(ids_true_label,o_pred_label).ravel()\n",
    "    tn2, fn2, fp2, tp2 = confusion_matrix(ids_true_label,a_pred_label).ravel()\n",
    "    origin_dr = tp1/(tp1 + fp1)\n",
    "    adversarial_dr = tp2/(tp2 + fp2)\n",
    "    return origin_dr, adversarial_dr"
   ]
  },
  {
   "cell_type": "markdown",
   "metadata": {
    "colab_type": "text",
    "id": "nDp5Uy_HaShp"
   },
   "source": [
    "# **3. Run Model**"
   ]
  },
  {
   "cell_type": "code",
   "execution_count": 12,
   "metadata": {
    "cellView": "both",
    "colab": {},
    "colab_type": "code",
    "executionInfo": {
     "elapsed": 12931,
     "status": "ok",
     "timestamp": 1594499251969,
     "user": {
      "displayName": "Machine Ubuntu",
      "photoUrl": "",
      "userId": "14037080372597024989"
     },
     "user_tz": -420
    },
    "id": "7hTHJcBcRKjg"
   },
   "outputs": [],
   "source": [
    "ids_model_name = \"KNN\" #@param ['GaussianNB', 'MultinomialNB', 'ComplementNB', 'BernoulliNB', 'DT', 'RF', 'KNN']\n",
    "MAX_EPOCH = 100 #@param [\"10\", \"100\"] {type:\"raw\"}\n",
    "ids_created_date = '2023-11-27' "
   ]
  },
  {
   "cell_type": "markdown",
   "metadata": {
    "colab_type": "text",
    "id": "s8tEzhBNxvGM"
   },
   "source": [
    "##**3.1 Run IDSGAN**"
   ]
  },
  {
   "cell_type": "code",
   "execution_count": 13,
   "metadata": {
    "colab": {},
    "colab_type": "code",
    "executionInfo": {
     "elapsed": 12026,
     "status": "ok",
     "timestamp": 1594452924178,
     "user": {
      "displayName": "Machine Ubuntu",
      "photoUrl": "",
      "userId": "14037080372597024989"
     },
     "user_tz": -420
    },
    "id": "j01YlgClq7yq"
   },
   "outputs": [],
   "source": [
    "# Hyber Parameters\n",
    "BATCH_SIZE = 64\n",
    "learning_rate = 0.0001\n",
    "LAMBDA = 10\n",
    "CLAMP = 0.01\n",
    "CRITIC_ITERS = 5          # For WGAN and WGAN-GP, number of critic iters per gen iter\n",
    "\n",
    "# GAN-D\n",
    "D_INPUT_DIM = N_FEATURES\n",
    "D_OUTPUT_DIM = 1\n",
    "discriminator = Discriminator(D_INPUT_DIM,D_OUTPUT_DIM)\n",
    "optimizer_D = optim.RMSprop(discriminator.parameters(), lr=learning_rate)\n",
    "\n",
    "# GAN-G\n",
    "NOISE_DIM = 9\n",
    "G_INPUT_DIM = NOISE_DIM     # Generator input dimension is dimention of noise"
   ]
  },
  {
   "cell_type": "code",
   "execution_count": 14,
   "metadata": {
    "colab": {
     "base_uri": "https://localhost:8080/",
     "height": 51
    },
    "colab_type": "code",
    "executionInfo": {
     "elapsed": 13673,
     "status": "ok",
     "timestamp": 1594452925837,
     "user": {
      "displayName": "Machine Ubuntu",
      "photoUrl": "",
      "userId": "14037080372597024989"
     },
     "user_tz": -420
    },
    "id": "xG09yA2D9bzg",
    "outputId": "e799d234-69c4-49e6-ae6e-355648fafc60"
   },
   "outputs": [
    {
     "name": "stdout",
     "output_type": "stream",
     "text": [
      "Amout of Generator Trainset: 23488\n",
      "Amout of Discriminator Trainset: 33672\n"
     ]
    }
   ],
   "source": [
    "# Get today to set created time for GAN models\n",
    "today = str(date.today())\n",
    "\n",
    "## Prepare Dataset\n",
    "g_train_data = pd.read_csv(g_trainset_path)\n",
    "d_train_data = pd.read_csv(d_trainset_path)\n",
    "\n",
    "# All normal record in train_data\n",
    "del d_train_data[\"class\"]\n",
    "normal = np.array(d_train_data)\n",
    "\n",
    "print(\"Amout of Generator Trainset:\", g_train_data.shape[0])\n",
    "print(\"Amout of Discriminator Trainset:\", d_train_data.shape[0])"
   ]
  },
  {
   "cell_type": "code",
   "execution_count": 15,
   "metadata": {
    "colab": {
     "base_uri": "https://localhost:8080/",
     "height": 1000
    },
    "colab_type": "code",
    "id": "m9C1uFo0vnv7",
    "outputId": "a281287f-2481-42b5-d333-5c75cf65c5ab"
   },
   "outputs": [
    {
     "name": "stdout",
     "output_type": "stream",
     "text": [
      "======================================== TRAINING GAN ========================================\n",
      "================================================================================\n",
      " IDS Model: KNN\n",
      "********************************************************************************\n",
      " Adversarial Attack Type : 3\n",
      "--------------------------------------------------------------------------------\n",
      " Attack Category: DOS\n",
      "Loaded Model From Disk: E:/An toàn thông tin/Code/Saved Model/IDSModel/DOS/Machine_Learning/created_date_2023-11-27_KNN.pkl\n",
      "-->IDSGAN start training\n",
      "     Epoch          G-Loss          D-Loss         O-DR(%)         A-DR(%)      Runtime(s)\n",
      "         1            4.99           -3.46           99.79           76.33          584.86\n",
      "         2            4.23           -2.39           99.79           50.31          683.07\n",
      "         3            6.91           -1.93           99.79           35.11          697.37\n",
      "         4           -3.12           -1.36           99.79            5.60          537.90\n",
      "         5           -5.91           -1.40           99.79            3.64          451.86\n",
      "         6           -6.26           -1.44           99.79            3.51          444.50\n",
      "         7           -6.42           -1.46           99.79            3.59          449.21\n",
      "         8           -6.49           -1.48           99.79            3.72          451.42\n",
      "         9           -6.73           -1.46           99.79            3.68          449.38\n",
      "        10           -6.74           -1.46           99.79            3.60          451.54\n",
      "      -> Generator 10 epoch is saved  to: E:/An toàn thông tin/Code/Saved Model/GANModel/KNN/DOS/Generator/3/10epoch_time_created_2023-11-29.pth\n",
      "        11           -6.83           -1.50           99.79            3.82          453.34\n",
      "        12           -6.97           -1.48           99.79            3.83          451.95\n",
      "        13           -6.94           -1.46           99.79            3.63          449.84\n",
      "        14           -6.89           -1.45           99.79            3.62          451.63\n",
      "        15           -6.91           -1.47           99.79            3.93          453.57\n",
      "        16           -6.95           -1.46           99.79            3.77          452.23\n",
      "        17           -6.83           -1.48           99.79            3.82          451.94\n",
      "        18           -6.94           -1.44           99.79            3.73          452.86\n",
      "        19           -7.06           -1.46           99.79            3.81          452.71\n",
      "        20           -6.93           -1.47           99.79            3.91          454.85\n",
      "      -> Generator 20 epoch is saved  to: E:/An toàn thông tin/Code/Saved Model/GANModel/KNN/DOS/Generator/3/20epoch_time_created_2023-11-29.pth\n",
      "        21           -7.00           -1.46           99.79            3.61          452.92\n",
      "        22           -6.96           -1.50           99.79            4.01          456.24\n",
      "        23           -6.93           -1.47           99.79            3.92          453.70\n",
      "        24           -7.07           -1.47           99.79            3.83          454.07\n",
      "        25           -6.68           -1.47           99.79            3.70          455.24\n",
      "        26           -7.10           -1.51           99.79            4.20          456.07\n",
      "        27           -6.82           -1.47           99.79            3.77          456.00\n",
      "        28           -7.00           -1.50           99.79            4.03          457.05\n",
      "        29           -6.96           -1.50           99.79            3.95          456.65\n",
      "        30           -6.94           -1.48           99.79            3.97          455.96\n",
      "      -> Generator 30 epoch is saved  to: E:/An toàn thông tin/Code/Saved Model/GANModel/KNN/DOS/Generator/3/30epoch_time_created_2023-11-29.pth\n",
      "        31           -6.78           -1.45           99.79            3.70          455.46\n",
      "        32           -7.00           -1.50           99.79            4.12          455.91\n",
      "        33           -6.84           -1.51           99.79            4.13          456.16\n",
      "        34           -6.99           -1.53           99.79            4.30          460.19\n",
      "        35           -6.84           -1.48           99.79            4.09          456.00\n",
      "        36           -7.05           -1.47           99.79            3.92          454.58\n",
      "        37           -6.96           -1.44           99.79            3.74          452.43\n",
      "        38           -6.81           -1.49           99.79            4.08          456.58\n",
      "        39           -6.83           -1.53           99.79            4.35          459.75\n",
      "        40           -7.11           -1.51           99.79            4.26          458.26\n",
      "      -> Generator 40 epoch is saved  to: E:/An toàn thông tin/Code/Saved Model/GANModel/KNN/DOS/Generator/3/40epoch_time_created_2023-11-29.pth\n",
      "        41           -7.00           -1.50           99.79            4.20          459.91\n",
      "        42           -7.00           -1.50           99.79            4.08          458.86\n",
      "        43           -6.85           -1.52           99.79            4.31         1639.25\n",
      "        44           -6.90           -1.46           99.79            3.90          467.53\n",
      "        45           -6.61           -1.51           99.79            4.04          468.10\n",
      "        46           -6.86           -1.55           99.79            4.52          476.69\n",
      "        47           -7.13           -1.52           99.79            4.38          500.44\n",
      "        48           -7.04           -1.52           99.79            4.34          490.89\n",
      "        49           -6.98           -1.55           99.79            4.48          488.77\n",
      "        50           -6.86           -1.54           99.79            4.41          494.22\n",
      "      -> Generator 50 epoch is saved  to: E:/An toàn thông tin/Code/Saved Model/GANModel/KNN/DOS/Generator/3/50epoch_time_created_2023-11-29.pth\n",
      "        51           -6.92           -1.53           99.79            4.43          484.84\n",
      "        52           -6.90           -1.52           99.79            4.07         3949.83\n",
      "        53           -6.91           -1.57           99.79            4.45          472.79\n",
      "        54           -6.85           -1.51           99.79            4.18          469.10\n",
      "        55           -7.08           -1.52           99.79            4.27          473.55\n",
      "        56           -6.94           -1.50           99.79            4.27          472.23\n",
      "        57           -6.60           -1.54           99.79            4.27          472.38\n",
      "        58           -6.84           -1.57           99.79            4.35          480.55\n",
      "        59           -6.80           -1.53           99.79            4.07          480.51\n",
      "        60           -6.85           -1.52           99.79            4.28          480.04\n",
      "      -> Generator 60 epoch is saved  to: E:/An toàn thông tin/Code/Saved Model/GANModel/KNN/DOS/Generator/3/60epoch_time_created_2023-11-29.pth\n",
      "        61           -6.92           -1.53           99.79            4.39          481.01\n",
      "        62           -6.77           -1.52           99.79            4.35          478.09\n",
      "        63           -6.91           -1.54           99.79            4.27          478.39\n",
      "        64           -6.81           -1.54           99.79            4.51          482.26\n",
      "        65           -6.63           -1.52           99.79            4.27          477.19\n",
      "        66           -6.36           -1.55           99.79            4.52          481.55\n",
      "        67           -6.65           -1.53           99.79            4.37          482.12\n",
      "        68           -6.24           -1.53           99.79            4.28          481.26\n",
      "        69           -6.90           -1.54           99.79            4.45          482.27\n",
      "        70           -6.42           -1.55           99.79            4.72          483.38\n",
      "      -> Generator 70 epoch is saved  to: E:/An toàn thông tin/Code/Saved Model/GANModel/KNN/DOS/Generator/3/70epoch_time_created_2023-11-29.pth\n",
      "        71           -6.77           -1.56           99.79            4.45          485.44\n",
      "        72           -6.54           -1.54           99.79            4.34          484.38\n",
      "        73           -6.80           -1.55           99.79            4.37          484.70\n",
      "        74           -6.73           -1.54           99.79            4.34          486.67\n",
      "        75           -6.94           -1.55           99.79            4.40          486.48\n",
      "        76           -7.09           -1.51           99.79            4.20          482.83\n",
      "        77           -6.69           -1.51           99.79            4.29          478.22\n",
      "        78           -6.66           -1.58           99.79            4.58          484.04\n",
      "        79           -7.00           -1.52           99.79            4.44          501.38\n",
      "        80           -6.75           -1.50           99.79            4.21          526.14\n",
      "      -> Generator 80 epoch is saved  to: E:/An toàn thông tin/Code/Saved Model/GANModel/KNN/DOS/Generator/3/80epoch_time_created_2023-11-29.pth\n",
      "        81           -6.93           -1.52           99.79            4.39          535.97\n",
      "        82           -6.51           -1.46           99.79            4.07          513.91\n",
      "        83           -6.61           -1.54           99.79            4.57          534.01\n",
      "        84           -6.87           -1.53           99.79            4.23          559.11\n",
      "        85           -6.66           -1.55           99.79            4.55          509.15\n",
      "        86           -6.70           -1.56           99.79            4.44          497.40\n",
      "        87           -6.97           -1.54           99.79            4.47          497.63\n",
      "        88           -6.78           -1.51           99.79            4.30          493.73\n",
      "        89           -6.79           -1.55           99.79            4.43          496.50\n",
      "        90           -6.76           -1.57           99.79            4.38          504.00\n",
      "      -> Generator 90 epoch is saved  to: E:/An toàn thông tin/Code/Saved Model/GANModel/KNN/DOS/Generator/3/90epoch_time_created_2023-11-29.pth\n",
      "        91           -6.85           -1.54           99.79            4.35          493.20\n",
      "        92           -6.46           -1.55           99.79            4.40          490.08\n",
      "        93           -7.02           -1.54           99.79            4.18          493.98\n",
      "        94           -6.56           -1.57           99.79            4.54          493.32\n",
      "        95           -6.95           -1.50           99.79            4.12          501.43\n",
      "        96           -6.93           -1.51           99.79            4.33          484.92\n",
      "        97           -6.65           -1.52           99.79            4.37          489.50\n",
      "        98           -6.88           -1.51           99.79            4.28          492.62\n",
      "        99           -6.76           -1.53           99.79            4.42          500.99\n",
      "       100           -6.78           -1.55           99.79            4.49          497.14\n",
      "      -> Generator 100 epoch is saved  to: E:/An toàn thông tin/Code/Saved Model/GANModel/KNN/DOS/Generator/3/100epoch_time_created_2023-11-29.pth\n",
      "Training Runtime: 52814.07\n",
      "IDSGAN finish training!\n"
     ]
    },
    {
     "data": {
      "image/png": "[encoded data removed]",
      "text/plain": [
       "<Figure size 640x480 with 1 Axes>"
      ]
     },
     "metadata": {},
     "output_type": "display_data"
    },
    {
     "data": {
      "image/png": "[encoded data removed]",
      "text/plain": [
       "<Figure size 640x480 with 1 Axes>"
      ]
     },
     "metadata": {},
     "output_type": "display_data"
    },
    {
     "name": "stdout",
     "output_type": "stream",
     "text": [
      "      -> Saved Discrimninator 100 epoch to: E:/An toàn thông tin/Code/Saved Model/GANModel/KNN/DOS/Discriminator/3/101epoch_time_created_2023-11-29.pth\n",
      "--------------------------------------------------------------------------------\n",
      " Attack Category: U2R_AND_R2L\n",
      "Loaded Model From Disk: E:/An toàn thông tin/Code/Saved Model/IDSModel/U2R_AND_R2L/Machine_Learning/created_date_2023-11-27_KNN.pkl\n",
      "-->IDSGAN start training\n",
      "     Epoch          G-Loss          D-Loss         O-DR(%)         A-DR(%)      Runtime(s)\n",
      "         1           -6.40           -0.12           85.14            0.00          154.27\n",
      "         2           -7.49           -0.23           85.14            0.00          149.88\n",
      "         3           -9.30           -0.34           85.14            0.00          149.25\n",
      "         4           -9.87           -0.38           85.14            0.00          147.12\n",
      "         5           -9.94           -0.36           85.14            0.00          148.49\n",
      "         6           -9.86           -0.37           85.14            0.00          142.88\n",
      "         7           -9.75           -0.38           85.14            0.00          145.81\n",
      "         8           -9.67           -0.37           85.14            0.00          142.99\n",
      "         9           -9.58           -0.38           85.14            0.00          151.42\n",
      "        10           -9.50           -0.36           85.14            0.00          144.66\n",
      "      -> Generator 10 epoch is saved  to: E:/An toàn thông tin/Code/Saved Model/GANModel/KNN/U2R_AND_R2L/Generator/3/10epoch_time_created_2023-11-29.pth\n",
      "        11           -9.44           -0.39           85.14            0.00          143.01\n",
      "        12           -9.32           -0.36           85.14            0.00          141.39\n",
      "        13           -9.23           -0.39           85.14            0.00          147.21\n",
      "        14           -9.18           -0.36           85.14            0.00          144.23\n",
      "        15           -9.06           -0.37           85.14            0.00          142.99\n",
      "        16           -8.99           -0.39           85.14            0.00          142.18\n",
      "        17           -8.92           -0.36           85.14            0.00          152.20\n",
      "        18           -8.79           -0.38           85.14            0.00          145.67\n",
      "        19           -8.69           -0.39           85.14            0.00          147.96\n",
      "        20           -8.64           -0.37           85.14            0.00          143.93\n",
      "      -> Generator 20 epoch is saved  to: E:/An toàn thông tin/Code/Saved Model/GANModel/KNN/U2R_AND_R2L/Generator/3/20epoch_time_created_2023-11-29.pth\n",
      "        21           -8.65           -0.38           85.14            0.00          149.61\n",
      "        22           -8.63           -0.38           85.14            0.00          139.48\n",
      "        23           -8.66           -0.38           85.14            0.00          149.55\n",
      "        24           -8.63           -0.36           85.14            0.00          147.90\n",
      "        25           -8.64           -0.38           85.14            0.00          171.07\n",
      "        26           -8.65           -0.39           85.14            0.00          144.91\n",
      "        27           -8.62           -0.35           85.14            0.00          143.75\n",
      "        28           -8.64           -0.37           85.14            0.00          143.36\n",
      "        29           -8.63           -0.39           85.14            0.00          145.35\n",
      "        30           -8.62           -0.37           85.14            0.00          144.68\n",
      "      -> Generator 30 epoch is saved  to: E:/An toàn thông tin/Code/Saved Model/GANModel/KNN/U2R_AND_R2L/Generator/3/30epoch_time_created_2023-11-29.pth\n",
      "        31           -8.63           -0.39           85.14            0.00          148.54\n",
      "        32           -8.66           -0.36           85.14            0.00          145.90\n",
      "        33           -8.62           -0.37           85.14            0.00          142.06\n",
      "        34           -8.64           -0.38           85.14            0.00          143.74\n",
      "        35           -8.63           -0.36           85.14            0.00          142.03\n",
      "        36           -8.63           -0.37           85.14            0.00          143.24\n",
      "        37           -8.65           -0.38           85.14            0.00          146.98\n",
      "        38           -8.69           -0.37           85.14            0.00          143.26\n",
      "        39           -8.64           -0.38           85.14            0.00          143.46\n",
      "        40           -8.64           -0.37           85.14            0.00          143.85\n",
      "      -> Generator 40 epoch is saved  to: E:/An toàn thông tin/Code/Saved Model/GANModel/KNN/U2R_AND_R2L/Generator/3/40epoch_time_created_2023-11-29.pth\n",
      "        41           -8.64           -0.38           85.14            0.00          143.56\n",
      "        42           -8.66           -0.39           85.14            0.00          147.03\n",
      "        43           -8.66           -0.38           85.14            0.00          142.92\n",
      "        44           -8.64           -0.37           85.14            0.00          148.02\n",
      "        45           -8.66           -0.37           85.14            0.00          139.95\n",
      "        46           -8.63           -0.37           85.14            0.00          137.96\n",
      "        47           -8.63           -0.37           85.14            0.00          137.51\n",
      "        48           -8.63           -0.38           85.14            0.00          137.59\n",
      "        49           -8.64           -0.36           85.14            0.00          136.63\n",
      "        50           -8.65           -0.38           85.14            0.00          139.10\n",
      "      -> Generator 50 epoch is saved  to: E:/An toàn thông tin/Code/Saved Model/GANModel/KNN/U2R_AND_R2L/Generator/3/50epoch_time_created_2023-11-29.pth\n",
      "        51           -8.64           -0.39           85.14            0.00          137.37\n",
      "        52           -8.63           -0.38           85.14            0.00          137.11\n",
      "        53           -8.67           -0.38           85.14            0.00          137.39\n",
      "        54           -8.63           -0.36           85.14            0.00          136.45\n",
      "        55           -8.68           -0.38           85.14            0.00          136.74\n",
      "        56           -8.71           -0.39           85.14            0.00          137.32\n",
      "        57           -8.68           -0.37           85.14            0.00          136.55\n",
      "        58           -8.69           -0.36           85.14            0.00          136.84\n",
      "        59           -8.63           -0.38           85.14            0.00          136.92\n",
      "        60           -8.63           -0.36           85.14            0.00          136.67\n",
      "      -> Generator 60 epoch is saved  to: E:/An toàn thông tin/Code/Saved Model/GANModel/KNN/U2R_AND_R2L/Generator/3/60epoch_time_created_2023-11-29.pth\n",
      "        61           -8.62           -0.38           85.14            0.00          138.27\n",
      "        62           -8.62           -0.38           85.14            0.00          137.50\n",
      "        63           -8.64           -0.38           85.14            0.00          137.31\n",
      "        64           -8.63           -0.39           85.14            0.00          137.73\n",
      "        65           -8.64           -0.36           85.14            0.00          136.50\n",
      "        66           -8.63           -0.38           85.14            0.00          137.05\n",
      "        67           -8.63           -0.36           85.14            0.00          136.30\n",
      "        68           -8.66           -0.37           85.14            0.00          138.61\n",
      "        69           -8.64           -0.36           85.14            0.00          136.58\n",
      "        70           -8.62           -0.38           85.14            0.00          137.40\n",
      "      -> Generator 70 epoch is saved  to: E:/An toàn thông tin/Code/Saved Model/GANModel/KNN/U2R_AND_R2L/Generator/3/70epoch_time_created_2023-11-29.pth\n",
      "        71           -8.64           -0.39           85.14            0.00          138.54\n",
      "        72           -8.64           -0.38           85.14            0.00          141.58\n",
      "        73           -8.64           -0.38           85.14            0.00          137.95\n",
      "        74           -8.63           -0.35           85.14            0.00          136.39\n",
      "        75           -8.68           -0.38           85.14            0.00          137.22\n",
      "        76           -8.63           -0.37           85.14            0.00          137.73\n",
      "        77           -8.62           -0.36           85.14            0.00          137.53\n",
      "        78           -8.63           -0.38           85.14            0.00          138.58\n",
      "        79           -8.63           -0.35           85.14            0.00          137.32\n",
      "        80           -8.63           -0.39           85.14            0.00          138.11\n",
      "      -> Generator 80 epoch is saved  to: E:/An toàn thông tin/Code/Saved Model/GANModel/KNN/U2R_AND_R2L/Generator/3/80epoch_time_created_2023-11-29.pth\n",
      "        81           -8.65           -0.38           85.14            0.00          137.49\n",
      "        82           -8.66           -0.37           85.14            0.00          137.58\n",
      "        83           -8.63           -0.37           85.14            0.00          137.79\n",
      "        84           -8.62           -0.36           85.14            0.00          143.96\n",
      "        85           -8.62           -0.36           85.14            0.00          144.40\n",
      "        86           -8.67           -0.38           85.14            0.00          144.20\n",
      "        87           -8.63           -0.39           85.14            0.00          146.64\n",
      "        88           -8.65           -0.34           85.14            0.00          144.69\n",
      "        89           -8.63           -0.37           85.14            0.00          149.51\n",
      "        90           -8.62           -0.38           85.14            0.00          144.09\n",
      "      -> Generator 90 epoch is saved  to: E:/An toàn thông tin/Code/Saved Model/GANModel/KNN/U2R_AND_R2L/Generator/3/90epoch_time_created_2023-11-29.pth\n",
      "        91           -8.62           -0.36           85.14            0.00          146.27\n",
      "        92           -8.65           -0.38           85.14            0.00          145.39\n",
      "        93           -8.63           -0.37           85.14            0.00          147.30\n",
      "        94           -8.64           -0.38           85.14            0.00          150.77\n",
      "        95           -8.64           -0.36           85.14            0.00          151.49\n",
      "        96           -8.66           -0.35           85.14            0.00          148.72\n",
      "        97           -8.65           -0.38           85.14            0.00          153.48\n",
      "        98           -8.65           -0.39           85.14            0.00          150.71\n",
      "        99           -8.66           -0.35           85.14            0.00          147.87\n",
      "       100           -8.67           -0.36           85.14            0.00          139.30\n",
      "      -> Generator 100 epoch is saved  to: E:/An toàn thông tin/Code/Saved Model/GANModel/KNN/U2R_AND_R2L/Generator/3/100epoch_time_created_2023-11-29.pth\n",
      "Training Runtime: 14297.57\n",
      "IDSGAN finish training!\n"
     ]
    },
    {
     "data": {
      "image/png": "[encoded data removed]",
      "text/plain": [
       "<Figure size 640x480 with 1 Axes>"
      ]
     },
     "metadata": {},
     "output_type": "display_data"
    },
    {
     "data": {
      "image/png": "[encoded data removed]",
      "text/plain": [
       "<Figure size 640x480 with 1 Axes>"
      ]
     },
     "metadata": {},
     "output_type": "display_data"
    },
    {
     "name": "stdout",
     "output_type": "stream",
     "text": [
      "      -> Saved Discrimninator 100 epoch to: E:/An toàn thông tin/Code/Saved Model/GANModel/KNN/U2R_AND_R2L/Discriminator/3/101epoch_time_created_2023-11-29.pth\n"
     ]
    }
   ],
   "source": [
    "print(f\"{40*'='} TRAINING GAN {40*'='}\")\n",
    "print(f\"{80*'='}\\n IDS Model: {ids_model_name}\")\n",
    "# for attack_category in ATTACK_CATEGORIES:\n",
    "for adversarial_attack_type in [3]:\n",
    "    print(f\"{80*'*'}\\n Adversarial Attack Type : {adversarial_attack_type}\")\n",
    "    for attack_category in ATTACK_CATEGORIES:\n",
    "        print(f\"{80*'-'}\\n Attack Category: {attack_category}\")\n",
    "        total_time_start = timeit.default_timer()\n",
    "\n",
    "        # Load sklearn IDS Model\n",
    "        ids_model = load_sklearn_ids_model(ids_model_name, attack_category, ids_created_date)\n",
    "        # Init GAN-G model\n",
    "        G_OUTPUT_DIM = len(POS_NONFUNCTIONAL_FEATURES[attack_category])     # Generator output is number of nonfunctional feature\n",
    "        generator = init_generator(G_INPUT_DIM,G_OUTPUT_DIM, adversarial_attack_type)\n",
    "        optimizer_G = optim.RMSprop(generator.parameters(), lr=learning_rate)\n",
    "        # Load Raw Attack Dataset\n",
    "        raw_attack = preprocess_malicious_data(g_train_data, attack_category)\n",
    "        # Prepare Save Folder\n",
    "        GAN_4IDS_Model_Path = str(f\"{GAN_Model_Path}{ids_model_name}/\")\n",
    "        if not os.path.exists(GAN_4IDS_Model_Path):\n",
    "                os.makedirs(GAN_4IDS_Model_Path)\n",
    "        GAN_G_Model_4Category_Path = str(f\"{GAN_4IDS_Model_Path}{attack_category}/Generator/{adversarial_attack_type}/\")\n",
    "        GAN_D_Model_4Category_Path = str(f\"{GAN_4IDS_Model_Path}{attack_category}/Discriminator/{adversarial_attack_type}/\")\n",
    "        for directory in [GAN_G_Model_4Category_Path, GAN_D_Model_4Category_Path]:\n",
    "            if not os.path.exists(directory):\n",
    "                os.makedirs(directory)\n",
    "\n",
    "        # Create batch of attack traffic\n",
    "        batch_attack = create_batch2(raw_attack,BATCH_SIZE)\n",
    "        # Declare Loss, DR List and Train GAN-G, GAN-D\n",
    "        d_losses,g_losses = [],[]\n",
    "        o_dr, a_dr = [],[]\n",
    "        generator.train()\n",
    "        discriminator.train()\n",
    "\n",
    "        # Start Training\n",
    "        print(f\"-->IDSGAN start training\")\n",
    "        labels = ['Epoch', 'G-Loss', 'D-Loss', 'O-DR(%)', 'A-DR(%)', 'Runtime(s)']\n",
    "        print(\"{: >10} {: >15} {: >15} {: >15} {: >15} {: >15}\".format(*labels))\n",
    "        for epoch in range(MAX_EPOCH):\n",
    "            batch_normal = create_batch2(normal,BATCH_SIZE)\n",
    "            epoch_time_start = timeit.default_timer()\n",
    "            cnt = 0\n",
    "            run_g_loss = 0.\n",
    "            run_d_loss = 0.\n",
    "            epoch_o_drs, epoch_a_drs = [], []\n",
    "\n",
    "            for idx, bn in enumerate(batch_normal):\n",
    "                normal_b = th.Tensor(bn.astype(\"float64\"))\n",
    "                attack_traffic  = V(th.Tensor(batch_attack[idx % len(batch_attack)]))\n",
    "                #  Train Generator\n",
    "                g_loss = train_generator(generator, discriminator, optimizer_G, NOISE_DIM, attack_traffic, attack_category, adversarial_attack_type)\n",
    "                run_g_loss += g_loss.item()\n",
    "\n",
    "                # Train Discriminator\n",
    "                d_loss, current_cnt = train_discriminator(discriminator, ids_model, generator, CRITIC_ITERS, CLAMP, optimizer_D, normal_b, NOISE_DIM, attack_traffic, attack_category, adversarial_attack_type)\n",
    "                run_d_loss += d_loss\n",
    "                cnt += current_cnt\n",
    "                \n",
    "                # CALC Epoch DR\n",
    "                adversarial_attack = gen_adversarial_attack(generator, NOISE_DIM, attack_traffic, attack_category, adversarial_attack_type).detach()\n",
    "                origin_dr, adversarial_dr = cal_dr(ids_model, normal_b, attack_traffic, adversarial_attack)\n",
    "                epoch_o_drs.append(origin_dr)\n",
    "                epoch_a_drs.append(adversarial_dr)\n",
    "\n",
    "            if cnt >= (len(normal)/BATCH_SIZE):\n",
    "                print(\"Not exist predicted attack traffic\")\n",
    "                break\n",
    "            d_losses.append(run_d_loss/CRITIC_ITERS)\n",
    "            g_losses.append(run_g_loss)\n",
    "            epoch_o_dr = np.mean(epoch_o_drs)\n",
    "            epoch_a_dr = np.mean(epoch_a_drs)\n",
    "            o_dr.append(epoch_o_dr)\n",
    "            a_dr.append(epoch_a_dr)\n",
    "            \n",
    "            runtime = timeit.default_timer() - epoch_time_start\n",
    "            print_vals = [(epoch + 1), run_g_loss, (run_d_loss/CRITIC_ITERS), (epoch_o_dr*100), (epoch_a_dr*100), runtime]\n",
    "            print_string = []\n",
    "            for val in print_vals:\n",
    "                if isinstance(val, float):\n",
    "                    print_string.append(str(f\"{val:.2f}\"))\n",
    "                else:\n",
    "                    print_string.append(str(val))\n",
    "            print(\"{: >10} {: >15} {: >15} {: >15} {: >15} {: >15}\".format(*print_string))\n",
    "            # Save Adversarial Dataset each 10 epoch\n",
    "            if ((epoch + 1) % 10 == 0):\n",
    "                path = GAN_G_Model_4Category_Path + f\"{epoch + 1}epoch_time_created_{today}.pth\"\n",
    "                th.save(generator.state_dict(), path)\n",
    "                print(f\"{6*' '}-> Generator {epoch + 1} epoch is saved  to: {path}\")\n",
    "        total_runtime = timeit.default_timer() - total_time_start\n",
    "        print(f\"Training Runtime: {total_runtime:.2f}\")\n",
    "        print(\"IDSGAN finish training!\")\n",
    "        \n",
    "        # Show Graph\n",
    "        # Loss-Graph\n",
    "        plt.plot(d_losses,label = \"D_loss\")\n",
    "        plt.plot(g_losses, label = \"G_loss\")\n",
    "        plt.legend()\n",
    "        plt.show()\n",
    "        # DR-Graph\n",
    "        plt.plot(o_dr,label = \"Origin DR\")\n",
    "        plt.plot(a_dr, label = \"Adversarial DR\")\n",
    "        plt.legend()\n",
    "        plt.show()\n",
    "\n",
    "        # Save Model\n",
    "        path = GAN_D_Model_4Category_Path + f\"{MAX_EPOCH + 1}epoch_time_created_{today}.pth\"\n",
    "        th.save(discriminator.state_dict(), path)\n",
    "        print(f\"{6*' '}-> Saved Discrimninator {MAX_EPOCH} epoch to: {path}\")"
   ]
  },
  {
   "cell_type": "markdown",
   "metadata": {
    "colab_type": "text",
    "id": "jQNXCNMEx1bn"
   },
   "source": [
    "## **3.2 Run Generate Adversarial Traffic**"
   ]
  },
  {
   "cell_type": "code",
   "execution_count": 16,
   "metadata": {
    "colab": {},
    "colab_type": "code",
    "executionInfo": {
     "elapsed": 8489,
     "status": "ok",
     "timestamp": 1594499251970,
     "user": {
      "displayName": "Machine Ubuntu",
      "photoUrl": "",
      "userId": "14037080372597024989"
     },
     "user_tz": -420
    },
    "id": "I0w_F6zKcgrF"
   },
   "outputs": [],
   "source": [
    "# Hyber Parameters\n",
    "BATCH_SIZE = 256 # Batch size\n",
    "\n",
    "# GAN-G\n",
    "NOISE_DIM = 9\n",
    "G_INPUT_DIM = NOISE_DIM     # Generator input dimension is dimention of noise"
   ]
  },
  {
   "cell_type": "code",
   "execution_count": 17,
   "metadata": {
    "colab": {
     "base_uri": "https://localhost:8080/",
     "height": 51
    },
    "colab_type": "code",
    "executionInfo": {
     "elapsed": 10796,
     "status": "ok",
     "timestamp": 1594499254310,
     "user": {
      "displayName": "Machine Ubuntu",
      "photoUrl": "",
      "userId": "14037080372597024989"
     },
     "user_tz": -420
    },
    "id": "HPx41fPd6CiW",
    "outputId": "eef72d70-ecf9-46f7-83a9-38682974998a"
   },
   "outputs": [
    {
     "name": "stdout",
     "output_type": "stream",
     "text": [
      "Amount of KDDTest+: \t\t20123\n",
      "Amount of Normal:\t\t9711 (37 batchs - 256 records/batch)\n"
     ]
    }
   ],
   "source": [
    "gan_model_time_created = str(date.today())\n",
    "\n",
    "# Load Testset\n",
    "testset = pd.read_csv(testset_path)\n",
    "print(f\"Amount of KDDTest+: \\t\\t{len(testset)}\")\n",
    "# test_normal\n",
    "test_normal = np.array(testset[testset[\"class\"] == 'Normal'])[:,:-1]\n",
    "# Create batch of normal traffic\n",
    "test_batch_normal = create_batch2(test_normal,BATCH_SIZE).astype('float64')\n",
    "print(f\"Amount of Normal:\\t\\t{len(test_normal)} ({len(test_batch_normal)} batchs - {BATCH_SIZE} records/batch)\")"
   ]
  },
  {
   "cell_type": "code",
   "execution_count": 18,
   "metadata": {
    "colab": {
     "base_uri": "https://localhost:8080/",
     "height": 629
    },
    "colab_type": "code",
    "executionInfo": {
     "elapsed": 336028,
     "status": "error",
     "timestamp": 1594499934585,
     "user": {
      "displayName": "Machine Ubuntu",
      "photoUrl": "",
      "userId": "14037080372597024989"
     },
     "user_tz": -420
    },
    "id": "ZhPpd8MCx10u",
    "outputId": "5ba3462e-db85-4cd0-95bc-50e861ae830c"
   },
   "outputs": [
    {
     "name": "stdout",
     "output_type": "stream",
     "text": [
      "======================================== ADVERSARIAL TRAFFIC EVALUATING ========================================\n",
      "================================================================================\n",
      " IDS Model: KNN\n",
      "--------------------------------------------------------------------------------\n",
      " Adversarial Attack Type : 3\n",
      "*****\n",
      " - Attack Category: DOS\n",
      "Loaded Model From Disk: E:/An toàn thông tin/Code/Saved Model/IDSModel/DOS/Machine_Learning/created_date_2023-11-27_KNN.pkl\n",
      "    Amout of DOS:\t7460 (29 batchs - 256 records/batch)\n",
      "\t  10 epochs:\tOrigin DR : 79.81% \t Adversarial DR : 3.15% \t EIR : 96.06%\n",
      "\t  20 epochs:\tOrigin DR : 79.81% \t Adversarial DR : 2.70% \t EIR : 96.61%\n",
      "\t  30 epochs:\tOrigin DR : 79.81% \t Adversarial DR : 4.16% \t EIR : 94.79%\n",
      "\t  40 epochs:\tOrigin DR : 79.81% \t Adversarial DR : 2.73% \t EIR : 96.57%\n",
      "\t  50 epochs:\tOrigin DR : 79.81% \t Adversarial DR : 6.62% \t EIR : 91.71%\n",
      "\t  60 epochs:\tOrigin DR : 79.81% \t Adversarial DR : 7.06% \t EIR : 91.15%\n",
      "\t  70 epochs:\tOrigin DR : 79.81% \t Adversarial DR : 9.39% \t EIR : 88.24%\n",
      "\t  80 epochs:\tOrigin DR : 79.81% \t Adversarial DR : 4.11% \t EIR : 94.85%\n",
      "\t  90 epochs:\tOrigin DR : 79.81% \t Adversarial DR : 4.87% \t EIR : 93.90%\n",
      "\t 100 epochs:\tOrigin DR : 79.81% \t Adversarial DR : 10.27% \t EIR : 87.13%\n"
     ]
    }
   ],
   "source": [
    "# Adversarial Traffic Evaluating\n",
    "print(f\"{40*'='} ADVERSARIAL TRAFFIC EVALUATING {40*'='}\")\n",
    "print(f\"{80*'='}\\n IDS Model: {ids_model_name}\")\n",
    "\n",
    "# for attack_category in ATTACK_CATEGORIES:\n",
    "for attack_category in ['DOS']:\n",
    "    for adversarial_attack_type in [3]:\n",
    "        print(f\"{80*'-'}\\n Adversarial Attack Type : {adversarial_attack_type}\")\n",
    "        print(f\"{5*'*'}\\n - Attack Category: {attack_category}\")\n",
    "        \n",
    "        # Load sklearn IDS Model\n",
    "        ids_model = load_sklearn_ids_model(ids_model_name, attack_category, ids_created_date)\n",
    "        # Init GAN-G model\n",
    "        G_OUTPUT_DIM = len(POS_NONFUNCTIONAL_FEATURES[attack_category])     # Generator output is number of nonfunctional feature\n",
    "        generator = init_generator(G_INPUT_DIM,G_OUTPUT_DIM, adversarial_attack_type)\n",
    "        # Load Attack Dataset\n",
    "        test_raw_attack = preprocess_malicious_data(testset, attack_category)\n",
    "        # Create batch of attack traffic\n",
    "        batch_attack = create_batch2(test_raw_attack, BATCH_SIZE)\n",
    "        n_batch_attack = len(batch_attack)\n",
    "        print(f\"{4*' '}Amout of {attack_category}:\\t{len(test_raw_attack)} ({n_batch_attack} batchs - {BATCH_SIZE} records/batch)\")\n",
    "        \n",
    "        # Calc DR through each epoch\n",
    "        for epoch in range(10, MAX_EPOCH + 1, 10):\n",
    "            # Load GAN-G Model\n",
    "            gan_g_model_path = str(f\"{GAN_Model_Path}{ids_model_name}/{attack_category}/Generator/{adversarial_attack_type}/{epoch}epoch_time_created_{gan_model_time_created}.pth\")\n",
    "            param = th.load(gan_g_model_path,map_location=lambda x,y:x)\n",
    "            generator.load_state_dict(param)\n",
    "            generator.eval()\n",
    "\n",
    "            o_dr,a_dr =[],[]\n",
    "            with th.no_grad():\n",
    "                for idx, bn in enumerate(test_batch_normal):\n",
    "                    normal_b = th.Tensor(bn)\n",
    "                    attack_b = th.Tensor(batch_attack[idx % n_batch_attack])\n",
    "                    # Generate Adversarial Traffic\n",
    "                    adversarial_attack_b = gen_adversarial_attack(generator, NOISE_DIM, attack_b, attack_category, adversarial_attack_type).detach()\n",
    "\n",
    "                    # Calc DR\n",
    "                    origin_dr, adversarial_dr = cal_dr(ids_model, normal_b, attack_b, adversarial_attack_b)\n",
    "                    o_dr.append(origin_dr)\n",
    "                    a_dr.append(adversarial_dr)\n",
    "            eir = 1 - (np.mean(a_dr)/np.mean(o_dr))\n",
    "            print(f\"\\t {epoch:3d} epochs:\\tOrigin DR : {np.mean(o_dr)*100:.2f}% \\t Adversarial DR : {np.mean(a_dr)*100:.2f}% \\t EIR : {eir*100:.2f}%\")"
   ]
  },
  {
   "cell_type": "markdown",
   "metadata": {
    "colab_type": "text",
    "id": "mwWugTozppL5"
   },
   "source": [
    "The Saved Model stored in [Google Drive - GAN Model](https://drive.google.com/drive/u/1/folders/1VNFW-k5SbR0eGsJ_np3U-W3Rcz_n4I8N)\n",
    "\n",
    "The Result of Code stored in [Github - Thesis](https://github.com/thetinybug/thesis-IDSGAN)"
   ]
  }
 ],
 "metadata": {
  "colab": {
   "collapsed_sections": [],
   "name": "2. GAN and Gen/Machine_Learning_IDS/KNNCluster/KNN - DOS - A3.ipynb",
   "provenance": [
    {
     "file_id": "1__oEcuLAwPtIYf5J9l75rsRQ1RPYE56v",
     "timestamp": 1593183432956
    },
    {
     "file_id": "1mkhrbHfNqYSDxkiyP7BsFofEaWEWP5fM",
     "timestamp": 1592983611776
    }
   ],
   "toc_visible": true
  },
  "kernelspec": {
   "display_name": "Python 3 (ipykernel)",
   "language": "python",
   "name": "python3"
  },
  "language_info": {
   "codemirror_mode": {
    "name": "ipython",
    "version": 3
   },
   "file_extension": ".py",
   "mimetype": "text/x-python",
   "name": "python",
   "nbconvert_exporter": "python",
   "pygments_lexer": "ipython3",
   "version": "3.11.4"
  }
 },
 "nbformat": 4,
 "nbformat_minor": 4
}
