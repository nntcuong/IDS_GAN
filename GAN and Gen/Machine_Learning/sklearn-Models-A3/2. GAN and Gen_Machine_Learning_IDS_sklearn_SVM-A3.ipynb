{
 "cells": [
  {
   "cell_type": "markdown",
   "metadata": {
    "colab_type": "text",
    "id": "m27n3nFSTSv2"
   },
   "source": [
    "#**0. Thư viện**"
   ]
  },
  {
   "cell_type": "markdown",
   "metadata": {
    "colab_type": "text",
    "id": "08Q42YHGbvLT"
   },
   "source": [
    "##Cài đặt "
   ]
  },
  {
   "cell_type": "code",
   "execution_count": 3,
   "metadata": {
    "colab": {
     "base_uri": "https://localhost:8080/",
     "height": 136
    },
    "colab_type": "code",
    "executionInfo": {
     "elapsed": 6531,
     "status": "ok",
     "timestamp": 1594492047809,
     "user": {
      "displayName": "Tien LE KHAC",
      "photoUrl": "https://lh3.googleusercontent.com/a-/AOh14GhATILfEwLuvrRlBGPMrmY7nclZNsxGKzoqqHB_Cg=s64",
      "userId": "18298916241916904857"
     },
     "user_tz": -420
    },
    "id": "u7ZZvZaAbM1J",
    "outputId": "a1ae00df-19b3-401f-9706-d6e548c17824"
   },
   "outputs": [
    {
     "name": "stdout",
     "output_type": "stream",
     "text": [
      "Collecting adabound\n",
      "  Downloading https://files.pythonhosted.org/packages/cd/44/0c2c414effb3d9750d780b230dbb67ea48ddc5d9a6d7a9b7e6fcc6bdcff9/adabound-0.0.5-py3-none-any.whl\n",
      "Requirement already satisfied: torch>=0.4.0 in /usr/local/lib/python3.6/dist-packages (from adabound) (1.5.1+cu101)\n",
      "Requirement already satisfied: numpy in /usr/local/lib/python3.6/dist-packages (from torch>=0.4.0->adabound) (1.18.5)\n",
      "Requirement already satisfied: future in /usr/local/lib/python3.6/dist-packages (from torch>=0.4.0->adabound) (0.16.0)\n",
      "Installing collected packages: adabound\n",
      "Successfully installed adabound-0.0.5\n"
     ]
    }
   ],
   "source": [
    "!pip3 install adabound\n",
    "# !pip3 numpy torc sklearn matplotlib pandas"
   ]
  },
  {
   "cell_type": "code",
   "execution_count": 1,
   "metadata": {},
   "outputs": [],
   "source": [
    "%run models.py"
   ]
  },
  {
   "cell_type": "code",
   "execution_count": 2,
   "metadata": {},
   "outputs": [],
   "source": [
    "%run constants.py"
   ]
  },
  {
   "cell_type": "markdown",
   "metadata": {
    "colab_type": "text",
    "id": "mt5O3Y-fb5Du"
   },
   "source": [
    "##Import"
   ]
  },
  {
   "cell_type": "code",
   "execution_count": 4,
   "metadata": {
    "colab": {
     "base_uri": "https://localhost:8080/",
     "height": 34
    },
    "colab_type": "code",
    "executionInfo": {
     "elapsed": 12082,
     "status": "ok",
     "timestamp": 1594492053427,
     "user": {
      "displayName": "Tien LE KHAC",
      "photoUrl": "https://lh3.googleusercontent.com/a-/AOh14GhATILfEwLuvrRlBGPMrmY7nclZNsxGKzoqqHB_Cg=s64",
      "userId": "18298916241916904857"
     },
     "user_tz": -420
    },
    "id": "YIQ708lZS2lF",
    "outputId": "03454ebe-a903-4dee-f9cc-35665aa4a874"
   },
   "outputs": [],
   "source": [
    "import numpy as np\n",
    "import pandas as pd\n",
    "import torch as th\n",
    "from torch.autograd import Variable as V\n",
    "import torch.autograd as autograd\n",
    "import torch.nn as nn\n",
    "import torch.nn.functional as F\n",
    "import torch.optim as optim\n",
    "from sklearn.utils import shuffle\n",
    "from sklearn.metrics import confusion_matrix\n",
    "import pickle\n",
    "\n",
    "\n",
    "# Own Custom Module to import models and constants\n",
    "from models import *\n",
    "from constants import *\n",
    "\n",
    "import matplotlib.pyplot as plt\n",
    "import adabound \n",
    "import math\n",
    "import os\n",
    "from datetime import date\n",
    "import timeit"
   ]
  },
  {
   "cell_type": "markdown",
   "metadata": {
    "colab_type": "text",
    "id": "DZkqASdBS-QA"
   },
   "source": [
    "#**1. Chuẩn bị**"
   ]
  },
  {
   "cell_type": "markdown",
   "metadata": {
    "colab_type": "text",
    "id": "3rFWSSBQF99E"
   },
   "source": [
    "##Paths"
   ]
  },
  {
   "cell_type": "code",
   "execution_count": 5,
   "metadata": {
    "colab": {},
    "colab_type": "code",
    "executionInfo": {
     "elapsed": 12056,
     "status": "ok",
     "timestamp": 1594492053430,
     "user": {
      "displayName": "Tien LE KHAC",
      "photoUrl": "https://lh3.googleusercontent.com/a-/AOh14GhATILfEwLuvrRlBGPMrmY7nclZNsxGKzoqqHB_Cg=s64",
      "userId": "18298916241916904857"
     },
     "user_tz": -420
    },
    "id": "uW-RHzMwdsG5"
   },
   "outputs": [],
   "source": [
    "\n",
    "\n",
    "\n",
    "base_path = \"E:/An toàn thông tin/Code/\"\n",
    "Dataset_Path = \"E:/An toàn thông tin/Code/Dataset/NSL-KDD Processed/Final - For Using/\"\n",
    "SavedModelPath = base_path + \"Saved Model/\"\n",
    "\n",
    "# Dataset Path\n",
    "Trainsets_Path = Dataset_Path + \"Trainset/\"\n",
    "g_trainset_path = Trainsets_Path + \"GAN-G.csv\"\n",
    "d_trainset_path = Trainsets_Path + \"GAN-D.csv\"\n",
    "testset_path = Dataset_Path + \"Testset/\" + \"KDDTest+.csv\"\n",
    "\n",
    "# GAN Saved Models Paths\n",
    "GAN_Model_Path = SavedModelPath + \"GANModel/\"\n",
    "\n",
    "# IDS Pytorch Saved Models Paths\n",
    "IDS_Saved_Path = SavedModelPath + \"IDSModel/\""
   ]
  },
  {
   "cell_type": "markdown",
   "metadata": {
    "colab_type": "text",
    "id": "XwTYqTdfF-wS"
   },
   "source": [
    "##Global Variables"
   ]
  },
  {
   "cell_type": "code",
   "execution_count": 6,
   "metadata": {
    "colab": {},
    "colab_type": "code",
    "executionInfo": {
     "elapsed": 12032,
     "status": "ok",
     "timestamp": 1594492053432,
     "user": {
      "displayName": "Tien LE KHAC",
      "photoUrl": "https://lh3.googleusercontent.com/a-/AOh14GhATILfEwLuvrRlBGPMrmY7nclZNsxGKzoqqHB_Cg=s64",
      "userId": "18298916241916904857"
     },
     "user_tz": -420
    },
    "id": "8rBB0NLwGAce"
   },
   "outputs": [],
   "source": [
    "# Global Variables\n",
    "N_FEATURES = 41\n",
    "# IDS\n",
    "IDS_INPUT_DIM = N_FEATURES\n",
    "IDS_OUTPUT_DIM = 2\n",
    "ATTACK_CATEGORIES = ['DOS', 'U2R_AND_R2L']\n",
    "\n",
    "POS_FUNCTIONAL_FEATURES = {'DOS': DOS_FEATURES, 'U2R_AND_R2L': U2R_AND_R2L_FEATURES}\n",
    "POS_NONFUNCTIONAL_FEATURES = {}\n",
    "for attack_category, pos_functional_feature in POS_FUNCTIONAL_FEATURES.items():\n",
    "    pos_nonfunctional_feature = []\n",
    "    for i in range(N_FEATURES):\n",
    "        if i not in pos_functional_feature:\n",
    "            pos_nonfunctional_feature.append(i)\n",
    "    POS_NONFUNCTIONAL_FEATURES[attack_category] = pos_nonfunctional_feature\n",
    "\n",
    "IDS_MODELS = {'GaussianNB', 'MultinomialNB', 'ComplementNB', 'BernoulliNB', 'DT', 'RF', 'KNN'}"
   ]
  },
  {
   "cell_type": "code",
   "execution_count": 7,
   "metadata": {
    "colab": {
     "base_uri": "https://localhost:8080/",
     "height": 105
    },
    "colab_type": "code",
    "executionInfo": {
     "elapsed": 12003,
     "status": "ok",
     "timestamp": 1594492053433,
     "user": {
      "displayName": "Tien LE KHAC",
      "photoUrl": "https://lh3.googleusercontent.com/a-/AOh14GhATILfEwLuvrRlBGPMrmY7nclZNsxGKzoqqHB_Cg=s64",
      "userId": "18298916241916904857"
     },
     "user_tz": -420
    },
    "id": "hlE7gDk07ybi",
    "outputId": "4a980386-0cb4-4d5b-b0f4-f35a173f76d5"
   },
   "outputs": [
    {
     "name": "stdout",
     "output_type": "stream",
     "text": [
      "Position of Functional Features\n",
      "   {'DOS': [0, 1, 2, 3, 4, 5, 6, 7, 8, 23, 24, 25, 26, 27, 28, 29, 30], 'U2R_AND_R2L': [0, 1, 2, 3, 4, 5, 6, 7, 8, 9, 10, 11, 12, 13, 14, 15, 16, 17, 18, 19, 20, 21, 22]}\n",
      "Position of Functional Features:\n",
      "   {'DOS': [9, 10, 11, 12, 13, 14, 15, 16, 17, 18, 19, 20, 21, 22, 31, 32, 33, 34, 35, 36, 37, 38, 39, 40], 'U2R_AND_R2L': [23, 24, 25, 26, 27, 28, 29, 30, 31, 32, 33, 34, 35, 36, 37, 38, 39, 40]}\n"
     ]
    }
   ],
   "source": [
    "print('Position of Functional Features\\n  ', POS_FUNCTIONAL_FEATURES)\n",
    "print('Position of Functional Features:\\n  ', POS_NONFUNCTIONAL_FEATURES)"
   ]
  },
  {
   "cell_type": "markdown",
   "metadata": {
    "colab_type": "text",
    "id": "otbVJEAzcTv4"
   },
   "source": [
    "# **2. Định nghĩa Model**"
   ]
  },
  {
   "cell_type": "markdown",
   "metadata": {
    "colab_type": "text",
    "id": "FVn0MzP1HW_0"
   },
   "source": [
    "##Models"
   ]
  },
  {
   "cell_type": "code",
   "execution_count": 8,
   "metadata": {
    "colab": {},
    "colab_type": "code",
    "executionInfo": {
     "elapsed": 11974,
     "status": "ok",
     "timestamp": 1594492053435,
     "user": {
      "displayName": "Tien LE KHAC",
      "photoUrl": "https://lh3.googleusercontent.com/a-/AOh14GhATILfEwLuvrRlBGPMrmY7nclZNsxGKzoqqHB_Cg=s64",
      "userId": "18298916241916904857"
     },
     "user_tz": -420
    },
    "id": "sqogk9lIw_Uk"
   },
   "outputs": [],
   "source": [
    "# Load from model.py module"
   ]
  },
  {
   "cell_type": "markdown",
   "metadata": {
    "colab_type": "text",
    "id": "MdPRWEuxBAcd"
   },
   "source": [
    "##Functions"
   ]
  },
  {
   "cell_type": "markdown",
   "metadata": {
    "colab_type": "text",
    "id": "TcJBwwXf924F"
   },
   "source": [
    "### Processing Data Functions"
   ]
  },
  {
   "cell_type": "code",
   "execution_count": 9,
   "metadata": {
    "colab": {},
    "colab_type": "code",
    "executionInfo": {
     "elapsed": 11964,
     "status": "ok",
     "timestamp": 1594492053436,
     "user": {
      "displayName": "Tien LE KHAC",
      "photoUrl": "https://lh3.googleusercontent.com/a-/AOh14GhATILfEwLuvrRlBGPMrmY7nclZNsxGKzoqqHB_Cg=s64",
      "userId": "18298916241916904857"
     },
     "user_tz": -420
    },
    "id": "r81eRs5hx8Lf"
   },
   "outputs": [],
   "source": [
    "# Processing Data Functions\n",
    "# create_batch2 - Hàm tạo Batch\n",
    "def create_batch2(x,batch_size):\n",
    "    a = list(range(len(x)))\n",
    "    np.random.shuffle(a)\n",
    "    x = x[a]\n",
    "    batch_x = [x[batch_size * i : (i+1)*batch_size,:] for i in range(len(x)//batch_size)]\n",
    "    return np.array(batch_x)\n",
    "# preprocess_malicious_data - Hàm tiền xử lý dữ liệu tấn công\n",
    "def preprocess_malicious_data(dataset, attack_category):\n",
    "    if attack_category != 'DOS' and attack_category != 'U2R_AND_R2L':\n",
    "      raise ValueError(\"Preprocess Data Fail: Invalid Attack Category\")\n",
    "    attack_data = dataset[dataset['class'] == attack_category]\n",
    "    del attack_data[\"class\"]\n",
    "    return np.array(attack_data)"
   ]
  },
  {
   "cell_type": "markdown",
   "metadata": {
    "colab_type": "text",
    "id": "fM7pjZa999Ht"
   },
   "source": [
    "### IDS Functions"
   ]
  },
  {
   "cell_type": "code",
   "execution_count": 10,
   "metadata": {
    "colab": {},
    "colab_type": "code",
    "executionInfo": {
     "elapsed": 853,
     "status": "ok",
     "timestamp": 1594492176881,
     "user": {
      "displayName": "Tien LE KHAC",
      "photoUrl": "https://lh3.googleusercontent.com/a-/AOh14GhATILfEwLuvrRlBGPMrmY7nclZNsxGKzoqqHB_Cg=s64",
      "userId": "18298916241916904857"
     },
     "user_tz": -420
    },
    "id": "Ukp0y2LiyGmy"
   },
   "outputs": [],
   "source": [
    "# IDS Functions\n",
    "# get_sklearn_ids_path - Get path for sklearn IDS Models\n",
    "def get_sklearn_ids_path(model_name, attack_category, created_date):\n",
    "    if attack_category != 'DOS' and attack_category != 'U2R_AND_R2L':\n",
    "        raise ValueError(\"Preprocess Data Fail: Invalid Attack Category\")\n",
    "    ids_path = str(f\"{IDS_Saved_Path}{attack_category}/Machine_Learning/created_date_{created_date}_{model_name}.pkl\")\n",
    "    if not os.path.exists(ids_path):\n",
    "        raise ValueError(f\"Invalid path: {ids_path}\\nNot exist file!\")\n",
    "    return ids_path\n",
    "# load_pytorch_ids_model - Load PyTorch IDS Models\n",
    "def load_sklearn_ids_model(model_name, attack_category, created_date):\n",
    "    ids_model_path = get_sklearn_ids_path(model_name, attack_category, created_date)\n",
    "    with open(ids_model_path, 'rb') as file:\n",
    "        pickle_model = pickle.load(file)\n",
    "        print(f\"{4*' '}Loaded Model From Disk: {ids_model_path}\")\n",
    "    return pickle_model"
   ]
  },
  {
   "cell_type": "markdown",
   "metadata": {
    "colab_type": "text",
    "id": "J9Q5DryD-Dl0"
   },
   "source": [
    "### GAN Functions"
   ]
  },
  {
   "cell_type": "code",
   "execution_count": 11,
   "metadata": {
    "colab": {},
    "colab_type": "code",
    "executionInfo": {
     "elapsed": 11941,
     "status": "ok",
     "timestamp": 1594492053439,
     "user": {
      "displayName": "Tien LE KHAC",
      "photoUrl": "https://lh3.googleusercontent.com/a-/AOh14GhATILfEwLuvrRlBGPMrmY7nclZNsxGKzoqqHB_Cg=s64",
      "userId": "18298916241916904857"
     },
     "user_tz": -420
    },
    "id": "tV5MHCxUA-8G"
   },
   "outputs": [],
   "source": [
    "# GAN Functions\n",
    "# init_generator - Khoi tao model GAN-G\n",
    "def init_generator(input_dim, output_dim, adversarial_attack_type = 1):\n",
    "    if adversarial_attack_type == 1:\n",
    "        generator = Generator_A1(input_dim, output_dim)\n",
    "    elif adversarial_attack_type == 2:\n",
    "        generator = Generator_A2(input_dim, output_dim)\n",
    "    elif adversarial_attack_type == 3:\n",
    "        '''\n",
    "            adversarial_attack_type 3: G-input is nonfunctional feature, G-out is adversarial nonfuncitonal feature.\n",
    "            --> input_dim = output_dim = len(nonfunctional_features)\n",
    "        ''' \n",
    "        generator = Generator_A2(output_dim, output_dim)\n",
    "    else:\n",
    "        raise ValueError(\"Init GAN - Generator: Invalid Adversarial Attack Type\")\n",
    "    return generator\n",
    "\n",
    "# gen_adversarial_attack - Tao luu luong tan cong doi khang\n",
    "def gen_adversarial_attack(generator, noise_dim, raw_attack, attack_category, adversarial_attack_type = 1):\n",
    "    if adversarial_attack_type == 1:\n",
    "        adversarial_attack = generator(noise_dim, raw_attack, attack_category, POS_NONFUNCTIONAL_FEATURES)\n",
    "    elif adversarial_attack_type == 2:\n",
    "        batch_size = len(raw_attack)\n",
    "        noise = V(th.Tensor(np.random.uniform(0,1,(batch_size, noise_dim))))\n",
    "        generator_out = generator(noise)\n",
    "        adversarial_attack = gen_adversarial_attack_a2(generator_out, raw_attack, attack_category, POS_NONFUNCTIONAL_FEATURES)\n",
    "    elif  adversarial_attack_type == 3:\n",
    "        pos_nonfunctional_feature = POS_NONFUNCTIONAL_FEATURES[attack_category]\n",
    "        # get nonfunctional features val\n",
    "        nonfunctional_feature = raw_attack[:, pos_nonfunctional_feature]\n",
    "        generator_out = generator(nonfunctional_feature)\n",
    "        adversarial_attack = gen_adversarial_attack_a2(generator_out, raw_attack, attack_category, POS_NONFUNCTIONAL_FEATURES)\n",
    "    else:\n",
    "        raise ValueError(\"Init GAN - Generator: Invalid Adversarial Attack Type\")\n",
    "    return adversarial_attack\n",
    "\n",
    "# train_generator - Train Generator\n",
    "def train_generator(generator, discriminator, optimizer_G, noise_dim, attack_traffic, attack_category, adversarial_attack_type):\n",
    "    for p in discriminator.parameters():  \n",
    "        p.requires_grad = False\n",
    "    optimizer_G.zero_grad()        \n",
    "    # GAN-G Generate Adversarial Attack\n",
    "    adversarial_attack = gen_adversarial_attack(generator, noise_dim, attack_traffic, attack_category, adversarial_attack_type)\n",
    "    # GAN-D predict, GAN-G update parameter\n",
    "    D_pred = discriminator(adversarial_attack)\n",
    "    g_loss = -th.mean(D_pred)\n",
    "    g_loss.backward()\n",
    "    optimizer_G.step()\n",
    "    return g_loss\n",
    "\n",
    "# train_discriminator - Train Discriminator\n",
    "def train_discriminator(discriminator, ids_model, generator, critic_iters, clamp, optimizer_D, normal_b, noise_dim, attack_traffic, attack_category, adversarial_attack_type):\n",
    "    run_d_loss = 0\n",
    "    cnt = 0\n",
    "    for p in discriminator.parameters(): \n",
    "        p.requires_grad = True\n",
    "    for c in range(critic_iters):\n",
    "        optimizer_D.zero_grad()\n",
    "        for p in discriminator.parameters():\n",
    "            p.data.clamp_(-clamp, clamp)\n",
    "        # GAN-G Generate Adversarial Attack\n",
    "        adversarial_attack = gen_adversarial_attack(generator, noise_dim, attack_traffic, attack_category, adversarial_attack_type)\n",
    "        # Make data to feed IDS\n",
    "        ids_input = th.cat((adversarial_attack,normal_b))\n",
    "        l = list(range(len(ids_input)))\n",
    "        np.random.shuffle(l)\n",
    "        ids_input = V(th.Tensor(ids_input[l]))\n",
    "        # IDS Predict\n",
    "        ids_pred_label = V(th.Tensor(ids_model.predict(ids_input)))\n",
    "        pred_normal = ids_input[ids_pred_label==0]\n",
    "        pred_attack = ids_input[ids_pred_label==1]\n",
    "        if len(pred_attack) == 0:\n",
    "            cnt += 1\n",
    "            break\n",
    "        # Make GAN-D input\n",
    "        D_noraml = discriminator(V(th.Tensor(pred_normal)))\n",
    "        D_attack= discriminator(V(th.Tensor(pred_attack)))\n",
    "        # Loss and Update Parameter\n",
    "        loss_normal = th.mean(D_noraml)\n",
    "        loss_attack = th.mean(D_attack)\n",
    "        gradient_penalty = compute_gradient_penalty(discriminator, normal_b.data, adversarial_attack.data)\n",
    "        d_loss = loss_attack - loss_normal #+ LAMBDA * gradient_penalty\n",
    "        d_loss.backward()\n",
    "        optimizer_D.step()\n",
    "        run_d_loss += d_loss.item()\n",
    "    return run_d_loss, cnt\n",
    "\n",
    "# compute_gradient_penalty - Compute Gradient Penalty\n",
    "def compute_gradient_penalty(D, normal_t, attack_t):\n",
    "    alpha = th.Tensor(np.random.random((normal_t.shape[0], 1)))\n",
    "    between_n_a = (alpha * normal_t + ((1 - alpha) * attack_t)).requires_grad_(True)\n",
    "    d_between_n_a = D(between_n_a)\n",
    "    adv = V(th.Tensor(normal_t.shape[0], 1).fill_(1.0), requires_grad=False)\n",
    "\n",
    "    gradients = autograd.grad(\n",
    "        outputs=d_between_n_a,\n",
    "        inputs=between_n_a,\n",
    "        grad_outputs=adv,\n",
    "        create_graph=True,\n",
    "        retain_graph=True,\n",
    "        only_inputs=True,\n",
    "    )[0]\n",
    "    gradients = gradients.view(gradients.size(0), -1)\n",
    "    gradient_penalty = ((gradients.norm(2, dim=1) - 1) ** 2).mean()\n",
    "    return gradient_penalty"
   ]
  },
  {
   "cell_type": "markdown",
   "metadata": {
    "colab_type": "text",
    "id": "jRhNLI_jSKIg"
   },
   "source": [
    "### Generate Adversarial Attack Functions"
   ]
  },
  {
   "cell_type": "code",
   "execution_count": 12,
   "metadata": {
    "colab": {},
    "colab_type": "code",
    "executionInfo": {
     "elapsed": 11927,
     "status": "ok",
     "timestamp": 1594492053441,
     "user": {
      "displayName": "Tien LE KHAC",
      "photoUrl": "https://lh3.googleusercontent.com/a-/AOh14GhATILfEwLuvrRlBGPMrmY7nclZNsxGKzoqqHB_Cg=s64",
      "userId": "18298916241916904857"
     },
     "user_tz": -420
    },
    "id": "RyrR7KLNSPtu"
   },
   "outputs": [],
   "source": [
    "# cal_dr - Tinh DR\n",
    "def cal_dr(ids_model, normal, raw_attack, adversarial_attack):\n",
    "    # Make data to feed IDS contain: Attack & Normal\n",
    "    o_ids_input = th.cat((raw_attack, normal))\n",
    "    a_ids_input = th.cat((adversarial_attack,normal))\n",
    "    # Shuffle Input\n",
    "    l = list(range(len(a_ids_input)))\n",
    "    np.random.shuffle(l)\n",
    "    o_ids_input = o_ids_input[l]\n",
    "    a_ids_input = a_ids_input[l]\n",
    "    # IDS Predict Label\n",
    "    o_pred_label = th.Tensor(ids_model.predict(o_ids_input))\n",
    "    a_pred_label = th.Tensor(ids_model.predict(a_ids_input))\n",
    "    # True Label\n",
    "    ids_true_label = np.r_[np.ones(BATCH_SIZE),np.zeros(BATCH_SIZE)][l]\n",
    "    # Calc DR\n",
    "    tn1, fn1, fp1, tp1 = confusion_matrix(ids_true_label,o_pred_label).ravel()\n",
    "    tn2, fn2, fp2, tp2 = confusion_matrix(ids_true_label,a_pred_label).ravel()\n",
    "    origin_dr = tp1/(tp1 + fp1)\n",
    "    adversarial_dr = tp2/(tp2 + fp2)\n",
    "    return origin_dr, adversarial_dr"
   ]
  },
  {
   "cell_type": "markdown",
   "metadata": {
    "colab_type": "text",
    "id": "nDp5Uy_HaShp"
   },
   "source": [
    "# **3. Run Model**"
   ]
  },
  {
   "cell_type": "code",
   "execution_count": 13,
   "metadata": {
    "cellView": "both",
    "colab": {},
    "colab_type": "code",
    "executionInfo": {
     "elapsed": 11911,
     "status": "ok",
     "timestamp": 1594492053442,
     "user": {
      "displayName": "Tien LE KHAC",
      "photoUrl": "https://lh3.googleusercontent.com/a-/AOh14GhATILfEwLuvrRlBGPMrmY7nclZNsxGKzoqqHB_Cg=s64",
      "userId": "18298916241916904857"
     },
     "user_tz": -420
    },
    "id": "7hTHJcBcRKjg"
   },
   "outputs": [],
   "source": [
    "ids_model_name = \"sklearn_SVM\" #@param ['GaussianNB', 'MultinomialNB', 'ComplementNB', 'BernoulliNB', 'DT', 'RF', 'KNN', 'LogicticRegression', 'sklearn_SVM']\n",
    "MAX_EPOCH = 100 #@param [\"10\", \"100\"] {type:\"raw\"}\n",
    "ids_created_date = '2023-11-24' "
   ]
  },
  {
   "cell_type": "markdown",
   "metadata": {
    "colab_type": "text",
    "id": "s8tEzhBNxvGM"
   },
   "source": [
    "##**3.1 Run IDSGAN**"
   ]
  },
  {
   "cell_type": "code",
   "execution_count": 17,
   "metadata": {
    "colab": {},
    "colab_type": "code",
    "executionInfo": {
     "elapsed": 122310,
     "status": "ok",
     "timestamp": 1594450792858,
     "user": {
      "displayName": "Tien LE KHAC",
      "photoUrl": "https://lh3.googleusercontent.com/a-/AOh14GhATILfEwLuvrRlBGPMrmY7nclZNsxGKzoqqHB_Cg=s64",
      "userId": "18298916241916904857"
     },
     "user_tz": -420
    },
    "id": "j01YlgClq7yq"
   },
   "outputs": [],
   "source": [
    "# Hyber Parameters\n",
    "BATCH_SIZE = 64\n",
    "learning_rate = 0.0001\n",
    "LAMBDA = 10\n",
    "CLAMP = 0.01\n",
    "CRITIC_ITERS = 5          # For WGAN and WGAN-GP, number of critic iters per gen iter\n",
    "\n",
    "# GAN-D\n",
    "D_INPUT_DIM = N_FEATURES\n",
    "D_OUTPUT_DIM = 1\n",
    "discriminator = Discriminator(D_INPUT_DIM,D_OUTPUT_DIM)\n",
    "optimizer_D = optim.RMSprop(discriminator.parameters(), lr=learning_rate)\n",
    "\n",
    "# GAN-G\n",
    "NOISE_DIM = 9\n",
    "G_INPUT_DIM = NOISE_DIM     # Generator input dimension is dimention of noise"
   ]
  },
  {
   "cell_type": "code",
   "execution_count": 18,
   "metadata": {
    "colab": {
     "base_uri": "https://localhost:8080/",
     "height": 51
    },
    "colab_type": "code",
    "executionInfo": {
     "elapsed": 124259,
     "status": "ok",
     "timestamp": 1594450794831,
     "user": {
      "displayName": "Tien LE KHAC",
      "photoUrl": "https://lh3.googleusercontent.com/a-/AOh14GhATILfEwLuvrRlBGPMrmY7nclZNsxGKzoqqHB_Cg=s64",
      "userId": "18298916241916904857"
     },
     "user_tz": -420
    },
    "id": "xG09yA2D9bzg",
    "outputId": "843d3954-ce39-42fa-bcdb-cb6a01d79787"
   },
   "outputs": [
    {
     "name": "stdout",
     "output_type": "stream",
     "text": [
      "Amout of Generator Trainset: 23488\n",
      "Amout of Discriminator Trainset: 33672\n"
     ]
    }
   ],
   "source": [
    "# Get today to set created time for GAN models\n",
    "today = str(date.today())\n",
    "\n",
    "## Prepare Dataset\n",
    "g_train_data = pd.read_csv(g_trainset_path)\n",
    "d_train_data = pd.read_csv(d_trainset_path)\n",
    "\n",
    "# All normal record in train_data\n",
    "del d_train_data[\"class\"]\n",
    "normal = np.array(d_train_data)\n",
    "\n",
    "print(\"Amout of Generator Trainset:\", g_train_data.shape[0])\n",
    "print(\"Amout of Discriminator Trainset:\", d_train_data.shape[0])"
   ]
  },
  {
   "cell_type": "code",
   "execution_count": 20,
   "metadata": {
    "colab": {
     "base_uri": "https://localhost:8080/",
     "height": 1000
    },
    "colab_type": "code",
    "executionInfo": {
     "elapsed": 10392372,
     "status": "ok",
     "timestamp": 1594461062962,
     "user": {
      "displayName": "Tien LE KHAC",
      "photoUrl": "https://lh3.googleusercontent.com/a-/AOh14GhATILfEwLuvrRlBGPMrmY7nclZNsxGKzoqqHB_Cg=s64",
      "userId": "18298916241916904857"
     },
     "user_tz": -420
    },
    "id": "m9C1uFo0vnv7",
    "outputId": "a0961dc6-1711-4afd-d43b-45475f94d60a"
   },
   "outputs": [
    {
     "name": "stdout",
     "output_type": "stream",
     "text": [
      "======================================== TRAINING GAN ========================================\n",
      "================================================================================\n",
      " IDS Model: sklearn_SVM\n",
      "********************************************************************************\n",
      " Adversarial Attack Type : 3\n",
      "--------------------------------------------------------------------------------\n",
      " Attack Category: DOS\n",
      "    Loaded Model From Disk: E:/An toàn thông tin/Code/Saved Model/IDSModel/DOS/Machine_Learning/created_date_2023-11-24_sklearn_SVM.pkl\n",
      "-->IDSGAN start training\n",
      "     Epoch          G-Loss          D-Loss         O-DR(%)         A-DR(%)      Runtime(s)\n",
      "         1           -5.41           -1.99           98.54           12.59          106.91\n",
      "         2           -6.96           -1.62           98.54            2.52          102.83\n",
      "         3           -6.01           -1.55           98.54            3.78          109.32\n",
      "         4           -5.96           -1.49           98.54            3.99          110.03\n",
      "         5           -6.11           -1.52           98.54            4.29          110.77\n",
      "         6           -6.47           -1.52           98.54            4.26          110.64\n",
      "         7           -6.60           -1.51           98.54            4.16          110.70\n",
      "         8           -6.78           -1.51           98.54            4.17          108.97\n",
      "         9           -6.67           -1.52           98.54            4.26          109.95\n",
      "        10           -6.75           -1.53           98.54            4.22          111.18\n",
      "      -> Generator 10 epoch is saved  to: E:/An toàn thông tin/Code/Saved Model/GANModel/sklearn_SVM/DOS/Generator/3/10epoch_time_created_2023-11-27.pth\n",
      "        11           -6.70           -1.47           98.54            3.93          111.75\n",
      "        12           -6.77           -1.53           98.54            4.23          113.93\n",
      "        13           -6.74           -1.52           98.54            4.21          113.37\n",
      "        14           -6.76           -1.51           98.54            4.20          112.51\n",
      "        15           -6.71           -1.51           98.54            4.23          113.11\n",
      "        16           -6.65           -1.51           98.54            4.24          111.94\n",
      "        17           -6.86           -1.51           98.54            4.18          111.60\n",
      "        18           -6.74           -1.52           98.54            4.24          111.74\n",
      "        19           -6.84           -1.52           98.54            4.27          113.26\n",
      "        20           -6.78           -1.52           98.54            4.29          112.80\n",
      "      -> Generator 20 epoch is saved  to: E:/An toàn thông tin/Code/Saved Model/GANModel/sklearn_SVM/DOS/Generator/3/20epoch_time_created_2023-11-27.pth\n",
      "        21           -6.88           -1.53           98.54            4.31          114.08\n",
      "        22           -6.73           -1.51           98.54            4.19          112.21\n",
      "        23           -6.91           -1.52           98.54            4.24          113.52\n",
      "        24           -6.91           -1.51           98.54            4.17          111.92\n",
      "        25           -6.93           -1.52           98.54            4.29          112.97\n",
      "        26           -6.91           -1.52           98.54            4.24          113.38\n",
      "        27           -6.85           -1.52           98.54            4.17          113.06\n",
      "        28           -6.77           -1.51           98.54            4.21          112.64\n",
      "        29           -6.82           -1.53           98.54            4.27          112.88\n",
      "        30           -6.81           -1.51           98.54            4.17          111.85\n",
      "      -> Generator 30 epoch is saved  to: E:/An toàn thông tin/Code/Saved Model/GANModel/sklearn_SVM/DOS/Generator/3/30epoch_time_created_2023-11-27.pth\n",
      "        31           -6.74           -1.49           98.54            4.15          111.05\n",
      "        32           -6.79           -1.51           98.54            4.13          113.18\n",
      "        33           -6.74           -1.54           98.54            4.30          112.40\n",
      "        34           -6.68           -1.51           98.54            4.22          112.21\n",
      "        35           -6.73           -1.53           98.54            4.30          112.86\n",
      "        36           -6.72           -1.52           98.54            4.32          112.57\n",
      "        37           -6.80           -1.51           98.54            4.21          113.05\n",
      "        38           -6.69           -1.53           98.54            4.30          113.22\n",
      "        39           -6.77           -1.52           98.54            4.27          113.24\n",
      "        40           -6.65           -1.52           98.54            4.25          113.46\n",
      "      -> Generator 40 epoch is saved  to: E:/An toàn thông tin/Code/Saved Model/GANModel/sklearn_SVM/DOS/Generator/3/40epoch_time_created_2023-11-27.pth\n",
      "        41           -6.78           -1.53           98.54            4.30          113.46\n",
      "        42           -6.72           -1.53           98.54            4.33          113.65\n",
      "        43           -6.81           -1.52           98.54            4.22          113.69\n",
      "        44           -6.83           -1.53           98.54            4.34          112.84\n",
      "        45           -6.82           -1.52           98.54            4.22          113.39\n",
      "        46           -6.80           -1.52           98.54            4.22          112.46\n",
      "        47           -6.76           -1.54           98.54            4.31          113.25\n",
      "        48           -6.79           -1.53           98.54            4.30          113.11\n",
      "        49           -6.82           -1.53           98.54            4.27          112.73\n",
      "        50           -6.84           -1.53           98.54            4.21          113.13\n",
      "      -> Generator 50 epoch is saved  to: E:/An toàn thông tin/Code/Saved Model/GANModel/sklearn_SVM/DOS/Generator/3/50epoch_time_created_2023-11-27.pth\n",
      "        51           -6.82           -1.52           98.54            4.28          113.05\n",
      "        52           -6.91           -1.54           98.54            4.35          113.82\n",
      "        53           -6.89           -1.52           98.54            4.29          114.37\n",
      "        54           -6.97           -1.51           98.54            4.27          112.05\n",
      "        55           -6.97           -1.53           98.54            4.29          113.53\n",
      "        56           -7.05           -1.52           98.54            4.26          113.24\n",
      "        57           -6.95           -1.54           98.54            4.36          113.46\n",
      "        58           -6.92           -1.53           98.54            4.31          114.93\n",
      "        59           -7.04           -1.54           98.54            4.34          113.55\n",
      "        60           -7.13           -1.53           98.54            4.34          113.03\n",
      "      -> Generator 60 epoch is saved  to: E:/An toàn thông tin/Code/Saved Model/GANModel/sklearn_SVM/DOS/Generator/3/60epoch_time_created_2023-11-27.pth\n",
      "        61           -7.12           -1.53           98.54            4.34          113.22\n",
      "        62           -7.16           -1.52           98.54            4.28          112.91\n",
      "        63           -7.16           -1.54           98.54            4.27          113.33\n",
      "        64           -7.26           -1.52           98.54            4.27          113.83\n",
      "        65           -7.17           -1.53           98.54            4.35          113.33\n",
      "        66           -7.12           -1.54           98.54            4.34          114.07\n",
      "        67           -7.15           -1.54           98.54            4.33          113.39\n",
      "        68           -7.13           -1.53           98.54            4.33          112.76\n",
      "        69           -7.15           -1.53           98.54            4.33          114.01\n",
      "        70           -7.07           -1.53           98.54            4.26          112.74\n",
      "      -> Generator 70 epoch is saved  to: E:/An toàn thông tin/Code/Saved Model/GANModel/sklearn_SVM/DOS/Generator/3/70epoch_time_created_2023-11-27.pth\n",
      "        71           -7.18           -1.49           98.54            4.01          112.91\n",
      "        72           -7.14           -1.55           98.54            4.38          113.33\n",
      "        73           -7.24           -1.52           98.54            4.22          112.19\n",
      "        74           -7.19           -1.54           98.54            4.38          113.37\n",
      "        75           -7.31           -1.52           98.54            4.27          112.83\n",
      "        76           -7.32           -1.54           98.54            4.38          113.08\n",
      "        77           -7.39           -1.53           98.54            4.38          113.07\n",
      "        78           -7.49           -1.54           98.54            4.40          113.54\n",
      "        79           -7.46           -1.52           98.54            4.26          113.38\n",
      "        80           -7.46           -1.55           98.54            4.40          113.73\n",
      "      -> Generator 80 epoch is saved  to: E:/An toàn thông tin/Code/Saved Model/GANModel/sklearn_SVM/DOS/Generator/3/80epoch_time_created_2023-11-27.pth\n",
      "        81           -7.50           -1.50           98.54            4.10          112.81\n",
      "        82           -7.42           -1.53           98.54            4.27          113.39\n",
      "        83           -7.45           -1.53           98.54            4.25          112.64\n",
      "        84           -7.55           -1.52           98.54            4.35          111.80\n",
      "        85           -7.55           -1.54           98.54            4.36          115.27\n",
      "        86           -7.60           -1.54           98.54            4.35          114.27\n",
      "        87           -7.57           -1.52           98.54            4.31          113.77\n",
      "        88           -7.65           -1.54           98.54            4.40          114.10\n",
      "        89           -7.61           -1.53           98.54            4.28          113.41\n",
      "        90           -7.54           -1.54           98.54            4.32          113.49\n",
      "      -> Generator 90 epoch is saved  to: E:/An toàn thông tin/Code/Saved Model/GANModel/sklearn_SVM/DOS/Generator/3/90epoch_time_created_2023-11-27.pth\n",
      "        91           -7.61           -1.53           98.54            4.31          113.29\n",
      "        92           -7.60           -1.50           98.54            4.13          112.21\n",
      "        93           -7.63           -1.55           98.54            4.40          113.93\n",
      "        94           -7.65           -1.54           98.54            4.41          113.36\n",
      "        95           -7.72           -1.53           98.54            4.28          112.66\n",
      "        96           -7.66           -1.54           98.54            4.41          112.55\n",
      "        97           -7.70           -1.55           98.54            4.46          112.89\n",
      "        98           -7.75           -1.54           98.54            4.38          113.55\n",
      "        99           -7.76           -1.55           98.54            4.45          114.82\n",
      "       100           -7.78           -1.55           98.54            4.30          113.79\n",
      "      -> Generator 100 epoch is saved  to: E:/An toàn thông tin/Code/Saved Model/GANModel/sklearn_SVM/DOS/Generator/3/100epoch_time_created_2023-11-27.pth\n",
      "Training Runtime: 11274.97\n",
      "IDSGAN finish training!\n"
     ]
    },
    {
     "data": {
      "image/png": "[encoded data removed]",
      "text/plain": [
       "<Figure size 640x480 with 1 Axes>"
      ]
     },
     "metadata": {},
     "output_type": "display_data"
    },
    {
     "data": {
      "image/png": "[encoded data removed]",
      "text/plain": [
       "<Figure size 640x480 with 1 Axes>"
      ]
     },
     "metadata": {},
     "output_type": "display_data"
    },
    {
     "name": "stdout",
     "output_type": "stream",
     "text": [
      "      -> Saved Discrimninator 100 epoch to: E:/An toàn thông tin/Code/Saved Model/GANModel/sklearn_SVM/DOS/Discriminator/3/100epoch_time_created_2023-11-27.pth\n",
      "--------------------------------------------------------------------------------\n",
      " Attack Category: U2R_AND_R2L\n",
      "    Loaded Model From Disk: E:/An toàn thông tin/Code/Saved Model/IDSModel/U2R_AND_R2L/Machine_Learning/created_date_2023-11-24_sklearn_SVM.pkl\n",
      "-->IDSGAN start training\n",
      "     Epoch          G-Loss          D-Loss         O-DR(%)         A-DR(%)      Runtime(s)\n",
      "         1           -8.50           -0.54           74.62            0.00           45.65\n",
      "         2          -10.65           -0.91           74.62            0.00           46.63\n",
      "         3          -11.88           -1.16           74.62            0.00           47.11\n",
      "         4          -12.04           -1.17           74.62            0.00           44.90\n",
      "         5          -11.82           -1.14           74.62            0.00           44.56\n",
      "         6          -11.62           -1.21           74.62            0.00           46.29\n",
      "         7          -11.44           -1.18           74.62            0.00           44.70\n",
      "         8          -11.22           -1.21           74.62            0.00           44.91\n",
      "         9          -11.07           -1.21           74.62            0.00           45.71\n",
      "        10          -11.04           -1.15           74.62            0.00           44.82\n",
      "      -> Generator 10 epoch is saved  to: E:/An toàn thông tin/Code/Saved Model/GANModel/sklearn_SVM/U2R_AND_R2L/Generator/3/10epoch_time_created_2023-11-27.pth\n",
      "        11          -11.07           -1.07           74.62            0.00           44.32\n",
      "        12          -11.05           -1.15           74.62            0.00           44.99\n",
      "        13          -11.03           -1.19           74.62            0.00           45.07\n",
      "        14          -11.05           -1.14           74.62            0.00           44.99\n",
      "        15          -11.04           -1.18           74.62            0.00           45.28\n",
      "        16          -11.04           -1.18           74.62            0.00           45.19\n",
      "        17          -11.04           -1.22           74.62            0.00           45.09\n",
      "        18          -11.03           -1.22           74.62            0.00           45.33\n",
      "        19          -11.05           -1.19           74.62            0.00           45.34\n",
      "        20          -11.06           -1.14           74.62            0.00           44.76\n",
      "      -> Generator 20 epoch is saved  to: E:/An toàn thông tin/Code/Saved Model/GANModel/sklearn_SVM/U2R_AND_R2L/Generator/3/20epoch_time_created_2023-11-27.pth\n",
      "        21          -11.04           -1.14           74.62            0.00           45.14\n",
      "        22          -11.03           -1.19           74.62            0.00           46.25\n",
      "        23          -11.06           -1.19           74.62            0.00           45.58\n",
      "        24          -11.03           -1.16           74.62            0.00           45.15\n",
      "        25          -11.07           -1.23           74.62            0.00           45.76\n",
      "        26          -11.04           -1.25           74.62            0.00           45.80\n",
      "        27          -11.04           -1.21           74.62            0.00           45.86\n",
      "        28          -11.06           -1.19           74.62            0.00           45.46\n",
      "        29          -11.03           -1.15           74.62            0.00           45.39\n",
      "        30          -11.07           -1.20           74.62            0.00           45.53\n",
      "      -> Generator 30 epoch is saved  to: E:/An toàn thông tin/Code/Saved Model/GANModel/sklearn_SVM/U2R_AND_R2L/Generator/3/30epoch_time_created_2023-11-27.pth\n",
      "        31          -11.06           -1.19           74.62            0.00           45.28\n",
      "        32          -11.03           -1.22           74.62            0.00           45.72\n",
      "        33          -11.04           -1.11           74.62            0.00           44.21\n",
      "        34          -11.03           -1.13           74.62            0.00           44.49\n",
      "        35          -11.03           -1.19           74.62            0.00           45.76\n",
      "        36          -11.05           -1.18           74.62            0.00           45.48\n",
      "        37          -11.03           -1.12           74.62            0.00           44.85\n",
      "        38          -11.05           -1.16           74.62            0.00           45.55\n",
      "        39          -11.03           -1.16           74.62            0.00           45.20\n",
      "        40          -11.04           -1.14           74.62            0.00           46.02\n",
      "      -> Generator 40 epoch is saved  to: E:/An toàn thông tin/Code/Saved Model/GANModel/sklearn_SVM/U2R_AND_R2L/Generator/3/40epoch_time_created_2023-11-27.pth\n",
      "        41          -11.06           -1.21           74.62            0.00           45.40\n",
      "        42          -11.03           -1.16           74.62            0.00           45.03\n",
      "        43          -11.05           -1.14           74.62            0.00           45.14\n",
      "        44          -11.03           -1.14           74.62            0.00           45.28\n",
      "        45          -11.06           -1.17           74.62            0.00           44.97\n",
      "        46          -11.03           -1.17           74.62            0.00           44.58\n",
      "        47          -11.03           -1.16           74.62            0.00           44.59\n",
      "        48          -11.04           -1.16           74.62            0.00           45.36\n",
      "        49          -11.05           -1.19           74.62            0.00           45.12\n",
      "        50          -11.04           -1.17           74.62            0.00           44.91\n",
      "      -> Generator 50 epoch is saved  to: E:/An toàn thông tin/Code/Saved Model/GANModel/sklearn_SVM/U2R_AND_R2L/Generator/3/50epoch_time_created_2023-11-27.pth\n",
      "        51          -11.06           -1.19           74.62            0.00           44.80\n",
      "        52          -11.03           -1.16           74.62            0.00           44.52\n",
      "        53          -11.10           -1.21           74.62            0.00           45.70\n",
      "        54          -11.04           -1.16           74.62            0.00           45.05\n",
      "        55          -11.08           -1.19           74.62            0.00           45.38\n",
      "        56          -11.04           -1.14           74.62            0.00           44.77\n",
      "        57          -11.03           -1.16           74.62            0.00           45.12\n",
      "        58          -11.04           -1.17           74.62            0.00           45.02\n",
      "        59          -11.11           -1.22           74.62            0.00           45.37\n",
      "        60          -11.03           -1.13           74.62            0.00           44.74\n",
      "      -> Generator 60 epoch is saved  to: E:/An toàn thông tin/Code/Saved Model/GANModel/sklearn_SVM/U2R_AND_R2L/Generator/3/60epoch_time_created_2023-11-27.pth\n",
      "        61          -11.06           -1.19           74.62            0.00           45.14\n",
      "        62          -11.03           -1.18           74.62            0.00           45.33\n",
      "        63          -11.04           -1.21           74.62            0.00           45.51\n",
      "        64          -11.03           -1.18           74.62            0.00           45.06\n",
      "        65          -11.05           -1.17           74.62            0.00           45.17\n",
      "        66          -11.06           -1.20           74.62            0.00           45.16\n",
      "        67          -11.03           -1.17           74.62            0.00           44.85\n",
      "        68          -11.05           -1.17           74.62            0.00           44.62\n",
      "        69          -11.02           -1.17           74.62            0.00           45.29\n",
      "        70          -11.07           -1.11           74.62            0.00           44.87\n",
      "      -> Generator 70 epoch is saved  to: E:/An toàn thông tin/Code/Saved Model/GANModel/sklearn_SVM/U2R_AND_R2L/Generator/3/70epoch_time_created_2023-11-27.pth\n",
      "        71          -11.04           -1.20           74.62            0.00           45.04\n",
      "        72          -11.04           -1.15           74.62            0.00           44.80\n",
      "        73          -11.04           -1.18           74.62            0.00           44.92\n",
      "        74          -11.02           -1.16           74.62            0.00           44.62\n",
      "        75          -11.04           -1.14           74.62            0.00           45.14\n",
      "        76          -11.02           -1.11           74.62            0.00           44.78\n",
      "        77          -11.03           -1.18           74.62            0.00           44.81\n",
      "        78          -11.03           -1.17           74.62            0.00           44.67\n",
      "        79          -11.04           -1.17           74.62            0.00           44.80\n",
      "        80          -11.05           -1.20           74.62            0.00           45.61\n",
      "      -> Generator 80 epoch is saved  to: E:/An toàn thông tin/Code/Saved Model/GANModel/sklearn_SVM/U2R_AND_R2L/Generator/3/80epoch_time_created_2023-11-27.pth\n",
      "        81          -11.03           -1.17           74.62            0.00           45.47\n",
      "        82          -11.04           -1.18           74.62            0.00           45.70\n",
      "        83          -11.08           -1.19           74.62            0.00           45.54\n",
      "        84          -11.04           -1.14           74.62            0.00           44.77\n",
      "        85          -11.03           -1.20           74.62            0.00           46.03\n",
      "        86          -11.03           -1.19           74.62            0.00           45.38\n",
      "        87          -11.03           -1.14           74.62            0.00           44.64\n",
      "        88          -11.03           -1.13           74.62            0.00           44.97\n",
      "        89          -11.03           -1.21           74.62            0.00           45.71\n",
      "        90          -11.04           -1.21           74.62            0.00           45.34\n",
      "      -> Generator 90 epoch is saved  to: E:/An toàn thông tin/Code/Saved Model/GANModel/sklearn_SVM/U2R_AND_R2L/Generator/3/90epoch_time_created_2023-11-27.pth\n",
      "        91          -11.04           -1.18           74.62            0.00           45.18\n",
      "        92          -11.08           -1.19           74.62            0.00           45.22\n",
      "        93          -11.04           -1.21           74.62            0.00           45.34\n",
      "        94          -11.03           -1.13           74.62            0.00           44.54\n",
      "        95          -11.06           -1.20           74.62            0.00           45.62\n",
      "        96          -11.03           -1.19           74.62            0.00           45.36\n",
      "        97          -11.04           -1.18           74.62            0.00           45.17\n",
      "        98          -11.06           -1.13           74.62            0.00           44.97\n",
      "        99          -11.04           -1.17           74.62            0.00           45.06\n",
      "       100          -11.03           -1.14           74.62            0.00           44.68\n",
      "      -> Generator 100 epoch is saved  to: E:/An toàn thông tin/Code/Saved Model/GANModel/sklearn_SVM/U2R_AND_R2L/Generator/3/100epoch_time_created_2023-11-27.pth\n",
      "Training Runtime: 4521.94\n",
      "IDSGAN finish training!\n"
     ]
    },
    {
     "data": {
      "image/png": "[encoded data removed]",
      "text/plain": [
       "<Figure size 640x480 with 1 Axes>"
      ]
     },
     "metadata": {},
     "output_type": "display_data"
    },
    {
     "data": {
      "image/png": "[encoded data removed]",
      "text/plain": [
       "<Figure size 640x480 with 1 Axes>"
      ]
     },
     "metadata": {},
     "output_type": "display_data"
    },
    {
     "name": "stdout",
     "output_type": "stream",
     "text": [
      "      -> Saved Discrimninator 100 epoch to: E:/An toàn thông tin/Code/Saved Model/GANModel/sklearn_SVM/U2R_AND_R2L/Discriminator/3/100epoch_time_created_2023-11-27.pth\n"
     ]
    }
   ],
   "source": [
    "print(f\"{40*'='} TRAINING GAN {40*'='}\")\n",
    "print(f\"{80*'='}\\n IDS Model: {ids_model_name}\")\n",
    "# for attack_category in ATTACK_CATEGORIES:\n",
    "for adversarial_attack_type in [3]:\n",
    "    print(f\"{80*'*'}\\n Adversarial Attack Type : {adversarial_attack_type}\")\n",
    "    for attack_category in ATTACK_CATEGORIES:\n",
    "        print(f\"{80*'-'}\\n Attack Category: {attack_category}\")\n",
    "        total_time_start = timeit.default_timer()\n",
    "\n",
    "        # Load sklearn IDS Model\n",
    "        ids_model = load_sklearn_ids_model(ids_model_name, attack_category, ids_created_date)\n",
    "        # Init GAN-G model\n",
    "        G_OUTPUT_DIM = len(POS_NONFUNCTIONAL_FEATURES[attack_category])     # Generator output is number of nonfunctional feature\n",
    "        generator = init_generator(G_INPUT_DIM,G_OUTPUT_DIM, adversarial_attack_type)\n",
    "        optimizer_G = optim.RMSprop(generator.parameters(), lr=learning_rate)\n",
    "        # Load Raw Attack Dataset\n",
    "        raw_attack = preprocess_malicious_data(g_train_data, attack_category)\n",
    "        # Prepare Save Folder\n",
    "        GAN_4IDS_Model_Path = str(f\"{GAN_Model_Path}{ids_model_name}/\")\n",
    "        if not os.path.exists(GAN_4IDS_Model_Path):\n",
    "                os.makedirs(GAN_4IDS_Model_Path)\n",
    "        GAN_G_Model_4Category_Path = str(f\"{GAN_4IDS_Model_Path}{attack_category}/Generator/{adversarial_attack_type}/\")\n",
    "        GAN_D_Model_4Category_Path = str(f\"{GAN_4IDS_Model_Path}{attack_category}/Discriminator/{adversarial_attack_type}/\")\n",
    "        for directory in [GAN_G_Model_4Category_Path, GAN_D_Model_4Category_Path]:\n",
    "            if not os.path.exists(directory):\n",
    "                os.makedirs(directory)\n",
    "\n",
    "        # Create batch of attack traffic\n",
    "        batch_attack = create_batch2(raw_attack,BATCH_SIZE)\n",
    "        # Declare Loss, DR List and Train GAN-G, GAN-D\n",
    "        d_losses,g_losses = [],[]\n",
    "        o_dr, a_dr = [],[]\n",
    "        generator.train()\n",
    "        discriminator.train()\n",
    "\n",
    "        # Start Training\n",
    "        print(f\"-->IDSGAN start training\")\n",
    "        labels = ['Epoch', 'G-Loss', 'D-Loss', 'O-DR(%)', 'A-DR(%)', 'Runtime(s)']\n",
    "        print(\"{: >10} {: >15} {: >15} {: >15} {: >15} {: >15}\".format(*labels))\n",
    "        for epoch in range(MAX_EPOCH):\n",
    "            batch_normal = create_batch2(normal,BATCH_SIZE)\n",
    "            epoch_time_start = timeit.default_timer()\n",
    "            cnt = 0\n",
    "            run_g_loss = 0.\n",
    "            run_d_loss = 0.\n",
    "            epoch_o_drs, epoch_a_drs = [], []\n",
    "\n",
    "            for idx, bn in enumerate(batch_normal):\n",
    "                normal_b = th.Tensor(bn.astype(\"float64\"))\n",
    "                attack_traffic  = V(th.Tensor(batch_attack[idx % len(batch_attack)]))\n",
    "                #  Train Generator\n",
    "                g_loss = train_generator(generator, discriminator, optimizer_G, NOISE_DIM, attack_traffic, attack_category, adversarial_attack_type)\n",
    "                run_g_loss += g_loss.item()\n",
    "\n",
    "                # Train Discriminator\n",
    "                d_loss, current_cnt = train_discriminator(discriminator, ids_model, generator, CRITIC_ITERS, CLAMP, optimizer_D, normal_b, NOISE_DIM, attack_traffic, attack_category, adversarial_attack_type)\n",
    "                run_d_loss += d_loss\n",
    "                cnt += current_cnt\n",
    "                \n",
    "                # CALC Epoch DR\n",
    "                adversarial_attack = gen_adversarial_attack(generator, NOISE_DIM, attack_traffic, attack_category, adversarial_attack_type).detach()\n",
    "                origin_dr, adversarial_dr = cal_dr(ids_model, normal_b, attack_traffic, adversarial_attack)\n",
    "                epoch_o_drs.append(origin_dr)\n",
    "                epoch_a_drs.append(adversarial_dr)\n",
    "\n",
    "            if cnt >= (len(normal)/BATCH_SIZE):\n",
    "                print(\"Not exist predicted attack traffic\")\n",
    "                break\n",
    "            d_losses.append(run_d_loss/CRITIC_ITERS)\n",
    "            g_losses.append(run_g_loss)\n",
    "            epoch_o_dr = np.mean(epoch_o_drs)\n",
    "            epoch_a_dr = np.mean(epoch_a_drs)\n",
    "            o_dr.append(epoch_o_dr)\n",
    "            a_dr.append(epoch_a_dr)\n",
    "            \n",
    "            runtime = timeit.default_timer() - epoch_time_start\n",
    "            print_vals = [(epoch + 1), run_g_loss, (run_d_loss/CRITIC_ITERS), (epoch_o_dr*100), (epoch_a_dr*100), runtime]\n",
    "            print_string = []\n",
    "            for val in print_vals:\n",
    "                if isinstance(val, float):\n",
    "                    print_string.append(str(f\"{val:.2f}\"))\n",
    "                else:\n",
    "                    print_string.append(str(val))\n",
    "            print(\"{: >10} {: >15} {: >15} {: >15} {: >15} {: >15}\".format(*print_string))\n",
    "            # Save Adversarial Dataset each 10 epoch\n",
    "            if ((epoch + 1) % 10 == 0):\n",
    "                path = GAN_G_Model_4Category_Path + f\"{epoch + 1}epoch_time_created_{today}.pth\"\n",
    "                th.save(generator.state_dict(), path)\n",
    "                print(f\"{6*' '}-> Generator {epoch + 1} epoch is saved  to: {path}\")\n",
    "        total_runtime = timeit.default_timer() - total_time_start\n",
    "        print(f\"Training Runtime: {total_runtime:.2f}\")\n",
    "        print(\"IDSGAN finish training!\")\n",
    "        \n",
    "        # Show Graph\n",
    "        # Loss-Graph\n",
    "        plt.plot(d_losses,label = \"D_loss\")\n",
    "        plt.plot(g_losses, label = \"G_loss\")\n",
    "        plt.legend()\n",
    "        plt.show()\n",
    "        # DR-Graph\n",
    "        plt.plot(o_dr,label = \"Origin DR\")\n",
    "        plt.plot(a_dr, label = \"Adversarial DR\")\n",
    "        plt.legend()\n",
    "        plt.show()\n",
    "\n",
    "        # Save Model\n",
    "        path = GAN_D_Model_4Category_Path + f\"{MAX_EPOCH}epoch_time_created_{today}.pth\"\n",
    "        th.save(discriminator.state_dict(), path)\n",
    "        print(f\"{6*' '}-> Saved Discrimninator {MAX_EPOCH} epoch to: {path}\")"
   ]
  },
  {
   "cell_type": "markdown",
   "metadata": {
    "colab_type": "text",
    "id": "jQNXCNMEx1bn"
   },
   "source": [
    "## **3.2 Run Generate Adversarial Traffic**"
   ]
  },
  {
   "cell_type": "code",
   "execution_count": 21,
   "metadata": {
    "colab": {},
    "colab_type": "code",
    "executionInfo": {
     "elapsed": 940,
     "status": "ok",
     "timestamp": 1594492054408,
     "user": {
      "displayName": "Tien LE KHAC",
      "photoUrl": "https://lh3.googleusercontent.com/a-/AOh14GhATILfEwLuvrRlBGPMrmY7nclZNsxGKzoqqHB_Cg=s64",
      "userId": "18298916241916904857"
     },
     "user_tz": -420
    },
    "id": "I0w_F6zKcgrF"
   },
   "outputs": [],
   "source": [
    "# Hyber Parameters\n",
    "BATCH_SIZE = 256 # Batch size\n",
    "\n",
    "# GAN-G\n",
    "NOISE_DIM = 9\n",
    "G_INPUT_DIM = NOISE_DIM     # Generator input dimension is dimention of noise"
   ]
  },
  {
   "cell_type": "code",
   "execution_count": 22,
   "metadata": {
    "colab": {
     "base_uri": "https://localhost:8080/",
     "height": 51
    },
    "colab_type": "code",
    "executionInfo": {
     "elapsed": 1785,
     "status": "ok",
     "timestamp": 1594492055265,
     "user": {
      "displayName": "Tien LE KHAC",
      "photoUrl": "https://lh3.googleusercontent.com/a-/AOh14GhATILfEwLuvrRlBGPMrmY7nclZNsxGKzoqqHB_Cg=s64",
      "userId": "18298916241916904857"
     },
     "user_tz": -420
    },
    "id": "HPx41fPd6CiW",
    "outputId": "253e18e4-5b23-4bbb-88b9-fbb63a690b49"
   },
   "outputs": [
    {
     "name": "stdout",
     "output_type": "stream",
     "text": [
      "Amount of KDDTest+: \t\t20123\n",
      "Amount of Normal:\t\t9711 (37 batchs - 256 records/batch)\n"
     ]
    }
   ],
   "source": [
    "gan_model_time_created = str(date.today())\n",
    "\n",
    "# Load Testset\n",
    "testset = pd.read_csv(testset_path)\n",
    "print(f\"Amount of KDDTest+: \\t\\t{len(testset)}\")\n",
    "# test_normal\n",
    "test_normal = np.array(testset[testset[\"class\"] == 'Normal'])[:,:-1]\n",
    "# Create batch of normal traffic\n",
    "test_batch_normal = create_batch2(test_normal,BATCH_SIZE).astype('float64')\n",
    "print(f\"Amount of Normal:\\t\\t{len(test_normal)} ({len(test_batch_normal)} batchs - {BATCH_SIZE} records/batch)\")"
   ]
  },
  {
   "cell_type": "code",
   "execution_count": 23,
   "metadata": {
    "colab": {
     "base_uri": "https://localhost:8080/",
     "height": 612
    },
    "colab_type": "code",
    "executionInfo": {
     "elapsed": 77104,
     "status": "ok",
     "timestamp": 1594492257562,
     "user": {
      "displayName": "Tien LE KHAC",
      "photoUrl": "https://lh3.googleusercontent.com/a-/AOh14GhATILfEwLuvrRlBGPMrmY7nclZNsxGKzoqqHB_Cg=s64",
      "userId": "18298916241916904857"
     },
     "user_tz": -420
    },
    "id": "ZhPpd8MCx10u",
    "outputId": "c06bc393-52af-4f0c-b28b-83ea2bfbfdc6"
   },
   "outputs": [
    {
     "name": "stdout",
     "output_type": "stream",
     "text": [
      "======================================== ADVERSARIAL TRAFFIC EVALUATING ========================================\n",
      "================================================================================\n",
      " IDS Model: sklearn_SVM\n",
      "--------------------------------------------------------------------------------\n",
      " Adversarial Attack Type : 3\n",
      "********************************************************************************\n",
      " - Attack Category: DOS\n",
      "    Loaded Model From Disk: E:/An toàn thông tin/Code/Saved Model/IDSModel/DOS/Machine_Learning/created_date_2023-11-24_sklearn_SVM.pkl\n",
      "    Amout of DOS:\t7460 (29 batchs - 256 records/batch)\n",
      "    GAN Models Folder: E:/An toàn thông tin/Code/Saved Model/GANModel/sklearn_SVM/DOS/Generator/3/\n",
      "\t  10 epochs:\tOrigin DR : 79.39% \t Adversarial DR : 5.81% \t EIR : 92.69%\n",
      "\t  20 epochs:\tOrigin DR : 79.39% \t Adversarial DR : 4.20% \t EIR : 94.71%\n",
      "\t  30 epochs:\tOrigin DR : 79.39% \t Adversarial DR : 6.06% \t EIR : 92.37%\n",
      "\t  40 epochs:\tOrigin DR : 79.39% \t Adversarial DR : 4.68% \t EIR : 94.11%\n",
      "\t  50 epochs:\tOrigin DR : 79.39% \t Adversarial DR : 5.33% \t EIR : 93.28%\n",
      "\t  60 epochs:\tOrigin DR : 79.39% \t Adversarial DR : 6.36% \t EIR : 91.99%\n",
      "\t  70 epochs:\tOrigin DR : 79.39% \t Adversarial DR : 5.31% \t EIR : 93.31%\n",
      "\t  80 epochs:\tOrigin DR : 79.39% \t Adversarial DR : 5.18% \t EIR : 93.47%\n",
      "\t  90 epochs:\tOrigin DR : 79.39% \t Adversarial DR : 5.57% \t EIR : 92.98%\n",
      "\t 100 epochs:\tOrigin DR : 79.39% \t Adversarial DR : 2.91% \t EIR : 96.33%\n",
      "********************************************************************************\n",
      " - Attack Category: U2R_AND_R2L\n",
      "    Loaded Model From Disk: E:/An toàn thông tin/Code/Saved Model/IDSModel/U2R_AND_R2L/Machine_Learning/created_date_2023-11-24_sklearn_SVM.pkl\n",
      "    Amout of U2R_AND_R2L:\t2952 (11 batchs - 256 records/batch)\n",
      "    GAN Models Folder: E:/An toàn thông tin/Code/Saved Model/GANModel/sklearn_SVM/U2R_AND_R2L/Generator/3/\n",
      "\t  10 epochs:\tOrigin DR : 0.20% \t Adversarial DR : 0.00% \t EIR : 100.00%\n",
      "\t  20 epochs:\tOrigin DR : 0.20% \t Adversarial DR : 0.00% \t EIR : 100.00%\n",
      "\t  30 epochs:\tOrigin DR : 0.20% \t Adversarial DR : 0.00% \t EIR : 100.00%\n",
      "\t  40 epochs:\tOrigin DR : 0.20% \t Adversarial DR : 0.00% \t EIR : 100.00%\n",
      "\t  50 epochs:\tOrigin DR : 0.20% \t Adversarial DR : 0.00% \t EIR : 100.00%\n",
      "\t  60 epochs:\tOrigin DR : 0.20% \t Adversarial DR : 0.00% \t EIR : 100.00%\n",
      "\t  70 epochs:\tOrigin DR : 0.20% \t Adversarial DR : 0.00% \t EIR : 100.00%\n",
      "\t  80 epochs:\tOrigin DR : 0.20% \t Adversarial DR : 0.00% \t EIR : 100.00%\n",
      "\t  90 epochs:\tOrigin DR : 0.20% \t Adversarial DR : 0.00% \t EIR : 100.00%\n",
      "\t 100 epochs:\tOrigin DR : 0.20% \t Adversarial DR : 0.00% \t EIR : 100.00%\n"
     ]
    }
   ],
   "source": [
    "# Adversarial Traffic Evaluating\n",
    "print(f\"{40*'='} ADVERSARIAL TRAFFIC EVALUATING {40*'='}\")\n",
    "print(f\"{80*'='}\\n IDS Model: {ids_model_name}\")\n",
    "\n",
    "# for attack_category in ATTACK_CATEGORIES:\n",
    "for adversarial_attack_type in [3]:\n",
    "    print(f\"{80*'-'}\\n Adversarial Attack Type : {adversarial_attack_type}\")\n",
    "    for attack_category in ATTACK_CATEGORIES:\n",
    "        print(f\"{80*'*'}\\n - Attack Category: {attack_category}\")\n",
    "        \n",
    "        # Load sklearn IDS Model\n",
    "        ids_model = load_sklearn_ids_model(ids_model_name, attack_category, ids_created_date)\n",
    "        # Init GAN-G model\n",
    "        G_OUTPUT_DIM = len(POS_NONFUNCTIONAL_FEATURES[attack_category])     # Generator output is number of nonfunctional feature\n",
    "        generator = init_generator(G_INPUT_DIM,G_OUTPUT_DIM, adversarial_attack_type)\n",
    "        # Load Attack Dataset\n",
    "        test_raw_attack = preprocess_malicious_data(testset, attack_category)\n",
    "        # Create batch of attack traffic\n",
    "        batch_attack = create_batch2(test_raw_attack, BATCH_SIZE)\n",
    "        n_batch_attack = len(batch_attack)\n",
    "        print(f\"{4*' '}Amout of {attack_category}:\\t{len(test_raw_attack)} ({n_batch_attack} batchs - {BATCH_SIZE} records/batch)\")\n",
    "        \n",
    "        # Calc DR through each epoch\n",
    "        gan_g_folder_path = str(f\"{GAN_Model_Path}{ids_model_name}/{attack_category}/Generator/{adversarial_attack_type}/\")\n",
    "        print(f\"{4*' '}GAN Models Folder: {gan_g_folder_path}\")\n",
    "        for epoch in range(10, MAX_EPOCH + 1, 10):\n",
    "            # Load GAN-G Model\n",
    "            gan_g_model_path = gan_g_folder_path + str(f\"{epoch}epoch_time_created_{gan_model_time_created}.pth\")\n",
    "            param = th.load(gan_g_model_path,map_location=lambda x,y:x)\n",
    "            generator.load_state_dict(param)\n",
    "            generator.eval()\n",
    "\n",
    "            o_dr,a_dr =[],[]\n",
    "            with th.no_grad():\n",
    "                for idx, bn in enumerate(test_batch_normal):\n",
    "                    normal_b = th.Tensor(bn)\n",
    "                    attack_b = th.Tensor(batch_attack[idx % n_batch_attack])\n",
    "                    # Generate Adversarial Traffic\n",
    "                    adversarial_attack_b = gen_adversarial_attack(generator, NOISE_DIM, attack_b, attack_category, adversarial_attack_type).detach()\n",
    "\n",
    "                    # Calc DR\n",
    "                    origin_dr, adversarial_dr = cal_dr(ids_model, normal_b, attack_b, adversarial_attack_b)\n",
    "                    o_dr.append(origin_dr)\n",
    "                    a_dr.append(adversarial_dr)\n",
    "            eir = 1 - (np.mean(a_dr)/np.mean(o_dr))\n",
    "            print(f\"\\t {epoch:3d} epochs:\\tOrigin DR : {np.mean(o_dr)*100:.2f}% \\t Adversarial DR : {np.mean(a_dr)*100:.2f}% \\t EIR : {eir*100:.2f}%\")"
   ]
  },
  {
   "cell_type": "markdown",
   "metadata": {
    "colab_type": "text",
    "id": "mwWugTozppL5"
   },
   "source": [
    "The Saved Model stored in [Google Drive - GAN Model](https://drive.google.com/drive/u/1/folders/1VNFW-k5SbR0eGsJ_np3U-W3Rcz_n4I8N)\n",
    "\n",
    "The Result of Code stored in [Github - Thesis](https://github.com/thetinybug/thesis-IDSGAN)"
   ]
  }
 ],
 "metadata": {
  "colab": {
   "collapsed_sections": [],
   "name": "2. GAN and Gen_Machine_Learning_IDS_sklearn_SVM-A3.ipynb",
   "provenance": [
    {
     "file_id": "1__oEcuLAwPtIYf5J9l75rsRQ1RPYE56v",
     "timestamp": 1593183432956
    },
    {
     "file_id": "1mkhrbHfNqYSDxkiyP7BsFofEaWEWP5fM",
     "timestamp": 1592983611776
    }
   ],
   "toc_visible": true
  },
  "kernelspec": {
   "display_name": "Python 3 (ipykernel)",
   "language": "python",
   "name": "python3"
  },
  "language_info": {
   "codemirror_mode": {
    "name": "ipython",
    "version": 3
   },
   "file_extension": ".py",
   "mimetype": "text/x-python",
   "name": "python",
   "nbconvert_exporter": "python",
   "pygments_lexer": "ipython3",
   "version": "3.11.4"
  }
 },
 "nbformat": 4,
 "nbformat_minor": 4
}
