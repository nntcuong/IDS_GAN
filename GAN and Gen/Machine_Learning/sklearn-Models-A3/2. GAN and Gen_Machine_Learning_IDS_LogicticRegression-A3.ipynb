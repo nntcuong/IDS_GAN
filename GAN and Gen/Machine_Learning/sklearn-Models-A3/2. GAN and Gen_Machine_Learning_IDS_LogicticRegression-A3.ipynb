{
 "cells": [
  {
   "cell_type": "markdown",
   "metadata": {
    "colab_type": "text",
    "id": "m27n3nFSTSv2"
   },
   "source": [
    "#**0. Thư viện**"
   ]
  },
  {
   "cell_type": "markdown",
   "metadata": {
    "colab_type": "text",
    "id": "08Q42YHGbvLT"
   },
   "source": [
    "##Cài đặt "
   ]
  },
  {
   "cell_type": "code",
   "execution_count": 2,
   "metadata": {
    "colab": {
     "base_uri": "https://localhost:8080/",
     "height": 136
    },
    "colab_type": "code",
    "executionInfo": {
     "elapsed": 22692,
     "status": "ok",
     "timestamp": 1594450486351,
     "user": {
      "displayName": "Tien LE KHAC",
      "photoUrl": "https://lh3.googleusercontent.com/a-/AOh14GhATILfEwLuvrRlBGPMrmY7nclZNsxGKzoqqHB_Cg=s64",
      "userId": "18298916241916904857"
     },
     "user_tz": -420
    },
    "id": "u7ZZvZaAbM1J",
    "outputId": "47d2f054-d3a0-4b13-ac3a-15de69df2a9d"
   },
   "outputs": [
    {
     "name": "stdout",
     "output_type": "stream",
     "text": [
      "Collecting adabound\n",
      "  Downloading https://files.pythonhosted.org/packages/cd/44/0c2c414effb3d9750d780b230dbb67ea48ddc5d9a6d7a9b7e6fcc6bdcff9/adabound-0.0.5-py3-none-any.whl\n",
      "Requirement already satisfied: torch>=0.4.0 in /usr/local/lib/python3.6/dist-packages (from adabound) (1.5.1+cu101)\n",
      "Requirement already satisfied: numpy in /usr/local/lib/python3.6/dist-packages (from torch>=0.4.0->adabound) (1.18.5)\n",
      "Requirement already satisfied: future in /usr/local/lib/python3.6/dist-packages (from torch>=0.4.0->adabound) (0.16.0)\n",
      "Installing collected packages: adabound\n",
      "Successfully installed adabound-0.0.5\n"
     ]
    }
   ],
   "source": [
    "!pip3 install adabound\n",
    "# !pip3 numpy torc sklearn matplotlib pandas"
   ]
  },
  {
   "cell_type": "code",
   "execution_count": 1,
   "metadata": {},
   "outputs": [],
   "source": [
    "%run models.py"
   ]
  },
  {
   "cell_type": "code",
   "execution_count": 2,
   "metadata": {},
   "outputs": [],
   "source": [
    "%run constants.py"
   ]
  },
  {
   "cell_type": "markdown",
   "metadata": {
    "colab_type": "text",
    "id": "mt5O3Y-fb5Du"
   },
   "source": [
    "##Import"
   ]
  },
  {
   "cell_type": "code",
   "execution_count": 3,
   "metadata": {
    "colab": {
     "base_uri": "https://localhost:8080/",
     "height": 34
    },
    "colab_type": "code",
    "executionInfo": {
     "elapsed": 29181,
     "status": "ok",
     "timestamp": 1594450492862,
     "user": {
      "displayName": "Tien LE KHAC",
      "photoUrl": "https://lh3.googleusercontent.com/a-/AOh14GhATILfEwLuvrRlBGPMrmY7nclZNsxGKzoqqHB_Cg=s64",
      "userId": "18298916241916904857"
     },
     "user_tz": -420
    },
    "id": "YIQ708lZS2lF",
    "outputId": "d29986d4-e2d5-4ae7-b28a-6a7e1f74fff4"
   },
   "outputs": [],
   "source": [
    "import numpy as np\n",
    "import pandas as pd\n",
    "import torch as th\n",
    "from torch.autograd import Variable as V\n",
    "import torch.autograd as autograd\n",
    "import torch.nn as nn\n",
    "import torch.nn.functional as F\n",
    "import torch.optim as optim\n",
    "from sklearn.utils import shuffle\n",
    "from sklearn.metrics import confusion_matrix\n",
    "import pickle\n",
    "\n",
    "\n",
    "\n",
    "# Own Custom Module to import models and constants\n",
    "from models import *\n",
    "from constants import *\n",
    "\n",
    "import matplotlib.pyplot as plt\n",
    "import adabound \n",
    "import math\n",
    "import os\n",
    "from datetime import date\n",
    "import timeit"
   ]
  },
  {
   "cell_type": "markdown",
   "metadata": {
    "colab_type": "text",
    "id": "DZkqASdBS-QA"
   },
   "source": [
    "#**1. Chuẩn bị**"
   ]
  },
  {
   "cell_type": "markdown",
   "metadata": {
    "colab_type": "text",
    "id": "3rFWSSBQF99E"
   },
   "source": [
    "##Paths"
   ]
  },
  {
   "cell_type": "code",
   "execution_count": 4,
   "metadata": {
    "colab": {},
    "colab_type": "code",
    "executionInfo": {
     "elapsed": 29174,
     "status": "ok",
     "timestamp": 1594450492864,
     "user": {
      "displayName": "Tien LE KHAC",
      "photoUrl": "https://lh3.googleusercontent.com/a-/AOh14GhATILfEwLuvrRlBGPMrmY7nclZNsxGKzoqqHB_Cg=s64",
      "userId": "18298916241916904857"
     },
     "user_tz": -420
    },
    "id": "uW-RHzMwdsG5"
   },
   "outputs": [],
   "source": [
    "\n",
    "\n",
    "base_path = \"E:/An toàn thông tin/Code/\"\n",
    "Dataset_Path = \"E:/An toàn thông tin/Code/Dataset/NSL-KDD Processed/Final - For Using/\"\n",
    "SavedModelPath = base_path + \"Saved Model/\"\n",
    "\n",
    "# Dataset Path\n",
    "Trainsets_Path = Dataset_Path + \"Trainset/\"\n",
    "g_trainset_path = Trainsets_Path + \"GAN-G.csv\"\n",
    "d_trainset_path = Trainsets_Path + \"GAN-D.csv\"\n",
    "testset_path = Dataset_Path + \"Testset/\" + \"KDDTest+.csv\"\n",
    "\n",
    "# GAN Saved Models Paths\n",
    "GAN_Model_Path = SavedModelPath + \"GANModel/\"\n",
    "\n",
    "# IDS Pytorch Saved Models Paths\n",
    "IDS_Saved_Path = SavedModelPath + \"IDSModel/\""
   ]
  },
  {
   "cell_type": "markdown",
   "metadata": {
    "colab_type": "text",
    "id": "XwTYqTdfF-wS"
   },
   "source": [
    "##Global Variables"
   ]
  },
  {
   "cell_type": "code",
   "execution_count": 5,
   "metadata": {
    "colab": {},
    "colab_type": "code",
    "executionInfo": {
     "elapsed": 29171,
     "status": "ok",
     "timestamp": 1594450492865,
     "user": {
      "displayName": "Tien LE KHAC",
      "photoUrl": "https://lh3.googleusercontent.com/a-/AOh14GhATILfEwLuvrRlBGPMrmY7nclZNsxGKzoqqHB_Cg=s64",
      "userId": "18298916241916904857"
     },
     "user_tz": -420
    },
    "id": "8rBB0NLwGAce"
   },
   "outputs": [],
   "source": [
    "# Global Variables\n",
    "N_FEATURES = 41\n",
    "# IDS\n",
    "IDS_INPUT_DIM = N_FEATURES\n",
    "IDS_OUTPUT_DIM = 2\n",
    "ATTACK_CATEGORIES = ['DOS', 'U2R_AND_R2L']\n",
    "\n",
    "POS_FUNCTIONAL_FEATURES = {'DOS': DOS_FEATURES, 'U2R_AND_R2L': U2R_AND_R2L_FEATURES}\n",
    "POS_NONFUNCTIONAL_FEATURES = {}\n",
    "for attack_category, pos_functional_feature in POS_FUNCTIONAL_FEATURES.items():\n",
    "    pos_nonfunctional_feature = []\n",
    "    for i in range(N_FEATURES):\n",
    "        if i not in pos_functional_feature:\n",
    "            pos_nonfunctional_feature.append(i)\n",
    "    POS_NONFUNCTIONAL_FEATURES[attack_category] = pos_nonfunctional_feature\n",
    "\n",
    "IDS_MODELS = {'GaussianNB', 'MultinomialNB', 'ComplementNB', 'BernoulliNB', 'DT', 'RF', 'KNN'}"
   ]
  },
  {
   "cell_type": "code",
   "execution_count": 6,
   "metadata": {
    "colab": {
     "base_uri": "https://localhost:8080/",
     "height": 105
    },
    "colab_type": "code",
    "executionInfo": {
     "elapsed": 29157,
     "status": "ok",
     "timestamp": 1594450492866,
     "user": {
      "displayName": "Tien LE KHAC",
      "photoUrl": "https://lh3.googleusercontent.com/a-/AOh14GhATILfEwLuvrRlBGPMrmY7nclZNsxGKzoqqHB_Cg=s64",
      "userId": "18298916241916904857"
     },
     "user_tz": -420
    },
    "id": "hlE7gDk07ybi",
    "outputId": "1b02c652-d159-4244-cb36-15cfa9a2a235"
   },
   "outputs": [
    {
     "name": "stdout",
     "output_type": "stream",
     "text": [
      "Position of Functional Features\n",
      "   {'DOS': [0, 1, 2, 3, 4, 5, 6, 7, 8, 23, 24, 25, 26, 27, 28, 29, 30], 'U2R_AND_R2L': [0, 1, 2, 3, 4, 5, 6, 7, 8, 9, 10, 11, 12, 13, 14, 15, 16, 17, 18, 19, 20, 21, 22]}\n",
      "Position of Functional Features:\n",
      "   {'DOS': [9, 10, 11, 12, 13, 14, 15, 16, 17, 18, 19, 20, 21, 22, 31, 32, 33, 34, 35, 36, 37, 38, 39, 40], 'U2R_AND_R2L': [23, 24, 25, 26, 27, 28, 29, 30, 31, 32, 33, 34, 35, 36, 37, 38, 39, 40]}\n"
     ]
    }
   ],
   "source": [
    "print('Position of Functional Features\\n  ', POS_FUNCTIONAL_FEATURES)\n",
    "print('Position of Functional Features:\\n  ', POS_NONFUNCTIONAL_FEATURES)"
   ]
  },
  {
   "cell_type": "markdown",
   "metadata": {
    "colab_type": "text",
    "id": "otbVJEAzcTv4"
   },
   "source": [
    "# **2. Định nghĩa Model**"
   ]
  },
  {
   "cell_type": "markdown",
   "metadata": {
    "colab_type": "text",
    "id": "FVn0MzP1HW_0"
   },
   "source": [
    "##Models"
   ]
  },
  {
   "cell_type": "code",
   "execution_count": 7,
   "metadata": {
    "colab": {},
    "colab_type": "code",
    "executionInfo": {
     "elapsed": 29152,
     "status": "ok",
     "timestamp": 1594450492866,
     "user": {
      "displayName": "Tien LE KHAC",
      "photoUrl": "https://lh3.googleusercontent.com/a-/AOh14GhATILfEwLuvrRlBGPMrmY7nclZNsxGKzoqqHB_Cg=s64",
      "userId": "18298916241916904857"
     },
     "user_tz": -420
    },
    "id": "sqogk9lIw_Uk"
   },
   "outputs": [],
   "source": [
    "# Load from model.py module"
   ]
  },
  {
   "cell_type": "markdown",
   "metadata": {
    "colab_type": "text",
    "id": "MdPRWEuxBAcd"
   },
   "source": [
    "##Functions"
   ]
  },
  {
   "cell_type": "markdown",
   "metadata": {
    "colab_type": "text",
    "id": "TcJBwwXf924F"
   },
   "source": [
    "### Processing Data Functions"
   ]
  },
  {
   "cell_type": "code",
   "execution_count": 8,
   "metadata": {
    "colab": {},
    "colab_type": "code",
    "executionInfo": {
     "elapsed": 29148,
     "status": "ok",
     "timestamp": 1594450492867,
     "user": {
      "displayName": "Tien LE KHAC",
      "photoUrl": "https://lh3.googleusercontent.com/a-/AOh14GhATILfEwLuvrRlBGPMrmY7nclZNsxGKzoqqHB_Cg=s64",
      "userId": "18298916241916904857"
     },
     "user_tz": -420
    },
    "id": "r81eRs5hx8Lf"
   },
   "outputs": [],
   "source": [
    "# Processing Data Functions\n",
    "# create_batch2 - Hàm tạo Batch\n",
    "def create_batch2(x,batch_size):\n",
    "    a = list(range(len(x)))\n",
    "    np.random.shuffle(a)\n",
    "    x = x[a]\n",
    "    batch_x = [x[batch_size * i : (i+1)*batch_size,:] for i in range(len(x)//batch_size)]\n",
    "    return np.array(batch_x)\n",
    "# preprocess_malicious_data - Hàm tiền xử lý dữ liệu tấn công\n",
    "def preprocess_malicious_data(dataset, attack_category):\n",
    "    if attack_category != 'DOS' and attack_category != 'U2R_AND_R2L':\n",
    "      raise ValueError(\"Preprocess Data Fail: Invalid Attack Category\")\n",
    "    attack_data = dataset[dataset['class'] == attack_category]\n",
    "    del attack_data[\"class\"]\n",
    "    return np.array(attack_data)"
   ]
  },
  {
   "cell_type": "markdown",
   "metadata": {
    "colab_type": "text",
    "id": "fM7pjZa999Ht"
   },
   "source": [
    "### IDS Functions"
   ]
  },
  {
   "cell_type": "code",
   "execution_count": 9,
   "metadata": {
    "colab": {},
    "colab_type": "code",
    "executionInfo": {
     "elapsed": 29145,
     "status": "ok",
     "timestamp": 1594450492868,
     "user": {
      "displayName": "Tien LE KHAC",
      "photoUrl": "https://lh3.googleusercontent.com/a-/AOh14GhATILfEwLuvrRlBGPMrmY7nclZNsxGKzoqqHB_Cg=s64",
      "userId": "18298916241916904857"
     },
     "user_tz": -420
    },
    "id": "Ukp0y2LiyGmy"
   },
   "outputs": [],
   "source": [
    "# IDS Functions\n",
    "# get_sklearn_ids_path - Get path for sklearn IDS Models\n",
    "def get_sklearn_ids_path(model_name, attack_category, created_date):\n",
    "    if attack_category != 'DOS' and attack_category != 'U2R_AND_R2L':\n",
    "        raise ValueError(\"Preprocess Data Fail: Invalid Attack Category\")\n",
    "    ids_path = str(f\"{IDS_Saved_Path}{attack_category}/Machine_Learning/created_date_{created_date}_{model_name}.pkl\")\n",
    "    if not os.path.exists(ids_path):\n",
    "        raise ValueError(f\"Invalid path: {ids_path}\\nNot exist file!\")\n",
    "    return ids_path\n",
    "# load_pytorch_ids_model - Load PyTorch IDS Models\n",
    "def load_sklearn_ids_model(model_name, attack_category, created_date):\n",
    "    ids_model_path = get_sklearn_ids_path(model_name, attack_category, created_date)\n",
    "    with open(ids_model_path, 'rb') as file:\n",
    "        pickle_model = pickle.load(file)\n",
    "        print(f\"Loaded Model From Disk: {ids_model_path}\")\n",
    "    return pickle_model"
   ]
  },
  {
   "cell_type": "markdown",
   "metadata": {
    "colab_type": "text",
    "id": "J9Q5DryD-Dl0"
   },
   "source": [
    "### GAN Functions"
   ]
  },
  {
   "cell_type": "code",
   "execution_count": 10,
   "metadata": {
    "colab": {},
    "colab_type": "code",
    "executionInfo": {
     "elapsed": 929,
     "status": "ok",
     "timestamp": 1594459156130,
     "user": {
      "displayName": "Tien LE KHAC",
      "photoUrl": "https://lh3.googleusercontent.com/a-/AOh14GhATILfEwLuvrRlBGPMrmY7nclZNsxGKzoqqHB_Cg=s64",
      "userId": "18298916241916904857"
     },
     "user_tz": -420
    },
    "id": "tV5MHCxUA-8G"
   },
   "outputs": [],
   "source": [
    "# GAN Functions\n",
    "# init_generator - Khoi tao model GAN-G\n",
    "def init_generator(input_dim, output_dim, adversarial_attack_type = 1):\n",
    "    if adversarial_attack_type == 1:\n",
    "        generator = Generator_A1(input_dim, output_dim)\n",
    "    elif adversarial_attack_type == 2:\n",
    "        generator = Generator_A2(input_dim, output_dim)\n",
    "    elif adversarial_attack_type == 3:\n",
    "        '''\n",
    "            adversarial_attack_type 3: G-input is nonfunctional feature, G-out is adversarial nonfuncitonal feature.\n",
    "            --> input_dim = output_dim = len(nonfunctional_features)\n",
    "        ''' \n",
    "        generator = Generator_A2(output_dim, output_dim)\n",
    "    else:\n",
    "        raise ValueError(\"Init GAN - Generator: Invalid Adversarial Attack Type\")\n",
    "    return generator\n",
    "\n",
    "# gen_adversarial_attack - Tao luu luong tan cong doi khang\n",
    "def gen_adversarial_attack(generator, noise_dim, raw_attack, attack_category, adversarial_attack_type = 1):\n",
    "    if adversarial_attack_type == 1:\n",
    "        adversarial_attack = generator(noise_dim, raw_attack, attack_category, POS_NONFUNCTIONAL_FEATURES)\n",
    "    elif adversarial_attack_type == 2:\n",
    "        batch_size = len(raw_attack)\n",
    "        noise = V(th.Tensor(np.random.uniform(0,1,(batch_size, noise_dim))))\n",
    "        generator_out = generator(noise)\n",
    "        adversarial_attack = gen_adversarial_attack_a2(generator_out, raw_attack, attack_category, POS_NONFUNCTIONAL_FEATURES)\n",
    "    elif  adversarial_attack_type == 3:\n",
    "        pos_nonfunctional_feature = POS_NONFUNCTIONAL_FEATURES[attack_category]\n",
    "        # get nonfunctional features val\n",
    "        nonfunctional_feature = raw_attack[:, pos_nonfunctional_feature]\n",
    "        generator_out = generator(nonfunctional_feature)\n",
    "        adversarial_attack = gen_adversarial_attack_a2(generator_out, raw_attack, attack_category, POS_NONFUNCTIONAL_FEATURES)\n",
    "    else:\n",
    "        raise ValueError(\"Init GAN - Generator: Invalid Adversarial Attack Type\")\n",
    "    return adversarial_attack\n",
    "\n",
    "# train_generator - Train Generator\n",
    "def train_generator(generator, discriminator, optimizer_G, noise_dim, attack_traffic, attack_category, adversarial_attack_type):\n",
    "    for p in discriminator.parameters():  \n",
    "        p.requires_grad = False\n",
    "    optimizer_G.zero_grad()        \n",
    "    # GAN-G Generate Adversarial Attack\n",
    "    adversarial_attack = gen_adversarial_attack(generator, noise_dim, attack_traffic, attack_category, adversarial_attack_type)\n",
    "    # GAN-D predict, GAN-G update parameter\n",
    "    D_pred = discriminator(adversarial_attack)\n",
    "    g_loss = -th.mean(D_pred)\n",
    "    g_loss.backward()\n",
    "    optimizer_G.step()\n",
    "    return g_loss\n",
    "\n",
    "# train_discriminator - Train Discriminator\n",
    "def train_discriminator(discriminator, ids_model, generator, critic_iters, clamp, optimizer_D, normal_b, noise_dim, attack_traffic, attack_category, adversarial_attack_type):\n",
    "    run_d_loss = 0\n",
    "    cnt = 0\n",
    "    for p in discriminator.parameters(): \n",
    "        p.requires_grad = True\n",
    "    for c in range(critic_iters):\n",
    "        optimizer_D.zero_grad()\n",
    "        for p in discriminator.parameters():\n",
    "            p.data.clamp_(-clamp, clamp)\n",
    "        # GAN-G Generate Adversarial Attack\n",
    "        adversarial_attack = gen_adversarial_attack(generator, noise_dim, attack_traffic, attack_category, adversarial_attack_type)\n",
    "        # Make data to feed IDS\n",
    "        ids_input = th.cat((adversarial_attack,normal_b))\n",
    "        l = list(range(len(ids_input)))\n",
    "        np.random.shuffle(l)\n",
    "        ids_input = V(th.Tensor(ids_input[l]))\n",
    "        # IDS Predict\n",
    "        ids_pred_label = V(th.Tensor(ids_model.predict(ids_input)))\n",
    "        pred_normal = ids_input[ids_pred_label==0]\n",
    "        pred_attack = ids_input[ids_pred_label==1]\n",
    "        if len(pred_attack) == 0:\n",
    "            cnt += 1\n",
    "            break\n",
    "        # Make GAN-D input\n",
    "        D_noraml = discriminator(V(th.Tensor(pred_normal)))\n",
    "        D_attack= discriminator(V(th.Tensor(pred_attack)))\n",
    "        # Loss and Update Parameter\n",
    "        loss_normal = th.mean(D_noraml)\n",
    "        loss_attack = th.mean(D_attack)\n",
    "        gradient_penalty = compute_gradient_penalty(discriminator, normal_b.data, adversarial_attack.data)\n",
    "        d_loss = loss_attack - loss_normal #+ LAMBDA * gradient_penalty\n",
    "        d_loss.backward()\n",
    "        optimizer_D.step()\n",
    "        run_d_loss += d_loss.item()\n",
    "    return run_d_loss, cnt\n",
    "\n",
    "# compute_gradient_penalty - Compute Gradient Penalty\n",
    "def compute_gradient_penalty(D, normal_t, attack_t):\n",
    "    alpha = th.Tensor(np.random.random((normal_t.shape[0], 1)))\n",
    "    between_n_a = (alpha * normal_t + ((1 - alpha) * attack_t)).requires_grad_(True)\n",
    "    d_between_n_a = D(between_n_a)\n",
    "    adv = V(th.Tensor(normal_t.shape[0], 1).fill_(1.0), requires_grad=False)\n",
    "\n",
    "    gradients = autograd.grad(\n",
    "        outputs=d_between_n_a,\n",
    "        inputs=between_n_a,\n",
    "        grad_outputs=adv,\n",
    "        create_graph=True,\n",
    "        retain_graph=True,\n",
    "        only_inputs=True,\n",
    "    )[0]\n",
    "    gradients = gradients.view(gradients.size(0), -1)\n",
    "    gradient_penalty = ((gradients.norm(2, dim=1) - 1) ** 2).mean()\n",
    "    return gradient_penalty"
   ]
  },
  {
   "cell_type": "markdown",
   "metadata": {
    "colab_type": "text",
    "id": "jRhNLI_jSKIg"
   },
   "source": [
    "### Generate Adversarial Attack Functions"
   ]
  },
  {
   "cell_type": "code",
   "execution_count": 11,
   "metadata": {
    "colab": {},
    "colab_type": "code",
    "executionInfo": {
     "elapsed": 29137,
     "status": "ok",
     "timestamp": 1594450492869,
     "user": {
      "displayName": "Tien LE KHAC",
      "photoUrl": "https://lh3.googleusercontent.com/a-/AOh14GhATILfEwLuvrRlBGPMrmY7nclZNsxGKzoqqHB_Cg=s64",
      "userId": "18298916241916904857"
     },
     "user_tz": -420
    },
    "id": "RyrR7KLNSPtu"
   },
   "outputs": [],
   "source": [
    "# cal_dr - Tinh DR\n",
    "def cal_dr(ids_model, normal, raw_attack, adversarial_attack):\n",
    "    # Make data to feed IDS contain: Attack & Normal\n",
    "    o_ids_input = th.cat((raw_attack, normal))\n",
    "    a_ids_input = th.cat((adversarial_attack,normal))\n",
    "    # Shuffle Input\n",
    "    l = list(range(len(a_ids_input)))\n",
    "    np.random.shuffle(l)\n",
    "    o_ids_input = o_ids_input[l]\n",
    "    a_ids_input = a_ids_input[l]\n",
    "    # IDS Predict Label\n",
    "    o_pred_label = th.Tensor(ids_model.predict(o_ids_input))\n",
    "    a_pred_label = th.Tensor(ids_model.predict(a_ids_input))\n",
    "    # True Label\n",
    "    ids_true_label = np.r_[np.ones(BATCH_SIZE),np.zeros(BATCH_SIZE)][l]\n",
    "    # Calc DR\n",
    "    tn1, fn1, fp1, tp1 = confusion_matrix(ids_true_label,o_pred_label).ravel()\n",
    "    tn2, fn2, fp2, tp2 = confusion_matrix(ids_true_label,a_pred_label).ravel()\n",
    "    origin_dr = tp1/(tp1 + fp1)\n",
    "    adversarial_dr = tp2/(tp2 + fp2)\n",
    "    return origin_dr, adversarial_dr"
   ]
  },
  {
   "cell_type": "markdown",
   "metadata": {
    "colab_type": "text",
    "id": "nDp5Uy_HaShp"
   },
   "source": [
    "# **3. Run Model**"
   ]
  },
  {
   "cell_type": "code",
   "execution_count": 12,
   "metadata": {
    "cellView": "both",
    "colab": {},
    "colab_type": "code",
    "executionInfo": {
     "elapsed": 922,
     "status": "ok",
     "timestamp": 1594460296261,
     "user": {
      "displayName": "Tien LE KHAC",
      "photoUrl": "https://lh3.googleusercontent.com/a-/AOh14GhATILfEwLuvrRlBGPMrmY7nclZNsxGKzoqqHB_Cg=s64",
      "userId": "18298916241916904857"
     },
     "user_tz": -420
    },
    "id": "7hTHJcBcRKjg"
   },
   "outputs": [],
   "source": [
    "ids_model_name = \"LogicticRegression\" #@param ['GaussianNB', 'MultinomialNB', 'ComplementNB', 'BernoulliNB', 'DT', 'RF', 'KNN', 'LogicticRegression']\n",
    "MAX_EPOCH = 100 #@param [\"10\", \"100\"] {type:\"raw\"}\n",
    "ids_created_date = '2023-11-24' "
   ]
  },
  {
   "cell_type": "markdown",
   "metadata": {
    "colab_type": "text",
    "id": "s8tEzhBNxvGM"
   },
   "source": [
    "##**3.1 Run IDSGAN**"
   ]
  },
  {
   "cell_type": "code",
   "execution_count": 13,
   "metadata": {
    "colab": {},
    "colab_type": "code",
    "executionInfo": {
     "elapsed": 29131,
     "status": "ok",
     "timestamp": 1594450492872,
     "user": {
      "displayName": "Tien LE KHAC",
      "photoUrl": "https://lh3.googleusercontent.com/a-/AOh14GhATILfEwLuvrRlBGPMrmY7nclZNsxGKzoqqHB_Cg=s64",
      "userId": "18298916241916904857"
     },
     "user_tz": -420
    },
    "id": "j01YlgClq7yq"
   },
   "outputs": [],
   "source": [
    "# Hyber Parameters\n",
    "BATCH_SIZE = 64\n",
    "learning_rate = 0.0001\n",
    "LAMBDA = 10\n",
    "CLAMP = 0.01\n",
    "CRITIC_ITERS = 5          # For WGAN and WGAN-GP, number of critic iters per gen iter\n",
    "\n",
    "# GAN-D\n",
    "D_INPUT_DIM = N_FEATURES\n",
    "D_OUTPUT_DIM = 1\n",
    "discriminator = Discriminator(D_INPUT_DIM,D_OUTPUT_DIM)\n",
    "optimizer_D = optim.RMSprop(discriminator.parameters(), lr=learning_rate)\n",
    "\n",
    "# GAN-G\n",
    "NOISE_DIM = 9\n",
    "G_INPUT_DIM = NOISE_DIM     # Generator input dimension is dimention of noise"
   ]
  },
  {
   "cell_type": "code",
   "execution_count": 14,
   "metadata": {
    "colab": {
     "base_uri": "https://localhost:8080/",
     "height": 51
    },
    "colab_type": "code",
    "executionInfo": {
     "elapsed": 30950,
     "status": "ok",
     "timestamp": 1594450494708,
     "user": {
      "displayName": "Tien LE KHAC",
      "photoUrl": "https://lh3.googleusercontent.com/a-/AOh14GhATILfEwLuvrRlBGPMrmY7nclZNsxGKzoqqHB_Cg=s64",
      "userId": "18298916241916904857"
     },
     "user_tz": -420
    },
    "id": "xG09yA2D9bzg",
    "outputId": "81a6e451-ff17-4313-d54e-42f8e67dea68"
   },
   "outputs": [
    {
     "name": "stdout",
     "output_type": "stream",
     "text": [
      "Amout of Generator Trainset: 23488\n",
      "Amout of Discriminator Trainset: 33672\n"
     ]
    }
   ],
   "source": [
    "# Get today to set created time for GAN models\n",
    "today = str(date.today())\n",
    "\n",
    "## Prepare Dataset\n",
    "g_train_data = pd.read_csv(g_trainset_path)\n",
    "d_train_data = pd.read_csv(d_trainset_path)\n",
    "\n",
    "# All normal record in train_data\n",
    "del d_train_data[\"class\"]\n",
    "normal = np.array(d_train_data)\n",
    "\n",
    "print(\"Amout of Generator Trainset:\", g_train_data.shape[0])\n",
    "print(\"Amout of Discriminator Trainset:\", d_train_data.shape[0])"
   ]
  },
  {
   "cell_type": "code",
   "execution_count": 16,
   "metadata": {
    "colab": {
     "base_uri": "https://localhost:8080/",
     "height": 1000
    },
    "colab_type": "code",
    "executionInfo": {
     "elapsed": 2414283,
     "status": "ok",
     "timestamp": 1594452878061,
     "user": {
      "displayName": "Tien LE KHAC",
      "photoUrl": "https://lh3.googleusercontent.com/a-/AOh14GhATILfEwLuvrRlBGPMrmY7nclZNsxGKzoqqHB_Cg=s64",
      "userId": "18298916241916904857"
     },
     "user_tz": -420
    },
    "id": "m9C1uFo0vnv7",
    "outputId": "356340c5-d07f-4909-9cbf-7e4cef0edbcb"
   },
   "outputs": [
    {
     "name": "stdout",
     "output_type": "stream",
     "text": [
      "======================================== TRAINING GAN ========================================\n",
      "================================================================================\n",
      " IDS Model: LogicticRegression\n",
      "********************************************************************************\n",
      " Adversarial Attack Type : 3\n",
      "--------------------------------------------------------------------------------\n",
      " Attack Category: DOS\n",
      "Loaded Model From Disk: E:/An toàn thông tin/Code/Saved Model/IDSModel/DOS/Machine_Learning/created_date_2023-11-24_LogicticRegression.pkl\n",
      "-->IDSGAN start training\n",
      "     Epoch          G-Loss          D-Loss         O-DR(%)         A-DR(%)      Runtime(s)\n",
      "         1           -5.06           -1.03           97.00            0.85           15.55\n",
      "         2           -6.89           -1.00           97.00            0.01           12.66\n",
      "         3           -8.19           -1.44           97.00            0.00           12.37\n",
      "         4          -10.02           -1.92           97.00            0.00           12.42\n",
      "         5          -10.18           -1.93           97.00            0.00           12.20\n",
      "         6          -10.04           -1.92           97.00            0.00           12.09\n",
      "         7          -10.00           -1.94           97.00            0.00           12.30\n",
      "         8           -9.95           -1.93           97.00            0.00           12.09\n",
      "         9           -9.95           -1.84           97.00            0.00           11.91\n",
      "        10          -10.00           -1.99           97.00            0.00           12.29\n",
      "      -> Generator 10 epoch is saved  to: E:/An toàn thông tin/Code/Saved Model/GANModel/LogicticRegression/DOS/Generator/3/10epoch_time_created_2023-11-27.pth\n",
      "        11           -9.95           -1.86           97.00            0.00           12.03\n",
      "        12           -9.98           -2.07           97.00            0.00           12.41\n",
      "        13           -9.97           -2.02           97.00            0.00           12.63\n",
      "        14           -9.96           -2.11           97.00            0.00           12.44\n",
      "        15           -9.97           -2.02           97.00            0.00           14.89\n",
      "        16           -9.97           -1.98           97.00            0.00           17.23\n",
      "        17           -9.98           -2.00           97.00            0.00           13.79\n",
      "        18           -9.97           -1.88           97.00            0.00           12.24\n",
      "        19           -9.95           -1.93           97.00            0.00           12.81\n",
      "        20           -9.97           -1.98           97.00            0.00           13.34\n",
      "      -> Generator 20 epoch is saved  to: E:/An toàn thông tin/Code/Saved Model/GANModel/LogicticRegression/DOS/Generator/3/20epoch_time_created_2023-11-27.pth\n",
      "        21           -9.98           -1.96           97.00            0.00           13.07\n",
      "        22           -9.98           -1.95           97.00            0.00           13.50\n",
      "        23           -9.98           -1.96           97.00            0.00           13.34\n",
      "        24           -9.92           -1.98           97.00            0.00           15.64\n",
      "        25           -9.96           -1.99           97.00            0.00           15.05\n",
      "        26           -9.96           -1.90           97.00            0.00           14.50\n",
      "        27           -9.95           -2.06           97.00            0.00           13.44\n",
      "        28           -9.95           -1.94           97.00            0.00           14.91\n",
      "        29           -9.96           -1.90           97.00            0.00           13.55\n",
      "        30           -9.95           -1.98           97.00            0.00           13.10\n",
      "      -> Generator 30 epoch is saved  to: E:/An toàn thông tin/Code/Saved Model/GANModel/LogicticRegression/DOS/Generator/3/30epoch_time_created_2023-11-27.pth\n",
      "        31           -9.97           -2.01           97.00            0.00           13.22\n",
      "        32           -9.98           -1.98           97.00            0.00           13.43\n",
      "        33           -9.95           -1.96           97.00            0.00           13.24\n",
      "        34           -9.94           -1.93           97.00            0.00           12.36\n",
      "        35           -9.98           -1.92           97.00            0.00           12.16\n",
      "        36           -9.97           -1.91           97.00            0.00           12.16\n",
      "        37           -9.96           -1.94           97.00            0.00           14.24\n",
      "        38           -9.97           -1.99           97.00            0.00           15.29\n",
      "        39           -9.97           -1.96           97.00            0.00           15.15\n",
      "        40           -9.94           -1.92           97.00            0.00           15.71\n",
      "      -> Generator 40 epoch is saved  to: E:/An toàn thông tin/Code/Saved Model/GANModel/LogicticRegression/DOS/Generator/3/40epoch_time_created_2023-11-27.pth\n",
      "        41           -9.99           -1.93           97.00            0.00           15.50\n",
      "        42           -9.98           -1.98           97.00            0.00           15.66\n",
      "        43           -9.94           -1.94           97.00            0.00           13.47\n",
      "        44           -9.99           -1.90           97.00            0.00           14.38\n",
      "        45           -9.98           -1.90           97.00            0.00           14.20\n",
      "        46           -9.97           -1.94           97.00            0.00           15.07\n",
      "        47          -10.00           -1.93           97.00            0.00           14.12\n",
      "        48           -9.97           -1.88           97.00            0.00           12.83\n",
      "        49           -9.94           -1.97           97.00            0.00           12.83\n",
      "        50           -9.96           -1.90           97.00            0.00           11.87\n",
      "      -> Generator 50 epoch is saved  to: E:/An toàn thông tin/Code/Saved Model/GANModel/LogicticRegression/DOS/Generator/3/50epoch_time_created_2023-11-27.pth\n",
      "        51           -9.96           -1.99           97.00            0.00           12.46\n",
      "        52           -9.99           -1.93           97.00            0.00           14.11\n",
      "        53           -9.96           -1.98           97.00            0.00           13.16\n",
      "        54           -9.97           -1.93           97.00            0.00           12.76\n",
      "        55           -9.95           -1.87           97.00            0.00           12.51\n",
      "        56           -9.96           -1.99           97.00            0.00           13.09\n",
      "        57           -9.98           -1.95           97.00            0.00           13.46\n",
      "        58           -9.95           -1.87           97.00            0.00           12.62\n",
      "        59          -10.00           -1.90           97.00            0.00           13.07\n",
      "        60           -9.98           -2.04           97.00            0.00           12.96\n",
      "      -> Generator 60 epoch is saved  to: E:/An toàn thông tin/Code/Saved Model/GANModel/LogicticRegression/DOS/Generator/3/60epoch_time_created_2023-11-27.pth\n",
      "        61           -9.97           -2.00           97.00            0.00           14.24\n",
      "        62           -9.96           -1.80           97.00            0.00           13.22\n",
      "        63           -9.96           -1.87           97.00            0.00           12.87\n",
      "        64           -9.95           -1.89           97.00            0.00           12.78\n",
      "        65           -9.98           -1.99           97.00            0.00           13.30\n",
      "        66           -9.96           -1.86           97.00            0.00           12.86\n",
      "        67           -9.96           -1.90           97.00            0.00           13.24\n",
      "        68           -9.95           -1.95           97.00            0.00           12.59\n",
      "        69           -9.99           -1.92           97.00            0.00           12.83\n",
      "        70           -9.96           -1.95           97.00            0.00           12.61\n",
      "      -> Generator 70 epoch is saved  to: E:/An toàn thông tin/Code/Saved Model/GANModel/LogicticRegression/DOS/Generator/3/70epoch_time_created_2023-11-27.pth\n",
      "        71           -9.97           -1.85           97.00            0.00           12.28\n",
      "        72           -9.95           -1.90           97.00            0.00           12.66\n",
      "        73           -9.95           -1.96           97.00            0.00           12.84\n",
      "        74           -9.96           -1.98           97.00            0.00           12.86\n",
      "        75           -9.96           -1.90           97.00            0.00           13.18\n",
      "        76           -9.96           -2.05           97.00            0.00           13.65\n",
      "        77           -9.94           -1.98           97.00            0.00           13.78\n",
      "        78           -9.95           -1.90           97.00            0.00           13.05\n",
      "        79           -9.93           -1.92           97.00            0.00           12.61\n",
      "        80          -10.02           -1.99           97.00            0.00           13.88\n",
      "      -> Generator 80 epoch is saved  to: E:/An toàn thông tin/Code/Saved Model/GANModel/LogicticRegression/DOS/Generator/3/80epoch_time_created_2023-11-27.pth\n",
      "        81           -9.97           -1.87           97.00            0.00           13.10\n",
      "        82           -9.96           -1.96           97.00            0.00           13.28\n",
      "        83           -9.98           -1.92           97.00            0.00           12.60\n",
      "        84           -9.96           -1.88           97.00            0.00           12.23\n",
      "        85           -9.95           -1.91           97.00            0.00           12.15\n",
      "        86           -9.95           -1.96           97.00            0.00           12.11\n",
      "        87           -9.95           -1.86           97.00            0.00           12.09\n",
      "        88           -9.96           -1.98           97.00            0.00           12.29\n",
      "        89           -9.94           -1.90           97.00            0.00           12.02\n",
      "        90           -9.95           -1.95           97.00            0.00           12.41\n",
      "      -> Generator 90 epoch is saved  to: E:/An toàn thông tin/Code/Saved Model/GANModel/LogicticRegression/DOS/Generator/3/90epoch_time_created_2023-11-27.pth\n",
      "        91           -9.95           -1.91           97.00            0.00           12.03\n",
      "        92           -9.96           -1.97           97.00            0.00           12.20\n",
      "        93           -9.96           -1.83           97.00            0.00           11.85\n",
      "        94           -9.92           -1.89           97.00            0.00           11.95\n",
      "        95           -9.95           -2.00           97.00            0.00           12.47\n",
      "        96           -9.95           -1.99           97.00            0.00           12.17\n",
      "        97           -9.95           -2.01           97.00            0.00           12.37\n",
      "        98           -9.96           -1.93           97.00            0.00           12.20\n",
      "        99           -9.97           -1.90           97.00            0.00           12.15\n",
      "       100           -9.95           -2.02           97.00            0.00           12.48\n",
      "      -> Generator 100 epoch is saved  to: E:/An toàn thông tin/Code/Saved Model/GANModel/LogicticRegression/DOS/Generator/3/100epoch_time_created_2023-11-27.pth\n",
      "Training Runtime: 1316.01\n",
      "IDSGAN finish training!\n"
     ]
    },
    {
     "data": {
      "image/png": "[encoded data removed]",
      "text/plain": [
       "<Figure size 640x480 with 1 Axes>"
      ]
     },
     "metadata": {},
     "output_type": "display_data"
    },
    {
     "data": {
      "image/png": "[encoded data removed]",
      "text/plain": [
       "<Figure size 640x480 with 1 Axes>"
      ]
     },
     "metadata": {},
     "output_type": "display_data"
    },
    {
     "name": "stdout",
     "output_type": "stream",
     "text": [
      "      -> Saved Discrimninator 100 epoch to: E:/An toàn thông tin/Code/Saved Model/GANModel/LogicticRegression/DOS/Discriminator/3/101epoch_time_created_2023-11-27.pth\n",
      "--------------------------------------------------------------------------------\n",
      " Attack Category: U2R_AND_R2L\n",
      "Loaded Model From Disk: E:/An toàn thông tin/Code/Saved Model/IDSModel/U2R_AND_R2L/Machine_Learning/created_date_2023-11-24_LogicticRegression.pkl\n",
      "-->IDSGAN start training\n",
      "     Epoch          G-Loss          D-Loss         O-DR(%)         A-DR(%)      Runtime(s)\n",
      "         1           -4.04           -0.30           40.43            0.00            9.39\n",
      "         2           -4.77           -0.46           40.43            0.00            9.22\n",
      "         3           -5.94           -0.60           40.43            0.00            9.81\n",
      "         4           -6.25           -0.63           40.43            0.00            9.96\n",
      "         5           -6.28           -0.62           40.43            0.00            9.64\n",
      "         6           -6.28           -0.65           40.43            0.00            9.92\n",
      "         7           -6.29           -0.62           40.43            0.00            9.45\n",
      "         8           -6.29           -0.63           40.43            0.00            9.62\n",
      "         9           -6.29           -0.67           40.43            0.00            9.34\n",
      "        10           -6.29           -0.58           40.43            0.00            8.86\n",
      "      -> Generator 10 epoch is saved  to: E:/An toàn thông tin/Code/Saved Model/GANModel/LogicticRegression/U2R_AND_R2L/Generator/3/10epoch_time_created_2023-11-27.pth\n",
      "        11           -6.29           -0.66           40.43            0.00            9.61\n",
      "        12           -6.28           -0.62           40.43            0.00            9.00\n",
      "        13           -6.31           -0.60           40.43            0.00            8.89\n",
      "        14           -6.29           -0.63           40.43            0.00            9.12\n",
      "        15           -6.29           -0.61           40.43            0.00            9.20\n",
      "        16           -6.30           -0.61           40.43            0.00            8.98\n",
      "        17           -6.29           -0.65           40.43            0.00            9.17\n",
      "        18           -6.30           -0.63           40.43            0.00            9.14\n",
      "        19           -6.31           -0.62           40.43            0.00            9.27\n",
      "        20           -6.30           -0.59           40.43            0.00            8.97\n",
      "      -> Generator 20 epoch is saved  to: E:/An toàn thông tin/Code/Saved Model/GANModel/LogicticRegression/U2R_AND_R2L/Generator/3/20epoch_time_created_2023-11-27.pth\n",
      "        21           -6.30           -0.64           40.43            0.00            9.14\n",
      "        22           -6.30           -0.66           40.43            0.00            9.43\n",
      "        23           -6.29           -0.62           40.43            0.00            9.13\n",
      "        24           -6.30           -0.64           40.43            0.00            9.05\n",
      "        25           -6.30           -0.60           40.43            0.00            9.13\n",
      "        26           -6.30           -0.62           40.43            0.00            9.12\n",
      "        27           -6.30           -0.63           40.43            0.00            9.09\n",
      "        28           -6.30           -0.65           40.43            0.00            9.23\n",
      "        29           -6.31           -0.63           40.43            0.00            9.23\n",
      "        30           -6.31           -0.64           40.43            0.00            9.22\n",
      "      -> Generator 30 epoch is saved  to: E:/An toàn thông tin/Code/Saved Model/GANModel/LogicticRegression/U2R_AND_R2L/Generator/3/30epoch_time_created_2023-11-27.pth\n",
      "        31           -6.30           -0.61           40.43            0.00            9.01\n",
      "        32           -6.31           -0.60           40.43            0.00            9.00\n",
      "        33           -6.30           -0.62           40.43            0.00            9.25\n",
      "        34           -6.30           -0.62           40.43            0.00            9.10\n",
      "        35           -6.29           -0.63           40.43            0.00            9.05\n",
      "        36           -6.30           -0.65           40.43            0.00            9.29\n",
      "        37           -6.30           -0.63           40.43            0.00            9.22\n",
      "        38           -6.30           -0.62           40.43            0.00            9.16\n",
      "        39           -6.29           -0.61           40.43            0.00            9.16\n",
      "        40           -6.30           -0.61           40.43            0.00            9.19\n",
      "      -> Generator 40 epoch is saved  to: E:/An toàn thông tin/Code/Saved Model/GANModel/LogicticRegression/U2R_AND_R2L/Generator/3/40epoch_time_created_2023-11-27.pth\n",
      "        41           -6.30           -0.60           40.43            0.00            8.99\n",
      "        42           -6.29           -0.62           40.43            0.00            9.07\n",
      "        43           -6.29           -0.62           40.43            0.00            9.02\n",
      "        44           -6.31           -0.64           40.43            0.00            9.30\n",
      "        45           -6.29           -0.63           40.43            0.00            9.23\n",
      "        46           -6.30           -0.61           40.43            0.00            9.06\n",
      "        47           -6.30           -0.62           40.43            0.00            9.36\n",
      "        48           -6.29           -0.59           40.43            0.00            9.20\n",
      "        49           -6.29           -0.63           40.43            0.00            9.89\n",
      "        50           -6.32           -0.64           40.43            0.00           10.41\n",
      "      -> Generator 50 epoch is saved  to: E:/An toàn thông tin/Code/Saved Model/GANModel/LogicticRegression/U2R_AND_R2L/Generator/3/50epoch_time_created_2023-11-27.pth\n",
      "        51           -6.29           -0.64           40.43            0.00           10.71\n",
      "        52           -6.30           -0.64           40.43            0.00            9.43\n",
      "        53           -6.31           -0.63           40.43            0.00            9.24\n",
      "        54           -6.29           -0.65           40.43            0.00            9.37\n",
      "        55           -6.30           -0.63           40.43            0.00            9.64\n",
      "        56           -6.29           -0.58           40.43            0.00            8.89\n",
      "        57           -6.30           -0.59           40.43            0.00            9.50\n",
      "        58           -6.31           -0.60           40.43            0.00            9.87\n",
      "        59           -6.30           -0.64           40.43            0.00            9.06\n",
      "        60           -6.30           -0.63           40.43            0.00            8.93\n",
      "      -> Generator 60 epoch is saved  to: E:/An toàn thông tin/Code/Saved Model/GANModel/LogicticRegression/U2R_AND_R2L/Generator/3/60epoch_time_created_2023-11-27.pth\n",
      "        61           -6.31           -0.61           40.43            0.00            8.97\n",
      "        62           -6.30           -0.64           40.43            0.00            8.88\n",
      "        63           -6.29           -0.61           40.43            0.00            8.87\n",
      "        64           -6.29           -0.64           40.43            0.00            8.93\n",
      "        65           -6.30           -0.60           40.43            0.00            8.93\n",
      "        66           -6.29           -0.65           40.43            0.00            8.97\n",
      "        67           -6.30           -0.63           40.43            0.00            9.14\n",
      "        68           -6.29           -0.62           40.43            0.00           11.06\n",
      "        69           -6.30           -0.61           40.43            0.00           11.51\n",
      "        70           -6.30           -0.64           40.43            0.00            9.59\n",
      "      -> Generator 70 epoch is saved  to: E:/An toàn thông tin/Code/Saved Model/GANModel/LogicticRegression/U2R_AND_R2L/Generator/3/70epoch_time_created_2023-11-27.pth\n",
      "        71           -6.30           -0.65           40.43            0.00           10.13\n",
      "        72           -6.30           -0.60           40.43            0.00            9.97\n",
      "        73           -6.30           -0.61           40.43            0.00            9.30\n",
      "        74           -6.29           -0.59           40.43            0.00            9.23\n",
      "        75           -6.31           -0.64           40.43            0.00            9.86\n",
      "        76           -6.29           -0.60           40.43            0.00            9.65\n",
      "        77           -6.31           -0.61           40.43            0.00            9.65\n",
      "        78           -6.30           -0.63           40.43            0.00            9.92\n",
      "        79           -6.29           -0.62           40.43            0.00            9.48\n",
      "        80           -6.31           -0.60           40.43            0.00            9.51\n",
      "      -> Generator 80 epoch is saved  to: E:/An toàn thông tin/Code/Saved Model/GANModel/LogicticRegression/U2R_AND_R2L/Generator/3/80epoch_time_created_2023-11-27.pth\n",
      "        81           -6.29           -0.62           40.43            0.00            9.97\n",
      "        82           -6.29           -0.59           40.43            0.00            9.45\n",
      "        83           -6.31           -0.63           40.43            0.00            9.69\n",
      "        84           -6.31           -0.64           40.43            0.00            9.92\n",
      "        85           -6.31           -0.62           40.43            0.00            9.37\n",
      "        86           -6.30           -0.61           40.43            0.00            9.49\n",
      "        87           -6.29           -0.62           40.43            0.00            9.25\n",
      "        88           -6.29           -0.61           40.43            0.00            9.40\n",
      "        89           -6.29           -0.62           40.43            0.00            9.64\n",
      "        90           -6.29           -0.64           40.43            0.00           10.62\n",
      "      -> Generator 90 epoch is saved  to: E:/An toàn thông tin/Code/Saved Model/GANModel/LogicticRegression/U2R_AND_R2L/Generator/3/90epoch_time_created_2023-11-27.pth\n",
      "        91           -6.31           -0.64           40.43            0.00           12.32\n",
      "        92           -6.31           -0.62           40.43            0.00           12.65\n",
      "        93           -6.29           -0.61           40.43            0.00           11.50\n",
      "        94           -6.29           -0.62           40.43            0.00           11.86\n",
      "        95           -6.30           -0.63           40.43            0.00           11.25\n",
      "        96           -6.30           -0.59           40.43            0.00           10.96\n",
      "        97           -6.30           -0.61           40.43            0.00           11.02\n",
      "        98           -6.30           -0.63           40.43            0.00           11.32\n",
      "        99           -6.30           -0.60           40.43            0.00           11.02\n",
      "       100           -6.30           -0.61           40.43            0.00           11.16\n",
      "      -> Generator 100 epoch is saved  to: E:/An toàn thông tin/Code/Saved Model/GANModel/LogicticRegression/U2R_AND_R2L/Generator/3/100epoch_time_created_2023-11-27.pth\n",
      "Training Runtime: 963.05\n",
      "IDSGAN finish training!\n"
     ]
    },
    {
     "data": {
      "image/png": "[encoded data removed]",
      "text/plain": [
       "<Figure size 640x480 with 1 Axes>"
      ]
     },
     "metadata": {},
     "output_type": "display_data"
    },
    {
     "data": {
      "image/png": "[encoded data removed]",
      "text/plain": [
       "<Figure size 640x480 with 1 Axes>"
      ]
     },
     "metadata": {},
     "output_type": "display_data"
    },
    {
     "name": "stdout",
     "output_type": "stream",
     "text": [
      "      -> Saved Discrimninator 100 epoch to: E:/An toàn thông tin/Code/Saved Model/GANModel/LogicticRegression/U2R_AND_R2L/Discriminator/3/101epoch_time_created_2023-11-27.pth\n"
     ]
    }
   ],
   "source": [
    "print(f\"{40*'='} TRAINING GAN {40*'='}\")\n",
    "print(f\"{80*'='}\\n IDS Model: {ids_model_name}\")\n",
    "# for attack_category in ATTACK_CATEGORIES:\n",
    "for adversarial_attack_type in [3]:\n",
    "    print(f\"{80*'*'}\\n Adversarial Attack Type : {adversarial_attack_type}\")\n",
    "    for attack_category in ATTACK_CATEGORIES:\n",
    "        print(f\"{80*'-'}\\n Attack Category: {attack_category}\")\n",
    "        total_time_start = timeit.default_timer()\n",
    "\n",
    "        # Load sklearn IDS Model\n",
    "        ids_model = load_sklearn_ids_model(ids_model_name, attack_category, ids_created_date)\n",
    "        # Init GAN-G model\n",
    "        G_OUTPUT_DIM = len(POS_NONFUNCTIONAL_FEATURES[attack_category])     # Generator output is number of nonfunctional feature\n",
    "        generator = init_generator(G_INPUT_DIM,G_OUTPUT_DIM, adversarial_attack_type)\n",
    "        optimizer_G = optim.RMSprop(generator.parameters(), lr=learning_rate)\n",
    "        # Load Raw Attack Dataset\n",
    "        raw_attack = preprocess_malicious_data(g_train_data, attack_category)\n",
    "        # Prepare Save Folder\n",
    "        GAN_4IDS_Model_Path = str(f\"{GAN_Model_Path}{ids_model_name}/\")\n",
    "        if not os.path.exists(GAN_4IDS_Model_Path):\n",
    "                os.makedirs(GAN_4IDS_Model_Path)\n",
    "        GAN_G_Model_4Category_Path = str(f\"{GAN_4IDS_Model_Path}{attack_category}/Generator/{adversarial_attack_type}/\")\n",
    "        GAN_D_Model_4Category_Path = str(f\"{GAN_4IDS_Model_Path}{attack_category}/Discriminator/{adversarial_attack_type}/\")\n",
    "        for directory in [GAN_G_Model_4Category_Path, GAN_D_Model_4Category_Path]:\n",
    "            if not os.path.exists(directory):\n",
    "                os.makedirs(directory)\n",
    "\n",
    "        # Create batch of attack traffic\n",
    "        batch_attack = create_batch2(raw_attack,BATCH_SIZE)\n",
    "        # Declare Loss, DR List and Train GAN-G, GAN-D\n",
    "        d_losses,g_losses = [],[]\n",
    "        o_dr, a_dr = [],[]\n",
    "        generator.train()\n",
    "        discriminator.train()\n",
    "\n",
    "        # Start Training\n",
    "        print(f\"-->IDSGAN start training\")\n",
    "        labels = ['Epoch', 'G-Loss', 'D-Loss', 'O-DR(%)', 'A-DR(%)', 'Runtime(s)']\n",
    "        print(\"{: >10} {: >15} {: >15} {: >15} {: >15} {: >15}\".format(*labels))\n",
    "        for epoch in range(MAX_EPOCH):\n",
    "            batch_normal = create_batch2(normal,BATCH_SIZE)\n",
    "            epoch_time_start = timeit.default_timer()\n",
    "            cnt = 0\n",
    "            run_g_loss = 0.\n",
    "            run_d_loss = 0.\n",
    "            epoch_o_drs, epoch_a_drs = [], []\n",
    "\n",
    "            for idx, bn in enumerate(batch_normal):\n",
    "                normal_b = th.Tensor(bn.astype(\"float64\"))\n",
    "                attack_traffic  = V(th.Tensor(batch_attack[idx % len(batch_attack)]))\n",
    "                #  Train Generator\n",
    "                g_loss = train_generator(generator, discriminator, optimizer_G, NOISE_DIM, attack_traffic, attack_category, adversarial_attack_type)\n",
    "                run_g_loss += g_loss.item()\n",
    "\n",
    "                # Train Discriminator\n",
    "                d_loss, current_cnt = train_discriminator(discriminator, ids_model, generator, CRITIC_ITERS, CLAMP, optimizer_D, normal_b, NOISE_DIM, attack_traffic, attack_category, adversarial_attack_type)\n",
    "                run_d_loss += d_loss\n",
    "                cnt += current_cnt\n",
    "                \n",
    "                # CALC Epoch DR\n",
    "                adversarial_attack = gen_adversarial_attack(generator, NOISE_DIM, attack_traffic, attack_category, adversarial_attack_type).detach()\n",
    "                origin_dr, adversarial_dr = cal_dr(ids_model, normal_b, attack_traffic, adversarial_attack)\n",
    "                epoch_o_drs.append(origin_dr)\n",
    "                epoch_a_drs.append(adversarial_dr)\n",
    "\n",
    "            if cnt >= (len(normal)/BATCH_SIZE):\n",
    "                print(\"Not exist predicted attack traffic\")\n",
    "                break\n",
    "            d_losses.append(run_d_loss/CRITIC_ITERS)\n",
    "            g_losses.append(run_g_loss)\n",
    "            epoch_o_dr = np.mean(epoch_o_drs)\n",
    "            epoch_a_dr = np.mean(epoch_a_drs)\n",
    "            o_dr.append(epoch_o_dr)\n",
    "            a_dr.append(epoch_a_dr)\n",
    "            \n",
    "            runtime = timeit.default_timer() - epoch_time_start\n",
    "            print_vals = [(epoch + 1), run_g_loss, (run_d_loss/CRITIC_ITERS), (epoch_o_dr*100), (epoch_a_dr*100), runtime]\n",
    "            print_string = []\n",
    "            for val in print_vals:\n",
    "                if isinstance(val, float):\n",
    "                    print_string.append(str(f\"{val:.2f}\"))\n",
    "                else:\n",
    "                    print_string.append(str(val))\n",
    "            print(\"{: >10} {: >15} {: >15} {: >15} {: >15} {: >15}\".format(*print_string))\n",
    "            # Save Adversarial Dataset each 10 epoch\n",
    "            if ((epoch + 1) % 10 == 0):\n",
    "                path = GAN_G_Model_4Category_Path + f\"{epoch + 1}epoch_time_created_{today}.pth\"\n",
    "                th.save(generator.state_dict(), path)\n",
    "                print(f\"{6*' '}-> Generator {epoch + 1} epoch is saved  to: {path}\")\n",
    "        total_runtime = timeit.default_timer() - total_time_start\n",
    "        print(f\"Training Runtime: {total_runtime:.2f}\")\n",
    "        print(\"IDSGAN finish training!\")\n",
    "        \n",
    "        # Show Graph\n",
    "        # Loss-Graph\n",
    "        plt.plot(d_losses,label = \"D_loss\")\n",
    "        plt.plot(g_losses, label = \"G_loss\")\n",
    "        plt.legend()\n",
    "        plt.show()\n",
    "        # DR-Graph\n",
    "        plt.plot(o_dr,label = \"Origin DR\")\n",
    "        plt.plot(a_dr, label = \"Adversarial DR\")\n",
    "        plt.legend()\n",
    "        plt.show()\n",
    "\n",
    "        # Save Model\n",
    "        path = GAN_D_Model_4Category_Path + f\"{MAX_EPOCH + 1}epoch_time_created_{today}.pth\"\n",
    "        th.save(discriminator.state_dict(), path)\n",
    "        print(f\"{6*' '}-> Saved Discrimninator {MAX_EPOCH} epoch to: {path}\")"
   ]
  },
  {
   "cell_type": "markdown",
   "metadata": {
    "colab_type": "text",
    "id": "jQNXCNMEx1bn"
   },
   "source": [
    "## **3.2 Run Generate Adversarial Traffic**"
   ]
  },
  {
   "cell_type": "code",
   "execution_count": 17,
   "metadata": {
    "colab": {},
    "colab_type": "code",
    "executionInfo": {
     "elapsed": 968,
     "status": "ok",
     "timestamp": 1594460301243,
     "user": {
      "displayName": "Tien LE KHAC",
      "photoUrl": "https://lh3.googleusercontent.com/a-/AOh14GhATILfEwLuvrRlBGPMrmY7nclZNsxGKzoqqHB_Cg=s64",
      "userId": "18298916241916904857"
     },
     "user_tz": -420
    },
    "id": "I0w_F6zKcgrF"
   },
   "outputs": [],
   "source": [
    "# Hyber Parameters\n",
    "BATCH_SIZE = 256 # Batch size\n",
    "\n",
    "# GAN-G\n",
    "NOISE_DIM = 9\n",
    "G_INPUT_DIM = NOISE_DIM     # Generator input dimension is dimention of noise"
   ]
  },
  {
   "cell_type": "code",
   "execution_count": 18,
   "metadata": {
    "colab": {
     "base_uri": "https://localhost:8080/",
     "height": 51
    },
    "colab_type": "code",
    "executionInfo": {
     "elapsed": 860,
     "status": "ok",
     "timestamp": 1594460303582,
     "user": {
      "displayName": "Tien LE KHAC",
      "photoUrl": "https://lh3.googleusercontent.com/a-/AOh14GhATILfEwLuvrRlBGPMrmY7nclZNsxGKzoqqHB_Cg=s64",
      "userId": "18298916241916904857"
     },
     "user_tz": -420
    },
    "id": "HPx41fPd6CiW",
    "outputId": "70a9a3ba-c63c-41a7-ceb6-b3c9aca748e9"
   },
   "outputs": [
    {
     "name": "stdout",
     "output_type": "stream",
     "text": [
      "Amount of KDDTest+: \t\t20123\n",
      "Amount of Normal:\t\t9711 (37 batchs - 256 records/batch)\n"
     ]
    }
   ],
   "source": [
    "gan_model_time_created = str(date.today())\n",
    "\n",
    "# Load Testset\n",
    "testset = pd.read_csv(testset_path)\n",
    "print(f\"Amount of KDDTest+: \\t\\t{len(testset)}\")\n",
    "# test_normal\n",
    "test_normal = np.array(testset[testset[\"class\"] == 'Normal'])[:,:-1]\n",
    "# Create batch of normal traffic\n",
    "test_batch_normal = create_batch2(test_normal,BATCH_SIZE).astype('float64')\n",
    "print(f\"Amount of Normal:\\t\\t{len(test_normal)} ({len(test_batch_normal)} batchs - {BATCH_SIZE} records/batch)\")"
   ]
  },
  {
   "cell_type": "code",
   "execution_count": 19,
   "metadata": {
    "colab": {
     "base_uri": "https://localhost:8080/",
     "height": 612
    },
    "colab_type": "code",
    "executionInfo": {
     "elapsed": 9917,
     "status": "ok",
     "timestamp": 1594460319863,
     "user": {
      "displayName": "Tien LE KHAC",
      "photoUrl": "https://lh3.googleusercontent.com/a-/AOh14GhATILfEwLuvrRlBGPMrmY7nclZNsxGKzoqqHB_Cg=s64",
      "userId": "18298916241916904857"
     },
     "user_tz": -420
    },
    "id": "ZhPpd8MCx10u",
    "outputId": "358dd6f6-6e78-47f7-a880-05a2a999b72d"
   },
   "outputs": [
    {
     "name": "stdout",
     "output_type": "stream",
     "text": [
      "======================================== ADVERSARIAL TRAFFIC EVALUATING ========================================\n",
      "================================================================================\n",
      " IDS Model: LogicticRegression\n",
      "--------------------------------------------------------------------------------\n",
      " Adversarial Attack Type : 3\n",
      "*****\n",
      " - Attack Category: DOS\n",
      "Loaded Model From Disk: E:/An toàn thông tin/Code/Saved Model/IDSModel/DOS/Machine_Learning/created_date_2023-11-24_LogicticRegression.pkl\n",
      "    Amout of DOS:\t7460 (29 batchs - 256 records/batch)\n",
      "\t  10 epochs:\tOrigin DR : 78.93% \t Adversarial DR : 0.00% \t EIR : 100.00%\n",
      "\t  20 epochs:\tOrigin DR : 78.93% \t Adversarial DR : 0.00% \t EIR : 100.00%\n",
      "\t  30 epochs:\tOrigin DR : 78.93% \t Adversarial DR : 0.00% \t EIR : 100.00%\n",
      "\t  40 epochs:\tOrigin DR : 78.93% \t Adversarial DR : 0.00% \t EIR : 100.00%\n",
      "\t  50 epochs:\tOrigin DR : 78.93% \t Adversarial DR : 0.00% \t EIR : 100.00%\n",
      "\t  60 epochs:\tOrigin DR : 78.93% \t Adversarial DR : 0.00% \t EIR : 100.00%\n",
      "\t  70 epochs:\tOrigin DR : 78.93% \t Adversarial DR : 0.00% \t EIR : 100.00%\n",
      "\t  80 epochs:\tOrigin DR : 78.93% \t Adversarial DR : 0.00% \t EIR : 100.00%\n",
      "\t  90 epochs:\tOrigin DR : 78.93% \t Adversarial DR : 0.00% \t EIR : 100.00%\n",
      "\t 100 epochs:\tOrigin DR : 78.93% \t Adversarial DR : 0.00% \t EIR : 100.00%\n",
      "--------------------------------------------------------------------------------\n",
      " Adversarial Attack Type : 3\n",
      "*****\n",
      " - Attack Category: U2R_AND_R2L\n",
      "Loaded Model From Disk: E:/An toàn thông tin/Code/Saved Model/IDSModel/U2R_AND_R2L/Machine_Learning/created_date_2023-11-24_LogicticRegression.pkl\n",
      "    Amout of U2R_AND_R2L:\t2952 (11 batchs - 256 records/batch)\n",
      "\t  10 epochs:\tOrigin DR : 0.44% \t Adversarial DR : 0.00% \t EIR : 100.00%\n",
      "\t  20 epochs:\tOrigin DR : 0.44% \t Adversarial DR : 0.00% \t EIR : 100.00%\n",
      "\t  30 epochs:\tOrigin DR : 0.44% \t Adversarial DR : 0.00% \t EIR : 100.00%\n",
      "\t  40 epochs:\tOrigin DR : 0.44% \t Adversarial DR : 0.00% \t EIR : 100.00%\n",
      "\t  50 epochs:\tOrigin DR : 0.44% \t Adversarial DR : 0.00% \t EIR : 100.00%\n",
      "\t  60 epochs:\tOrigin DR : 0.44% \t Adversarial DR : 0.00% \t EIR : 100.00%\n",
      "\t  70 epochs:\tOrigin DR : 0.44% \t Adversarial DR : 0.00% \t EIR : 100.00%\n",
      "\t  80 epochs:\tOrigin DR : 0.44% \t Adversarial DR : 0.00% \t EIR : 100.00%\n",
      "\t  90 epochs:\tOrigin DR : 0.44% \t Adversarial DR : 0.00% \t EIR : 100.00%\n",
      "\t 100 epochs:\tOrigin DR : 0.44% \t Adversarial DR : 0.00% \t EIR : 100.00%\n"
     ]
    }
   ],
   "source": [
    "# Adversarial Traffic Evaluating\n",
    "print(f\"{40*'='} ADVERSARIAL TRAFFIC EVALUATING {40*'='}\")\n",
    "print(f\"{80*'='}\\n IDS Model: {ids_model_name}\")\n",
    "\n",
    "# for attack_category in ATTACK_CATEGORIES:\n",
    "for attack_category in ATTACK_CATEGORIES:\n",
    "    for adversarial_attack_type in [3]:\n",
    "        print(f\"{80*'-'}\\n Adversarial Attack Type : {adversarial_attack_type}\")\n",
    "        print(f\"{5*'*'}\\n - Attack Category: {attack_category}\")\n",
    "        \n",
    "        # Load sklearn IDS Model\n",
    "        ids_model = load_sklearn_ids_model(ids_model_name, attack_category, ids_created_date)\n",
    "        # Init GAN-G model\n",
    "        G_OUTPUT_DIM = len(POS_NONFUNCTIONAL_FEATURES[attack_category])     # Generator output is number of nonfunctional feature\n",
    "        generator = init_generator(G_INPUT_DIM,G_OUTPUT_DIM, adversarial_attack_type)\n",
    "        # Load Attack Dataset\n",
    "        test_raw_attack = preprocess_malicious_data(testset, attack_category)\n",
    "        # Create batch of attack traffic\n",
    "        batch_attack = create_batch2(test_raw_attack, BATCH_SIZE)\n",
    "        n_batch_attack = len(batch_attack)\n",
    "        print(f\"{4*' '}Amout of {attack_category}:\\t{len(test_raw_attack)} ({n_batch_attack} batchs - {BATCH_SIZE} records/batch)\")\n",
    "        \n",
    "        # Calc DR through each epoch\n",
    "        for epoch in range(10, MAX_EPOCH + 1, 10):\n",
    "            # Load GAN-G Model\n",
    "            gan_g_model_path = str(f\"{GAN_Model_Path}{ids_model_name}/{attack_category}/Generator/{adversarial_attack_type}/{epoch}epoch_time_created_{gan_model_time_created}.pth\")\n",
    "            param = th.load(gan_g_model_path,map_location=lambda x,y:x)\n",
    "            generator.load_state_dict(param)\n",
    "            generator.eval()\n",
    "\n",
    "            o_dr,a_dr =[],[]\n",
    "            with th.no_grad():\n",
    "                for idx, bn in enumerate(test_batch_normal):\n",
    "                    normal_b = th.Tensor(bn)\n",
    "                    attack_b = th.Tensor(batch_attack[idx % n_batch_attack])\n",
    "                    # Generate Adversarial Traffic\n",
    "                    adversarial_attack_b = gen_adversarial_attack(generator, NOISE_DIM, attack_b, attack_category, adversarial_attack_type).detach()\n",
    "\n",
    "                    # Calc DR\n",
    "                    origin_dr, adversarial_dr = cal_dr(ids_model, normal_b, attack_b, adversarial_attack_b)\n",
    "                    o_dr.append(origin_dr)\n",
    "                    a_dr.append(adversarial_dr)\n",
    "            eir = 1 - (np.mean(a_dr)/np.mean(o_dr))\n",
    "            print(f\"\\t {epoch:3d} epochs:\\tOrigin DR : {np.mean(o_dr)*100:.2f}% \\t Adversarial DR : {np.mean(a_dr)*100:.2f}% \\t EIR : {eir*100:.2f}%\")"
   ]
  },
  {
   "cell_type": "markdown",
   "metadata": {
    "colab_type": "text",
    "id": "mwWugTozppL5"
   },
   "source": [
    "The Saved Model stored in [Google Drive - GAN Model](https://drive.google.com/drive/u/1/folders/1VNFW-k5SbR0eGsJ_np3U-W3Rcz_n4I8N)\n",
    "\n",
    "The Result of Code stored in [Github - Thesis](https://github.com/thetinybug/thesis-IDSGAN)"
   ]
  }
 ],
 "metadata": {
  "accelerator": "GPU",
  "colab": {
   "collapsed_sections": [],
   "name": "2. GAN and Gen/Machine_Learning_IDS/LogicticRegression-A3.ipynb",
   "provenance": [
    {
     "file_id": "1__oEcuLAwPtIYf5J9l75rsRQ1RPYE56v",
     "timestamp": 1593183432956
    },
    {
     "file_id": "1mkhrbHfNqYSDxkiyP7BsFofEaWEWP5fM",
     "timestamp": 1592983611776
    }
   ],
   "toc_visible": true
  },
  "kernelspec": {
   "display_name": "Python 3 (ipykernel)",
   "language": "python",
   "name": "python3"
  },
  "language_info": {
   "codemirror_mode": {
    "name": "ipython",
    "version": 3
   },
   "file_extension": ".py",
   "mimetype": "text/x-python",
   "name": "python",
   "nbconvert_exporter": "python",
   "pygments_lexer": "ipython3",
   "version": "3.11.4"
  }
 },
 "nbformat": 4,
 "nbformat_minor": 4
}
