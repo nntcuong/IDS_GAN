{
 "cells": [
  {
   "cell_type": "markdown",
   "metadata": {
    "colab_type": "text",
    "id": "m27n3nFSTSv2"
   },
   "source": [
    "#**0. Thư viện**"
   ]
  },
  {
   "cell_type": "markdown",
   "metadata": {
    "colab_type": "text",
    "id": "08Q42YHGbvLT"
   },
   "source": [
    "##Cài đặt "
   ]
  },
  {
   "cell_type": "code",
   "execution_count": 26,
   "metadata": {
    "colab": {
     "base_uri": "https://localhost:8080/",
     "height": 85
    },
    "colab_type": "code",
    "executionInfo": {
     "elapsed": 4794,
     "status": "ok",
     "timestamp": 1594459957920,
     "user": {
      "displayName": "Tien LE KHAC",
      "photoUrl": "https://lh3.googleusercontent.com/a-/AOh14GhATILfEwLuvrRlBGPMrmY7nclZNsxGKzoqqHB_Cg=s64",
      "userId": "18298916241916904857"
     },
     "user_tz": -420
    },
    "id": "u7ZZvZaAbM1J",
    "outputId": "bd96e98d-2f03-46ff-a5a5-4d79d5e8b414"
   },
   "outputs": [
    {
     "name": "stdout",
     "output_type": "stream",
     "text": [
      "Requirement already satisfied: adabound in /usr/local/lib/python3.6/dist-packages (0.0.5)\n",
      "Requirement already satisfied: torch>=0.4.0 in /usr/local/lib/python3.6/dist-packages (from adabound) (1.5.1+cu101)\n",
      "Requirement already satisfied: numpy in /usr/local/lib/python3.6/dist-packages (from torch>=0.4.0->adabound) (1.18.5)\n",
      "Requirement already satisfied: future in /usr/local/lib/python3.6/dist-packages (from torch>=0.4.0->adabound) (0.16.0)\n"
     ]
    }
   ],
   "source": [
    "!pip3 install adabound\n",
    "# !pip3 numpy torc sklearn matplotlib pandas"
   ]
  },
  {
   "cell_type": "code",
   "execution_count": 7,
   "metadata": {},
   "outputs": [],
   "source": [
    "%run models.py"
   ]
  },
  {
   "cell_type": "code",
   "execution_count": 8,
   "metadata": {},
   "outputs": [],
   "source": [
    "%run constants.py"
   ]
  },
  {
   "cell_type": "markdown",
   "metadata": {
    "colab_type": "text",
    "id": "mt5O3Y-fb5Du"
   },
   "source": [
    "##Import"
   ]
  },
  {
   "cell_type": "code",
   "execution_count": 10,
   "metadata": {
    "colab": {},
    "colab_type": "code",
    "executionInfo": {
     "elapsed": 4725,
     "status": "ok",
     "timestamp": 1594459957922,
     "user": {
      "displayName": "Tien LE KHAC",
      "photoUrl": "https://lh3.googleusercontent.com/a-/AOh14GhATILfEwLuvrRlBGPMrmY7nclZNsxGKzoqqHB_Cg=s64",
      "userId": "18298916241916904857"
     },
     "user_tz": -420
    },
    "id": "YIQ708lZS2lF"
   },
   "outputs": [],
   "source": [
    "import numpy as np\n",
    "import pandas as pd\n",
    "import torch as th\n",
    "from torch.autograd import Variable as V\n",
    "import torch.autograd as autograd\n",
    "import torch.nn as nn\n",
    "import torch.nn.functional as F\n",
    "import torch.optim as optim\n",
    "from sklearn.utils import shuffle\n",
    "from sklearn.metrics import confusion_matrix\n",
    "import pickle\n",
    "# Own Custom Module to import models and constants\n",
    "from models import *\n",
    "from constants import *\n",
    "\n",
    "import matplotlib.pyplot as plt\n",
    "import adabound \n",
    "import math\n",
    "import os\n",
    "from datetime import date\n",
    "import timeit"
   ]
  },
  {
   "cell_type": "markdown",
   "metadata": {
    "colab_type": "text",
    "id": "DZkqASdBS-QA"
   },
   "source": [
    "#**1. Chuẩn bị**"
   ]
  },
  {
   "cell_type": "markdown",
   "metadata": {
    "colab_type": "text",
    "id": "3rFWSSBQF99E"
   },
   "source": [
    "##Paths"
   ]
  },
  {
   "cell_type": "code",
   "execution_count": 11,
   "metadata": {
    "colab": {},
    "colab_type": "code",
    "executionInfo": {
     "elapsed": 4695,
     "status": "ok",
     "timestamp": 1594459957923,
     "user": {
      "displayName": "Tien LE KHAC",
      "photoUrl": "https://lh3.googleusercontent.com/a-/AOh14GhATILfEwLuvrRlBGPMrmY7nclZNsxGKzoqqHB_Cg=s64",
      "userId": "18298916241916904857"
     },
     "user_tz": -420
    },
    "id": "uW-RHzMwdsG5"
   },
   "outputs": [],
   "source": [
    "\n",
    "\n",
    "\n",
    "base_path = \"E:/An toàn thông tin/Code/\"\n",
    "Dataset_Path = \"E:/An toàn thông tin/Code/Dataset/NSL-KDD Processed/Final - For Using/\"\n",
    "SavedModelPath = base_path + \"Saved Model/\"\n",
    "\n",
    "# Dataset Path\n",
    "Trainsets_Path = Dataset_Path + \"Trainset/\"\n",
    "g_trainset_path = Trainsets_Path + \"GAN-G.csv\"\n",
    "d_trainset_path = Trainsets_Path + \"GAN-D.csv\"\n",
    "testset_path = Dataset_Path + \"Testset/\" + \"KDDTest+.csv\"\n",
    "\n",
    "# GAN Saved Models Paths\n",
    "GAN_Model_Path = SavedModelPath + \"GANModel/\"\n",
    "\n",
    "# IDS Pytorch Saved Models Paths\n",
    "IDS_Saved_Path = SavedModelPath + \"IDSModel/\""
   ]
  },
  {
   "cell_type": "markdown",
   "metadata": {
    "colab_type": "text",
    "id": "XwTYqTdfF-wS"
   },
   "source": [
    "##Global Variables"
   ]
  },
  {
   "cell_type": "code",
   "execution_count": 12,
   "metadata": {
    "colab": {},
    "colab_type": "code",
    "executionInfo": {
     "elapsed": 4672,
     "status": "ok",
     "timestamp": 1594459957924,
     "user": {
      "displayName": "Tien LE KHAC",
      "photoUrl": "https://lh3.googleusercontent.com/a-/AOh14GhATILfEwLuvrRlBGPMrmY7nclZNsxGKzoqqHB_Cg=s64",
      "userId": "18298916241916904857"
     },
     "user_tz": -420
    },
    "id": "8rBB0NLwGAce"
   },
   "outputs": [],
   "source": [
    "# Global Variables\n",
    "N_FEATURES = 41\n",
    "# IDS\n",
    "IDS_INPUT_DIM = N_FEATURES\n",
    "IDS_OUTPUT_DIM = 2\n",
    "ATTACK_CATEGORIES = ['DOS', 'U2R_AND_R2L']\n",
    "\n",
    "POS_FUNCTIONAL_FEATURES = {'DOS': DOS_FEATURES, 'U2R_AND_R2L': U2R_AND_R2L_FEATURES}\n",
    "POS_NONFUNCTIONAL_FEATURES = {}\n",
    "for attack_category, pos_functional_feature in POS_FUNCTIONAL_FEATURES.items():\n",
    "    pos_nonfunctional_feature = []\n",
    "    for i in range(N_FEATURES):\n",
    "        if i not in pos_functional_feature:\n",
    "            pos_nonfunctional_feature.append(i)\n",
    "    POS_NONFUNCTIONAL_FEATURES[attack_category] = pos_nonfunctional_feature\n",
    "\n",
    "IDS_MODELS = {'GaussianNB', 'MultinomialNB', 'ComplementNB', 'BernoulliNB', 'DT', 'RF', 'KNN'}"
   ]
  },
  {
   "cell_type": "code",
   "execution_count": 13,
   "metadata": {
    "colab": {
     "base_uri": "https://localhost:8080/",
     "height": 105
    },
    "colab_type": "code",
    "executionInfo": {
     "elapsed": 4634,
     "status": "ok",
     "timestamp": 1594459957925,
     "user": {
      "displayName": "Tien LE KHAC",
      "photoUrl": "https://lh3.googleusercontent.com/a-/AOh14GhATILfEwLuvrRlBGPMrmY7nclZNsxGKzoqqHB_Cg=s64",
      "userId": "18298916241916904857"
     },
     "user_tz": -420
    },
    "id": "hlE7gDk07ybi",
    "outputId": "1a2425f1-e884-4088-a46a-da1fac2e378a"
   },
   "outputs": [
    {
     "name": "stdout",
     "output_type": "stream",
     "text": [
      "Position of Functional Features\n",
      "   {'DOS': [0, 1, 2, 3, 4, 5, 6, 7, 8, 23, 24, 25, 26, 27, 28, 29, 30], 'U2R_AND_R2L': [0, 1, 2, 3, 4, 5, 6, 7, 8, 9, 10, 11, 12, 13, 14, 15, 16, 17, 18, 19, 20, 21, 22]}\n",
      "Position of Functional Features:\n",
      "   {'DOS': [9, 10, 11, 12, 13, 14, 15, 16, 17, 18, 19, 20, 21, 22, 31, 32, 33, 34, 35, 36, 37, 38, 39, 40], 'U2R_AND_R2L': [23, 24, 25, 26, 27, 28, 29, 30, 31, 32, 33, 34, 35, 36, 37, 38, 39, 40]}\n"
     ]
    }
   ],
   "source": [
    "print('Position of Functional Features\\n  ', POS_FUNCTIONAL_FEATURES)\n",
    "print('Position of Functional Features:\\n  ', POS_NONFUNCTIONAL_FEATURES)"
   ]
  },
  {
   "cell_type": "markdown",
   "metadata": {
    "colab_type": "text",
    "id": "otbVJEAzcTv4"
   },
   "source": [
    "# **2. Định nghĩa Model**"
   ]
  },
  {
   "cell_type": "markdown",
   "metadata": {
    "colab_type": "text",
    "id": "FVn0MzP1HW_0"
   },
   "source": [
    "##Models"
   ]
  },
  {
   "cell_type": "code",
   "execution_count": 14,
   "metadata": {
    "colab": {},
    "colab_type": "code",
    "executionInfo": {
     "elapsed": 4613,
     "status": "ok",
     "timestamp": 1594459957926,
     "user": {
      "displayName": "Tien LE KHAC",
      "photoUrl": "https://lh3.googleusercontent.com/a-/AOh14GhATILfEwLuvrRlBGPMrmY7nclZNsxGKzoqqHB_Cg=s64",
      "userId": "18298916241916904857"
     },
     "user_tz": -420
    },
    "id": "sqogk9lIw_Uk"
   },
   "outputs": [],
   "source": [
    "# Load from model.py module"
   ]
  },
  {
   "cell_type": "markdown",
   "metadata": {
    "colab_type": "text",
    "id": "MdPRWEuxBAcd"
   },
   "source": [
    "##Functions"
   ]
  },
  {
   "cell_type": "markdown",
   "metadata": {
    "colab_type": "text",
    "id": "TcJBwwXf924F"
   },
   "source": [
    "### Processing Data Functions"
   ]
  },
  {
   "cell_type": "code",
   "execution_count": 15,
   "metadata": {
    "colab": {},
    "colab_type": "code",
    "executionInfo": {
     "elapsed": 4595,
     "status": "ok",
     "timestamp": 1594459957926,
     "user": {
      "displayName": "Tien LE KHAC",
      "photoUrl": "https://lh3.googleusercontent.com/a-/AOh14GhATILfEwLuvrRlBGPMrmY7nclZNsxGKzoqqHB_Cg=s64",
      "userId": "18298916241916904857"
     },
     "user_tz": -420
    },
    "id": "r81eRs5hx8Lf"
   },
   "outputs": [],
   "source": [
    "# Processing Data Functions\n",
    "# create_batch2 - Hàm tạo Batch\n",
    "def create_batch2(x,batch_size):\n",
    "    a = list(range(len(x)))\n",
    "    np.random.shuffle(a)\n",
    "    x = x[a]\n",
    "    batch_x = [x[batch_size * i : (i+1)*batch_size,:] for i in range(len(x)//batch_size)]\n",
    "    return np.array(batch_x)\n",
    "# preprocess_malicious_data - Hàm tiền xử lý dữ liệu tấn công\n",
    "def preprocess_malicious_data(dataset, attack_category):\n",
    "    if attack_category != 'DOS' and attack_category != 'U2R_AND_R2L':\n",
    "      raise ValueError(\"Preprocess Data Fail: Invalid Attack Category\")\n",
    "    attack_data = dataset[dataset['class'] == attack_category]\n",
    "    del attack_data[\"class\"]\n",
    "    return np.array(attack_data)"
   ]
  },
  {
   "cell_type": "markdown",
   "metadata": {
    "colab_type": "text",
    "id": "fM7pjZa999Ht"
   },
   "source": [
    "### IDS Functions"
   ]
  },
  {
   "cell_type": "code",
   "execution_count": 25,
   "metadata": {
    "colab": {},
    "colab_type": "code",
    "executionInfo": {
     "elapsed": 4583,
     "status": "ok",
     "timestamp": 1594459957927,
     "user": {
      "displayName": "Tien LE KHAC",
      "photoUrl": "https://lh3.googleusercontent.com/a-/AOh14GhATILfEwLuvrRlBGPMrmY7nclZNsxGKzoqqHB_Cg=s64",
      "userId": "18298916241916904857"
     },
     "user_tz": -420
    },
    "id": "Ukp0y2LiyGmy"
   },
   "outputs": [],
   "source": [
    "# IDS Functions\n",
    "# get_sklearn_ids_path - Get path for sklearn IDS Models\n",
    "def get_sklearn_ids_path(model_name, attack_category, created_date):\n",
    "    if attack_category != 'DOS' and attack_category != 'U2R_AND_R2L':\n",
    "        raise ValueError(\"Preprocess Data Fail: Invalid Attack Category\")\n",
    "    ids_path = str(f\"{IDS_Saved_Path}{attack_category}/Machine_Learning/NB/created_date_{created_date}_{model_name}.pkl\")\n",
    "    if not os.path.exists(ids_path):\n",
    "        raise ValueError(f\"Invalid path: {ids_path}\\nNot exist file!\")\n",
    "    return ids_path\n",
    "# load_pytorch_ids_model - Load PyTorch IDS Models\n",
    "def load_sklearn_ids_model(model_name, attack_category, created_date):\n",
    "    ids_model_path = get_sklearn_ids_path(model_name, attack_category, created_date)\n",
    "    with open(ids_model_path, 'rb') as file:\n",
    "        pickle_model = pickle.load(file)\n",
    "        print(f\"Loaded Model From Disk: {ids_model_path}\")\n",
    "    return pickle_model"
   ]
  },
  {
   "cell_type": "markdown",
   "metadata": {
    "colab_type": "text",
    "id": "J9Q5DryD-Dl0"
   },
   "source": [
    "### GAN Functions"
   ]
  },
  {
   "cell_type": "code",
   "execution_count": 26,
   "metadata": {
    "colab": {},
    "colab_type": "code",
    "executionInfo": {
     "elapsed": 4560,
     "status": "ok",
     "timestamp": 1594459957928,
     "user": {
      "displayName": "Tien LE KHAC",
      "photoUrl": "https://lh3.googleusercontent.com/a-/AOh14GhATILfEwLuvrRlBGPMrmY7nclZNsxGKzoqqHB_Cg=s64",
      "userId": "18298916241916904857"
     },
     "user_tz": -420
    },
    "id": "tV5MHCxUA-8G"
   },
   "outputs": [],
   "source": [
    "# GAN Functions\n",
    "# init_generator - Khoi tao model GAN-G\n",
    "def init_generator(input_dim, output_dim, adversarial_attack_type = 1):\n",
    "    if adversarial_attack_type == 1:\n",
    "        generator = Generator_A1(input_dim, output_dim)\n",
    "    elif adversarial_attack_type == 2:\n",
    "        generator = Generator_A2(input_dim, output_dim)\n",
    "    elif adversarial_attack_type == 3:\n",
    "        '''\n",
    "            adversarial_attack_type 3: G-input is nonfunctional feature, G-out is adversarial nonfuncitonal feature.\n",
    "            --> input_dim = output_dim = len(nonfunctional_features)\n",
    "        ''' \n",
    "        generator = Generator_A2(output_dim, output_dim)\n",
    "    else:\n",
    "        raise ValueError(\"Init GAN - Generator: Invalid Adversarial Attack Type\")\n",
    "    return generator\n",
    "\n",
    "# gen_adversarial_attack - Tao luu luong tan cong doi khang\n",
    "def gen_adversarial_attack(generator, noise_dim, raw_attack, attack_category, adversarial_attack_type = 1):\n",
    "    if adversarial_attack_type == 1:\n",
    "        adversarial_attack = generator(noise_dim, raw_attack, attack_category, POS_NONFUNCTIONAL_FEATURES)\n",
    "    elif adversarial_attack_type == 2:\n",
    "        batch_size = len(raw_attack)\n",
    "        noise = V(th.Tensor(np.random.uniform(0,1,(batch_size, noise_dim))))\n",
    "        generator_out = generator(noise)\n",
    "        adversarial_attack = gen_adversarial_attack_a2(generator_out, raw_attack, attack_category, POS_NONFUNCTIONAL_FEATURES)\n",
    "    elif  adversarial_attack_type == 3:\n",
    "        pos_nonfunctional_feature = POS_NONFUNCTIONAL_FEATURES[attack_category]\n",
    "        # get nonfunctional features val\n",
    "        nonfunctional_feature = raw_attack[:, pos_nonfunctional_feature]\n",
    "        generator_out = generator(nonfunctional_feature)\n",
    "        adversarial_attack = gen_adversarial_attack_a2(generator_out, raw_attack, attack_category, POS_NONFUNCTIONAL_FEATURES)\n",
    "    else:\n",
    "        raise ValueError(\"Init GAN - Generator: Invalid Adversarial Attack Type\")\n",
    "    return adversarial_attack\n",
    "\n",
    "# train_generator - Train Generator\n",
    "def train_generator(generator, discriminator, optimizer_G, noise_dim, attack_traffic, attack_category, adversarial_attack_type):\n",
    "    for p in discriminator.parameters():  \n",
    "        p.requires_grad = False\n",
    "    optimizer_G.zero_grad()        \n",
    "    # GAN-G Generate Adversarial Attack\n",
    "    adversarial_attack = gen_adversarial_attack(generator, noise_dim, attack_traffic, attack_category, adversarial_attack_type)\n",
    "    # GAN-D predict, GAN-G update parameter\n",
    "    D_pred = discriminator(adversarial_attack)\n",
    "    g_loss = -th.mean(D_pred)\n",
    "    g_loss.backward()\n",
    "    optimizer_G.step()\n",
    "    return g_loss\n",
    "\n",
    "# train_discriminator - Train Discriminator\n",
    "def train_discriminator(discriminator, ids_model, generator, critic_iters, clamp, optimizer_D, normal_b, noise_dim, attack_traffic, attack_category, adversarial_attack_type):\n",
    "    run_d_loss = 0\n",
    "    cnt = 0\n",
    "    for p in discriminator.parameters(): \n",
    "        p.requires_grad = True\n",
    "    for c in range(critic_iters):\n",
    "        optimizer_D.zero_grad()\n",
    "        for p in discriminator.parameters():\n",
    "            p.data.clamp_(-clamp, clamp)\n",
    "        # GAN-G Generate Adversarial Attack\n",
    "        adversarial_attack = gen_adversarial_attack(generator, noise_dim, attack_traffic, attack_category, adversarial_attack_type)\n",
    "        # Make data to feed IDS\n",
    "        ids_input = th.cat((adversarial_attack,normal_b))\n",
    "        l = list(range(len(ids_input)))\n",
    "        np.random.shuffle(l)\n",
    "        ids_input = V(th.Tensor(ids_input[l]))\n",
    "        # IDS Predict\n",
    "        ids_pred_label = V(th.Tensor(ids_model.predict(ids_input)))\n",
    "        pred_normal = ids_input[ids_pred_label==0]\n",
    "        pred_attack = ids_input[ids_pred_label==1]\n",
    "        if len(pred_attack) == 0:\n",
    "            cnt += 1\n",
    "            break\n",
    "        # Make GAN-D input\n",
    "        D_noraml = discriminator(V(th.Tensor(pred_normal)))\n",
    "        D_attack= discriminator(V(th.Tensor(pred_attack)))\n",
    "        # Loss and Update Parameter\n",
    "        loss_normal = th.mean(D_noraml)\n",
    "        loss_attack = th.mean(D_attack)\n",
    "        gradient_penalty = compute_gradient_penalty(discriminator, normal_b.data, adversarial_attack.data)\n",
    "        d_loss = loss_attack - loss_normal #+ LAMBDA * gradient_penalty\n",
    "        d_loss.backward()\n",
    "        optimizer_D.step()\n",
    "        run_d_loss += d_loss.item()\n",
    "    return run_d_loss, cnt\n",
    "\n",
    "# compute_gradient_penalty - Compute Gradient Penalty\n",
    "def compute_gradient_penalty(D, normal_t, attack_t):\n",
    "    alpha = th.Tensor(np.random.random((normal_t.shape[0], 1)))\n",
    "    between_n_a = (alpha * normal_t + ((1 - alpha) * attack_t)).requires_grad_(True)\n",
    "    d_between_n_a = D(between_n_a)\n",
    "    adv = V(th.Tensor(normal_t.shape[0], 1).fill_(1.0), requires_grad=False)\n",
    "\n",
    "    gradients = autograd.grad(\n",
    "        outputs=d_between_n_a,\n",
    "        inputs=between_n_a,\n",
    "        grad_outputs=adv,\n",
    "        create_graph=True,\n",
    "        retain_graph=True,\n",
    "        only_inputs=True,\n",
    "    )[0]\n",
    "    gradients = gradients.view(gradients.size(0), -1)\n",
    "    gradient_penalty = ((gradients.norm(2, dim=1) - 1) ** 2).mean()\n",
    "    return gradient_penalty"
   ]
  },
  {
   "cell_type": "markdown",
   "metadata": {
    "colab_type": "text",
    "id": "jRhNLI_jSKIg"
   },
   "source": [
    "### Generate Adversarial Attack Functions"
   ]
  },
  {
   "cell_type": "code",
   "execution_count": 27,
   "metadata": {
    "colab": {},
    "colab_type": "code",
    "executionInfo": {
     "elapsed": 4538,
     "status": "ok",
     "timestamp": 1594459957929,
     "user": {
      "displayName": "Tien LE KHAC",
      "photoUrl": "https://lh3.googleusercontent.com/a-/AOh14GhATILfEwLuvrRlBGPMrmY7nclZNsxGKzoqqHB_Cg=s64",
      "userId": "18298916241916904857"
     },
     "user_tz": -420
    },
    "id": "RyrR7KLNSPtu"
   },
   "outputs": [],
   "source": [
    "# cal_dr - Tinh DR\n",
    "def cal_dr(ids_model, normal, raw_attack, adversarial_attack):\n",
    "    # Make data to feed IDS contain: Attack & Normal\n",
    "    o_ids_input = th.cat((raw_attack, normal))\n",
    "    a_ids_input = th.cat((adversarial_attack,normal))\n",
    "    # Shuffle Input\n",
    "    l = list(range(len(a_ids_input)))\n",
    "    np.random.shuffle(l)\n",
    "    o_ids_input = o_ids_input[l]\n",
    "    a_ids_input = a_ids_input[l]\n",
    "    # IDS Predict Label\n",
    "    o_pred_label = th.Tensor(ids_model.predict(o_ids_input))\n",
    "    a_pred_label = th.Tensor(ids_model.predict(a_ids_input))\n",
    "    # True Label\n",
    "    ids_true_label = np.r_[np.ones(BATCH_SIZE),np.zeros(BATCH_SIZE)][l]\n",
    "    # Calc DR\n",
    "    tn1, fn1, fp1, tp1 = confusion_matrix(ids_true_label,o_pred_label).ravel()\n",
    "    tn2, fn2, fp2, tp2 = confusion_matrix(ids_true_label,a_pred_label).ravel()\n",
    "    origin_dr = tp1/(tp1 + fp1)\n",
    "    adversarial_dr = tp2/(tp2 + fp2)\n",
    "    return origin_dr, adversarial_dr"
   ]
  },
  {
   "cell_type": "markdown",
   "metadata": {
    "colab_type": "text",
    "id": "nDp5Uy_HaShp"
   },
   "source": [
    "# **3. Run Model**"
   ]
  },
  {
   "cell_type": "code",
   "execution_count": 28,
   "metadata": {
    "cellView": "both",
    "colab": {},
    "colab_type": "code",
    "executionInfo": {
     "elapsed": 850,
     "status": "ok",
     "timestamp": 1594459950653,
     "user": {
      "displayName": "Tien LE KHAC",
      "photoUrl": "https://lh3.googleusercontent.com/a-/AOh14GhATILfEwLuvrRlBGPMrmY7nclZNsxGKzoqqHB_Cg=s64",
      "userId": "18298916241916904857"
     },
     "user_tz": -420
    },
    "id": "7hTHJcBcRKjg"
   },
   "outputs": [],
   "source": [
    "ids_model_name = \"GaussianNB\" #@param ['GaussianNB', 'MultinomialNB', 'ComplementNB', 'BernoulliNB', 'DT', 'RF', 'KNN']\n",
    "MAX_EPOCH = 100 #@param [\"10\", \"100\"] {type:\"raw\"}\n",
    "ids_created_date = '2023-11-27' "
   ]
  },
  {
   "cell_type": "markdown",
   "metadata": {
    "colab_type": "text",
    "id": "s8tEzhBNxvGM"
   },
   "source": [
    "##**3.1 Run IDSGAN**"
   ]
  },
  {
   "cell_type": "code",
   "execution_count": 29,
   "metadata": {
    "colab": {},
    "colab_type": "code",
    "executionInfo": {
     "elapsed": 6891,
     "status": "ok",
     "timestamp": 1594449364988,
     "user": {
      "displayName": "Tien LE KHAC",
      "photoUrl": "https://lh3.googleusercontent.com/a-/AOh14GhATILfEwLuvrRlBGPMrmY7nclZNsxGKzoqqHB_Cg=s64",
      "userId": "18298916241916904857"
     },
     "user_tz": -420
    },
    "id": "j01YlgClq7yq"
   },
   "outputs": [],
   "source": [
    "# Hyber Parameters\n",
    "BATCH_SIZE = 64\n",
    "learning_rate = 0.0001\n",
    "LAMBDA = 10\n",
    "CLAMP = 0.01\n",
    "CRITIC_ITERS = 5          # For WGAN and WGAN-GP, number of critic iters per gen iter\n",
    "\n",
    "# GAN-D\n",
    "D_INPUT_DIM = N_FEATURES\n",
    "D_OUTPUT_DIM = 1\n",
    "discriminator = Discriminator(D_INPUT_DIM,D_OUTPUT_DIM)\n",
    "optimizer_D = optim.RMSprop(discriminator.parameters(), lr=learning_rate)\n",
    "\n",
    "# GAN-G\n",
    "NOISE_DIM = 9\n",
    "G_INPUT_DIM_12 = NOISE_DIM     # Generator input dimension is dimention of noise"
   ]
  },
  {
   "cell_type": "code",
   "execution_count": 30,
   "metadata": {
    "colab": {
     "base_uri": "https://localhost:8080/",
     "height": 51
    },
    "colab_type": "code",
    "executionInfo": {
     "elapsed": 7427,
     "status": "ok",
     "timestamp": 1594449365537,
     "user": {
      "displayName": "Tien LE KHAC",
      "photoUrl": "https://lh3.googleusercontent.com/a-/AOh14GhATILfEwLuvrRlBGPMrmY7nclZNsxGKzoqqHB_Cg=s64",
      "userId": "18298916241916904857"
     },
     "user_tz": -420
    },
    "id": "xG09yA2D9bzg",
    "outputId": "b02418fd-9460-4a8b-ea09-dd7ec852f3f8"
   },
   "outputs": [
    {
     "name": "stdout",
     "output_type": "stream",
     "text": [
      "Amout of Generator Trainset: 23488\n",
      "Amout of Discriminator Trainset: 33672\n"
     ]
    }
   ],
   "source": [
    "# ids_created_date\n",
    "ids_created_date = '2023-11-27'\n",
    "\n",
    "# Get today to set created time for GAN models\n",
    "today = str(date.today())\n",
    "\n",
    "## Prepare Dataset\n",
    "g_train_data = pd.read_csv(g_trainset_path)\n",
    "d_train_data = pd.read_csv(d_trainset_path)\n",
    "\n",
    "# All normal record in train_data\n",
    "del d_train_data[\"class\"]\n",
    "normal = np.array(d_train_data)\n",
    "\n",
    "print(\"Amout of Generator Trainset:\", g_train_data.shape[0])\n",
    "print(\"Amout of Discriminator Trainset:\", d_train_data.shape[0])"
   ]
  },
  {
   "cell_type": "code",
   "execution_count": 31,
   "metadata": {
    "colab": {
     "base_uri": "https://localhost:8080/",
     "height": 1000
    },
    "colab_type": "code",
    "executionInfo": {
     "elapsed": 4499020,
     "status": "ok",
     "timestamp": 1594453989260,
     "user": {
      "displayName": "Tien LE KHAC",
      "photoUrl": "https://lh3.googleusercontent.com/a-/AOh14GhATILfEwLuvrRlBGPMrmY7nclZNsxGKzoqqHB_Cg=s64",
      "userId": "18298916241916904857"
     },
     "user_tz": -420
    },
    "id": "m9C1uFo0vnv7",
    "outputId": "998996c6-1d95-47fa-9d7e-b86086aa21dd",
    "scrolled": true
   },
   "outputs": [
    {
     "name": "stdout",
     "output_type": "stream",
     "text": [
      "======================================== TRAINING GAN ========================================\n",
      "================================================================================\n",
      " IDS Model: GaussianNB\n",
      "********************************************************************************\n",
      " Adversarial Attack Type : 3\n",
      "--------------------------------------------------------------------------------\n",
      " Attack Category: DOS\n",
      "Loaded Model From Disk: E:/An toàn thông tin/Code/Saved Model/IDSModel/DOS/Machine_Learning/NB/created_date_2023-11-27_GaussianNB.pkl\n",
      "-->IDSGAN start training\n",
      "     Epoch          G-Loss          D-Loss         O-DR(%)         A-DR(%)      Runtime(s)\n",
      "         1            2.27           -3.49           98.11            2.04           27.71\n",
      "         2           -4.27           -6.33           98.11            0.31           26.19\n",
      "         3          -12.72           -7.88           98.11            0.00           24.49\n",
      "         4          -12.27           -7.90           98.11            0.00           24.66\n",
      "         5           -6.82           -7.91           98.11            0.00           24.34\n",
      "         6           -4.58           -7.91           98.11            0.00           21.98\n",
      "         7           -4.14           -7.91           98.11            0.00           22.64\n",
      "         8           -9.28           -7.90           98.11            0.00           22.64\n",
      "         9           -8.56           -7.91           98.11            0.00           22.87\n",
      "        10           -6.75           -7.90           98.11            0.00           21.60\n",
      "      -> Generator 10 epoch is saved  to: E:/An toàn thông tin/Code/Saved Model/GANModel/GaussianNB/DOS/Generator/3/10epoch_time_created_2023-11-27.pth\n",
      "        11           -3.47           -7.90           98.11            0.00           22.66\n",
      "        12           -3.47           -7.91           98.11            0.00           21.91\n",
      "        13           -5.58           -7.90           98.11            0.00           22.70\n",
      "        14           -3.90           -7.90           98.11            0.00           23.37\n",
      "        15           -4.64           -7.90           98.11            0.00           23.24\n",
      "        16           -3.42           -7.91           98.11            0.00           23.21\n",
      "        17           -3.39           -7.90           98.11            0.00           25.71\n",
      "        18           -3.57           -7.91           98.11            0.00           23.54\n",
      "        19           -3.79           -7.91           98.11            0.00           21.88\n",
      "        20           -3.48           -7.91           98.11            0.00           21.71\n",
      "      -> Generator 20 epoch is saved  to: E:/An toàn thông tin/Code/Saved Model/GANModel/GaussianNB/DOS/Generator/3/20epoch_time_created_2023-11-27.pth\n",
      "        21           -4.76           -7.91           98.11            0.00           21.70\n",
      "        22           -4.49           -7.90           98.11            0.00           22.08\n",
      "        23           -6.07           -7.90           98.11            0.00           22.11\n",
      "        24           -5.96           -7.90           98.11            0.00           22.83\n",
      "        25           -5.79           -7.90           98.11            0.00           23.28\n",
      "        26           -5.64           -7.90           98.11            0.00           22.37\n",
      "        27           -5.05           -7.91           98.11            0.00           22.70\n",
      "        28          -10.01           -7.90           98.11            0.00           22.16\n",
      "        29           -8.91           -7.91           98.11            0.00           21.81\n",
      "        30           -5.37           -7.91           98.11            0.00           22.47\n",
      "      -> Generator 30 epoch is saved  to: E:/An toàn thông tin/Code/Saved Model/GANModel/GaussianNB/DOS/Generator/3/30epoch_time_created_2023-11-27.pth\n",
      "        31           -5.46           -7.90           98.11            0.00           22.18\n",
      "        32           -4.87           -7.90           98.11            0.00           22.41\n",
      "        33           -4.50           -7.90           98.11            0.00           23.49\n",
      "        34           -6.85           -7.91           98.11            0.00           22.23\n",
      "        35           -4.05           -7.91           98.11            0.00           22.64\n",
      "        36           -4.43           -7.90           98.11            0.00           21.95\n",
      "        37           -5.21           -7.90           98.11            0.00           23.26\n",
      "        38           -4.27           -7.91           98.11            0.00           25.83\n",
      "        39           -4.89           -7.90           98.11            0.00           25.82\n",
      "        40           -9.26           -7.90           98.11            0.00           22.71\n",
      "      -> Generator 40 epoch is saved  to: E:/An toàn thông tin/Code/Saved Model/GANModel/GaussianNB/DOS/Generator/3/40epoch_time_created_2023-11-27.pth\n",
      "        41           -5.91           -7.90           98.11            0.00           22.28\n",
      "        42           -3.87           -7.91           98.11            0.00           21.83\n",
      "        43           -4.93           -7.90           98.11            0.00           22.41\n",
      "        44           -3.58           -7.90           98.11            0.00           23.82\n",
      "        45           -3.72           -7.90           98.11            0.00           21.34\n",
      "        46           -4.22           -7.91           98.11            0.00           22.24\n",
      "        47           -5.08           -7.91           98.11            0.00           22.74\n",
      "        48           -4.05           -7.90           98.11            0.00           24.74\n",
      "        49           -7.47           -7.90           98.11            0.00           23.14\n",
      "        50           -3.80           -7.91           98.11            0.00           22.76\n",
      "      -> Generator 50 epoch is saved  to: E:/An toàn thông tin/Code/Saved Model/GANModel/GaussianNB/DOS/Generator/3/50epoch_time_created_2023-11-27.pth\n",
      "        51           -3.86           -7.90           98.11            0.00           22.42\n",
      "        52           -4.36           -7.91           98.11            0.00           23.78\n",
      "        53           -3.56           -7.90           98.11            0.00           22.22\n",
      "        54           -4.99           -7.90           98.11            0.00           22.25\n",
      "        55           -5.13           -7.90           98.11            0.00           19.84\n",
      "        56           -5.18           -7.91           98.11            0.00           19.87\n",
      "        57           -4.64           -7.91           98.11            0.00           19.54\n",
      "        58           -4.97           -7.90           98.11            0.00           19.75\n",
      "        59           -7.11           -7.91           98.11            0.00           19.76\n",
      "        60          -11.40           -7.90           98.11            0.00           19.69\n",
      "      -> Generator 60 epoch is saved  to: E:/An toàn thông tin/Code/Saved Model/GANModel/GaussianNB/DOS/Generator/3/60epoch_time_created_2023-11-27.pth\n",
      "        61          -12.04           -7.90           98.11            0.00           19.66\n",
      "        62          -11.04           -7.90           98.11            0.00           19.70\n",
      "        63           -7.34           -7.90           98.11            0.00           19.98\n",
      "        64           -4.78           -7.90           98.11            0.00           19.69\n",
      "        65           -7.12           -7.90           98.11            0.00           19.75\n",
      "        66           -4.38           -7.91           98.11            0.00           19.98\n",
      "        67           -3.66           -7.90           98.11            0.00           19.65\n",
      "        68           -4.12           -7.91           98.11            0.00           20.05\n",
      "        69           -5.56           -7.91           98.11            0.00           19.79\n",
      "        70           -7.09           -7.91           98.11            0.00           19.55\n",
      "      -> Generator 70 epoch is saved  to: E:/An toàn thông tin/Code/Saved Model/GANModel/GaussianNB/DOS/Generator/3/70epoch_time_created_2023-11-27.pth\n",
      "        71           -5.45           -7.90           98.11            0.00           19.72\n",
      "        72           -5.85           -7.91           98.11            0.00           19.57\n",
      "        73           -6.04           -7.90           98.11            0.00           19.69\n",
      "        74           -6.26           -7.91           98.11            0.00           19.60\n",
      "        75           -6.86           -7.91           98.11            0.00           19.72\n",
      "        76           -7.49           -7.91           98.11            0.00           19.78\n",
      "        77           -4.57           -7.91           98.11            0.00           19.58\n",
      "        78           -3.74           -7.91           98.11            0.00           20.00\n",
      "        79           -5.11           -7.90           98.11            0.00           19.69\n",
      "        80           -7.49           -7.91           98.11            0.00           19.77\n",
      "      -> Generator 80 epoch is saved  to: E:/An toàn thông tin/Code/Saved Model/GANModel/GaussianNB/DOS/Generator/3/80epoch_time_created_2023-11-27.pth\n",
      "        81           -8.79           -7.90           98.11            0.00           19.78\n",
      "        82           -6.13           -7.91           98.11            0.00           19.55\n",
      "        83           -3.95           -7.91           98.11            0.00           19.83\n",
      "        84           -5.45           -7.91           98.11            0.00           19.53\n",
      "        85           -7.68           -7.90           98.11            0.00           19.71\n",
      "        86          -12.00           -7.91           98.11            0.00           19.77\n",
      "        87           -8.95           -7.90           98.11            0.00           19.74\n",
      "        88          -10.70           -7.90           98.11            0.00           19.78\n",
      "        89           -8.24           -7.91           98.11            0.00           19.78\n",
      "        90           -5.71           -7.91           98.11            0.00           19.72\n",
      "      -> Generator 90 epoch is saved  to: E:/An toàn thông tin/Code/Saved Model/GANModel/GaussianNB/DOS/Generator/3/90epoch_time_created_2023-11-27.pth\n",
      "        91           -5.38           -7.90           98.11            0.00           19.81\n",
      "        92           -3.98           -7.91           98.11            0.00           19.64\n",
      "        93           -5.32           -7.90           98.11            0.00           19.79\n",
      "        94           -4.57           -7.91           98.11            0.00           19.61\n",
      "        95           -5.07           -7.91           98.11            0.00           19.87\n",
      "        96           -5.60           -7.91           98.11            0.00           20.08\n",
      "        97           -4.30           -7.91           98.11            0.00           19.64\n",
      "        98           -6.31           -7.91           98.11            0.00           19.70\n",
      "        99          -10.87           -7.91           98.11            0.00           19.50\n",
      "       100          -11.06           -7.91           98.11            0.00           19.69\n",
      "      -> Generator 100 epoch is saved  to: E:/An toàn thông tin/Code/Saved Model/GANModel/GaussianNB/DOS/Generator/3/100epoch_time_created_2023-11-27.pth\n",
      "Training Runtime: 2152.71\n",
      "IDSGAN finish training!\n"
     ]
    },
    {
     "data": {
      "image/png": "[encoded data removed]",
      "text/plain": [
       "<Figure size 640x480 with 1 Axes>"
      ]
     },
     "metadata": {},
     "output_type": "display_data"
    },
    {
     "data": {
      "image/png": "[encoded data removed]",
      "text/plain": [
       "<Figure size 640x480 with 1 Axes>"
      ]
     },
     "metadata": {},
     "output_type": "display_data"
    },
    {
     "name": "stdout",
     "output_type": "stream",
     "text": [
      "      -> Saved Discrimninator 100 epoch to: E:/An toàn thông tin/Code/Saved Model/GANModel/GaussianNB/DOS/Discriminator/3/101epoch_time_created_2023-11-27.pth\n",
      "--------------------------------------------------------------------------------\n",
      " Attack Category: U2R_AND_R2L\n",
      "Loaded Model From Disk: E:/An toàn thông tin/Code/Saved Model/IDSModel/U2R_AND_R2L/Machine_Learning/NB/created_date_2023-11-27_GaussianNB.pkl\n",
      "-->IDSGAN start training\n",
      "     Epoch          G-Loss          D-Loss         O-DR(%)         A-DR(%)      Runtime(s)\n",
      "         1            0.99           -1.23           96.87           44.31           19.72\n",
      "         2            4.37           -1.26           96.87           44.31           20.02\n",
      "         3           -0.54           -1.22           96.87           44.18           19.47\n",
      "         4            1.48           -1.22           96.87           44.16           19.40\n",
      "         5            0.90           -1.22           96.87           44.13           21.62\n",
      "         6            1.79           -1.21           96.87           44.23           20.32\n",
      "         7            2.11           -1.09           96.87           44.82           21.74\n",
      "         8           -1.66           -1.03           96.87           97.50           21.59\n",
      "         9           -1.89           -1.00           96.87           98.14           21.45\n",
      "        10           -1.47           -1.00           96.87           98.12           21.11\n",
      "      -> Generator 10 epoch is saved  to: E:/An toàn thông tin/Code/Saved Model/GANModel/GaussianNB/U2R_AND_R2L/Generator/3/10epoch_time_created_2023-11-27.pth\n",
      "        11           -0.98           -1.00           96.87           98.14           22.38\n",
      "        12           -0.98           -1.00           96.87           98.16           21.65\n",
      "        13           -0.94           -1.00           96.87           98.18           21.38\n",
      "        14           -0.99           -1.00           96.87           98.21           21.98\n",
      "        15           -0.85           -1.00           96.87           98.16           20.36\n",
      "        16           -0.88           -1.00           96.87           98.13           22.71\n",
      "        17           -0.96           -1.00           96.87           98.16           23.10\n",
      "        18           -1.02           -1.00           96.87           98.15           23.30\n",
      "        19           -0.92           -1.00           96.87           98.10           22.54\n",
      "        20           -0.81           -1.00           96.87           98.19           25.20\n",
      "      -> Generator 20 epoch is saved  to: E:/An toàn thông tin/Code/Saved Model/GANModel/GaussianNB/U2R_AND_R2L/Generator/3/20epoch_time_created_2023-11-27.pth\n",
      "        21           -0.89           -1.00           96.87           98.18           22.29\n",
      "        22           -0.89           -1.00           96.87           98.16           22.66\n",
      "        23           -0.93           -1.00           96.87           98.17           23.44\n",
      "        24           -0.90           -0.99           96.87           98.11           23.49\n",
      "        25           -0.91           -1.00           96.87           98.06           22.10\n",
      "        26           -0.98           -1.00           96.87           98.15           23.23\n",
      "        27           -0.97           -1.00           96.87           98.08           24.36\n",
      "        28           -0.89           -1.00           96.87           98.12           23.97\n",
      "        29           -0.93           -1.00           96.87           98.08           21.88\n",
      "        30           -0.92           -1.00           96.87           98.08           22.88\n",
      "      -> Generator 30 epoch is saved  to: E:/An toàn thông tin/Code/Saved Model/GANModel/GaussianNB/U2R_AND_R2L/Generator/3/30epoch_time_created_2023-11-27.pth\n",
      "        31           -0.95           -0.99           96.87           98.06           22.57\n",
      "        32           -0.95           -1.00           96.87           98.08           24.46\n",
      "        33           -0.99           -1.00           96.87           98.14           22.79\n",
      "        34           -0.97           -1.00           96.87           98.11           23.23\n",
      "        35           -0.91           -1.00           96.87           98.07           23.82\n",
      "        36           -0.89           -0.99           96.87           98.04           23.45\n",
      "        37           -1.03           -1.00           96.87           98.11           22.96\n",
      "        38           -0.87           -1.00           96.87           98.09           22.95\n",
      "        39           -0.94           -0.99           96.87           98.16           22.21\n",
      "        40           -0.83           -1.00           96.87           98.12           22.70\n",
      "      -> Generator 40 epoch is saved  to: E:/An toàn thông tin/Code/Saved Model/GANModel/GaussianNB/U2R_AND_R2L/Generator/3/40epoch_time_created_2023-11-27.pth\n",
      "        41           -0.97           -1.00           96.87           98.11           22.56\n",
      "        42           -0.87           -1.00           96.87           98.11           22.78\n",
      "        43           -0.94           -1.00           96.87           98.15           22.23\n",
      "        44           -1.00           -1.00           96.87           98.13           22.48\n",
      "        45           -0.87           -0.99           96.87           98.00           21.65\n",
      "        46           -0.92           -1.00           96.87           98.09           21.39\n",
      "        47           -0.98           -1.00           96.87           98.08           23.03\n",
      "        48           -0.92           -1.00           96.87           98.16           21.69\n",
      "        49           -0.92           -1.00           96.87           98.05           23.78\n",
      "        50           -0.91           -0.99           96.87           98.07           22.88\n",
      "      -> Generator 50 epoch is saved  to: E:/An toàn thông tin/Code/Saved Model/GANModel/GaussianNB/U2R_AND_R2L/Generator/3/50epoch_time_created_2023-11-27.pth\n",
      "        51           -0.89           -0.99           96.87           98.04           22.25\n",
      "        52           -0.79           -0.99           96.87           98.10           21.88\n",
      "        53           -0.93           -0.99           96.87           98.07           22.51\n",
      "        54           -0.93           -0.99           96.87           98.04           23.03\n",
      "        55           -0.91           -1.00           96.87           98.10           21.54\n",
      "        56           -0.96           -1.00           96.87           98.08           22.54\n",
      "        57           -0.92           -1.00           96.87           98.07           22.03\n",
      "        58           -0.85           -1.00           96.87           98.07           23.23\n",
      "        59           -0.88           -0.99           96.87           98.08           22.19\n",
      "        60           -0.90           -0.99           96.87           98.04           23.01\n",
      "      -> Generator 60 epoch is saved  to: E:/An toàn thông tin/Code/Saved Model/GANModel/GaussianNB/U2R_AND_R2L/Generator/3/60epoch_time_created_2023-11-27.pth\n",
      "        61           -0.94           -1.00           96.87           98.10           22.42\n",
      "        62           -0.87           -1.00           96.87           98.02           24.84\n",
      "        63           -0.93           -1.00           96.87           98.01           21.52\n",
      "        64           -0.98           -1.00           96.87           98.01           21.05\n",
      "        65           -0.92           -1.00           96.87           98.00           20.98\n",
      "        66           -0.97           -1.00           96.87           98.05           20.89\n",
      "        67           -0.96           -1.00           96.87           98.04           22.52\n",
      "        68           -0.89           -0.99           96.87           98.07           22.58\n",
      "        69           -0.98           -1.00           96.87           98.04           23.79\n",
      "        70           -0.98           -0.99           96.87           98.01           22.13\n",
      "      -> Generator 70 epoch is saved  to: E:/An toàn thông tin/Code/Saved Model/GANModel/GaussianNB/U2R_AND_R2L/Generator/3/70epoch_time_created_2023-11-27.pth\n",
      "        71           -0.95           -1.00           96.87           98.03           23.14\n",
      "        72           -0.95           -1.00           96.87           98.02           24.41\n",
      "        73           -0.93           -1.00           96.87           98.08           22.30\n",
      "        74           -0.98           -1.00           96.87           98.06           22.11\n",
      "        75           -0.87           -1.00           96.87           98.04           23.39\n",
      "        76           -0.94           -1.00           96.87           98.07           23.31\n",
      "        77           -0.95           -0.99           96.87           98.00           23.10\n",
      "        78           -0.92           -1.00           96.87           98.04           23.03\n",
      "        79           -0.91           -0.99           96.87           98.02           23.33\n",
      "        80           -0.97           -1.00           96.87           98.05           22.26\n",
      "      -> Generator 80 epoch is saved  to: E:/An toàn thông tin/Code/Saved Model/GANModel/GaussianNB/U2R_AND_R2L/Generator/3/80epoch_time_created_2023-11-27.pth\n",
      "        81           -1.00           -1.00           96.87           98.06           23.00\n",
      "        82           -0.87           -1.00           96.87           98.05           23.07\n",
      "        83           -0.85           -1.00           96.87           98.06           22.51\n",
      "        84           -0.92           -1.00           96.87           98.04           22.20\n",
      "        85           -0.96           -0.99           96.87           98.04           22.23\n",
      "        86           -0.81           -1.00           96.87           98.03           23.31\n",
      "        87           -0.97           -1.00           96.87           97.98           21.53\n",
      "        88           -0.94           -1.00           96.87           97.99           19.55\n",
      "        89           -0.96           -1.00           96.87           98.03           19.48\n",
      "        90           -0.91           -1.00           96.87           98.02           19.65\n",
      "      -> Generator 90 epoch is saved  to: E:/An toàn thông tin/Code/Saved Model/GANModel/GaussianNB/U2R_AND_R2L/Generator/3/90epoch_time_created_2023-11-27.pth\n",
      "        91           -0.92           -1.00           96.87           98.02           19.80\n",
      "        92           -0.69           -1.00           96.87           97.99           19.52\n",
      "        93           -0.96           -1.00           96.87           98.01           20.07\n",
      "        94           -0.93           -1.00           96.87           98.06           19.65\n",
      "        95           -0.89           -1.00           96.87           98.02           19.50\n",
      "        96           -0.93           -0.99           96.87           97.99           20.48\n",
      "        97           -0.95           -0.99           96.87           97.98           20.28\n",
      "        98           -0.94           -0.99           96.87           98.01           20.48\n",
      "        99           -0.90           -1.00           96.87           97.97           19.50\n",
      "       100           -1.00           -1.00           96.87           98.00           19.85\n",
      "      -> Generator 100 epoch is saved  to: E:/An toàn thông tin/Code/Saved Model/GANModel/GaussianNB/U2R_AND_R2L/Generator/3/100epoch_time_created_2023-11-27.pth\n",
      "Training Runtime: 2211.66\n",
      "IDSGAN finish training!\n"
     ]
    },
    {
     "data": {
      "image/png": "[encoded data removed]",
      "text/plain": [
       "<Figure size 640x480 with 1 Axes>"
      ]
     },
     "metadata": {},
     "output_type": "display_data"
    },
    {
     "data": {
      "image/png": "[encoded data removed]",
      "text/plain": [
       "<Figure size 640x480 with 1 Axes>"
      ]
     },
     "metadata": {},
     "output_type": "display_data"
    },
    {
     "name": "stdout",
     "output_type": "stream",
     "text": [
      "      -> Saved Discrimninator 100 epoch to: E:/An toàn thông tin/Code/Saved Model/GANModel/GaussianNB/U2R_AND_R2L/Discriminator/3/101epoch_time_created_2023-11-27.pth\n"
     ]
    }
   ],
   "source": [
    "print(f\"{40*'='} TRAINING GAN {40*'='}\")\n",
    "print(f\"{80*'='}\\n IDS Model: {ids_model_name}\")\n",
    "# for attack_category in ATTACK_CATEGORIES:\n",
    "for adversarial_attack_type in [3]:\n",
    "    print(f\"{80*'*'}\\n Adversarial Attack Type : {adversarial_attack_type}\")\n",
    "    for attack_category in ATTACK_CATEGORIES:\n",
    "        print(f\"{80*'-'}\\n Attack Category: {attack_category}\")\n",
    "        total_time_start = timeit.default_timer()\n",
    "\n",
    "        # Load sklearn IDS Model\n",
    "        ids_model = load_sklearn_ids_model(ids_model_name, attack_category, ids_created_date)\n",
    "        # Init GAN-G model\n",
    "        G_OUTPUT_DIM = len(POS_NONFUNCTIONAL_FEATURES[attack_category])     # Generator output is number of nonfunctional feature\n",
    "        generator = init_generator(G_INPUT_DIM_12,G_OUTPUT_DIM, adversarial_attack_type)\n",
    "        optimizer_G = optim.RMSprop(generator.parameters(), lr=learning_rate)\n",
    "        # Load Raw Attack Dataset\n",
    "        raw_attack = preprocess_malicious_data(g_train_data, attack_category)\n",
    "        # Prepare Save Folder\n",
    "        GAN_4IDS_Model_Path = str(f\"{GAN_Model_Path}{ids_model_name}/\")\n",
    "        if not os.path.exists(GAN_4IDS_Model_Path):\n",
    "                os.makedirs(GAN_4IDS_Model_Path)\n",
    "        GAN_G_Model_4Category_Path = str(f\"{GAN_4IDS_Model_Path}{attack_category}/Generator/{adversarial_attack_type}/\")\n",
    "        GAN_D_Model_4Category_Path = str(f\"{GAN_4IDS_Model_Path}{attack_category}/Discriminator/{adversarial_attack_type}/\")\n",
    "        for directory in [GAN_G_Model_4Category_Path, GAN_D_Model_4Category_Path]:\n",
    "            if not os.path.exists(directory):\n",
    "                os.makedirs(directory)\n",
    "\n",
    "        # Create batch of attack traffic\n",
    "        batch_attack = create_batch2(raw_attack,BATCH_SIZE)\n",
    "        # Declare Loss, DR List and Train GAN-G, GAN-D\n",
    "        d_losses,g_losses = [],[]\n",
    "        o_dr, a_dr = [],[]\n",
    "        generator.train()\n",
    "        discriminator.train()\n",
    "\n",
    "        # Start Training\n",
    "        print(f\"-->IDSGAN start training\")\n",
    "        labels = ['Epoch', 'G-Loss', 'D-Loss', 'O-DR(%)', 'A-DR(%)', 'Runtime(s)']\n",
    "        print(\"{: >10} {: >15} {: >15} {: >15} {: >15} {: >15}\".format(*labels))\n",
    "        for epoch in range(MAX_EPOCH):\n",
    "            batch_normal = create_batch2(normal,BATCH_SIZE)\n",
    "            epoch_time_start = timeit.default_timer()\n",
    "            cnt = 0\n",
    "            run_g_loss = 0.\n",
    "            run_d_loss = 0.\n",
    "            epoch_o_drs, epoch_a_drs = [], []\n",
    "\n",
    "            for idx, bn in enumerate(batch_normal):\n",
    "                normal_b = th.Tensor(bn.astype(\"float64\"))\n",
    "                attack_traffic  = V(th.Tensor(batch_attack[idx % len(batch_attack)]))\n",
    "                #  Train Generator\n",
    "                g_loss = train_generator(generator, discriminator, optimizer_G, NOISE_DIM, attack_traffic, attack_category, adversarial_attack_type)\n",
    "                run_g_loss += g_loss.item()\n",
    "\n",
    "                # Train Discriminator\n",
    "                d_loss, current_cnt = train_discriminator(discriminator, ids_model, generator, CRITIC_ITERS, CLAMP, optimizer_D, normal_b, NOISE_DIM, attack_traffic, attack_category, adversarial_attack_type)\n",
    "                run_d_loss += d_loss\n",
    "                cnt += current_cnt\n",
    "                \n",
    "                # CALC Epoch DR\n",
    "                adversarial_attack = gen_adversarial_attack(generator, NOISE_DIM, attack_traffic, attack_category, adversarial_attack_type).detach()\n",
    "                origin_dr, adversarial_dr = cal_dr(ids_model, normal_b, attack_traffic, adversarial_attack)\n",
    "                epoch_o_drs.append(origin_dr)\n",
    "                epoch_a_drs.append(adversarial_dr)\n",
    "\n",
    "            if cnt >= (len(normal)/BATCH_SIZE):\n",
    "                print(\"Not exist predicted attack traffic\")\n",
    "                break\n",
    "            d_losses.append(run_d_loss/CRITIC_ITERS)\n",
    "            g_losses.append(run_g_loss)\n",
    "            epoch_o_dr = np.mean(epoch_o_drs)\n",
    "            epoch_a_dr = np.mean(epoch_a_drs)\n",
    "            o_dr.append(epoch_o_dr)\n",
    "            a_dr.append(epoch_a_dr)\n",
    "            \n",
    "            runtime = timeit.default_timer() - epoch_time_start\n",
    "            print_vals = [(epoch + 1), run_g_loss, (run_d_loss/CRITIC_ITERS), (epoch_o_dr*100), (epoch_a_dr*100), runtime]\n",
    "            print_string = []\n",
    "            for val in print_vals:\n",
    "                if isinstance(val, float):\n",
    "                    print_string.append(str(f\"{val:.2f}\"))\n",
    "                else:\n",
    "                    print_string.append(str(val))\n",
    "            print(\"{: >10} {: >15} {: >15} {: >15} {: >15} {: >15}\".format(*print_string))\n",
    "            # Save Adversarial Dataset each 10 epoch\n",
    "            if ((epoch + 1) % 10 == 0):\n",
    "                path = GAN_G_Model_4Category_Path + f\"{epoch + 1}epoch_time_created_{today}.pth\"\n",
    "                th.save(generator.state_dict(), path)\n",
    "                print(f\"{6*' '}-> Generator {epoch + 1} epoch is saved  to: {path}\")\n",
    "        total_runtime = timeit.default_timer() - total_time_start\n",
    "        print(f\"Training Runtime: {total_runtime:.2f}\")\n",
    "        print(\"IDSGAN finish training!\")\n",
    "        \n",
    "        # Show Graph\n",
    "        # Loss-Graph\n",
    "        plt.plot(d_losses,label = \"D_loss\")\n",
    "        plt.plot(g_losses, label = \"G_loss\")\n",
    "        plt.legend()\n",
    "        plt.show()\n",
    "        # DR-Graph\n",
    "        plt.plot(o_dr,label = \"Origin DR\")\n",
    "        plt.plot(a_dr, label = \"Adversarial DR\")\n",
    "        plt.legend()\n",
    "        plt.show()\n",
    "\n",
    "        # Save Model\n",
    "        path = GAN_D_Model_4Category_Path + f\"{MAX_EPOCH + 1}epoch_time_created_{today}.pth\"\n",
    "        th.save(discriminator.state_dict(), path)\n",
    "        print(f\"{6*' '}-> Saved Discrimninator {MAX_EPOCH} epoch to: {path}\")"
   ]
  },
  {
   "cell_type": "markdown",
   "metadata": {
    "colab_type": "text",
    "id": "jQNXCNMEx1bn"
   },
   "source": [
    "## **3.2 Run Generate Adversarial Traffic**"
   ]
  },
  {
   "cell_type": "code",
   "execution_count": 35,
   "metadata": {
    "colab": {},
    "colab_type": "code",
    "executionInfo": {
     "elapsed": 786,
     "status": "ok",
     "timestamp": 1594459965790,
     "user": {
      "displayName": "Tien LE KHAC",
      "photoUrl": "https://lh3.googleusercontent.com/a-/AOh14GhATILfEwLuvrRlBGPMrmY7nclZNsxGKzoqqHB_Cg=s64",
      "userId": "18298916241916904857"
     },
     "user_tz": -420
    },
    "id": "I0w_F6zKcgrF"
   },
   "outputs": [],
   "source": [
    "# Hyber Parameters\n",
    "BATCH_SIZE = 256 # Batch size\n",
    "\n",
    "# GAN-G\n",
    "NOISE_DIM = 9\n",
    "G_INPUT_DIM = NOISE_DIM     # Generator input dimension is dimention of noise"
   ]
  },
  {
   "cell_type": "code",
   "execution_count": 36,
   "metadata": {
    "colab": {
     "base_uri": "https://localhost:8080/",
     "height": 51
    },
    "colab_type": "code",
    "executionInfo": {
     "elapsed": 1068,
     "status": "ok",
     "timestamp": 1594459967142,
     "user": {
      "displayName": "Tien LE KHAC",
      "photoUrl": "https://lh3.googleusercontent.com/a-/AOh14GhATILfEwLuvrRlBGPMrmY7nclZNsxGKzoqqHB_Cg=s64",
      "userId": "18298916241916904857"
     },
     "user_tz": -420
    },
    "id": "HPx41fPd6CiW",
    "outputId": "a0e4fd9d-2ee1-4da0-c77f-def8918c551b"
   },
   "outputs": [
    {
     "name": "stdout",
     "output_type": "stream",
     "text": [
      "Amount of KDDTest+: \t\t20123\n",
      "Amount of Normal:\t\t9711 (37 batchs - 256 records/batch)\n"
     ]
    }
   ],
   "source": [
    "#gan_model_time_created = str(date.today())\n",
    "\n",
    "# Load Testset\n",
    "testset = pd.read_csv(testset_path)\n",
    "print(f\"Amount of KDDTest+: \\t\\t{len(testset)}\")\n",
    "# test_normal\n",
    "test_normal = np.array(testset[testset[\"class\"] == 'Normal'])[:,:-1]\n",
    "# Create batch of normal traffic\n",
    "test_batch_normal = create_batch2(test_normal,BATCH_SIZE).astype('float64')\n",
    "print(f\"Amount of Normal:\\t\\t{len(test_normal)} ({len(test_batch_normal)} batchs - {BATCH_SIZE} records/batch)\")"
   ]
  },
  {
   "cell_type": "code",
   "execution_count": 38,
   "metadata": {
    "colab": {
     "base_uri": "https://localhost:8080/",
     "height": 612
    },
    "colab_type": "code",
    "executionInfo": {
     "elapsed": 6550,
     "status": "ok",
     "timestamp": 1594459974865,
     "user": {
      "displayName": "Tien LE KHAC",
      "photoUrl": "https://lh3.googleusercontent.com/a-/AOh14GhATILfEwLuvrRlBGPMrmY7nclZNsxGKzoqqHB_Cg=s64",
      "userId": "18298916241916904857"
     },
     "user_tz": -420
    },
    "id": "ZhPpd8MCx10u",
    "outputId": "ecc4ac5b-99c3-4d4d-f4b1-ef091eabbbe2"
   },
   "outputs": [
    {
     "name": "stdout",
     "output_type": "stream",
     "text": [
      "======================================== ADVERSARIAL TRAFFIC EVALUATING ========================================\n",
      "================================================================================\n",
      " IDS Model: GaussianNB\n",
      "--------------------------------------------------------------------------------\n",
      " Adversarial Attack Type : 3\n",
      "*****\n",
      " - Attack Category: DOS\n",
      "Loaded Model From Disk: E:/An toàn thông tin/Code/Saved Model/IDSModel/DOS/Machine_Learning/NB/created_date_2023-11-27_GaussianNB.pkl\n",
      "    Amout of DOS:\t7460 (29 batchs - 256 records/batch)\n",
      "\t  10 epochs:\tOrigin DR : 78.27% \t Adversarial DR : 0.00% \t EIR : 100.00%\n",
      "\t  20 epochs:\tOrigin DR : 78.27% \t Adversarial DR : 0.00% \t EIR : 100.00%\n",
      "\t  30 epochs:\tOrigin DR : 78.27% \t Adversarial DR : 0.00% \t EIR : 100.00%\n",
      "\t  40 epochs:\tOrigin DR : 78.27% \t Adversarial DR : 0.00% \t EIR : 100.00%\n",
      "\t  50 epochs:\tOrigin DR : 78.27% \t Adversarial DR : 0.00% \t EIR : 100.00%\n",
      "\t  60 epochs:\tOrigin DR : 78.27% \t Adversarial DR : 0.00% \t EIR : 100.00%\n",
      "\t  70 epochs:\tOrigin DR : 78.27% \t Adversarial DR : 0.00% \t EIR : 100.00%\n",
      "\t  80 epochs:\tOrigin DR : 78.27% \t Adversarial DR : 0.00% \t EIR : 100.00%\n",
      "\t  90 epochs:\tOrigin DR : 78.27% \t Adversarial DR : 0.00% \t EIR : 100.00%\n",
      "\t 100 epochs:\tOrigin DR : 78.27% \t Adversarial DR : 0.00% \t EIR : 100.00%\n",
      "--------------------------------------------------------------------------------\n",
      " Adversarial Attack Type : 3\n",
      "*****\n",
      " - Attack Category: U2R_AND_R2L\n",
      "Loaded Model From Disk: E:/An toàn thông tin/Code/Saved Model/IDSModel/U2R_AND_R2L/Machine_Learning/NB/created_date_2023-11-27_GaussianNB.pkl\n",
      "    Amout of U2R_AND_R2L:\t2952 (11 batchs - 256 records/batch)\n",
      "\t  10 epochs:\tOrigin DR : 77.63% \t Adversarial DR : 79.56% \t EIR : -2.49%\n",
      "\t  20 epochs:\tOrigin DR : 77.63% \t Adversarial DR : 80.34% \t EIR : -3.50%\n",
      "\t  30 epochs:\tOrigin DR : 77.63% \t Adversarial DR : 80.24% \t EIR : -3.36%\n",
      "\t  40 epochs:\tOrigin DR : 77.63% \t Adversarial DR : 80.24% \t EIR : -3.36%\n",
      "\t  50 epochs:\tOrigin DR : 77.63% \t Adversarial DR : 79.90% \t EIR : -2.92%\n",
      "\t  60 epochs:\tOrigin DR : 77.63% \t Adversarial DR : 79.87% \t EIR : -2.88%\n",
      "\t  70 epochs:\tOrigin DR : 77.63% \t Adversarial DR : 79.94% \t EIR : -2.98%\n",
      "\t  80 epochs:\tOrigin DR : 77.63% \t Adversarial DR : 79.79% \t EIR : -2.79%\n",
      "\t  90 epochs:\tOrigin DR : 77.63% \t Adversarial DR : 79.11% \t EIR : -1.90%\n",
      "\t 100 epochs:\tOrigin DR : 77.63% \t Adversarial DR : 79.84% \t EIR : -2.84%\n"
     ]
    }
   ],
   "source": [
    "# Adversarial Traffic Evaluating\n",
    "print(f\"{40*'='} ADVERSARIAL TRAFFIC EVALUATING {40*'='}\")\n",
    "print(f\"{80*'='}\\n IDS Model: {ids_model_name}\")\n",
    "\n",
    "# for attack_category in ATTACK_CATEGORIES:\n",
    "for adversarial_attack_type in [3]:\n",
    "    for attack_category in ATTACK_CATEGORIES:\n",
    "        print(f\"{80*'-'}\\n Adversarial Attack Type : {adversarial_attack_type}\")\n",
    "        print(f\"{5*'*'}\\n - Attack Category: {attack_category}\")\n",
    "        \n",
    "        # Load sklearn IDS Model\n",
    "        ids_model = load_sklearn_ids_model(ids_model_name, attack_category, ids_created_date)\n",
    "        # Init GAN-G model\n",
    "        G_OUTPUT_DIM = len(POS_NONFUNCTIONAL_FEATURES[attack_category])     # Generator output is number of nonfunctional feature\n",
    "        generator = init_generator(G_INPUT_DIM,G_OUTPUT_DIM, adversarial_attack_type)\n",
    "        # Load Attack Dataset\n",
    "        test_raw_attack = preprocess_malicious_data(testset, attack_category)\n",
    "        # Create batch of attack traffic\n",
    "        batch_attack = create_batch2(test_raw_attack, BATCH_SIZE)\n",
    "        n_batch_attack = len(batch_attack)\n",
    "        print(f\"{4*' '}Amout of {attack_category}:\\t{len(test_raw_attack)} ({n_batch_attack} batchs - {BATCH_SIZE} records/batch)\")\n",
    "        \n",
    "        # Calc DR through each epoch\n",
    "        for epoch in range(10, MAX_EPOCH + 1, 10):\n",
    "            # Load GAN-G Model\n",
    "            gan_g_model_path = str(f\"{GAN_Model_Path}{ids_model_name}/{attack_category}/Generator/{adversarial_attack_type}/{epoch}epoch_time_created_{ids_created_date}.pth\")\n",
    "            param = th.load(gan_g_model_path,map_location=lambda x,y:x)\n",
    "            generator.load_state_dict(param)\n",
    "            generator.eval()\n",
    "\n",
    "            o_dr,a_dr =[],[]\n",
    "            with th.no_grad():\n",
    "                for idx, bn in enumerate(test_batch_normal):\n",
    "                    normal_b = th.Tensor(bn)\n",
    "                    attack_b = th.Tensor(batch_attack[idx % n_batch_attack])\n",
    "                    # Generate Adversarial Traffic\n",
    "                    adversarial_attack_b = gen_adversarial_attack(generator, NOISE_DIM, attack_b, attack_category, adversarial_attack_type).detach()\n",
    "\n",
    "                    # Calc DR\n",
    "                    origin_dr, adversarial_dr = cal_dr(ids_model, normal_b, attack_b, adversarial_attack_b)\n",
    "                    o_dr.append(origin_dr)\n",
    "                    a_dr.append(adversarial_dr)\n",
    "            eir = 1 - (np.mean(a_dr)/np.mean(o_dr))\n",
    "            print(f\"\\t {epoch:3d} epochs:\\tOrigin DR : {np.mean(o_dr)*100:.2f}% \\t Adversarial DR : {np.mean(a_dr)*100:.2f}% \\t EIR : {eir*100:.2f}%\")"
   ]
  },
  {
   "cell_type": "markdown",
   "metadata": {
    "colab_type": "text",
    "id": "mwWugTozppL5"
   },
   "source": [
    "The Saved Model stored in [Google Drive - GAN Model](https://drive.google.com/drive/u/1/folders/1VNFW-k5SbR0eGsJ_np3U-W3Rcz_n4I8N)\n",
    "\n",
    "The Result of Code stored in [Github - Thesis](https://github.com/thetinybug/thesis-IDSGAN)"
   ]
  }
 ],
 "metadata": {
  "colab": {
   "collapsed_sections": [],
   "name": "2. GAN and Gen/Machine_Learning_IDS/GaussianNB-A3.ipynb",
   "provenance": [
    {
     "file_id": "1__oEcuLAwPtIYf5J9l75rsRQ1RPYE56v",
     "timestamp": 1593183432956
    },
    {
     "file_id": "1mkhrbHfNqYSDxkiyP7BsFofEaWEWP5fM",
     "timestamp": 1592983611776
    }
   ],
   "toc_visible": true
  },
  "kernelspec": {
   "display_name": "Python 3 (ipykernel)",
   "language": "python",
   "name": "python3"
  },
  "language_info": {
   "codemirror_mode": {
    "name": "ipython",
    "version": 3
   },
   "file_extension": ".py",
   "mimetype": "text/x-python",
   "name": "python",
   "nbconvert_exporter": "python",
   "pygments_lexer": "ipython3",
   "version": "3.11.4"
  }
 },
 "nbformat": 4,
 "nbformat_minor": 4
}
