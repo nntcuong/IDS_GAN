{
 "cells": [
  {
   "cell_type": "markdown",
   "metadata": {
    "colab_type": "text",
    "id": "m27n3nFSTSv2"
   },
   "source": [
    "#**0. Thư viện**"
   ]
  },
  {
   "cell_type": "markdown",
   "metadata": {
    "colab_type": "text",
    "id": "08Q42YHGbvLT"
   },
   "source": [
    "##Cài đặt "
   ]
  },
  {
   "cell_type": "code",
   "execution_count": 2,
   "metadata": {
    "colab": {
     "base_uri": "https://localhost:8080/",
     "height": 136
    },
    "colab_type": "code",
    "executionInfo": {
     "elapsed": 39341,
     "status": "ok",
     "timestamp": 1594450170053,
     "user": {
      "displayName": "Machine Ubuntu",
      "photoUrl": "",
      "userId": "14037080372597024989"
     },
     "user_tz": -420
    },
    "id": "u7ZZvZaAbM1J",
    "outputId": "d6c88995-a5a6-4da2-a488-d553cb8e1e9b"
   },
   "outputs": [
    {
     "name": "stdout",
     "output_type": "stream",
     "text": [
      "Collecting adabound\n",
      "  Downloading https://files.pythonhosted.org/packages/cd/44/0c2c414effb3d9750d780b230dbb67ea48ddc5d9a6d7a9b7e6fcc6bdcff9/adabound-0.0.5-py3-none-any.whl\n",
      "Requirement already satisfied: torch>=0.4.0 in /usr/local/lib/python3.6/dist-packages (from adabound) (1.5.1+cu101)\n",
      "Requirement already satisfied: future in /usr/local/lib/python3.6/dist-packages (from torch>=0.4.0->adabound) (0.16.0)\n",
      "Requirement already satisfied: numpy in /usr/local/lib/python3.6/dist-packages (from torch>=0.4.0->adabound) (1.18.5)\n",
      "Installing collected packages: adabound\n",
      "Successfully installed adabound-0.0.5\n"
     ]
    }
   ],
   "source": [
    "!pip3 install adabound\n",
    "# !pip3 numpy torc sklearn matplotlib pandas"
   ]
  },
  {
   "cell_type": "code",
   "execution_count": 1,
   "metadata": {},
   "outputs": [],
   "source": [
    "%run models.py"
   ]
  },
  {
   "cell_type": "code",
   "execution_count": 2,
   "metadata": {},
   "outputs": [],
   "source": [
    "%run constants.py"
   ]
  },
  {
   "cell_type": "markdown",
   "metadata": {
    "colab_type": "text",
    "id": "mt5O3Y-fb5Du"
   },
   "source": [
    "##Import"
   ]
  },
  {
   "cell_type": "code",
   "execution_count": 4,
   "metadata": {
    "colab": {
     "base_uri": "https://localhost:8080/",
     "height": 34
    },
    "colab_type": "code",
    "executionInfo": {
     "elapsed": 46258,
     "status": "ok",
     "timestamp": 1594450177009,
     "user": {
      "displayName": "Machine Ubuntu",
      "photoUrl": "",
      "userId": "14037080372597024989"
     },
     "user_tz": -420
    },
    "id": "YIQ708lZS2lF",
    "outputId": "6bfe840a-291a-4d3f-d000-48140663f4f3"
   },
   "outputs": [],
   "source": [
    "import numpy as np\n",
    "import pandas as pd\n",
    "import torch as th\n",
    "from torch.autograd import Variable as V\n",
    "import torch.autograd as autograd\n",
    "import torch.nn as nn\n",
    "import torch.nn.functional as F\n",
    "import torch.optim as optim\n",
    "from sklearn.utils import shuffle\n",
    "from sklearn.metrics import confusion_matrix\n",
    "import pickle\n",
    "\n",
    "\n",
    "\n",
    "# Own Custom Module to import models and constants\n",
    "from models import *\n",
    "from constants import *\n",
    "\n",
    "import matplotlib.pyplot as plt\n",
    "import adabound \n",
    "import math\n",
    "import os\n",
    "from datetime import date\n",
    "import timeit"
   ]
  },
  {
   "cell_type": "markdown",
   "metadata": {
    "colab_type": "text",
    "id": "DZkqASdBS-QA"
   },
   "source": [
    "#**1. Chuẩn bị**"
   ]
  },
  {
   "cell_type": "markdown",
   "metadata": {
    "colab_type": "text",
    "id": "3rFWSSBQF99E"
   },
   "source": [
    "##Paths"
   ]
  },
  {
   "cell_type": "code",
   "execution_count": 18,
   "metadata": {
    "colab": {},
    "colab_type": "code",
    "executionInfo": {
     "elapsed": 46244,
     "status": "ok",
     "timestamp": 1594450177015,
     "user": {
      "displayName": "Machine Ubuntu",
      "photoUrl": "",
      "userId": "14037080372597024989"
     },
     "user_tz": -420
    },
    "id": "uW-RHzMwdsG5"
   },
   "outputs": [],
   "source": [
    "\n",
    "\n",
    "base_path = \"E:/An toàn thông tin/Code/\"\n",
    "Dataset_Path = \"E:/An toàn thông tin/Code/Dataset/NSL-KDD Processed/Final - For Using/\"\n",
    "SavedModelPath = base_path + \"Saved Model/\"\n",
    "\n",
    "# Dataset Path\n",
    "Trainsets_Path = Dataset_Path + \"Trainset/\"\n",
    "g_trainset_path = Trainsets_Path + \"GAN-G.csv\"\n",
    "d_trainset_path = Trainsets_Path + \"GAN-D.csv\"\n",
    "testset_path = Dataset_Path + \"Testset/\" + \"KDDTest+.csv\"\n",
    "\n",
    "# GAN Saved Models Paths\n",
    "GAN_Model_Path = SavedModelPath + \"GANModel/\"\n",
    "\n",
    "# IDS Pytorch Saved Models Paths\n",
    "IDS_Saved_Path = SavedModelPath + \"IDSModel/\""
   ]
  },
  {
   "cell_type": "markdown",
   "metadata": {
    "colab_type": "text",
    "id": "XwTYqTdfF-wS"
   },
   "source": [
    "##Global Variables"
   ]
  },
  {
   "cell_type": "code",
   "execution_count": 6,
   "metadata": {
    "colab": {},
    "colab_type": "code",
    "executionInfo": {
     "elapsed": 46231,
     "status": "ok",
     "timestamp": 1594450177017,
     "user": {
      "displayName": "Machine Ubuntu",
      "photoUrl": "",
      "userId": "14037080372597024989"
     },
     "user_tz": -420
    },
    "id": "8rBB0NLwGAce"
   },
   "outputs": [],
   "source": [
    "# Global Variables\n",
    "N_FEATURES = 41\n",
    "# IDS\n",
    "IDS_INPUT_DIM = N_FEATURES\n",
    "IDS_OUTPUT_DIM = 2\n",
    "ATTACK_CATEGORIES = ['DOS', 'U2R_AND_R2L']\n",
    "\n",
    "POS_FUNCTIONAL_FEATURES = {'DOS': DOS_FEATURES, 'U2R_AND_R2L': U2R_AND_R2L_FEATURES}\n",
    "POS_NONFUNCTIONAL_FEATURES = {}\n",
    "for attack_category, pos_functional_feature in POS_FUNCTIONAL_FEATURES.items():\n",
    "    pos_nonfunctional_feature = []\n",
    "    for i in range(N_FEATURES):\n",
    "        if i not in pos_functional_feature:\n",
    "            pos_nonfunctional_feature.append(i)\n",
    "    POS_NONFUNCTIONAL_FEATURES[attack_category] = pos_nonfunctional_feature\n",
    "\n",
    "IDS_MODELS = {'GaussianNB', 'MultinomialNB', 'ComplementNB', 'BernoulliNB', 'DT', 'RF', 'KNN'}"
   ]
  },
  {
   "cell_type": "code",
   "execution_count": 7,
   "metadata": {
    "colab": {
     "base_uri": "https://localhost:8080/",
     "height": 105
    },
    "colab_type": "code",
    "executionInfo": {
     "elapsed": 46188,
     "status": "ok",
     "timestamp": 1594450177019,
     "user": {
      "displayName": "Machine Ubuntu",
      "photoUrl": "",
      "userId": "14037080372597024989"
     },
     "user_tz": -420
    },
    "id": "hlE7gDk07ybi",
    "outputId": "ea075a42-4648-49e6-f3f1-160b9db91d04"
   },
   "outputs": [
    {
     "name": "stdout",
     "output_type": "stream",
     "text": [
      "Position of Functional Features\n",
      "   {'DOS': [0, 1, 2, 3, 4, 5, 6, 7, 8, 23, 24, 25, 26, 27, 28, 29, 30], 'U2R_AND_R2L': [0, 1, 2, 3, 4, 5, 6, 7, 8, 9, 10, 11, 12, 13, 14, 15, 16, 17, 18, 19, 20, 21, 22]}\n",
      "Position of Functional Features:\n",
      "   {'DOS': [9, 10, 11, 12, 13, 14, 15, 16, 17, 18, 19, 20, 21, 22, 31, 32, 33, 34, 35, 36, 37, 38, 39, 40], 'U2R_AND_R2L': [23, 24, 25, 26, 27, 28, 29, 30, 31, 32, 33, 34, 35, 36, 37, 38, 39, 40]}\n"
     ]
    }
   ],
   "source": [
    "print('Position of Functional Features\\n  ', POS_FUNCTIONAL_FEATURES)\n",
    "print('Position of Functional Features:\\n  ', POS_NONFUNCTIONAL_FEATURES)"
   ]
  },
  {
   "cell_type": "markdown",
   "metadata": {
    "colab_type": "text",
    "id": "otbVJEAzcTv4"
   },
   "source": [
    "# **2. Định nghĩa Model**"
   ]
  },
  {
   "cell_type": "markdown",
   "metadata": {
    "colab_type": "text",
    "id": "FVn0MzP1HW_0"
   },
   "source": [
    "##Models"
   ]
  },
  {
   "cell_type": "code",
   "execution_count": 8,
   "metadata": {
    "colab": {},
    "colab_type": "code",
    "executionInfo": {
     "elapsed": 46170,
     "status": "ok",
     "timestamp": 1594450177020,
     "user": {
      "displayName": "Machine Ubuntu",
      "photoUrl": "",
      "userId": "14037080372597024989"
     },
     "user_tz": -420
    },
    "id": "sqogk9lIw_Uk"
   },
   "outputs": [],
   "source": [
    "# Load from model.py module"
   ]
  },
  {
   "cell_type": "markdown",
   "metadata": {
    "colab_type": "text",
    "id": "MdPRWEuxBAcd"
   },
   "source": [
    "##Functions"
   ]
  },
  {
   "cell_type": "markdown",
   "metadata": {
    "colab_type": "text",
    "id": "TcJBwwXf924F"
   },
   "source": [
    "### Processing Data Functions"
   ]
  },
  {
   "cell_type": "code",
   "execution_count": 8,
   "metadata": {
    "colab": {},
    "colab_type": "code",
    "executionInfo": {
     "elapsed": 46149,
     "status": "ok",
     "timestamp": 1594450177021,
     "user": {
      "displayName": "Machine Ubuntu",
      "photoUrl": "",
      "userId": "14037080372597024989"
     },
     "user_tz": -420
    },
    "id": "r81eRs5hx8Lf"
   },
   "outputs": [],
   "source": [
    "# Processing Data Functions\n",
    "# create_batch2 - Hàm tạo Batch\n",
    "def create_batch2(x,batch_size):\n",
    "    a = list(range(len(x)))\n",
    "    np.random.shuffle(a)\n",
    "    x = x[a]\n",
    "    batch_x = [x[batch_size * i : (i+1)*batch_size,:] for i in range(len(x)//batch_size)]\n",
    "    return np.array(batch_x)\n",
    "# preprocess_malicious_data - Hàm tiền xử lý dữ liệu tấn công\n",
    "def preprocess_malicious_data(dataset, attack_category):\n",
    "    if attack_category != 'DOS' and attack_category != 'U2R_AND_R2L':\n",
    "      raise ValueError(\"Preprocess Data Fail: Invalid Attack Category\")\n",
    "    attack_data = dataset[dataset['class'] == attack_category]\n",
    "    del attack_data[\"class\"]\n",
    "    return np.array(attack_data)"
   ]
  },
  {
   "cell_type": "markdown",
   "metadata": {
    "colab_type": "text",
    "id": "fM7pjZa999Ht"
   },
   "source": [
    "### IDS Functions"
   ]
  },
  {
   "cell_type": "code",
   "execution_count": 9,
   "metadata": {
    "colab": {},
    "colab_type": "code",
    "executionInfo": {
     "elapsed": 46129,
     "status": "ok",
     "timestamp": 1594450177022,
     "user": {
      "displayName": "Machine Ubuntu",
      "photoUrl": "",
      "userId": "14037080372597024989"
     },
     "user_tz": -420
    },
    "id": "Ukp0y2LiyGmy"
   },
   "outputs": [],
   "source": [
    "# IDS Functions\n",
    "# get_sklearn_ids_path - Get path for sklearn IDS Models\n",
    "def get_sklearn_ids_path(model_name, attack_category, created_date):\n",
    "    if attack_category != 'DOS' and attack_category != 'U2R_AND_R2L':\n",
    "        raise ValueError(\"Preprocess Data Fail: Invalid Attack Category\")\n",
    "    ids_path = str(f\"{IDS_Saved_Path}{attack_category}/Machine_Learning/created_date_{created_date}_{model_name}.pkl\")\n",
    "    if not os.path.exists(ids_path):\n",
    "        raise ValueError(f\"Invalid path: {ids_path}\\nNot exist file!\")\n",
    "    return ids_path\n",
    "# load_pytorch_ids_model - Load PyTorch IDS Models\n",
    "def load_sklearn_ids_model(model_name, attack_category, created_date):\n",
    "    ids_model_path = get_sklearn_ids_path(model_name, attack_category, created_date)\n",
    "    with open(ids_model_path, 'rb') as file:\n",
    "        pickle_model = pickle.load(file)\n",
    "        print(f\"Loaded Model From Disk: {ids_model_path}\")\n",
    "    return pickle_model"
   ]
  },
  {
   "cell_type": "markdown",
   "metadata": {
    "colab_type": "text",
    "id": "J9Q5DryD-Dl0"
   },
   "source": [
    "### GAN Functions"
   ]
  },
  {
   "cell_type": "code",
   "execution_count": 10,
   "metadata": {
    "colab": {},
    "colab_type": "code",
    "executionInfo": {
     "elapsed": 46104,
     "status": "ok",
     "timestamp": 1594450177023,
     "user": {
      "displayName": "Machine Ubuntu",
      "photoUrl": "",
      "userId": "14037080372597024989"
     },
     "user_tz": -420
    },
    "id": "tV5MHCxUA-8G"
   },
   "outputs": [],
   "source": [
    "# GAN Functions\n",
    "# init_generator - Khoi tao model GAN-G\n",
    "def init_generator(input_dim, output_dim, adversarial_attack_type = 1):\n",
    "    if adversarial_attack_type == 1:\n",
    "        generator = Generator_A1(input_dim, output_dim)\n",
    "    elif adversarial_attack_type == 2:\n",
    "        generator = Generator_A2(input_dim, output_dim)\n",
    "    else:\n",
    "        raise ValueError(\"Init GAN - Generator: Invalid Adversarial Attack Type\")\n",
    "    return generator\n",
    "\n",
    "# gen_adversarial_attack - Tao luu luong tan cong doi khang\n",
    "def gen_adversarial_attack(generator, noise_dim, raw_attack, attack_category, adversarial_attack_type = 1):\n",
    "    if adversarial_attack_type == 1:\n",
    "        adversarial_attack = generator(noise_dim, raw_attack, attack_category, POS_NONFUNCTIONAL_FEATURES)\n",
    "    elif adversarial_attack_type == 2:\n",
    "        batch_size = len(raw_attack)\n",
    "        noise = V(th.Tensor(np.random.uniform(0,1,(batch_size, noise_dim))))\n",
    "        generator_out = generator(noise)\n",
    "        adversarial_attack = gen_adversarial_attack_a2(generator_out, raw_attack, attack_category, POS_NONFUNCTIONAL_FEATURES)\n",
    "    else:\n",
    "        raise ValueError(\"Init GAN - Generator: Invalid Adversarial Attack Type\")\n",
    "    return adversarial_attack\n",
    "\n",
    "# train_generator - Train Generator\n",
    "def train_generator(generator, discriminator, optimizer_G, noise_dim, attack_traffic, attack_category, adversarial_attack_type):\n",
    "    for p in discriminator.parameters():  \n",
    "        p.requires_grad = False\n",
    "    optimizer_G.zero_grad()        \n",
    "    # GAN-G Generate Adversarial Attack\n",
    "    adversarial_attack = gen_adversarial_attack(generator, noise_dim, attack_traffic, attack_category, adversarial_attack_type)\n",
    "    # GAN-D predict, GAN-G update parameter\n",
    "    D_pred = discriminator(adversarial_attack)\n",
    "    g_loss = -th.mean(D_pred)\n",
    "    g_loss.backward()\n",
    "    optimizer_G.step()\n",
    "    return g_loss\n",
    "\n",
    "# train_discriminator - Train Discriminator\n",
    "def train_discriminator(discriminator, ids_model, generator, critic_iters, clamp, optimizer_D, normal_b, noise_dim, attack_traffic, attack_category, adversarial_attack_type):\n",
    "    run_d_loss = 0\n",
    "    cnt = 0\n",
    "    for p in discriminator.parameters(): \n",
    "        p.requires_grad = True\n",
    "    for c in range(critic_iters):\n",
    "        optimizer_D.zero_grad()\n",
    "        for p in discriminator.parameters():\n",
    "            p.data.clamp_(-clamp, clamp)\n",
    "        # GAN-G Generate Adversarial Attack\n",
    "        adversarial_attack = gen_adversarial_attack(generator, noise_dim, attack_traffic, attack_category, adversarial_attack_type)\n",
    "        # Make data to feed IDS\n",
    "        ids_input = th.cat((adversarial_attack,normal_b))\n",
    "        l = list(range(len(ids_input)))\n",
    "        np.random.shuffle(l)\n",
    "        ids_input = V(th.Tensor(ids_input[l]))\n",
    "        # IDS Predict\n",
    "        ids_pred_label = V(th.Tensor(ids_model.predict(ids_input)))\n",
    "        pred_normal = ids_input[ids_pred_label==0]\n",
    "        pred_attack = ids_input[ids_pred_label==1]\n",
    "        if len(pred_attack) == 0:\n",
    "            cnt += 1\n",
    "            break\n",
    "        # Make GAN-D input\n",
    "        D_noraml = discriminator(V(th.Tensor(pred_normal)))\n",
    "        D_attack= discriminator(V(th.Tensor(pred_attack)))\n",
    "        # Loss and Update Parameter\n",
    "        loss_normal = th.mean(D_noraml)\n",
    "        loss_attack = th.mean(D_attack)\n",
    "        gradient_penalty = compute_gradient_penalty(discriminator, normal_b.data, adversarial_attack.data)\n",
    "        d_loss = loss_attack - loss_normal #+ LAMBDA * gradient_penalty\n",
    "        d_loss.backward()\n",
    "        optimizer_D.step()\n",
    "        run_d_loss += d_loss.item()\n",
    "    return run_d_loss, cnt\n",
    "\n",
    "# compute_gradient_penalty - Compute Gradient Penalty\n",
    "def compute_gradient_penalty(D, normal_t, attack_t):\n",
    "    alpha = th.Tensor(np.random.random((normal_t.shape[0], 1)))\n",
    "    between_n_a = (alpha * normal_t + ((1 - alpha) * attack_t)).requires_grad_(True)\n",
    "    d_between_n_a = D(between_n_a)\n",
    "    adv = V(th.Tensor(normal_t.shape[0], 1).fill_(1.0), requires_grad=False)\n",
    "\n",
    "    gradients = autograd.grad(\n",
    "        outputs=d_between_n_a,\n",
    "        inputs=between_n_a,\n",
    "        grad_outputs=adv,\n",
    "        create_graph=True,\n",
    "        retain_graph=True,\n",
    "        only_inputs=True,\n",
    "    )[0]\n",
    "    gradients = gradients.view(gradients.size(0), -1)\n",
    "    gradient_penalty = ((gradients.norm(2, dim=1) - 1) ** 2).mean()\n",
    "    return gradient_penalty"
   ]
  },
  {
   "cell_type": "markdown",
   "metadata": {
    "colab_type": "text",
    "id": "jRhNLI_jSKIg"
   },
   "source": [
    "### Generate Adversarial Attack Functions"
   ]
  },
  {
   "cell_type": "code",
   "execution_count": 11,
   "metadata": {
    "colab": {},
    "colab_type": "code",
    "executionInfo": {
     "elapsed": 46080,
     "status": "ok",
     "timestamp": 1594450177023,
     "user": {
      "displayName": "Machine Ubuntu",
      "photoUrl": "",
      "userId": "14037080372597024989"
     },
     "user_tz": -420
    },
    "id": "RyrR7KLNSPtu"
   },
   "outputs": [],
   "source": [
    "# cal_dr - Tinh DR\n",
    "def cal_dr(ids_model, normal, raw_attack, adversarial_attack):\n",
    "    # Make data to feed IDS contain: Attack & Normal\n",
    "    o_ids_input = th.cat((raw_attack, normal))\n",
    "    a_ids_input = th.cat((adversarial_attack,normal))\n",
    "    # Shuffle Input\n",
    "    l = list(range(len(a_ids_input)))\n",
    "    np.random.shuffle(l)\n",
    "    o_ids_input = o_ids_input[l]\n",
    "    a_ids_input = a_ids_input[l]\n",
    "    # IDS Predict Label\n",
    "    o_pred_label = th.Tensor(ids_model.predict(o_ids_input))\n",
    "    a_pred_label = th.Tensor(ids_model.predict(a_ids_input))\n",
    "    # True Label\n",
    "    ids_true_label = np.r_[np.ones(BATCH_SIZE),np.zeros(BATCH_SIZE)][l]\n",
    "    # Calc DR\n",
    "    tn1, fn1, fp1, tp1 = confusion_matrix(ids_true_label,o_pred_label).ravel()\n",
    "    tn2, fn2, fp2, tp2 = confusion_matrix(ids_true_label,a_pred_label).ravel()\n",
    "    origin_dr = tp1/(tp1 + fp1)\n",
    "    adversarial_dr = tp2/(tp2 + fp2)\n",
    "    return origin_dr, adversarial_dr"
   ]
  },
  {
   "cell_type": "markdown",
   "metadata": {
    "colab_type": "text",
    "id": "nDp5Uy_HaShp"
   },
   "source": [
    "# **3. Run Model**"
   ]
  },
  {
   "cell_type": "code",
   "execution_count": 12,
   "metadata": {
    "cellView": "both",
    "colab": {},
    "colab_type": "code",
    "executionInfo": {
     "elapsed": 46064,
     "status": "ok",
     "timestamp": 1594450177025,
     "user": {
      "displayName": "Machine Ubuntu",
      "photoUrl": "",
      "userId": "14037080372597024989"
     },
     "user_tz": -420
    },
    "id": "7hTHJcBcRKjg"
   },
   "outputs": [],
   "source": [
    "ids_model_name = \"sklearn_SVM\" #@param ['GaussianNB', 'MultinomialNB', 'ComplementNB', 'BernoulliNB', 'DT', 'RF', 'KNN', 'LogicticRegression', 'sklearn_SVM']\n",
    "MAX_EPOCH = 100 \n",
    "ids_created_date = '2023-11-24' "
   ]
  },
  {
   "cell_type": "markdown",
   "metadata": {
    "colab_type": "text",
    "id": "s8tEzhBNxvGM"
   },
   "source": [
    "##**3.1 Run IDSGAN**"
   ]
  },
  {
   "cell_type": "code",
   "execution_count": 13,
   "metadata": {
    "colab": {},
    "colab_type": "code",
    "executionInfo": {
     "elapsed": 46053,
     "status": "ok",
     "timestamp": 1594450177026,
     "user": {
      "displayName": "Machine Ubuntu",
      "photoUrl": "",
      "userId": "14037080372597024989"
     },
     "user_tz": -420
    },
    "id": "j01YlgClq7yq"
   },
   "outputs": [],
   "source": [
    "# Hyber Parameters\n",
    "BATCH_SIZE = 64\n",
    "learning_rate = 0.0001\n",
    "LAMBDA = 10\n",
    "CLAMP = 0.01\n",
    "CRITIC_ITERS = 5          # For WGAN and WGAN-GP, number of critic iters per gen iter\n",
    "\n",
    "# GAN-D\n",
    "D_INPUT_DIM = N_FEATURES\n",
    "D_OUTPUT_DIM = 1\n",
    "discriminator = Discriminator(D_INPUT_DIM,D_OUTPUT_DIM)\n",
    "optimizer_D = optim.RMSprop(discriminator.parameters(), lr=learning_rate)\n",
    "\n",
    "# GAN-G\n",
    "NOISE_DIM = 9\n",
    "G_INPUT_DIM = NOISE_DIM     # Generator input dimension is dimention of noise"
   ]
  },
  {
   "cell_type": "code",
   "execution_count": 14,
   "metadata": {
    "colab": {
     "base_uri": "https://localhost:8080/",
     "height": 51
    },
    "colab_type": "code",
    "executionInfo": {
     "elapsed": 47950,
     "status": "ok",
     "timestamp": 1594450178992,
     "user": {
      "displayName": "Machine Ubuntu",
      "photoUrl": "",
      "userId": "14037080372597024989"
     },
     "user_tz": -420
    },
    "id": "xG09yA2D9bzg",
    "outputId": "2e905b96-e445-4902-8319-4603772e9ad5"
   },
   "outputs": [
    {
     "name": "stdout",
     "output_type": "stream",
     "text": [
      "Amout of Generator Trainset: 23488\n",
      "Amout of Discriminator Trainset: 33672\n"
     ]
    }
   ],
   "source": [
    "# Get today to set created time for GAN models\n",
    "today = str(date.today())\n",
    "\n",
    "## Prepare Dataset\n",
    "g_train_data = pd.read_csv(g_trainset_path)\n",
    "d_train_data = pd.read_csv(d_trainset_path)\n",
    "\n",
    "# All normal record in train_data\n",
    "del d_train_data[\"class\"]\n",
    "normal = np.array(d_train_data)\n",
    "\n",
    "print(\"Amout of Generator Trainset:\", g_train_data.shape[0])\n",
    "print(\"Amout of Discriminator Trainset:\", d_train_data.shape[0])"
   ]
  },
  {
   "cell_type": "code",
   "execution_count": 19,
   "metadata": {
    "colab": {
     "base_uri": "https://localhost:8080/",
     "height": 1000
    },
    "colab_type": "code",
    "executionInfo": {
     "elapsed": 21469290,
     "status": "ok",
     "timestamp": 1594471600410,
     "user": {
      "displayName": "Machine Ubuntu",
      "photoUrl": "",
      "userId": "14037080372597024989"
     },
     "user_tz": -420
    },
    "id": "m9C1uFo0vnv7",
    "outputId": "558090ee-10c4-443a-cc17-4f1c64d5df66"
   },
   "outputs": [
    {
     "name": "stdout",
     "output_type": "stream",
     "text": [
      "======================================== TRAINING GAN ========================================\n",
      "================================================================================\n",
      " IDS Model: sklearn_SVM\n",
      "********************************************************************************\n",
      " Attack Category: DOS\n",
      "--------------------------------------------------------------------------------\n",
      " Adversarial Attack Type : 1\n",
      "Loaded Model From Disk: E:/An toàn thông tin/Code/Saved Model/IDSModel/DOS/Machine_Learning/created_date_2023-11-24_sklearn_SVM.pkl\n",
      "-->IDSGAN start training\n",
      "     Epoch          G-Loss          D-Loss         O-DR(%)         A-DR(%)      Runtime(s)\n",
      "         1            5.04           -2.57           98.52           12.87          104.73\n",
      "         2           -2.74           -2.01           98.52            4.25           97.24\n",
      "         3           -5.92           -1.70           98.52            5.95           98.23\n",
      "         4            3.42           -1.82           98.52           12.17          105.34\n",
      "         5            3.70           -1.83           98.52           12.51          102.17\n",
      "         6            4.01           -1.83           98.52           12.46          101.90\n",
      "         7            4.28           -1.82           98.52           12.52          105.31\n",
      "         8            4.60           -1.82           98.52           12.51           97.82\n",
      "         9            4.72           -1.82           98.52           12.36           97.38\n",
      "        10            4.82           -1.82           98.52           12.53          100.28\n",
      "      -> Generator 10 epoch is saved  to: E:/An toàn thông tin/Code/Saved Model/GANModel/sklearn_SVM/DOS/Generator/1/10epoch_time_created_2023-11-27.pth\n",
      "        11            4.97           -1.82           98.52           12.57          113.25\n",
      "        12            5.02           -1.82           98.52           12.73          112.84\n",
      "        13            5.00           -1.83           98.52           12.49          113.54\n",
      "        14            5.08           -1.82           98.52           12.68          113.11\n",
      "        15            5.02           -1.82           98.52           12.60          113.99\n",
      "        16            5.04           -1.82           98.52           12.49          113.37\n",
      "        17            5.04           -1.83           98.52           12.58          113.43\n",
      "        18            4.99           -1.82           98.52           12.46          113.18\n",
      "        19            5.11           -1.82           98.52           12.51          113.04\n",
      "        20            5.06           -1.82           98.52           12.48          113.21\n",
      "      -> Generator 20 epoch is saved  to: E:/An toàn thông tin/Code/Saved Model/GANModel/sklearn_SVM/DOS/Generator/1/20epoch_time_created_2023-11-27.pth\n",
      "        21            5.00           -1.83           98.52           12.65          117.90\n",
      "        22            5.06           -1.83           98.52           12.51          118.07\n",
      "        23            5.05           -1.82           98.52           12.57          117.13\n",
      "        24            5.05           -1.82           98.52           12.49          116.94\n",
      "        25            5.03           -1.82           98.52           12.60          116.83\n",
      "        26            4.96           -1.82           98.52           12.44          115.62\n",
      "        27            5.15           -1.82           98.52           12.37          116.44\n",
      "        28            4.99           -1.83           98.52           12.59          117.01\n",
      "        29            5.03           -1.82           98.52           12.52          117.29\n",
      "        30            5.03           -1.82           98.52           12.67          118.36\n",
      "      -> Generator 30 epoch is saved  to: E:/An toàn thông tin/Code/Saved Model/GANModel/sklearn_SVM/DOS/Generator/1/30epoch_time_created_2023-11-27.pth\n",
      "        31            5.03           -1.82           98.52           12.50          117.22\n",
      "        32            5.07           -1.82           98.52           12.51          117.78\n",
      "        33            5.02           -1.82           98.52           12.54          116.40\n",
      "        34            5.06           -1.83           98.52           12.56          117.38\n",
      "        35            5.04           -1.82           98.52           12.42          117.54\n",
      "        36            5.11           -1.83           98.52           12.73          117.18\n",
      "        37            5.04           -1.82           98.52           12.70          117.29\n",
      "        38            5.06           -1.82           98.52           12.68          117.28\n",
      "        39            5.05           -1.82           98.52           12.65          116.47\n",
      "        40            5.06           -1.83           98.52           12.84          116.84\n",
      "      -> Generator 40 epoch is saved  to: E:/An toàn thông tin/Code/Saved Model/GANModel/sklearn_SVM/DOS/Generator/1/40epoch_time_created_2023-11-27.pth\n",
      "        41            5.04           -1.83           98.52           12.61          117.34\n",
      "        42            4.99           -1.82           98.52           12.68          115.90\n",
      "        43            5.08           -1.83           98.52           12.64          117.16\n",
      "        44            5.08           -1.83           98.52           12.57          117.13\n",
      "        45            5.09           -1.82           98.52           12.66          116.49\n",
      "        46            5.13           -1.82           98.52           12.63          117.49\n",
      "        47            4.99           -1.83           98.52           12.45          116.73\n",
      "        48            5.06           -1.82           98.52           12.57          118.22\n",
      "        49            5.04           -1.82           98.52           12.57          117.53\n",
      "        50            5.05           -1.82           98.52           12.77          117.51\n",
      "      -> Generator 50 epoch is saved  to: E:/An toàn thông tin/Code/Saved Model/GANModel/sklearn_SVM/DOS/Generator/1/50epoch_time_created_2023-11-27.pth\n",
      "        51            5.04           -1.82           98.52           12.63          118.21\n",
      "        52            5.06           -1.83           98.52           12.65          117.13\n",
      "        53            5.05           -1.82           98.52           12.68          117.29\n",
      "        54            5.05           -1.82           98.52           12.59          117.64\n",
      "        55            5.02           -1.83           98.52           12.64          116.63\n",
      "        56            5.05           -1.82           98.52           12.56          116.90\n",
      "        57            5.02           -1.83           98.52           12.77          117.63\n",
      "        58            5.08           -1.83           98.52           12.68          117.05\n",
      "        59            5.04           -1.82           98.52           12.61          117.12\n",
      "        60            5.02           -1.83           98.52           12.73          118.13\n",
      "      -> Generator 60 epoch is saved  to: E:/An toàn thông tin/Code/Saved Model/GANModel/sklearn_SVM/DOS/Generator/1/60epoch_time_created_2023-11-27.pth\n",
      "        61            5.06           -1.82           98.52           13.18          118.54\n",
      "        62            5.17           -1.82           98.52           13.98          116.64\n",
      "        63            5.26           -1.82           98.52           13.96          117.23\n",
      "        64            5.28           -1.82           98.52           13.97          117.40\n",
      "        65            5.28           -1.82           98.52           14.06          117.30\n",
      "        66            5.41           -1.82           98.52           13.87          118.75\n",
      "        67            5.51           -1.82           98.52           14.08          117.50\n",
      "        68            5.58           -1.82           98.52           13.99          117.20\n",
      "        69            5.64           -1.82           98.52           14.11          117.62\n",
      "        70            5.71           -1.82           98.52           13.88          117.00\n",
      "      -> Generator 70 epoch is saved  to: E:/An toàn thông tin/Code/Saved Model/GANModel/sklearn_SVM/DOS/Generator/1/70epoch_time_created_2023-11-27.pth\n",
      "        71            5.79           -1.82           98.52           13.91          117.41\n",
      "        72            5.91           -1.82           98.52           13.98          117.95\n",
      "        73            5.99           -1.82           98.52           14.05          116.75\n",
      "        74            6.07           -1.82           98.52           13.91          118.23\n",
      "        75            6.10           -1.83           98.52           14.08          117.26\n",
      "        76            6.21           -1.82           98.52           14.10          117.42\n",
      "        77            6.33           -1.82           98.52           13.87          117.42\n",
      "        78            6.36           -1.82           98.52           14.07          117.76\n",
      "        79            6.39           -1.82           98.52           14.00          117.76\n",
      "        80            6.43           -1.82           98.52           13.92          116.39\n",
      "      -> Generator 80 epoch is saved  to: E:/An toàn thông tin/Code/Saved Model/GANModel/sklearn_SVM/DOS/Generator/1/80epoch_time_created_2023-11-27.pth\n",
      "        81            6.36           -1.82           98.52           13.98          117.49\n",
      "        82            6.40           -1.82           98.52           14.07          117.64\n",
      "        83            6.40           -1.82           98.52           13.98          117.33\n",
      "        84            6.37           -1.82           98.52           14.07          116.64\n",
      "        85            6.39           -1.82           98.52           13.84          117.30\n",
      "        86            6.39           -1.82           98.52           14.02          117.51\n",
      "        87            6.42           -1.82           98.52           14.00          117.36\n",
      "        88            6.37           -1.82           98.52           14.10          117.20\n",
      "        89            6.37           -1.82           98.52           14.05          117.48\n",
      "        90            6.42           -1.82           98.52           14.00          116.81\n",
      "      -> Generator 90 epoch is saved  to: E:/An toàn thông tin/Code/Saved Model/GANModel/sklearn_SVM/DOS/Generator/1/90epoch_time_created_2023-11-27.pth\n",
      "        91            6.38           -1.82           98.52           14.00          116.48\n",
      "        92            6.41           -1.82           98.52           14.07          119.25\n",
      "        93            6.38           -1.82           98.52           13.82          117.94\n",
      "        94            6.39           -1.82           98.52           14.06          117.81\n",
      "        95            6.38           -1.82           98.52           13.88          117.88\n",
      "        96            6.36           -1.82           98.52           14.06          116.85\n",
      "        97            6.34           -1.82           98.52           13.91          117.71\n",
      "        98            6.50           -1.82           98.52           13.95          117.08\n",
      "        99            6.36           -1.82           98.52           13.90          117.01\n",
      "       100            6.39           -1.82           98.52           14.01          117.60\n",
      "      -> Generator 100 epoch is saved  to: E:/An toàn thông tin/Code/Saved Model/GANModel/sklearn_SVM/DOS/Generator/1/100epoch_time_created_2023-11-27.pth\n",
      "Training Runtime: 11531.88\n",
      "IDSGAN finish training!\n"
     ]
    },
    {
     "data": {
      "image/png": "[encoded data removed]",
      "text/plain": [
       "<Figure size 640x480 with 1 Axes>"
      ]
     },
     "metadata": {},
     "output_type": "display_data"
    },
    {
     "data": {
      "image/png": "[encoded data removed]",
      "text/plain": [
       "<Figure size 640x480 with 1 Axes>"
      ]
     },
     "metadata": {},
     "output_type": "display_data"
    },
    {
     "name": "stdout",
     "output_type": "stream",
     "text": [
      "      -> Saved Discrimninator 100 epoch to: E:/An toàn thông tin/Code/Saved Model/GANModel/sklearn_SVM/DOS/Discriminator/1/101epoch_time_created_2023-11-27.pth\n",
      "--------------------------------------------------------------------------------\n",
      " Adversarial Attack Type : 2\n",
      "Loaded Model From Disk: E:/An toàn thông tin/Code/Saved Model/IDSModel/DOS/Machine_Learning/created_date_2023-11-24_sklearn_SVM.pkl\n",
      "-->IDSGAN start training\n",
      "     Epoch          G-Loss          D-Loss         O-DR(%)         A-DR(%)      Runtime(s)\n",
      "         1           -3.03           -2.24           98.46            2.52          106.08\n",
      "         2           -4.74           -2.21           98.46            2.52          106.01\n",
      "         3           -4.81           -2.13           98.46            2.55          104.65\n",
      "         4           -4.98           -2.09           98.46            2.56          105.16\n",
      "         5           -5.11           -2.03           98.46            2.57          105.56\n",
      "         6           -5.21           -2.01           98.46            2.58          107.26\n",
      "         7           -5.26           -1.97           98.46            2.60          105.76\n",
      "         8           -5.33           -1.97           98.46            2.59          107.01\n",
      "         9           -5.31           -1.96           98.46            2.59          106.26\n",
      "        10           -5.29           -1.95           98.46            2.59          105.21\n",
      "      -> Generator 10 epoch is saved  to: E:/An toàn thông tin/Code/Saved Model/GANModel/sklearn_SVM/DOS/Generator/2/10epoch_time_created_2023-11-27.pth\n",
      "        11           -5.32           -1.96           98.46            2.59          105.18\n",
      "        12           -5.31           -1.97           98.46            2.59          105.48\n",
      "        13           -5.30           -1.97           98.46            2.59          105.74\n",
      "        14           -5.33           -1.97           98.46            2.59          105.82\n",
      "        15           -5.30           -1.97           98.46            2.58          105.23\n",
      "        16           -5.30           -1.96           98.46            2.60          106.11\n",
      "        17           -5.31           -1.96           98.46            2.60          106.55\n",
      "        18           -5.32           -1.97           98.46            2.59          106.02\n",
      "        19           -5.28           -1.96           98.46            2.60          106.59\n",
      "        20           -5.30           -1.98           98.46            2.59          105.95\n",
      "      -> Generator 20 epoch is saved  to: E:/An toàn thông tin/Code/Saved Model/GANModel/sklearn_SVM/DOS/Generator/2/20epoch_time_created_2023-11-27.pth\n",
      "        21           -5.31           -1.97           98.46            2.60          106.25\n",
      "        22           -5.31           -1.97           98.46            2.59          105.55\n",
      "        23           -5.29           -1.98           98.46            2.60          107.16\n",
      "        24           -5.31           -1.97           98.46            2.59          106.82\n",
      "        25           -5.32           -1.96           98.46            2.60          106.46\n",
      "        26           -5.29           -1.98           98.46            2.59          106.08\n",
      "        27           -5.31           -1.97           98.46            2.59          104.80\n",
      "        28           -5.28           -1.97           98.46            2.60          104.99\n",
      "        29           -5.31           -1.97           98.46            2.59          105.41\n",
      "        30           -5.32           -1.96           98.46            2.59          104.57\n",
      "      -> Generator 30 epoch is saved  to: E:/An toàn thông tin/Code/Saved Model/GANModel/sklearn_SVM/DOS/Generator/2/30epoch_time_created_2023-11-27.pth\n",
      "        31           -5.28           -1.96           98.46            2.60          105.09\n",
      "        32           -5.31           -1.97           98.46            2.59          105.66\n",
      "        33           -5.29           -1.97           98.46            2.59          105.72\n",
      "        34           -5.32           -1.97           98.46            2.59          105.86\n",
      "        35           -5.29           -1.96           98.46            2.60          105.40\n",
      "        36           -5.31           -1.97           98.46            2.59          105.04\n",
      "        37           -5.31           -1.97           98.46            2.60          106.12\n",
      "        38           -5.32           -1.96           98.46            2.59          105.07\n",
      "        39           -5.29           -1.97           98.46            2.59          105.79\n",
      "        40           -5.31           -1.97           98.46            2.59          105.97\n",
      "      -> Generator 40 epoch is saved  to: E:/An toàn thông tin/Code/Saved Model/GANModel/sklearn_SVM/DOS/Generator/2/40epoch_time_created_2023-11-27.pth\n",
      "        41           -5.31           -1.97           98.46            2.59          105.16\n",
      "        42           -5.31           -1.97           98.46            2.59          106.38\n",
      "        43           -5.29           -1.96           98.46            2.59          105.83\n",
      "        44           -5.30           -1.96           98.46            2.60          105.82\n",
      "        45           -5.32           -1.95           98.46            2.59          105.80\n",
      "        46           -5.30           -1.97           98.46            2.59          105.97\n",
      "        47           -5.31           -1.95           98.46            2.60          104.98\n",
      "        48           -5.30           -1.97           98.46            2.60          105.85\n",
      "        49           -5.32           -1.96           98.46            2.59          106.24\n",
      "        50           -5.31           -1.97           98.46            2.60          105.86\n",
      "      -> Generator 50 epoch is saved  to: E:/An toàn thông tin/Code/Saved Model/GANModel/sklearn_SVM/DOS/Generator/2/50epoch_time_created_2023-11-27.pth\n",
      "        51           -5.29           -1.96           98.46            2.59          105.71\n",
      "        52           -5.30           -1.96           98.46            2.59           88.02\n",
      "        53           -5.28           -1.97           98.46            2.60           87.02\n",
      "        54           -5.32           -1.97           98.46            2.60           87.44\n",
      "        55           -5.30           -1.96           98.46            2.60           87.29\n",
      "        56           -5.30           -1.97           98.46            2.60           87.39\n",
      "        57           -5.30           -1.96           98.46            2.60           86.13\n",
      "        58           -5.31           -1.96           98.46            2.59           86.45\n",
      "        59           -5.29           -1.95           98.46            2.60           87.35\n",
      "        60           -5.29           -1.97           98.46            2.59           88.17\n",
      "      -> Generator 60 epoch is saved  to: E:/An toàn thông tin/Code/Saved Model/GANModel/sklearn_SVM/DOS/Generator/2/60epoch_time_created_2023-11-27.pth\n",
      "        61           -5.32           -1.96           98.46            2.59           87.48\n",
      "        62           -5.30           -1.98           98.46            2.59           88.00\n",
      "        63           -5.31           -1.95           98.46            2.59           87.75\n",
      "        64           -5.31           -1.97           98.46            2.59           87.67\n",
      "        65           -5.30           -1.98           98.46            2.60           88.54\n",
      "        66           -5.32           -1.96           98.46            2.60           91.98\n",
      "        67           -5.28           -1.98           98.46            2.59           88.15\n",
      "        68           -5.32           -1.97           98.46            2.59           88.67\n",
      "        69           -5.31           -1.96           98.46            2.59           87.59\n",
      "        70           -5.32           -1.96           98.46            2.59           86.03\n",
      "      -> Generator 70 epoch is saved  to: E:/An toàn thông tin/Code/Saved Model/GANModel/sklearn_SVM/DOS/Generator/2/70epoch_time_created_2023-11-27.pth\n",
      "        71           -5.28           -1.97           98.46            2.59           87.18\n",
      "        72           -5.31           -1.97           98.46            2.60           86.52\n",
      "        73           -5.31           -1.96           98.46            2.59           86.20\n",
      "        74           -5.29           -1.97           98.46            2.59           88.46\n",
      "        75           -5.32           -1.96           98.46            2.59           88.07\n",
      "        76           -5.31           -1.97           98.46            2.60           87.48\n",
      "        77           -5.30           -1.96           98.46            2.61           88.55\n",
      "        78           -5.29           -1.97           98.46            2.60           88.04\n",
      "        79           -5.32           -1.96           98.46            2.60           87.91\n",
      "        80           -5.31           -1.96           98.46            2.61           88.41\n",
      "      -> Generator 80 epoch is saved  to: E:/An toàn thông tin/Code/Saved Model/GANModel/sklearn_SVM/DOS/Generator/2/80epoch_time_created_2023-11-27.pth\n",
      "        81           -5.32           -1.96           98.46            2.61           88.06\n",
      "        82           -5.28           -1.96           98.46            2.61           88.00\n",
      "        83           -5.32           -1.97           98.46            2.60           88.90\n",
      "        84           -5.27           -1.96           98.46            2.59           87.48\n",
      "        85           -5.31           -1.96           98.46            2.61           87.59\n",
      "        86           -5.30           -1.96           98.46            2.61           88.10\n",
      "        87           -5.30           -1.96           98.46            2.61           87.88\n",
      "        88           -5.31           -1.97           98.46            2.60           87.02\n",
      "        89           -5.29           -1.97           98.46            2.60           88.19\n",
      "        90           -5.31           -1.97           98.46            2.61           88.36\n",
      "      -> Generator 90 epoch is saved  to: E:/An toàn thông tin/Code/Saved Model/GANModel/sklearn_SVM/DOS/Generator/2/90epoch_time_created_2023-11-27.pth\n",
      "        91           -5.29           -1.97           98.46            2.60           87.91\n",
      "        92           -5.31           -1.96           98.46            2.61           87.87\n",
      "        93           -5.32           -1.96           98.46            2.59           87.99\n",
      "        94           -5.30           -1.96           98.46            2.61           87.35\n",
      "        95           -5.31           -1.96           98.46            2.60           87.87\n",
      "        96           -5.32           -1.96           98.46            2.61           88.31\n",
      "        97           -5.30           -1.97           98.46            2.60           87.63\n",
      "        98           -5.31           -1.98           98.46            2.59           88.79\n",
      "        99           -5.33           -1.97           98.46            2.60           88.95\n",
      "       100           -5.31           -1.96           98.46            2.61           88.02\n",
      "      -> Generator 100 epoch is saved  to: E:/An toàn thông tin/Code/Saved Model/GANModel/sklearn_SVM/DOS/Generator/2/100epoch_time_created_2023-11-27.pth\n",
      "Training Runtime: 9701.20\n",
      "IDSGAN finish training!\n"
     ]
    },
    {
     "data": {
      "image/png": "[encoded data removed]",
      "text/plain": [
       "<Figure size 640x480 with 1 Axes>"
      ]
     },
     "metadata": {},
     "output_type": "display_data"
    },
    {
     "data": {
      "image/png": "[encoded data removed]",
      "text/plain": [
       "<Figure size 640x480 with 1 Axes>"
      ]
     },
     "metadata": {},
     "output_type": "display_data"
    },
    {
     "name": "stdout",
     "output_type": "stream",
     "text": [
      "      -> Saved Discrimninator 100 epoch to: E:/An toàn thông tin/Code/Saved Model/GANModel/sklearn_SVM/DOS/Discriminator/2/101epoch_time_created_2023-11-27.pth\n",
      "********************************************************************************\n",
      " Attack Category: U2R_AND_R2L\n",
      "--------------------------------------------------------------------------------\n",
      " Adversarial Attack Type : 1\n",
      "Loaded Model From Disk: E:/An toàn thông tin/Code/Saved Model/IDSModel/U2R_AND_R2L/Machine_Learning/created_date_2023-11-24_sklearn_SVM.pkl\n",
      "-->IDSGAN start training\n",
      "     Epoch          G-Loss          D-Loss         O-DR(%)         A-DR(%)      Runtime(s)\n",
      "         1           -4.73           -0.34           74.44            0.00           38.07\n",
      "         2           -4.56           -0.44           74.44            0.00           38.24\n",
      "         3           -5.10           -0.51           74.44            0.00           38.71\n",
      "         4           -6.24           -0.62           74.44            0.00           37.93\n",
      "         5           -7.12           -0.71           74.44            0.00           37.33\n",
      "         6           -7.47           -0.77           74.44            0.00           37.88\n",
      "         7           -7.50           -0.76           74.44            0.00           37.33\n",
      "         8           -7.50           -0.76           74.44            0.00           37.75\n",
      "         9           -7.51           -0.81           74.44            0.00           38.12\n",
      "        10           -7.52           -0.77           74.44            0.00           37.77\n",
      "      -> Generator 10 epoch is saved  to: E:/An toàn thông tin/Code/Saved Model/GANModel/sklearn_SVM/U2R_AND_R2L/Generator/1/10epoch_time_created_2023-11-27.pth\n",
      "        11           -7.53           -0.82           74.44            0.00           38.43\n",
      "        12           -7.51           -0.73           74.44            0.00           37.15\n",
      "        13           -7.51           -0.78           74.44            0.00           38.22\n",
      "        14           -7.52           -0.81           74.44            0.00           38.08\n",
      "        15           -7.50           -0.79           74.44            0.00           38.12\n",
      "        16           -7.52           -0.80           74.44            0.00           38.23\n",
      "        17           -7.54           -0.77           74.44            0.00           37.69\n",
      "        18           -7.51           -0.78           74.44            0.00           38.23\n",
      "        19           -7.53           -0.74           74.44            0.00           37.24\n",
      "        20           -7.52           -0.79           74.44            0.00           38.40\n",
      "      -> Generator 20 epoch is saved  to: E:/An toàn thông tin/Code/Saved Model/GANModel/sklearn_SVM/U2R_AND_R2L/Generator/1/20epoch_time_created_2023-11-27.pth\n",
      "        21           -7.52           -0.76           74.44            0.00           37.61\n",
      "        22           -7.53           -0.79           74.44            0.00           38.43\n",
      "        23           -7.51           -0.76           74.44            0.00           37.89\n",
      "        24           -7.52           -0.75           74.44            0.00           37.69\n",
      "        25           -7.50           -0.79           74.44            0.00           38.53\n",
      "        26           -7.54           -0.80           74.44            0.00           37.84\n",
      "        27           -7.51           -0.80           74.44            0.00           38.48\n",
      "        28           -7.50           -0.75           74.44            0.00           37.80\n",
      "        29           -7.56           -0.79           74.44            0.00           38.25\n",
      "        30           -7.52           -0.78           74.44            0.00           38.35\n",
      "      -> Generator 30 epoch is saved  to: E:/An toàn thông tin/Code/Saved Model/GANModel/sklearn_SVM/U2R_AND_R2L/Generator/1/30epoch_time_created_2023-11-27.pth\n",
      "        31           -7.52           -0.83           74.44            0.00           38.38\n",
      "        32           -7.53           -0.75           74.44            0.00           37.96\n",
      "        33           -7.51           -0.80           74.44            0.00           37.95\n",
      "        34           -7.51           -0.79           74.44            0.00           38.48\n",
      "        35           -7.55           -0.79           74.44            0.00           38.09\n",
      "        36           -7.52           -0.79           74.44            0.00           38.29\n",
      "        37           -7.52           -0.78           74.44            0.00           38.33\n",
      "        38           -7.55           -0.79           74.44            0.00           37.69\n",
      "        39           -7.50           -0.79           74.44            0.00           38.53\n",
      "        40           -7.52           -0.75           74.44            0.00           37.47\n",
      "      -> Generator 40 epoch is saved  to: E:/An toàn thông tin/Code/Saved Model/GANModel/sklearn_SVM/U2R_AND_R2L/Generator/1/40epoch_time_created_2023-11-27.pth\n",
      "        41           -7.51           -0.78           74.44            0.00           37.95\n",
      "        42           -7.53           -0.75           74.44            0.00           37.61\n",
      "        43           -7.51           -0.78           74.44            0.00           37.67\n",
      "        44           -7.51           -0.79           74.44            0.00           38.62\n",
      "        45           -7.51           -0.73           74.44            0.00           37.18\n",
      "        46           -7.51           -0.74           74.44            0.00           37.71\n",
      "        47           -7.51           -0.79           74.44            0.00           38.32\n",
      "        48           -7.52           -0.81           74.44            0.00           38.64\n",
      "        49           -7.51           -0.81           74.44            0.00           38.57\n",
      "        50           -7.51           -0.76           74.44            0.00           37.71\n",
      "      -> Generator 50 epoch is saved  to: E:/An toàn thông tin/Code/Saved Model/GANModel/sklearn_SVM/U2R_AND_R2L/Generator/1/50epoch_time_created_2023-11-27.pth\n",
      "        51           -7.52           -0.77           74.44            0.00           38.14\n",
      "        52           -7.50           -0.77           74.44            0.00           37.78\n",
      "        53           -7.54           -0.77           74.44            0.00           38.38\n",
      "        54           -7.51           -0.75           74.44            0.00           37.85\n",
      "        55           -7.53           -0.78           74.44            0.00           38.97\n",
      "        56           -7.51           -0.78           74.44            0.00           38.50\n",
      "        57           -7.51           -0.79           74.44            0.00           38.05\n",
      "        58           -7.51           -0.74           74.44            0.00           37.95\n",
      "        59           -7.52           -0.81           74.44            0.00           38.37\n",
      "        60           -7.51           -0.79           74.44            0.00           38.73\n",
      "      -> Generator 60 epoch is saved  to: E:/An toàn thông tin/Code/Saved Model/GANModel/sklearn_SVM/U2R_AND_R2L/Generator/1/60epoch_time_created_2023-11-27.pth\n",
      "        61           -7.52           -0.78           74.44            0.00           38.89\n",
      "        62           -7.51           -0.79           74.44            0.00           37.88\n",
      "        63           -7.52           -0.84           74.44            0.00           39.02\n",
      "        64           -7.53           -0.76           74.44            0.00           37.58\n",
      "        65           -7.50           -0.79           74.44            0.00           38.29\n",
      "        66           -7.53           -0.73           74.44            0.00           37.36\n",
      "        67           -7.52           -0.78           74.44            0.00           38.24\n",
      "        68           -7.55           -0.80           74.44            0.00           38.63\n",
      "        69           -7.54           -0.78           74.44            0.00           37.83\n",
      "        70           -7.52           -0.84           74.44            0.00           39.03\n",
      "      -> Generator 70 epoch is saved  to: E:/An toàn thông tin/Code/Saved Model/GANModel/sklearn_SVM/U2R_AND_R2L/Generator/1/70epoch_time_created_2023-11-27.pth\n",
      "        71           -7.52           -0.75           74.44            0.00           37.56\n",
      "        72           -7.54           -0.75           74.44            0.00           37.98\n",
      "        73           -7.51           -0.79           74.44            0.00           38.08\n",
      "        74           -7.50           -0.77           74.44            0.00           37.79\n",
      "        75           -7.54           -0.78           74.44            0.00           38.36\n",
      "        76           -7.52           -0.78           74.44            0.00           38.00\n",
      "        77           -7.51           -0.80           74.44            0.00           38.72\n",
      "        78           -7.55           -0.80           74.44            0.00           38.08\n",
      "        79           -7.50           -0.81           74.44            0.00           38.51\n",
      "        80           -7.53           -0.78           74.44            0.00           37.82\n",
      "      -> Generator 80 epoch is saved  to: E:/An toàn thông tin/Code/Saved Model/GANModel/sklearn_SVM/U2R_AND_R2L/Generator/1/80epoch_time_created_2023-11-27.pth\n",
      "        81           -7.51           -0.77           74.44            0.00           37.69\n",
      "        82           -7.52           -0.77           74.44            0.00           37.86\n",
      "        83           -7.50           -0.78           74.44            0.00           37.98\n",
      "        84           -7.52           -0.77           74.44            0.00           38.18\n",
      "        85           -7.54           -0.78           74.44            0.00           37.98\n",
      "        86           -7.51           -0.79           74.44            0.00           38.35\n",
      "        87           -7.51           -0.79           74.44            0.00           38.39\n",
      "        88           -7.51           -0.80           74.44            0.00           38.04\n",
      "        89           -7.51           -0.75           74.44            0.00           38.05\n",
      "        90           -7.51           -0.83           74.44            0.00           38.34\n",
      "      -> Generator 90 epoch is saved  to: E:/An toàn thông tin/Code/Saved Model/GANModel/sklearn_SVM/U2R_AND_R2L/Generator/1/90epoch_time_created_2023-11-27.pth\n",
      "        91           -7.51           -0.75           74.44            0.00           38.36\n",
      "        92           -7.52           -0.77           74.44            0.00           37.81\n",
      "        93           -7.51           -0.82           74.44            0.00           38.37\n",
      "        94           -7.53           -0.78           74.44            0.00           38.03\n",
      "        95           -7.53           -0.80           74.44            0.00           38.02\n",
      "        96           -7.50           -0.78           74.44            0.00           38.38\n",
      "        97           -7.51           -0.81           74.44            0.00           38.76\n",
      "        98           -7.54           -0.77           74.44            0.00           37.84\n",
      "        99           -7.52           -0.79           74.44            0.00           37.83\n",
      "       100           -7.52           -0.79           74.44            0.00           37.67\n",
      "      -> Generator 100 epoch is saved  to: E:/An toàn thông tin/Code/Saved Model/GANModel/sklearn_SVM/U2R_AND_R2L/Generator/1/100epoch_time_created_2023-11-27.pth\n",
      "Training Runtime: 3810.99\n",
      "IDSGAN finish training!\n"
     ]
    },
    {
     "data": {
      "image/png": "[encoded data removed]",
      "text/plain": [
       "<Figure size 640x480 with 1 Axes>"
      ]
     },
     "metadata": {},
     "output_type": "display_data"
    },
    {
     "data": {
      "image/png": "[encoded data removed]",
      "text/plain": [
       "<Figure size 640x480 with 1 Axes>"
      ]
     },
     "metadata": {},
     "output_type": "display_data"
    },
    {
     "name": "stdout",
     "output_type": "stream",
     "text": [
      "      -> Saved Discrimninator 100 epoch to: E:/An toàn thông tin/Code/Saved Model/GANModel/sklearn_SVM/U2R_AND_R2L/Discriminator/1/101epoch_time_created_2023-11-27.pth\n",
      "--------------------------------------------------------------------------------\n",
      " Adversarial Attack Type : 2\n",
      "Loaded Model From Disk: E:/An toàn thông tin/Code/Saved Model/IDSModel/U2R_AND_R2L/Machine_Learning/created_date_2023-11-24_sklearn_SVM.pkl\n",
      "-->IDSGAN start training\n",
      "     Epoch          G-Loss          D-Loss         O-DR(%)         A-DR(%)      Runtime(s)\n",
      "         1           -4.10           -0.41           74.79            0.00           38.05\n",
      "         2           -4.76           -0.47           74.79            0.00           37.73\n",
      "         3           -5.36           -0.56           74.79            0.00           38.30\n",
      "         4           -6.18           -0.61           74.79            0.00           37.29\n",
      "         5           -7.28           -0.74           74.79            0.00           37.86\n",
      "         6           -8.29           -0.90           74.79            0.00           38.40\n",
      "         7           -8.76           -0.90           74.79            0.00           37.55\n",
      "         8           -9.17           -0.95           74.79            0.00           37.72\n",
      "         9           -9.27           -0.89           74.79            0.00           37.65\n",
      "        10           -9.27           -0.97           74.79            0.00           38.27\n",
      "      -> Generator 10 epoch is saved  to: E:/An toàn thông tin/Code/Saved Model/GANModel/sklearn_SVM/U2R_AND_R2L/Generator/2/10epoch_time_created_2023-11-27.pth\n",
      "        11           -9.28           -1.00           74.79            0.00           37.90\n",
      "        12           -9.27           -0.98           74.79            0.00           37.62\n",
      "        13           -9.26           -0.96           74.79            0.00           37.58\n",
      "        14           -9.27           -0.93           74.79            0.00           37.34\n",
      "        15           -9.26           -0.98           74.79            0.00           38.51\n",
      "        16           -9.27           -0.91           74.79            0.00           37.63\n",
      "        17           -9.30           -0.92           74.79            0.00           37.88\n",
      "        18           -9.27           -0.94           74.79            0.00           38.02\n",
      "        19           -9.27           -0.97           74.79            0.00           38.21\n",
      "        20           -9.27           -0.99           74.79            0.00           38.50\n",
      "      -> Generator 20 epoch is saved  to: E:/An toàn thông tin/Code/Saved Model/GANModel/sklearn_SVM/U2R_AND_R2L/Generator/2/20epoch_time_created_2023-11-27.pth\n",
      "        21           -9.28           -0.95           74.79            0.00           37.77\n",
      "        22           -9.28           -0.95           74.79            0.00           38.29\n",
      "        23           -9.27           -0.95           74.79            0.00           37.82\n",
      "        24           -9.41           -0.96           74.79            0.00           38.17\n",
      "        25           -9.29           -0.94           74.79            0.00           39.05\n",
      "        26           -9.28           -0.96           74.79            0.00           39.10\n",
      "        27           -9.28           -0.98           74.79            0.00           38.20\n",
      "        28           -9.28           -0.95           74.79            0.00           39.51\n",
      "        29           -9.27           -0.93           74.79            0.00           38.89\n",
      "        30           -9.26           -0.98           74.79            0.00           38.68\n",
      "      -> Generator 30 epoch is saved  to: E:/An toàn thông tin/Code/Saved Model/GANModel/sklearn_SVM/U2R_AND_R2L/Generator/2/30epoch_time_created_2023-11-27.pth\n",
      "        31           -9.27           -1.00           74.79            0.00           38.56\n",
      "        32           -9.29           -0.95           74.79            0.00           37.87\n",
      "        33           -9.28           -0.98           74.79            0.00           38.10\n",
      "        34           -9.32           -0.99           74.79            0.00           38.97\n",
      "        35           -9.28           -0.92           74.79            0.00           38.98\n",
      "        36           -9.30           -0.97           74.79            0.00           41.01\n",
      "        37           -9.29           -0.95           74.79            0.00           39.45\n",
      "        38           -9.28           -1.00           74.79            0.00           39.20\n",
      "        39           -9.27           -0.96           74.79            0.00           40.16\n",
      "        40           -9.28           -0.95           74.79            0.00           39.72\n",
      "      -> Generator 40 epoch is saved  to: E:/An toàn thông tin/Code/Saved Model/GANModel/sklearn_SVM/U2R_AND_R2L/Generator/2/40epoch_time_created_2023-11-27.pth\n",
      "        41           -9.29           -0.97           74.79            0.00           41.49\n",
      "        42           -9.28           -0.96           74.79            0.00           46.23\n",
      "        43           -9.29           -0.98           74.79            0.00           39.17\n",
      "        44           -9.27           -0.90           74.79            0.00           36.96\n",
      "        45           -9.26           -1.00           74.79            0.00           38.25\n",
      "        46           -9.28           -0.92           74.79            0.00           39.15\n",
      "        47           -9.27           -0.98           74.79            0.00           37.93\n",
      "        48           -9.28           -0.94           74.79            0.00           37.27\n",
      "        49           -9.29           -0.97           74.79            0.00           38.40\n",
      "        50           -9.26           -0.97           74.79            0.00           37.06\n",
      "      -> Generator 50 epoch is saved  to: E:/An toàn thông tin/Code/Saved Model/GANModel/sklearn_SVM/U2R_AND_R2L/Generator/2/50epoch_time_created_2023-11-27.pth\n",
      "        51           -9.29           -0.95           74.79            0.00           38.01\n",
      "        52           -9.29           -0.95           74.79            0.00           39.40\n",
      "        53           -9.29           -0.97           74.79            0.00           40.69\n",
      "        54           -9.28           -0.95           74.79            0.00           38.08\n",
      "        55           -9.27           -0.96           74.79            0.00           39.85\n",
      "        56           -9.28           -1.00           74.79            0.00           41.96\n",
      "        57           -9.28           -0.93           74.79            0.00           37.95\n",
      "        58           -9.26           -0.95           74.79            0.00           38.09\n",
      "        59           -9.27           -0.97           74.79            0.00           39.53\n",
      "        60           -9.27           -0.93           74.79            0.00           38.11\n",
      "      -> Generator 60 epoch is saved  to: E:/An toàn thông tin/Code/Saved Model/GANModel/sklearn_SVM/U2R_AND_R2L/Generator/2/60epoch_time_created_2023-11-27.pth\n",
      "        61           -9.29           -0.96           74.79            0.00           45.41\n",
      "        62           -9.30           -0.96           74.79            0.00           41.50\n",
      "        63           -9.28           -0.96           74.79            0.00           39.70\n",
      "        64           -9.27           -0.98           74.79            0.00           41.05\n",
      "        65           -9.27           -1.00           74.79            0.00           39.25\n",
      "        66           -9.28           -0.96           74.79            0.00           39.42\n",
      "        67           -9.28           -0.96           74.79            0.00           39.63\n",
      "        68           -9.29           -0.97           74.79            0.00           37.88\n",
      "        69           -9.27           -0.92           74.79            0.00           37.73\n",
      "        70           -9.30           -0.98           74.79            0.00           38.03\n",
      "      -> Generator 70 epoch is saved  to: E:/An toàn thông tin/Code/Saved Model/GANModel/sklearn_SVM/U2R_AND_R2L/Generator/2/70epoch_time_created_2023-11-27.pth\n",
      "        71           -9.27           -0.97           74.79            0.00           37.74\n",
      "        72           -9.29           -0.97           74.79            0.00           39.10\n",
      "        73           -9.27           -0.97           74.79            0.00           38.78\n",
      "        74           -9.26           -0.96           74.79            0.00           38.87\n",
      "        75           -9.27           -0.98           74.79            0.00           38.61\n",
      "        76           -9.27           -0.98           74.79            0.00           37.94\n",
      "        77           -9.32           -0.92           74.79            0.00           38.28\n",
      "        78           -9.32           -0.94           74.79            0.00           38.30\n",
      "        79           -9.28           -0.95           74.79            0.00           39.30\n",
      "        80           -9.27           -1.00           74.79            0.00           38.85\n",
      "      -> Generator 80 epoch is saved  to: E:/An toàn thông tin/Code/Saved Model/GANModel/sklearn_SVM/U2R_AND_R2L/Generator/2/80epoch_time_created_2023-11-27.pth\n",
      "        81           -9.27           -0.96           74.79            0.00           38.30\n",
      "        82           -9.28           -0.98           74.79            0.00           37.63\n",
      "        83           -9.29           -0.97           74.79            0.00           38.95\n",
      "        84           -9.32           -1.00           74.79            0.00           39.00\n",
      "        85           -9.32           -0.97           74.79            0.00           39.66\n",
      "        86           -9.27           -0.96           74.79            0.00           38.05\n",
      "        87           -9.27           -0.93           74.79            0.00           38.52\n",
      "        88           -9.31           -0.99           74.79            0.00           39.87\n",
      "        89           -9.29           -0.97           74.79            0.00           39.41\n",
      "        90           -9.28           -0.96           74.79            0.00           39.51\n",
      "      -> Generator 90 epoch is saved  to: E:/An toàn thông tin/Code/Saved Model/GANModel/sklearn_SVM/U2R_AND_R2L/Generator/2/90epoch_time_created_2023-11-27.pth\n",
      "        91           -9.29           -0.97           74.79            0.00           38.61\n",
      "        92           -9.27           -0.93           74.79            0.00           39.40\n",
      "        93           -9.27           -0.93           74.79            0.00           39.93\n",
      "        94           -9.28           -1.01           74.79            0.00           40.01\n",
      "        95           -9.27           -0.97           74.79            0.00           41.82\n",
      "        96           -9.30           -0.97           74.79            0.00           47.95\n",
      "        97           -9.29           -0.98           74.79            0.00           41.29\n",
      "        98           -9.31           -0.99           74.79            0.00           49.85\n",
      "        99           -9.28           -1.01           74.79            0.00           54.19\n",
      "       100           -9.31           -0.97           74.79            0.00           53.54\n",
      "      -> Generator 100 epoch is saved  to: E:/An toàn thông tin/Code/Saved Model/GANModel/sklearn_SVM/U2R_AND_R2L/Generator/2/100epoch_time_created_2023-11-27.pth\n",
      "Training Runtime: 3941.74\n",
      "IDSGAN finish training!\n"
     ]
    },
    {
     "data": {
      "image/png": "[encoded data removed]",
      "text/plain": [
       "<Figure size 640x480 with 1 Axes>"
      ]
     },
     "metadata": {},
     "output_type": "display_data"
    },
    {
     "data": {
      "image/png": "[encoded data removed]",
      "text/plain": [
       "<Figure size 640x480 with 1 Axes>"
      ]
     },
     "metadata": {},
     "output_type": "display_data"
    },
    {
     "name": "stdout",
     "output_type": "stream",
     "text": [
      "      -> Saved Discrimninator 100 epoch to: E:/An toàn thông tin/Code/Saved Model/GANModel/sklearn_SVM/U2R_AND_R2L/Discriminator/2/101epoch_time_created_2023-11-27.pth\n"
     ]
    }
   ],
   "source": [
    "print(f\"{40*'='} TRAINING GAN {40*'='}\")\n",
    "print(f\"{80*'='}\\n IDS Model: {ids_model_name}\")\n",
    "# for attack_category in ATTACK_CATEGORIES:\n",
    "for attack_category in ATTACK_CATEGORIES:\n",
    "    print(f\"{80*'*'}\\n Attack Category: {attack_category}\")\n",
    "    for adversarial_attack_type in [1,2]:\n",
    "        total_time_start = timeit.default_timer()\n",
    "        print(f\"{80*'-'}\\n Adversarial Attack Type : {adversarial_attack_type}\")\n",
    "\n",
    "        # Load sklearn IDS Model\n",
    "        ids_model = load_sklearn_ids_model(ids_model_name, attack_category, ids_created_date)\n",
    "        # Init GAN-G model\n",
    "        G_OUTPUT_DIM = len(POS_NONFUNCTIONAL_FEATURES[attack_category])     # Generator output is number of nonfunctional feature\n",
    "        generator = init_generator(G_INPUT_DIM,G_OUTPUT_DIM, adversarial_attack_type)\n",
    "        optimizer_G = optim.RMSprop(generator.parameters(), lr=learning_rate)\n",
    "        # Load Raw Attack Dataset\n",
    "        raw_attack = preprocess_malicious_data(g_train_data, attack_category)\n",
    "        # Prepare Save Folder\n",
    "        GAN_4IDS_Model_Path = str(f\"{GAN_Model_Path}{ids_model_name}/\")\n",
    "        if not os.path.exists(GAN_4IDS_Model_Path):\n",
    "                os.makedirs(GAN_4IDS_Model_Path)\n",
    "        GAN_G_Model_4Category_Path = str(f\"{GAN_4IDS_Model_Path}{attack_category}/Generator/{adversarial_attack_type}/\")\n",
    "        GAN_D_Model_4Category_Path = str(f\"{GAN_4IDS_Model_Path}{attack_category}/Discriminator/{adversarial_attack_type}/\")\n",
    "        for directory in [GAN_G_Model_4Category_Path, GAN_D_Model_4Category_Path]:\n",
    "            if not os.path.exists(directory):\n",
    "                os.makedirs(directory)\n",
    "\n",
    "        # Create batch of attack traffic\n",
    "        batch_attack = create_batch2(raw_attack,BATCH_SIZE)\n",
    "        # Declare Loss, DR List and Train GAN-G, GAN-D\n",
    "        d_losses,g_losses = [],[]\n",
    "        o_dr, a_dr = [],[]\n",
    "        generator.train()\n",
    "        discriminator.train()\n",
    "\n",
    "        # Start Training\n",
    "        print(f\"-->IDSGAN start training\")\n",
    "        labels = ['Epoch', 'G-Loss', 'D-Loss', 'O-DR(%)', 'A-DR(%)', 'Runtime(s)']\n",
    "        print(\"{: >10} {: >15} {: >15} {: >15} {: >15} {: >15}\".format(*labels))\n",
    "        for epoch in range(MAX_EPOCH):\n",
    "            batch_normal = create_batch2(normal,BATCH_SIZE)\n",
    "            epoch_time_start = timeit.default_timer()\n",
    "            cnt = 0\n",
    "            run_g_loss = 0.\n",
    "            run_d_loss = 0.\n",
    "            epoch_o_drs, epoch_a_drs = [], []\n",
    "\n",
    "            for idx, bn in enumerate(batch_normal):\n",
    "                normal_b = th.Tensor(bn.astype(\"float64\"))\n",
    "                attack_traffic  = V(th.Tensor(batch_attack[idx % len(batch_attack)]))\n",
    "                #  Train Generator\n",
    "                g_loss = train_generator(generator, discriminator, optimizer_G, NOISE_DIM, attack_traffic, attack_category, adversarial_attack_type)\n",
    "                run_g_loss += g_loss.item()\n",
    "\n",
    "                # Train Discriminator\n",
    "                d_loss, current_cnt = train_discriminator(discriminator, ids_model, generator, CRITIC_ITERS, CLAMP, optimizer_D, normal_b, NOISE_DIM, attack_traffic, attack_category, adversarial_attack_type)\n",
    "                run_d_loss += d_loss\n",
    "                cnt += current_cnt\n",
    "                \n",
    "                # CALC Epoch DR\n",
    "                adversarial_attack = gen_adversarial_attack(generator, NOISE_DIM, attack_traffic, attack_category, adversarial_attack_type).detach()\n",
    "                origin_dr, adversarial_dr = cal_dr(ids_model, normal_b, attack_traffic, adversarial_attack)\n",
    "                epoch_o_drs.append(origin_dr)\n",
    "                epoch_a_drs.append(adversarial_dr)\n",
    "\n",
    "            if cnt >= (len(normal)/BATCH_SIZE):\n",
    "                print(\"Not exist predicted attack traffic\")\n",
    "                break\n",
    "            d_losses.append(run_d_loss/CRITIC_ITERS)\n",
    "            g_losses.append(run_g_loss)\n",
    "            epoch_o_dr = np.mean(epoch_o_drs)\n",
    "            epoch_a_dr = np.mean(epoch_a_drs)\n",
    "            o_dr.append(epoch_o_dr)\n",
    "            a_dr.append(epoch_a_dr)\n",
    "            \n",
    "            runtime = timeit.default_timer() - epoch_time_start\n",
    "            print_vals = [(epoch + 1), run_g_loss, (run_d_loss/CRITIC_ITERS), (epoch_o_dr*100), (epoch_a_dr*100), runtime]\n",
    "            print_string = []\n",
    "            for val in print_vals:\n",
    "                if isinstance(val, float):\n",
    "                    print_string.append(str(f\"{val:.2f}\"))\n",
    "                else:\n",
    "                    print_string.append(str(val))\n",
    "            print(\"{: >10} {: >15} {: >15} {: >15} {: >15} {: >15}\".format(*print_string))\n",
    "            # Save Adversarial Dataset each 10 epoch\n",
    "            if ((epoch + 1) % 10 == 0):\n",
    "                path = GAN_G_Model_4Category_Path + f\"{epoch + 1}epoch_time_created_{today}.pth\"\n",
    "                th.save(generator.state_dict(), path)\n",
    "                print(f\"{6*' '}-> Generator {epoch + 1} epoch is saved  to: {path}\")\n",
    "        total_runtime = timeit.default_timer() - total_time_start\n",
    "        print(f\"Training Runtime: {total_runtime:.2f}\")\n",
    "        print(\"IDSGAN finish training!\")\n",
    "        \n",
    "        # Show Graph\n",
    "        # Loss-Graph\n",
    "        plt.plot(d_losses,label = \"D_loss\")\n",
    "        plt.plot(g_losses, label = \"G_loss\")\n",
    "        plt.legend()\n",
    "        plt.show()\n",
    "        # DR-Graph\n",
    "        plt.plot(o_dr,label = \"Origin DR\")\n",
    "        plt.plot(a_dr, label = \"Adversarial DR\")\n",
    "        plt.legend()\n",
    "        plt.show()\n",
    "\n",
    "        # Save Model\n",
    "        path = GAN_D_Model_4Category_Path + f\"{MAX_EPOCH + 1}epoch_time_created_{today}.pth\"\n",
    "        th.save(discriminator.state_dict(), path)\n",
    "        print(f\"{6*' '}-> Saved Discrimninator {MAX_EPOCH} epoch to: {path}\")"
   ]
  },
  {
   "cell_type": "markdown",
   "metadata": {
    "colab_type": "text",
    "id": "jQNXCNMEx1bn"
   },
   "source": [
    "## **3.2 Run Generate Adversarial Traffic**"
   ]
  },
  {
   "cell_type": "code",
   "execution_count": 17,
   "metadata": {
    "colab": {},
    "colab_type": "code",
    "executionInfo": {
     "elapsed": 21469257,
     "status": "ok",
     "timestamp": 1594471600415,
     "user": {
      "displayName": "Machine Ubuntu",
      "photoUrl": "",
      "userId": "14037080372597024989"
     },
     "user_tz": -420
    },
    "id": "I0w_F6zKcgrF"
   },
   "outputs": [],
   "source": [
    "# Hyber Parameters\n",
    "BATCH_SIZE = 256 # Batch size\n",
    "\n",
    "# GAN-G\n",
    "NOISE_DIM = 9\n",
    "G_INPUT_DIM = NOISE_DIM     # Generator input dimension is dimention of noise"
   ]
  },
  {
   "cell_type": "code",
   "execution_count": 18,
   "metadata": {
    "colab": {
     "base_uri": "https://localhost:8080/",
     "height": 51
    },
    "colab_type": "code",
    "executionInfo": {
     "elapsed": 21469774,
     "status": "ok",
     "timestamp": 1594471600943,
     "user": {
      "displayName": "Machine Ubuntu",
      "photoUrl": "",
      "userId": "14037080372597024989"
     },
     "user_tz": -420
    },
    "id": "HPx41fPd6CiW",
    "outputId": "f40ac0b9-7093-4bc8-ea95-58758d97d0d4"
   },
   "outputs": [
    {
     "name": "stdout",
     "output_type": "stream",
     "text": [
      "Amount of KDDTest+: \t\t20123\n",
      "Amount of Normal:\t\t9711 (37 batchs - 256 records/batch)\n"
     ]
    }
   ],
   "source": [
    "gan_model_time_created = str(date.today())\n",
    "\n",
    "# Load Testset\n",
    "testset = pd.read_csv(testset_path)\n",
    "print(f\"Amount of KDDTest+: \\t\\t{len(testset)}\")\n",
    "# test_normal\n",
    "test_normal = np.array(testset[testset[\"class\"] == 'Normal'])[:,:-1]\n",
    "# Create batch of normal traffic\n",
    "test_batch_normal = create_batch2(test_normal,BATCH_SIZE).astype('float64')\n",
    "print(f\"Amount of Normal:\\t\\t{len(test_normal)} ({len(test_batch_normal)} batchs - {BATCH_SIZE} records/batch)\")"
   ]
  },
  {
   "cell_type": "code",
   "execution_count": 19,
   "metadata": {
    "colab": {
     "base_uri": "https://localhost:8080/",
     "height": 1000
    },
    "colab_type": "code",
    "executionInfo": {
     "elapsed": 21625179,
     "status": "ok",
     "timestamp": 1594471756365,
     "user": {
      "displayName": "Machine Ubuntu",
      "photoUrl": "",
      "userId": "14037080372597024989"
     },
     "user_tz": -420
    },
    "id": "ZhPpd8MCx10u",
    "outputId": "f84bd026-aa9d-43db-b615-126d200a47bf"
   },
   "outputs": [
    {
     "name": "stdout",
     "output_type": "stream",
     "text": [
      "======================================== ADVERSARIAL TRAFFIC EVALUATING ========================================\n",
      "================================================================================\n",
      " IDS Model: sklearn_SVM\n",
      "--------------------------------------------------------------------------------\n",
      " Adversarial Attack Type : 1\n",
      "*****\n",
      " - Attack Category: DOS\n",
      "Loaded Model From Disk: /content/drive/My Drive/Study/KLTN/Saved Model/IDSModel/DOS/Machine_Learning/created_date_2020-07-11_sklearn_SVM.pkl\n",
      "    Amout of DOS:\t7460 (29 batchs - 256 records/batch)\n",
      "\t  10 epochs:\tOrigin DR : 79.63% \t Adversarial DR : 4.82% \t EIR : 93.94%\n",
      "\t  20 epochs:\tOrigin DR : 79.63% \t Adversarial DR : 4.75% \t EIR : 94.03%\n",
      "\t  30 epochs:\tOrigin DR : 79.63% \t Adversarial DR : 4.53% \t EIR : 94.31%\n",
      "\t  40 epochs:\tOrigin DR : 79.63% \t Adversarial DR : 5.24% \t EIR : 93.42%\n",
      "\t  50 epochs:\tOrigin DR : 79.63% \t Adversarial DR : 5.50% \t EIR : 93.09%\n",
      "\t  60 epochs:\tOrigin DR : 79.63% \t Adversarial DR : 5.50% \t EIR : 93.09%\n",
      "\t  70 epochs:\tOrigin DR : 79.63% \t Adversarial DR : 4.87% \t EIR : 93.89%\n",
      "\t  80 epochs:\tOrigin DR : 79.63% \t Adversarial DR : 5.00% \t EIR : 93.72%\n",
      "\t  90 epochs:\tOrigin DR : 79.63% \t Adversarial DR : 4.27% \t EIR : 94.64%\n",
      "\t 100 epochs:\tOrigin DR : 79.63% \t Adversarial DR : 5.17% \t EIR : 93.50%\n",
      "--------------------------------------------------------------------------------\n",
      " Adversarial Attack Type : 2\n",
      "*****\n",
      " - Attack Category: DOS\n",
      "Loaded Model From Disk: /content/drive/My Drive/Study/KLTN/Saved Model/IDSModel/DOS/Machine_Learning/created_date_2020-07-11_sklearn_SVM.pkl\n",
      "    Amout of DOS:\t7460 (29 batchs - 256 records/batch)\n",
      "\t  10 epochs:\tOrigin DR : 79.16% \t Adversarial DR : 5.72% \t EIR : 92.77%\n",
      "\t  20 epochs:\tOrigin DR : 79.16% \t Adversarial DR : 5.68% \t EIR : 92.82%\n",
      "\t  30 epochs:\tOrigin DR : 79.16% \t Adversarial DR : 5.70% \t EIR : 92.80%\n",
      "\t  40 epochs:\tOrigin DR : 79.16% \t Adversarial DR : 5.46% \t EIR : 93.10%\n",
      "\t  50 epochs:\tOrigin DR : 79.16% \t Adversarial DR : 5.28% \t EIR : 93.33%\n",
      "\t  60 epochs:\tOrigin DR : 79.16% \t Adversarial DR : 4.87% \t EIR : 93.85%\n",
      "\t  70 epochs:\tOrigin DR : 79.16% \t Adversarial DR : 5.72% \t EIR : 92.77%\n",
      "\t  80 epochs:\tOrigin DR : 79.16% \t Adversarial DR : 5.72% \t EIR : 92.77%\n",
      "\t  90 epochs:\tOrigin DR : 79.16% \t Adversarial DR : 5.87% \t EIR : 92.58%\n",
      "\t 100 epochs:\tOrigin DR : 79.16% \t Adversarial DR : 7.21% \t EIR : 90.89%\n",
      "--------------------------------------------------------------------------------\n",
      " Adversarial Attack Type : 1\n",
      "*****\n",
      " - Attack Category: U2R_AND_R2L\n",
      "Loaded Model From Disk: /content/drive/My Drive/Study/KLTN/Saved Model/IDSModel/U2R_AND_R2L/Machine_Learning/created_date_2020-07-11_sklearn_SVM.pkl\n",
      "    Amout of U2R_AND_R2L:\t2952 (11 batchs - 256 records/batch)\n",
      "\t  10 epochs:\tOrigin DR : 0.23% \t Adversarial DR : 0.00% \t EIR : 100.00%\n",
      "\t  20 epochs:\tOrigin DR : 0.23% \t Adversarial DR : 0.00% \t EIR : 100.00%\n",
      "\t  30 epochs:\tOrigin DR : 0.23% \t Adversarial DR : 0.00% \t EIR : 100.00%\n",
      "\t  40 epochs:\tOrigin DR : 0.23% \t Adversarial DR : 0.00% \t EIR : 100.00%\n",
      "\t  50 epochs:\tOrigin DR : 0.23% \t Adversarial DR : 0.00% \t EIR : 100.00%\n",
      "\t  60 epochs:\tOrigin DR : 0.23% \t Adversarial DR : 0.00% \t EIR : 100.00%\n",
      "\t  70 epochs:\tOrigin DR : 0.23% \t Adversarial DR : 0.00% \t EIR : 100.00%\n",
      "\t  80 epochs:\tOrigin DR : 0.23% \t Adversarial DR : 0.00% \t EIR : 100.00%\n",
      "\t  90 epochs:\tOrigin DR : 0.23% \t Adversarial DR : 0.00% \t EIR : 100.00%\n",
      "\t 100 epochs:\tOrigin DR : 0.23% \t Adversarial DR : 0.00% \t EIR : 100.00%\n",
      "--------------------------------------------------------------------------------\n",
      " Adversarial Attack Type : 2\n",
      "*****\n",
      " - Attack Category: U2R_AND_R2L\n",
      "Loaded Model From Disk: /content/drive/My Drive/Study/KLTN/Saved Model/IDSModel/U2R_AND_R2L/Machine_Learning/created_date_2020-07-11_sklearn_SVM.pkl\n",
      "    Amout of U2R_AND_R2L:\t2952 (11 batchs - 256 records/batch)\n",
      "\t  10 epochs:\tOrigin DR : 0.19% \t Adversarial DR : 0.00% \t EIR : 100.00%\n",
      "\t  20 epochs:\tOrigin DR : 0.19% \t Adversarial DR : 0.00% \t EIR : 100.00%\n",
      "\t  30 epochs:\tOrigin DR : 0.19% \t Adversarial DR : 0.00% \t EIR : 100.00%\n",
      "\t  40 epochs:\tOrigin DR : 0.19% \t Adversarial DR : 0.00% \t EIR : 100.00%\n",
      "\t  50 epochs:\tOrigin DR : 0.19% \t Adversarial DR : 0.00% \t EIR : 100.00%\n",
      "\t  60 epochs:\tOrigin DR : 0.19% \t Adversarial DR : 0.00% \t EIR : 100.00%\n",
      "\t  70 epochs:\tOrigin DR : 0.19% \t Adversarial DR : 0.00% \t EIR : 100.00%\n",
      "\t  80 epochs:\tOrigin DR : 0.19% \t Adversarial DR : 0.00% \t EIR : 100.00%\n",
      "\t  90 epochs:\tOrigin DR : 0.19% \t Adversarial DR : 0.00% \t EIR : 100.00%\n",
      "\t 100 epochs:\tOrigin DR : 0.19% \t Adversarial DR : 0.00% \t EIR : 100.00%\n"
     ]
    }
   ],
   "source": [
    "# Adversarial Traffic Evaluating\n",
    "print(f\"{40*'='} ADVERSARIAL TRAFFIC EVALUATING {40*'='}\")\n",
    "print(f\"{80*'='}\\n IDS Model: {ids_model_name}\")\n",
    "\n",
    "# for attack_category in ATTACK_CATEGORIES:\n",
    "for attack_category in ATTACK_CATEGORIES:\n",
    "    for adversarial_attack_type in [1,2]:\n",
    "        print(f\"{80*'-'}\\n Adversarial Attack Type : {adversarial_attack_type}\")\n",
    "        print(f\"{5*'*'}\\n - Attack Category: {attack_category}\")\n",
    "        \n",
    "        # Load sklearn IDS Model\n",
    "        ids_model = load_sklearn_ids_model(ids_model_name, attack_category, ids_created_date)\n",
    "        # Init GAN-G model\n",
    "        G_OUTPUT_DIM = len(POS_NONFUNCTIONAL_FEATURES[attack_category])     # Generator output is number of nonfunctional feature\n",
    "        generator = init_generator(G_INPUT_DIM,G_OUTPUT_DIM, adversarial_attack_type)\n",
    "        # Load Attack Dataset\n",
    "        test_raw_attack = preprocess_malicious_data(testset, attack_category)\n",
    "        # Create batch of attack traffic\n",
    "        batch_attack = create_batch2(test_raw_attack, BATCH_SIZE)\n",
    "        n_batch_attack = len(batch_attack)\n",
    "        print(f\"{4*' '}Amout of {attack_category}:\\t{len(test_raw_attack)} ({n_batch_attack} batchs - {BATCH_SIZE} records/batch)\")\n",
    "        \n",
    "        # Calc DR through each epoch\n",
    "        for epoch in range(10, MAX_EPOCH + 1, 10):\n",
    "            # Load GAN-G Model\n",
    "            gan_g_model_path = str(f\"{GAN_Model_Path}{ids_model_name}/{attack_category}/Generator/{adversarial_attack_type}/{epoch}epoch_time_created_{gan_model_time_created}.pth\")\n",
    "            param = th.load(gan_g_model_path,map_location=lambda x,y:x)\n",
    "            generator.load_state_dict(param)\n",
    "            generator.eval()\n",
    "\n",
    "            o_dr,a_dr =[],[]\n",
    "            with th.no_grad():\n",
    "                for idx, bn in enumerate(test_batch_normal):\n",
    "                    normal_b = th.Tensor(bn)\n",
    "                    attack_b = th.Tensor(batch_attack[idx % n_batch_attack])\n",
    "                    # Generate Adversarial Traffic\n",
    "                    adversarial_attack_b = gen_adversarial_attack(generator, NOISE_DIM, attack_b, attack_category, adversarial_attack_type).detach()\n",
    "\n",
    "                    # Calc DR\n",
    "                    origin_dr, adversarial_dr = cal_dr(ids_model, normal_b, attack_b, adversarial_attack_b)\n",
    "                    o_dr.append(origin_dr)\n",
    "                    a_dr.append(adversarial_dr)\n",
    "            eir = 1 - (np.mean(a_dr)/np.mean(o_dr))\n",
    "            print(f\"\\t {epoch:3d} epochs:\\tOrigin DR : {np.mean(o_dr)*100:.2f}% \\t Adversarial DR : {np.mean(a_dr)*100:.2f}% \\t EIR : {eir*100:.2f}%\")"
   ]
  },
  {
   "cell_type": "markdown",
   "metadata": {
    "colab_type": "text",
    "id": "mwWugTozppL5"
   },
   "source": [
    "The Saved Model stored in [Google Drive - GAN Model](https://drive.google.com/drive/u/1/folders/1VNFW-k5SbR0eGsJ_np3U-W3Rcz_n4I8N)\n",
    "\n",
    "The Result of Code stored in [Github - Thesis](https://github.com/thetinybug/thesis-IDSGAN)"
   ]
  }
 ],
 "metadata": {
  "colab": {
   "collapsed_sections": [],
   "name": "2. GAN and Gen/Machine_Learning_IDS/sklearn_SVM.ipynb",
   "provenance": [
    {
     "file_id": "1__oEcuLAwPtIYf5J9l75rsRQ1RPYE56v",
     "timestamp": 1593183432956
    },
    {
     "file_id": "1mkhrbHfNqYSDxkiyP7BsFofEaWEWP5fM",
     "timestamp": 1592983611776
    }
   ],
   "toc_visible": true
  },
  "kernelspec": {
   "display_name": "Python 3 (ipykernel)",
   "language": "python",
   "name": "python3"
  },
  "language_info": {
   "codemirror_mode": {
    "name": "ipython",
    "version": 3
   },
   "file_extension": ".py",
   "mimetype": "text/x-python",
   "name": "python",
   "nbconvert_exporter": "python",
   "pygments_lexer": "ipython3",
   "version": "3.11.4"
  }
 },
 "nbformat": 4,
 "nbformat_minor": 4
}
