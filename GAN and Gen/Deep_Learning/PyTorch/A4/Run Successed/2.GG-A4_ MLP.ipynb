{
 "cells": [
  {
   "cell_type": "code",
   "execution_count": 35,
   "metadata": {},
   "outputs": [],
   "source": [
    "%run models.py"
   ]
  },
  {
   "cell_type": "code",
   "execution_count": 36,
   "metadata": {},
   "outputs": [],
   "source": [
    "%run constants.py"
   ]
  },
  {
   "cell_type": "markdown",
   "metadata": {
    "colab_type": "text",
    "id": "mt5O3Y-fb5Du"
   },
   "source": [
    "##Import"
   ]
  },
  {
   "cell_type": "code",
   "execution_count": 37,
   "metadata": {
    "colab": {},
    "colab_type": "code",
    "id": "YIQ708lZS2lF"
   },
   "outputs": [],
   "source": [
    "import numpy as np\n",
    "import pandas as pd\n",
    "import torch as th\n",
    "from torch.autograd import Variable as V\n",
    "import torch.autograd as autograd\n",
    "import torch.nn as nn\n",
    "import torch.nn.functional as F\n",
    "import torch.optim as optim\n",
    "from sklearn.utils import shuffle\n",
    "from sklearn.metrics import confusion_matrix\n",
    "\n",
    "\n",
    "\n",
    "# Own Custom Module to import models and constants\n",
    "from models import *\n",
    "from constants import *\n",
    "\n",
    "import matplotlib.pyplot as plt\n",
    "import math\n",
    "import os\n",
    "from datetime import date\n",
    "import timeit"
   ]
  },
  {
   "cell_type": "markdown",
   "metadata": {
    "colab_type": "text",
    "id": "DZkqASdBS-QA"
   },
   "source": [
    "#**1. Chuẩn bị**"
   ]
  },
  {
   "cell_type": "markdown",
   "metadata": {
    "colab_type": "text",
    "id": "3rFWSSBQF99E"
   },
   "source": [
    "##Paths"
   ]
  },
  {
   "cell_type": "code",
   "execution_count": 38,
   "metadata": {
    "colab": {},
    "colab_type": "code",
    "id": "uW-RHzMwdsG5"
   },
   "outputs": [],
   "source": [
    "base_path = \"E:/An toàn thông tin/Code/\"\n",
    "Dataset_Path = \"E:/An toàn thông tin/Code/Dataset/NSL-KDD Processed/Final - For Using/\"\n",
    "SavedModelPath = base_path + \"Saved Model/\"\n",
    "\n",
    "# Dataset Path\n",
    "Trainsets_Path = Dataset_Path + \"Trainset/\"\n",
    "g_trainset_path = Trainsets_Path + \"GAN-G.csv\"\n",
    "d_trainset_path = Trainsets_Path + \"GAN-D.csv\"\n",
    "testset_path = Dataset_Path + \"Testset/\" + \"KDDTest+.csv\"\n",
    "\n",
    "# GAN Saved Models Paths\n",
    "GAN_Model_Path = SavedModelPath + \"GANModel/\"\n",
    "\n",
    "# IDS Pytorch Saved Models Paths\n",
    "IDS_Model_Path = SavedModelPath + \"IDSModel/\""
   ]
  },
  {
   "cell_type": "markdown",
   "metadata": {
    "colab_type": "text",
    "id": "XwTYqTdfF-wS"
   },
   "source": [
    "##Global Variables"
   ]
  },
  {
   "cell_type": "code",
   "execution_count": 39,
   "metadata": {
    "colab": {},
    "colab_type": "code",
    "id": "8rBB0NLwGAce"
   },
   "outputs": [],
   "source": [
    "# Global Variables\n",
    "N_FEATURES = 41\n",
    "# IDS\n",
    "IDS_INPUT_DIM = N_FEATURES\n",
    "IDS_OUTPUT_DIM = 2\n",
    "# ATTACK_CATEGORIES = ['DOS', 'U2R_AND_R2L']\n",
    "\n",
    "POS_FUNCTIONAL_FEATURES = {'DOS': DOS_FEATURES, 'U2R_AND_R2L': U2R_AND_R2L_FEATURES}\n",
    "POS_NONFUNCTIONAL_FEATURES = {}\n",
    "for attack_category, pos_functional_feature in POS_FUNCTIONAL_FEATURES.items():\n",
    "    pos_nonfunctional_feature = []\n",
    "    for i in range(N_FEATURES):\n",
    "        if i not in pos_functional_feature:\n",
    "            pos_nonfunctional_feature.append(i)\n",
    "    POS_NONFUNCTIONAL_FEATURES[attack_category] = pos_nonfunctional_feature\n",
    "\n",
    "IDS_MODELS = {'MLP': MLP, 'CNN': None, 'RNN': None}"
   ]
  },
  {
   "cell_type": "code",
   "execution_count": 40,
   "metadata": {
    "colab": {
     "base_uri": "https://localhost:8080/",
     "height": 106
    },
    "colab_type": "code",
    "executionInfo": {
     "elapsed": 5352,
     "status": "ok",
     "timestamp": 1595318159889,
     "user": {
      "displayName": "Tien LE KHAC",
      "photoUrl": "https://lh3.googleusercontent.com/a-/AOh14GhATILfEwLuvrRlBGPMrmY7nclZNsxGKzoqqHB_Cg=s64",
      "userId": "18298916241916904857"
     },
     "user_tz": -420
    },
    "id": "hlE7gDk07ybi",
    "outputId": "74c285b7-c082-4bef-beeb-0cd43b9995a9"
   },
   "outputs": [
    {
     "name": "stdout",
     "output_type": "stream",
     "text": [
      "Position of Functional Features\n",
      "   {'DOS': [0, 1, 2, 3, 4, 5, 6, 7, 8, 23, 24, 25, 26, 27, 28, 29, 30], 'U2R_AND_R2L': [0, 1, 2, 3, 4, 5, 6, 7, 8, 9, 10, 11, 12, 13, 14, 15, 16, 17, 18, 19, 20, 21, 22]}\n",
      "Position of Functional Features:\n",
      "   {'DOS': [9, 10, 11, 12, 13, 14, 15, 16, 17, 18, 19, 20, 21, 22, 31, 32, 33, 34, 35, 36, 37, 38, 39, 40], 'U2R_AND_R2L': [23, 24, 25, 26, 27, 28, 29, 30, 31, 32, 33, 34, 35, 36, 37, 38, 39, 40]}\n"
     ]
    }
   ],
   "source": [
    "print('Position of Functional Features\\n  ', POS_FUNCTIONAL_FEATURES)\n",
    "print('Position of Functional Features:\\n  ', POS_NONFUNCTIONAL_FEATURES)"
   ]
  },
  {
   "cell_type": "markdown",
   "metadata": {
    "colab_type": "text",
    "id": "otbVJEAzcTv4"
   },
   "source": [
    "# **2. Định nghĩa Model**"
   ]
  },
  {
   "cell_type": "markdown",
   "metadata": {
    "colab_type": "text",
    "id": "FVn0MzP1HW_0"
   },
   "source": [
    "##Models"
   ]
  },
  {
   "cell_type": "code",
   "execution_count": 41,
   "metadata": {
    "colab": {},
    "colab_type": "code",
    "id": "sqogk9lIw_Uk"
   },
   "outputs": [],
   "source": [
    "# Load from model.py module"
   ]
  },
  {
   "cell_type": "markdown",
   "metadata": {
    "colab_type": "text",
    "id": "MdPRWEuxBAcd"
   },
   "source": [
    "##Functions"
   ]
  },
  {
   "cell_type": "markdown",
   "metadata": {
    "colab_type": "text",
    "id": "TcJBwwXf924F"
   },
   "source": [
    "### Processing Data Functions"
   ]
  },
  {
   "cell_type": "code",
   "execution_count": 42,
   "metadata": {
    "colab": {},
    "colab_type": "code",
    "id": "r81eRs5hx8Lf"
   },
   "outputs": [],
   "source": [
    "# Processing Data Functions\n",
    "# create_batch2 - Hàm tạo Batch\n",
    "def create_batch2(x,batch_size):\n",
    "    a = list(range(len(x)))\n",
    "    np.random.shuffle(a)\n",
    "    x = x[a]\n",
    "    batch_x = [x[batch_size * i : (i+1)*batch_size,:] for i in range(len(x)//batch_size)]\n",
    "    return np.array(batch_x)\n",
    "    \n",
    "# preprocess_malicious_data - Hàm tiền xử lý dữ liệu tấn công\n",
    "def preprocess_malicious_data(dataset, attack_category):\n",
    "    if attack_category != 'DOS' and attack_category != 'U2R_AND_R2L':\n",
    "      raise ValueError(\"Preprocess Data Fail: Invalid Attack Category\")\n",
    "    attack_data = dataset[dataset['class'] == attack_category]\n",
    "    del attack_data[\"class\"]\n",
    "    return np.array(attack_data)"
   ]
  },
  {
   "cell_type": "markdown",
   "metadata": {
    "colab_type": "text",
    "id": "fM7pjZa999Ht"
   },
   "source": [
    "### IDS Functions"
   ]
  },
  {
   "cell_type": "code",
   "execution_count": 43,
   "metadata": {
    "colab": {},
    "colab_type": "code",
    "id": "Ukp0y2LiyGmy"
   },
   "outputs": [],
   "source": [
    "# IDS Functions\n",
    "# get_pytoch_ids_path - Get path for PyTorch IDS Models\n",
    "def get_pytorch_ids_path(model_name, attack_category, created_date):\n",
    "    if attack_category != 'DOS' and attack_category != 'U2R_AND_R2L':\n",
    "        raise ValueError(\"Preprocess Data Fail: Invalid Attack Category\")\n",
    "    ids_path = str(f\"{IDS_Model_Path}{attack_category}/Machine_Learning/created_date_{created_date}_{model_name}.pth\")\n",
    "    if not os.path.exists(ids_path):\n",
    "        raise ValueError(f\"Invalid path: {ids_path}\\nNot exist file!\")\n",
    "    return ids_path\n",
    "\n",
    "# load_pytorch_ids_model - Load PyTorch IDS Models\n",
    "def load_pytorch_ids_model(model_name, input_dim, output_dim, attack_category, created_date):\n",
    "    ids_model = IDS_MODELS[model_name](input_dim, output_dim)\n",
    "    ids_model_path = get_pytorch_ids_path(model_name, attack_category, created_date)\n",
    "    param = th.load(ids_model_path)\n",
    "    ids_model.load_state_dict(param)\n",
    "    ids_model.eval()\n",
    "    print(f\"{4*' '}Loaded IDS Model From: {ids_model_path}\")\n",
    "    return ids_model"
   ]
  },
  {
   "cell_type": "markdown",
   "metadata": {
    "colab_type": "text",
    "id": "J9Q5DryD-Dl0"
   },
   "source": [
    "### GAN Functions"
   ]
  },
  {
   "cell_type": "code",
   "execution_count": 44,
   "metadata": {
    "colab": {},
    "colab_type": "code",
    "id": "tV5MHCxUA-8G"
   },
   "outputs": [],
   "source": [
    "# GAN Functions\n",
    "# init_generator - Khoi tao model GAN-G\n",
    "def init_generator(input_dim, output_dim, adversarial_attack_type = 1):\n",
    "    if adversarial_attack_type == 1:\n",
    "        generator = Generator_A1(input_dim, output_dim)\n",
    "    elif adversarial_attack_type == 2:\n",
    "        generator = Generator_A2(input_dim, output_dim)\n",
    "    elif adversarial_attack_type == 3:\n",
    "        '''\n",
    "            adversarial_attack_type 3: G-input is nonfunctional feature, G-out is adversarial nonfuncitonal feature.\n",
    "            --> input_dim = output_dim = len(nonfunctional_features)\n",
    "        ''' \n",
    "        generator = Generator_A2(output_dim, output_dim)\n",
    "    elif adversarial_attack_type == 4:\n",
    "        '''\n",
    "            adversarial_attack_type 4: G-input in random noise nf-dim (num. of nonfunctional features)\n",
    "            --> input_dim = output_dim = len(nonfunctional_features)\n",
    "        '''\n",
    "        generator = Generator_A1(output_dim, output_dim)\n",
    "    else:\n",
    "        raise ValueError(\"Init GAN - Generator: Invalid Adversarial Attack Type\")\n",
    "    return generator\n",
    "\n",
    "# gen_adversarial_attack - Tao luu luong tan cong doi khang\n",
    "def gen_adversarial_attack(generator, noise_dim, raw_attack, attack_category, adversarial_attack_type = 1):\n",
    "    if adversarial_attack_type == 1 or adversarial_attack_type == 4:\n",
    "        adversarial_attack = generator(noise_dim, raw_attack, attack_category, POS_NONFUNCTIONAL_FEATURES)\n",
    "    elif adversarial_attack_type == 2:\n",
    "        batch_size = len(raw_attack)\n",
    "        noise = V(th.Tensor(np.random.uniform(0,1,(batch_size, noise_dim))))\n",
    "        generator_out = generator(noise)\n",
    "        adversarial_attack = gen_adversarial_attack_a2(generator_out, raw_attack, attack_category, POS_NONFUNCTIONAL_FEATURES)\n",
    "    elif adversarial_attack_type == 3:\n",
    "        pos_nonfunctional_feature = POS_NONFUNCTIONAL_FEATURES[attack_category]\n",
    "        # get nonfunctional features val\n",
    "        nonfunctional_feature = raw_attack[:, pos_nonfunctional_feature]\n",
    "        generator_out = generator(nonfunctional_feature)\n",
    "        adversarial_attack = gen_adversarial_attack_a2(generator_out, raw_attack, attack_category, POS_NONFUNCTIONAL_FEATURES)\n",
    "    else:\n",
    "        raise ValueError(\"Init GAN - Generator: Invalid Adversarial Attack Type\")\n",
    "    return adversarial_attack\n",
    "\n",
    "# train_generator - Train Generator\n",
    "def train_generator(generator, discriminator, optimizer_G, noise_dim, attack_traffic, attack_category, adversarial_attack_type):\n",
    "    for p in discriminator.parameters():  \n",
    "        p.requires_grad = False\n",
    "    optimizer_G.zero_grad()        \n",
    "    # GAN-G Generate Adversarial Attack\n",
    "    adversarial_attack = gen_adversarial_attack(generator, noise_dim, attack_traffic, attack_category, adversarial_attack_type)\n",
    "    # GAN-D predict, GAN-G update parameter\n",
    "    D_pred = discriminator(adversarial_attack)\n",
    "    g_loss = -th.mean(D_pred)\n",
    "    g_loss.backward()\n",
    "    optimizer_G.step()\n",
    "    return g_loss\n",
    "\n",
    "# train_discriminator - Train Discriminator\n",
    "def train_discriminator(discriminator, ids_model, generator, critic_iters, clamp, optimizer_D, normal_b, noise_dim, attack_traffic, attack_category, adversarial_attack_type):\n",
    "    run_d_loss = 0\n",
    "    cnt = 0\n",
    "    for p in discriminator.parameters(): \n",
    "        p.requires_grad = True\n",
    "    for c in range(critic_iters):\n",
    "        optimizer_D.zero_grad()\n",
    "        for p in discriminator.parameters():\n",
    "            p.data.clamp_(-clamp, clamp)\n",
    "        # GAN-G Generate Adversarial Attack\n",
    "        adversarial_attack = gen_adversarial_attack(generator, noise_dim, attack_traffic, attack_category, adversarial_attack_type)\n",
    "        # Make data to feed IDS\n",
    "        ids_input = th.cat((adversarial_attack,normal_b))\n",
    "        l = list(range(len(ids_input)))\n",
    "        np.random.shuffle(l)\n",
    "        ids_input = V(th.Tensor(ids_input[l]))\n",
    "        # IDS Predict\n",
    "        ids_pred = V(th.Tensor(ids_model(ids_input)))\n",
    "        ids_pred_label = th.argmax(nn.Sigmoid()(ids_pred),dim = 1).detach().numpy()\n",
    "        pred_normal = ids_input.numpy()[ids_pred_label==0]\n",
    "        pred_attack = ids_input.numpy()[ids_pred_label==1]\n",
    "        if len(pred_attack) == 0:\n",
    "            cnt += 1\n",
    "            break\n",
    "        # Make GAN-D input\n",
    "        D_noraml = discriminator(V(th.Tensor(pred_normal)))\n",
    "        D_attack= discriminator(V(th.Tensor(pred_attack)))\n",
    "        # Loss and Update Parameter\n",
    "        loss_normal = th.mean(D_noraml)\n",
    "        loss_attack = th.mean(D_attack)\n",
    "        if GAN_variant == 'WGAN':\n",
    "            d_loss = loss_attack - loss_normal #+ LAMBDA * gradient_penalty\n",
    "        elif GAN_variant == 'WGAN-GP':\n",
    "            gradient_penalty = compute_gradient_penalty(discriminator, normal_b.data, adversarial_attack.data)\n",
    "            d_loss = loss_attack - loss_normal + LAMBDA * gradient_penalty\n",
    "        d_loss.backward()\n",
    "        optimizer_D.step()\n",
    "        run_d_loss += d_loss.item()\n",
    "    return run_d_loss, cnt\n",
    "\n",
    "# compute_gradient_penalty - Compute Gradient Penalty\n",
    "def compute_gradient_penalty(D, normal_t, attack_t):\n",
    "    alpha = th.Tensor(np.random.random((normal_t.shape[0], 1)))\n",
    "    between_n_a = (alpha * normal_t + ((1 - alpha) * attack_t)).requires_grad_(True)\n",
    "    d_between_n_a = D(between_n_a)\n",
    "    adv = V(th.Tensor(normal_t.shape[0], 1).fill_(1.0), requires_grad=False)\n",
    "\n",
    "    gradients = autograd.grad(\n",
    "        outputs=d_between_n_a,\n",
    "        inputs=between_n_a,\n",
    "        grad_outputs=adv,\n",
    "        create_graph=True,\n",
    "        retain_graph=True,\n",
    "        only_inputs=True,\n",
    "    )[0]\n",
    "    gradients = gradients.view(gradients.size(0), -1)\n",
    "    gradient_penalty = ((gradients.norm(2, dim=1) - 1) ** 2).mean()\n",
    "    return gradient_penalty"
   ]
  },
  {
   "cell_type": "markdown",
   "metadata": {
    "colab_type": "text",
    "id": "jRhNLI_jSKIg"
   },
   "source": [
    "### Generate Adversarial Attack Functions"
   ]
  },
  {
   "cell_type": "code",
   "execution_count": 45,
   "metadata": {
    "colab": {},
    "colab_type": "code",
    "id": "RyrR7KLNSPtu"
   },
   "outputs": [],
   "source": [
    "# cal_dr - Tinh DR\n",
    "def cal_dr(ids_model, normal, raw_attack, adversarial_attack):\n",
    "    # Make data to feed IDS contain: Attack & Normal\n",
    "    o_ids_input = th.cat((raw_attack, normal))\n",
    "    a_ids_input = th.cat((adversarial_attack,normal))\n",
    "    # Shuffle Input\n",
    "    l = list(range(len(a_ids_input)))\n",
    "    np.random.shuffle(l)\n",
    "    o_ids_input = o_ids_input[l]\n",
    "    a_ids_input = a_ids_input[l]\n",
    "    # IDS Predict Label\n",
    "    o_ids_pred = th.Tensor(ids_model(o_ids_input))\n",
    "    o_pred_label = th.argmax(nn.Sigmoid()(o_ids_pred),dim = 1).detach().numpy()\n",
    "    a_ids_pred = th.Tensor(ids_model(a_ids_input))\n",
    "    a_pred_label = th.argmax(nn.Sigmoid()(a_ids_pred),dim = 1).detach().numpy()\n",
    "    # True Label\n",
    "    ids_true_label = np.r_[np.ones(BATCH_SIZE),np.zeros(BATCH_SIZE)][l]\n",
    "    # Calc DR\n",
    "    tn1, fn1, fp1, tp1 = confusion_matrix(ids_true_label,o_pred_label).ravel()\n",
    "    tn2, fn2, fp2, tp2 = confusion_matrix(ids_true_label,a_pred_label).ravel()\n",
    "    origin_dr = tp1/(tp1 + fp1)\n",
    "    adversarial_dr = tp2/(tp2 + fp2)\n",
    "    return origin_dr, adversarial_dr"
   ]
  },
  {
   "cell_type": "markdown",
   "metadata": {
    "colab_type": "text",
    "id": "nDp5Uy_HaShp"
   },
   "source": [
    "# **3. Run Model**"
   ]
  },
  {
   "cell_type": "code",
   "execution_count": 46,
   "metadata": {
    "colab": {},
    "colab_type": "code",
    "id": "fcgWze1ATBrJ"
   },
   "outputs": [],
   "source": [
    "IDS_Model_Created_Auto = {'MLP': '2023-11-24', \n",
    "                          'CNN': 'Unknown',\n",
    "                          'RNN': 'Unknown'\n",
    "                          }"
   ]
  },
  {
   "cell_type": "code",
   "execution_count": 47,
   "metadata": {
    "cellView": "both",
    "colab": {
     "base_uri": "https://localhost:8080/",
     "height": 69
    },
    "colab_type": "code",
    "executionInfo": {
     "elapsed": 5318,
     "status": "ok",
     "timestamp": 1595318159901,
     "user": {
      "displayName": "Tien LE KHAC",
      "photoUrl": "https://lh3.googleusercontent.com/a-/AOh14GhATILfEwLuvrRlBGPMrmY7nclZNsxGKzoqqHB_Cg=s64",
      "userId": "18298916241916904857"
     },
     "user_tz": -420
    },
    "id": "7hTHJcBcRKjg",
    "outputId": "e50af2cb-186f-49f3-b722-e61dfe8ac742"
   },
   "outputs": [
    {
     "name": "stdout",
     "output_type": "stream",
     "text": [
      "IDS: MLP - created on: \t2023-11-24\n",
      "ATTACK_CATEGORIES: \t\t['DOS', 'U2R_AND_R2L']\n",
      "ADVERSARIAL_ATTACK_TYPES: \t[4]\n"
     ]
    }
   ],
   "source": [
    "#@title **CONSTS**\n",
    "ids_dl_model_name = \"MLP\" #@param [\"MLP\", \"CNN\", \"RNN\"]\n",
    "ids_created_date = 'Auto' #@param ['Auto', '2020-07-08']\n",
    "if ids_created_date == 'Auto':\n",
    "    ids_created_date = IDS_Model_Created_Auto[ids_dl_model_name]\n",
    "    print(f\"IDS: {ids_dl_model_name} - created on: \\t{ids_created_date}\")\n",
    "GAN_variant = 'WGAN' #@param ['WGAN', 'WGANGP']\n",
    "MAX_EPOCH = 100 #@param [100, 10, 2] {type:\"raw\"}\n",
    "ATTACK_CATEGORIES = 'ALL' #@param ['ALL', 'DOS', 'U2R_AND_R2L']\n",
    "if ATTACK_CATEGORIES == 'ALL':\n",
    "    ATTACK_CATEGORIES = ['DOS', 'U2R_AND_R2L']\n",
    "else:\n",
    "    ATTACK_CATEGORIES = [ATTACK_CATEGORIES]\n",
    "print(f\"ATTACK_CATEGORIES: \\t\\t{ATTACK_CATEGORIES}\")\n",
    "\n",
    "ADVERSARIAL_ATTACK_TYPES = 4 #@param [0, 1, 2, 3, 4] {type:\"raw\"}\n",
    "if ADVERSARIAL_ATTACK_TYPES == 0:\n",
    "    ADVERSARIAL_ATTACK_TYPES = [1, 2, 3, 4]\n",
    "else:\n",
    "    ADVERSARIAL_ATTACK_TYPES = [ADVERSARIAL_ATTACK_TYPES]\n",
    "print(f\"ADVERSARIAL_ATTACK_TYPES: \\t{ADVERSARIAL_ATTACK_TYPES}\")\n",
    "\n",
    "NOISE_DIM = 9 #@param[9, 41] {type:\"raw\"}"
   ]
  },
  {
   "cell_type": "markdown",
   "metadata": {
    "colab_type": "text",
    "id": "s8tEzhBNxvGM"
   },
   "source": [
    "##**3.1 Run IDSGAN**"
   ]
  },
  {
   "cell_type": "code",
   "execution_count": 48,
   "metadata": {
    "colab": {},
    "colab_type": "code",
    "id": "j01YlgClq7yq"
   },
   "outputs": [],
   "source": [
    "# Hyber Parameters\n",
    "BATCH_SIZE = 64\n",
    "learning_rate = 0.0001\n",
    "LAMBDA = 10\n",
    "CLAMP = 0.01\n",
    "CRITIC_ITERS = 5          # For WGAN and WGAN-GP, number of critic iters per gen iter\n",
    "\n",
    "# GAN-D\n",
    "D_INPUT_DIM = N_FEATURES\n",
    "D_OUTPUT_DIM = 1\n",
    "discriminator = Discriminator(D_INPUT_DIM,D_OUTPUT_DIM)\n",
    "optimizer_D = optim.RMSprop(discriminator.parameters(), lr=learning_rate)"
   ]
  },
  {
   "cell_type": "code",
   "execution_count": 49,
   "metadata": {
    "colab": {
     "base_uri": "https://localhost:8080/",
     "height": 52
    },
    "colab_type": "code",
    "executionInfo": {
     "elapsed": 5310,
     "status": "ok",
     "timestamp": 1595318159904,
     "user": {
      "displayName": "Tien LE KHAC",
      "photoUrl": "https://lh3.googleusercontent.com/a-/AOh14GhATILfEwLuvrRlBGPMrmY7nclZNsxGKzoqqHB_Cg=s64",
      "userId": "18298916241916904857"
     },
     "user_tz": -420
    },
    "id": "xG09yA2D9bzg",
    "outputId": "cdb8474e-7b72-4b96-fae7-0e1475e3087c"
   },
   "outputs": [
    {
     "name": "stdout",
     "output_type": "stream",
     "text": [
      "Amout of Generator Trainset: 23488\n",
      "Amout of Discriminator Trainset: 33672\n"
     ]
    }
   ],
   "source": [
    "# Get today to set created time for GAN models\n",
    "today = str(date.today())\n",
    "\n",
    "## Prepare Dataset\n",
    "g_train_data = pd.read_csv(g_trainset_path)\n",
    "d_train_data = pd.read_csv(d_trainset_path)\n",
    "\n",
    "# All normal record in train_data\n",
    "del d_train_data[\"class\"]\n",
    "normal = np.array(d_train_data)\n",
    "\n",
    "print(\"Amout of Generator Trainset:\", g_train_data.shape[0])\n",
    "print(\"Amout of Discriminator Trainset:\", d_train_data.shape[0])"
   ]
  },
  {
   "cell_type": "code",
   "execution_count": 50,
   "metadata": {
    "colab": {
     "base_uri": "https://localhost:8080/",
     "height": 1000
    },
    "colab_type": "code",
    "executionInfo": {
     "elapsed": 2850629,
     "status": "ok",
     "timestamp": 1595321005230,
     "user": {
      "displayName": "Tien LE KHAC",
      "photoUrl": "https://lh3.googleusercontent.com/a-/AOh14GhATILfEwLuvrRlBGPMrmY7nclZNsxGKzoqqHB_Cg=s64",
      "userId": "18298916241916904857"
     },
     "user_tz": -420
    },
    "id": "m9C1uFo0vnv7",
    "outputId": "6e1940d2-7a0d-4e64-9b5e-324335b9621a"
   },
   "outputs": [
    {
     "name": "stdout",
     "output_type": "stream",
     "text": [
      "======================================== TRAINING GAN ========================================\n",
      "================================================================================\n",
      " IDS Model: MLP\n",
      "********************************************************************************\n",
      "  Adversarial Attack Type : 4\n",
      "--------------------------------------------------------------------------------\n",
      "    Attack Category: DOS\n",
      "    Loaded IDS Model From: E:/An toàn thông tin/Code/Saved Model/IDSModel/DOS/Machine_Learning/created_date_2023-11-24_MLP.pth\n",
      "    nf              : 24 (num. of nonfunctional features)\n",
      "    GAN-G NOISE DIM : 24\n",
      "    GAN-G INPUT DIM : 24\n",
      "    GAN-G OUTPUT DIM: 24\n",
      "==>IDSGAN start training\n",
      "    Folder for saving GAN Models : E:/An toàn thông tin/Code/Saved Model/GANModel/Deep_Learning/MLP/DOS/4/\n",
      "     Epoch          G-Loss          D-Loss         O-DR(%)         A-DR(%)      Runtime(s)\n",
      "         1           -6.12           -1.90           98.34            2.14           17.72\n",
      "      -> GAN-G - DOS - A4 Saved: time_created_2023-11-26_GAN_G_1epoch.pth\n",
      "         2           -6.67           -1.77           98.34            2.42           17.81\n",
      "         3           -5.95           -1.62           98.34            2.36           17.18\n",
      "         4           -6.11           -1.66           98.34            2.20           18.00\n",
      "         5           -5.82           -1.61           98.34            2.47           18.21\n",
      "         6           -5.80           -1.69           98.34            2.31           17.63\n",
      "         7           -5.94           -1.66           98.34            2.20           17.84\n",
      "         8           -5.58           -1.74           98.34            2.95           17.65\n",
      "         9           -5.81           -1.70           98.34            2.53           18.51\n",
      "        10           -5.69           -1.65           98.34            2.82           18.14\n",
      "      -> GAN-G - DOS - A4 Saved: time_created_2023-11-26_GAN_G_10epoch.pth\n",
      "        11           -5.64           -1.61           98.34            2.53           19.47\n",
      "        12           -5.69           -1.68           98.34            2.48           18.25\n",
      "        13           -5.64           -1.64           98.34            3.31           18.44\n",
      "        14           -5.91           -1.63           98.34            2.39           19.24\n",
      "        15           -5.78           -1.67           98.34            2.54           23.30\n",
      "        16           -5.69           -1.70           98.34            2.74           19.48\n",
      "        17           -5.55           -1.63           98.34            3.09           17.91\n",
      "        18           -5.77           -1.65           98.34            2.47           17.02\n",
      "        19           -5.79           -1.63           98.34            2.58           16.77\n",
      "        20           -5.65           -1.62           98.34            2.81           17.03\n",
      "      -> GAN-G - DOS - A4 Saved: time_created_2023-11-26_GAN_G_20epoch.pth\n",
      "        21           -5.76           -1.62           98.34            2.78           17.53\n",
      "        22           -5.76           -1.65           98.34            2.65           17.15\n",
      "        23           -5.75           -1.60           98.34            2.63           16.86\n",
      "        24           -5.67           -1.63           98.34            2.79           16.98\n",
      "        25           -5.70           -1.64           98.34            3.10           17.44\n",
      "        26           -5.82           -1.67           98.34            2.71           17.01\n",
      "        27           -5.79           -1.62           98.34            2.55           16.91\n",
      "        28           -5.88           -1.64           98.34            2.95           19.13\n",
      "        29           -5.88           -1.58           98.34            2.47           18.37\n",
      "        30           -5.78           -1.61           98.34            2.58           17.17\n",
      "      -> GAN-G - DOS - A4 Saved: time_created_2023-11-26_GAN_G_30epoch.pth\n",
      "        31           -1.30           -2.03           98.34            5.91           19.69\n",
      "        32            5.04           -1.92           98.34           19.50           19.63\n",
      "        33           -2.53           -1.38           98.34            4.27           17.72\n",
      "        34           -5.50           -1.29           98.34            3.62           17.31\n",
      "        35           -5.95           -1.28           98.34            3.29           17.01\n",
      "        36           -5.72           -1.23           98.34            3.47           17.35\n",
      "        37           -6.08           -1.23           98.34            2.78           17.00\n",
      "        38           -5.80           -1.37           98.34            4.00           17.47\n",
      "        39           -6.14           -1.24           98.34            3.02           16.96\n",
      "        40           -6.13           -1.28           98.34            2.99           17.61\n",
      "      -> GAN-G - DOS - A4 Saved: time_created_2023-11-26_GAN_G_40epoch.pth\n",
      "        41           -6.03           -1.28           98.34            3.27           17.21\n",
      "        42           -5.77           -1.27           98.34            4.03           17.32\n",
      "        43           -6.15           -1.24           98.34            3.24           17.56\n",
      "        44           -6.33           -1.26           98.34            2.82           19.00\n",
      "        45           -5.91           -1.29           98.34            3.61           18.74\n",
      "        46           -6.15           -1.27           98.34            3.38           18.70\n",
      "        47           -6.16           -1.26           98.34            3.47           17.60\n",
      "        48           -6.05           -1.27           98.34            3.07           17.06\n",
      "        49           -6.08           -1.26           98.34            3.48           17.52\n",
      "        50           -5.80           -1.31           98.34            3.70           17.45\n",
      "      -> GAN-G - DOS - A4 Saved: time_created_2023-11-26_GAN_G_50epoch.pth\n",
      "        51           -6.03           -1.27           98.34            3.32           17.74\n",
      "        52           -6.36           -1.26           98.34            2.97           17.05\n",
      "        53           -6.09           -1.28           98.34            3.47           17.34\n",
      "        54           -6.25           -1.24           98.34            3.17           17.01\n",
      "        55           -6.32           -1.29           98.34            3.48           17.76\n",
      "        56           -6.11           -1.25           98.34            3.11           16.95\n",
      "        57           -6.13           -1.22           98.34            2.82           17.13\n",
      "        58           -6.50           -1.24           98.34            2.95           17.12\n",
      "        59           -6.17           -1.29           98.34            3.12           17.76\n",
      "        60           -6.34           -1.28           98.34            3.22           16.91\n",
      "      -> GAN-G - DOS - A4 Saved: time_created_2023-11-26_GAN_G_60epoch.pth\n",
      "        61           -6.45           -1.24           98.34            2.97           16.68\n",
      "        62           -6.49           -1.25           98.34            2.90           17.06\n",
      "        63           -6.01           -1.37           98.34            3.83           17.49\n",
      "        64           -6.52           -1.23           98.34            2.70           16.89\n",
      "        65           -6.38           -1.26           98.34            2.98           17.33\n",
      "        66           -6.47           -1.27           98.34            2.83           17.64\n",
      "        67           -5.33           -1.33           98.34            4.05           17.77\n",
      "        68           -5.68           -1.38           98.34            4.52           17.75\n",
      "        69           -5.95           -1.32           98.34            3.71           17.67\n",
      "        70           -6.43           -1.26           98.34            2.89           17.56\n",
      "      -> GAN-G - DOS - A4 Saved: time_created_2023-11-26_GAN_G_70epoch.pth\n",
      "        71           -5.87           -1.31           98.34            3.61           17.52\n",
      "        72           -6.38           -1.27           98.34            2.76           16.84\n",
      "        73           -5.89           -1.30           98.34            3.60           17.13\n",
      "        74           -5.77           -1.29           98.34            3.62           17.54\n",
      "        75           -6.24           -1.24           98.34            3.32           16.84\n",
      "        76           -6.72           -1.25           98.34            2.51           16.79\n",
      "        77           -6.10           -1.27           98.34            3.07           16.97\n",
      "        78           -5.89           -1.32           98.34            3.71           17.76\n",
      "        79           -6.14           -1.27           98.34            3.31           17.11\n",
      "        80           -5.05           -1.32           98.34            4.45           17.41\n",
      "      -> GAN-G - DOS - A4 Saved: time_created_2023-11-26_GAN_G_80epoch.pth\n",
      "        81           -6.27           -1.32           98.34            3.68           17.80\n",
      "        82           -5.82           -1.24           98.34            3.40           17.49\n",
      "        83           -6.43           -1.24           98.34            2.58           16.60\n",
      "        84           -6.26           -1.23           98.34            3.21           17.14\n",
      "        85           -6.04           -1.33           98.34            3.80           17.67\n",
      "        86           -5.73           -1.29           98.34            3.77           17.23\n",
      "        87           -6.44           -1.26           98.34            2.97           16.87\n",
      "        88           -6.22           -1.26           98.34            3.42           17.26\n",
      "        89           -5.74           -1.33           98.34            4.65           17.71\n",
      "        90           -6.22           -1.25           98.34            3.09           17.32\n",
      "      -> GAN-G - DOS - A4 Saved: time_created_2023-11-26_GAN_G_90epoch.pth\n",
      "        91           -6.50           -1.29           98.34            3.06           17.76\n",
      "        92           -5.08           -1.32           98.34            4.26           17.33\n",
      "        93           -6.22           -1.27           98.34            3.20           17.56\n",
      "        94           -6.00           -1.28           98.34            3.78           17.34\n",
      "        95           -5.87           -1.28           98.34            3.66           17.13\n",
      "        96           -6.11           -1.26           98.34            3.27           16.99\n",
      "        97           -6.34           -1.24           98.34            3.53           17.71\n",
      "        98           -6.26           -1.26           98.34            2.87           17.03\n",
      "        99           -5.78           -1.33           98.34            4.06           17.26\n",
      "       100           -6.11           -1.30           98.34            3.72           17.79\n",
      "      -> GAN-G - DOS - A4 Saved: time_created_2023-11-26_GAN_G_100epoch.pth\n",
      "Training Runtime: 1763.28\n",
      "IDSGAN finish training!\n"
     ]
    },
    {
     "data": {
      "image/png": "[encoded data removed]",
      "text/plain": [
       "<Figure size 640x480 with 1 Axes>"
      ]
     },
     "metadata": {},
     "output_type": "display_data"
    },
    {
     "data": {
      "image/png": "[encoded data removed]",
      "text/plain": [
       "<Figure size 640x480 with 1 Axes>"
      ]
     },
     "metadata": {},
     "output_type": "display_data"
    },
    {
     "name": "stdout",
     "output_type": "stream",
     "text": [
      "      -> GAN-D - DOS - A4Saved: time_created_2023-11-26_GAN_D_100epoch.pth\n",
      "--------------------------------------------------------------------------------\n",
      "    Attack Category: U2R_AND_R2L\n",
      "    Loaded IDS Model From: E:/An toàn thông tin/Code/Saved Model/IDSModel/U2R_AND_R2L/Machine_Learning/created_date_2023-11-24_MLP.pth\n",
      "    nf              : 18 (num. of nonfunctional features)\n",
      "    GAN-G NOISE DIM : 18\n",
      "    GAN-G INPUT DIM : 18\n",
      "    GAN-G OUTPUT DIM: 18\n",
      "==>IDSGAN start training\n",
      "    Folder for saving GAN Models : E:/An toàn thông tin/Code/Saved Model/GANModel/Deep_Learning/MLP/U2R_AND_R2L/4/\n",
      "     Epoch          G-Loss          D-Loss         O-DR(%)         A-DR(%)      Runtime(s)\n",
      "         1           -7.10           -0.36           48.43            0.16           10.21\n",
      "      -> GAN-G - U2R_AND_R2L - A4 Saved: time_created_2023-11-26_GAN_G_1epoch.pth\n",
      "         2           -8.52           -0.47           48.43            0.00            9.06\n",
      "         3           -9.33           -0.61           48.43            0.00            8.95\n",
      "         4           -8.94           -0.63           48.43            0.00            9.07\n",
      "         5           -8.82           -0.61           48.43            0.00            8.90\n",
      "         6           -8.70           -0.61           48.43            0.00            8.98\n",
      "         7           -8.59           -0.61           48.43            0.00            9.29\n",
      "         8           -8.51           -0.64           48.43            0.00            9.02\n",
      "         9           -8.39           -0.59           48.43            0.00            9.04\n",
      "        10           -8.23           -0.65           48.43            0.00            9.24\n",
      "      -> GAN-G - U2R_AND_R2L - A4 Saved: time_created_2023-11-26_GAN_G_10epoch.pth\n",
      "        11           -8.18           -0.62           48.43            0.00            8.98\n",
      "        12           -8.08           -0.60           48.43            0.00            8.90\n",
      "        13           -8.06           -0.58           48.43            0.00            9.08\n",
      "        14           -8.10           -0.64           48.43            0.00            9.10\n",
      "        15           -8.07           -0.60           48.43            0.00            9.30\n",
      "        16           -8.09           -0.59           48.43            0.00            9.21\n",
      "        17           -8.06           -0.59           48.43            0.00            8.89\n",
      "        18           -8.04           -0.61           48.43            0.00            9.00\n",
      "        19           -8.05           -0.64           48.43            0.00            9.06\n",
      "        20           -8.07           -0.63           48.43            0.00            8.91\n",
      "      -> GAN-G - U2R_AND_R2L - A4 Saved: time_created_2023-11-26_GAN_G_20epoch.pth\n",
      "        21           -8.08           -0.64           48.43            0.00            9.10\n",
      "        22           -8.09           -0.59           48.43            0.00            9.02\n",
      "        23           -8.10           -0.59           48.43            0.00            9.08\n",
      "        24           -8.06           -0.60           48.43            0.00            9.70\n",
      "        25           -8.06           -0.62           48.43            0.00            9.19\n",
      "        26           -8.05           -0.61           48.43            0.00            9.20\n",
      "        27           -8.06           -0.60           48.43            0.00            8.98\n",
      "        28           -8.07           -0.61           48.43            0.00            8.87\n",
      "        29           -8.06           -0.60           48.43            0.00            9.62\n",
      "        30           -8.07           -0.60           48.43            0.00            9.29\n",
      "      -> GAN-G - U2R_AND_R2L - A4 Saved: time_created_2023-11-26_GAN_G_30epoch.pth\n",
      "        31           -8.07           -0.60           48.43            0.00            8.87\n",
      "        32           -8.06           -0.61           48.43            0.00            9.12\n",
      "        33           -8.04           -0.64           48.43            0.00            8.99\n",
      "        34           -8.05           -0.59           48.43            0.00            8.80\n",
      "        35           -8.08           -0.61           48.43            0.00            8.95\n",
      "        36           -8.06           -0.60           48.43            0.00            9.19\n",
      "        37           -8.09           -0.61           48.43            0.00            9.21\n",
      "        38           -8.10           -0.60           48.43            0.00            9.19\n",
      "        39           -8.08           -0.64           48.43            0.00            8.93\n",
      "        40           -8.08           -0.62           48.43            0.00            8.96\n",
      "      -> GAN-G - U2R_AND_R2L - A4 Saved: time_created_2023-11-26_GAN_G_40epoch.pth\n",
      "        41           -8.06           -0.62           48.43            0.00            8.98\n",
      "        42           -8.07           -0.60           48.43            0.00            8.94\n",
      "        43           -8.06           -0.61           48.43            0.00            9.09\n",
      "        44           -8.03           -0.59           48.43            0.00            9.16\n",
      "        45           -8.07           -0.62           48.43            0.00            9.13\n",
      "        46           -8.07           -0.60           48.43            0.00            9.00\n",
      "        47           -8.06           -0.60           48.43            0.00            8.85\n",
      "        48           -8.06           -0.60           48.43            0.00            8.87\n",
      "        49           -8.08           -0.60           48.43            0.00            9.01\n",
      "        50           -8.11           -0.60           48.43            0.00            8.89\n",
      "      -> GAN-G - U2R_AND_R2L - A4 Saved: time_created_2023-11-26_GAN_G_50epoch.pth\n",
      "        51           -8.08           -0.59           48.43            0.00            9.22\n",
      "        52           -8.05           -0.60           48.43            0.00            9.16\n",
      "        53           -8.05           -0.61           48.43            0.00            8.85\n",
      "        54           -8.11           -0.63           48.43            0.00            8.97\n",
      "        55           -8.06           -0.59           48.43            0.00            8.81\n",
      "        56           -8.06           -0.61           48.43            0.00            8.88\n",
      "        57           -8.05           -0.58           48.43            0.00            8.88\n",
      "        58           -8.05           -0.63           48.43            0.00            9.32\n",
      "        59           -8.08           -0.61           48.43            0.00            8.93\n",
      "        60           -8.05           -0.60           48.43            0.00            9.24\n",
      "      -> GAN-G - U2R_AND_R2L - A4 Saved: time_created_2023-11-26_GAN_G_60epoch.pth\n",
      "        61           -8.09           -0.60           48.43            0.00            8.82\n",
      "        62           -8.06           -0.62           48.43            0.00            8.86\n",
      "        63           -8.05           -0.61           48.43            0.00            9.59\n",
      "        64           -8.07           -0.64           48.43            0.00            8.96\n",
      "        65           -8.07           -0.60           48.43            0.00            9.15\n",
      "        66           -8.05           -0.61           48.43            0.00            9.01\n",
      "        67           -8.06           -0.61           48.43            0.00            9.03\n",
      "        68           -8.06           -0.61           48.43            0.00            8.93\n",
      "        69           -8.06           -0.59           48.43            0.00            8.84\n",
      "        70           -8.05           -0.64           48.43            0.00            8.93\n",
      "      -> GAN-G - U2R_AND_R2L - A4 Saved: time_created_2023-11-26_GAN_G_70epoch.pth\n",
      "        71           -8.06           -0.60           48.43            0.00            8.94\n",
      "        72           -8.07           -0.62           48.43            0.00            9.00\n",
      "        73           -8.06           -0.60           48.43            0.00            9.22\n",
      "        74           -8.05           -0.61           48.43            0.00            9.25\n",
      "        75           -8.09           -0.63           48.43            0.00            8.91\n",
      "        76           -8.07           -0.61           48.43            0.00            9.10\n",
      "        77           -8.07           -0.57           48.43            0.00            8.90\n",
      "        78           -8.08           -0.62           48.43            0.00            8.89\n",
      "        79           -8.07           -0.60           48.43            0.00            9.08\n",
      "        80           -8.06           -0.62           48.43            0.00            9.36\n",
      "      -> GAN-G - U2R_AND_R2L - A4 Saved: time_created_2023-11-26_GAN_G_80epoch.pth\n",
      "        81           -8.05           -0.60           48.43            0.00            9.03\n",
      "        82           -8.05           -0.61           48.43            0.00            8.99\n",
      "        83           -8.05           -0.59           48.43            0.00            8.85\n",
      "        84           -8.06           -0.61           48.43            0.00            8.85\n",
      "        85           -8.06           -0.60           48.43            0.00            8.95\n",
      "        86           -8.05           -0.59           48.43            0.00            8.94\n",
      "        87           -8.09           -0.60           48.43            0.00            9.09\n",
      "        88           -8.10           -0.62           48.43            0.00            8.96\n",
      "        89           -8.05           -0.59           48.43            0.00            9.05\n",
      "        90           -8.09           -0.57           48.43            0.00            8.84\n",
      "      -> GAN-G - U2R_AND_R2L - A4 Saved: time_created_2023-11-26_GAN_G_90epoch.pth\n",
      "        91           -8.05           -0.66           48.43            0.00            9.16\n",
      "        92           -8.04           -0.61           48.43            0.00            9.30\n",
      "        93           -8.10           -0.63           48.43            0.00            8.92\n",
      "        94           -8.09           -0.58           48.43            0.00            8.98\n",
      "        95           -8.08           -0.58           48.43            0.00            9.07\n",
      "        96           -8.05           -0.60           48.43            0.00            9.31\n",
      "        97           -8.06           -0.61           48.43            0.00            8.89\n",
      "        98           -8.06           -0.61           48.43            0.00            8.93\n",
      "        99           -8.05           -0.59           48.43            0.00            8.92\n",
      "       100           -8.06           -0.59           48.43            0.00            8.75\n",
      "      -> GAN-G - U2R_AND_R2L - A4 Saved: time_created_2023-11-26_GAN_G_100epoch.pth\n",
      "Training Runtime: 906.89\n",
      "IDSGAN finish training!\n"
     ]
    },
    {
     "data": {
      "image/png": "[encoded data removed]",
      "text/plain": [
       "<Figure size 640x480 with 1 Axes>"
      ]
     },
     "metadata": {},
     "output_type": "display_data"
    },
    {
     "data": {
      "image/png": "[encoded data removed]",
      "text/plain": [
       "<Figure size 640x480 with 1 Axes>"
      ]
     },
     "metadata": {},
     "output_type": "display_data"
    },
    {
     "name": "stdout",
     "output_type": "stream",
     "text": [
      "      -> GAN-D - U2R_AND_R2L - A4Saved: time_created_2023-11-26_GAN_D_100epoch.pth\n"
     ]
    }
   ],
   "source": [
    "print(f\"{40*'='} TRAINING GAN {40*'='}\")\n",
    "print(f\"{80*'='}\\n IDS Model: {ids_dl_model_name}\")\n",
    "\n",
    "for adversarial_attack_type in ADVERSARIAL_ATTACK_TYPES:\n",
    "    print(f\"{80*'*'}\\n  Adversarial Attack Type : {adversarial_attack_type}\")\n",
    "    for attack_category in ATTACK_CATEGORIES:\n",
    "        print(f\"{80*'-'}\\n    Attack Category: {attack_category}\")\n",
    "        total_time_start = timeit.default_timer()\n",
    "\n",
    "        # Load PyTorch IDS Model\n",
    "        ids_model = load_pytorch_ids_model(ids_dl_model_name, IDS_INPUT_DIM, IDS_OUTPUT_DIM, attack_category, ids_created_date)\n",
    "        # Init GAN-G model\n",
    "        G_OUTPUT_DIM = len(POS_NONFUNCTIONAL_FEATURES[attack_category])     # Generator output is number of nonfunctional feature\n",
    "        print(f\"    nf              : {G_OUTPUT_DIM} (num. of nonfunctional features)\")\n",
    "        if adversarial_attack_type == 4 or adversarial_attack_type == 3:\n",
    "            NOISE_DIM = G_OUTPUT_DIM                                        # Adversarial Attack Type 3,4: Noise dim = nonfunctional feature\n",
    "        G_INPUT_DIM = NOISE_DIM                                             # G_INPUT_DIM = NOISE_DIM\n",
    "        print(f\"    GAN-G NOISE DIM : {NOISE_DIM}\")\n",
    "        print(f\"    GAN-G INPUT DIM : {G_INPUT_DIM}\")\n",
    "        print(f\"    GAN-G OUTPUT DIM: {G_OUTPUT_DIM}\")\n",
    "\n",
    "        generator = init_generator(G_INPUT_DIM,G_OUTPUT_DIM, adversarial_attack_type)\n",
    "        optimizer_G = optim.RMSprop(generator.parameters(), lr=learning_rate)\n",
    "        # Load Raw Attack Dataset\n",
    "        raw_attack = preprocess_malicious_data(g_train_data, attack_category)\n",
    "        # Prepare Save Folder\n",
    "        GAN_4IDS_Model_Path = str(f\"{GAN_Model_Path}Deep_Learning/{ids_dl_model_name}/\")\n",
    "        if not os.path.exists(GAN_4IDS_Model_Path):\n",
    "                os.makedirs(GAN_4IDS_Model_Path)\n",
    "        GAN_Save_Path = str(f\"{GAN_4IDS_Model_Path}{attack_category}/{adversarial_attack_type}/\")\n",
    "        if not os.path.exists(GAN_Save_Path):\n",
    "            os.makedirs(GAN_Save_Path)\n",
    "        \n",
    "        # Create batch of attack traffic\n",
    "        batch_attack = create_batch2(raw_attack,BATCH_SIZE)\n",
    "        # Declare Loss, DR List and Train GAN-G, GAN-D\n",
    "        d_losses,g_losses = [],[]\n",
    "        o_dr, a_dr = [],[]\n",
    "        generator.train()\n",
    "        discriminator.train()\n",
    "\n",
    "        # Start Training\n",
    "        print(f\"==>IDSGAN start training\")\n",
    "        print(f\"{4*' '}Folder for saving GAN Models : {GAN_Save_Path}\")\n",
    "        labels = ['Epoch', 'G-Loss', 'D-Loss', 'O-DR(%)', 'A-DR(%)', 'Runtime(s)']\n",
    "        print(\"{: >10} {: >15} {: >15} {: >15} {: >15} {: >15}\".format(*labels))\n",
    "        for epoch in range(MAX_EPOCH):\n",
    "            batch_normal = create_batch2(normal,BATCH_SIZE)\n",
    "            epoch_time_start = timeit.default_timer()\n",
    "            cnt = 0\n",
    "            run_g_loss = 0.\n",
    "            run_d_loss = 0.\n",
    "            epoch_o_drs, epoch_a_drs = [], []\n",
    "\n",
    "            for idx, bn in enumerate(batch_normal):\n",
    "                normal_b = th.Tensor(bn.astype(\"float64\"))\n",
    "                attack_traffic  = V(th.Tensor(batch_attack[idx % len(batch_attack)]))\n",
    "                #  Train Generator\n",
    "                g_loss = train_generator(generator, discriminator, optimizer_G, NOISE_DIM, attack_traffic, attack_category, adversarial_attack_type)\n",
    "                run_g_loss += g_loss.item()\n",
    "\n",
    "                # Train Discriminator\n",
    "                d_loss, current_cnt = train_discriminator(discriminator, ids_model, generator, CRITIC_ITERS, CLAMP, optimizer_D, normal_b, NOISE_DIM, attack_traffic, attack_category, adversarial_attack_type)\n",
    "                run_d_loss += d_loss\n",
    "                cnt += current_cnt\n",
    "                \n",
    "                # CALC Epoch DR\n",
    "                adversarial_attack = gen_adversarial_attack(generator, NOISE_DIM, attack_traffic, attack_category, adversarial_attack_type)\n",
    "                origin_dr, adversarial_dr = cal_dr(ids_model, normal_b, attack_traffic, adversarial_attack)\n",
    "                epoch_o_drs.append(origin_dr)\n",
    "                epoch_a_drs.append(adversarial_dr)\n",
    "\n",
    "            if cnt >= (len(normal)/BATCH_SIZE):\n",
    "                print(\"Not exist predicted attack traffic\")\n",
    "                break\n",
    "            d_losses.append(run_d_loss/CRITIC_ITERS)\n",
    "            g_losses.append(run_g_loss)\n",
    "            epoch_o_dr = np.mean(epoch_o_drs)\n",
    "            epoch_a_dr = np.mean(epoch_a_drs)\n",
    "            o_dr.append(epoch_o_dr)\n",
    "            a_dr.append(epoch_a_dr)\n",
    "            \n",
    "            runtime = timeit.default_timer() - epoch_time_start\n",
    "            print_vals = [(epoch + 1), run_g_loss, (run_d_loss/CRITIC_ITERS), (epoch_o_dr*100), (epoch_a_dr*100), runtime]\n",
    "            print_string = []\n",
    "            for val in print_vals:\n",
    "                if isinstance(val, float):\n",
    "                    print_string.append(str(f\"{val:.2f}\"))\n",
    "                else:\n",
    "                    print_string.append(str(val))\n",
    "            print(\"{: >10} {: >15} {: >15} {: >15} {: >15} {: >15}\".format(*print_string))\n",
    "            # Save Adversarial Dataset each 10 epoch\n",
    "            if (epoch == 0 or (epoch + 1) % 10 == 0):\n",
    "                model_g_save_name = f\"time_created_{today}_GAN_G_{epoch+1}epoch.pth\"\n",
    "                path = GAN_Save_Path + model_g_save_name\n",
    "                th.save(generator.state_dict(), path)\n",
    "                print(f\"{6*' '}-> GAN-G - {attack_category} - A{adversarial_attack_type} Saved: {model_g_save_name}\")\n",
    "        total_runtime = timeit.default_timer() - total_time_start\n",
    "        print(f\"Training Runtime: {total_runtime:.2f}\")\n",
    "        print(\"IDSGAN finish training!\")\n",
    "        \n",
    "        # Show Graph\n",
    "        # Loss-Graph\n",
    "        plt.plot(d_losses,label = \"D_loss\")\n",
    "        plt.plot(g_losses, label = \"G_loss\")\n",
    "        plt.legend()\n",
    "        plt.show()\n",
    "        # DR-Graph\n",
    "        plt.plot(o_dr,label = \"Origin DR\")\n",
    "        plt.plot(a_dr, label = \"Adversarial DR\")\n",
    "        plt.legend()\n",
    "        plt.show()\n",
    "\n",
    "        # Save Model\n",
    "        model_d_save_name = f\"time_created_{today}_GAN_D_{MAX_EPOCH}epoch.pth\"\n",
    "        path = GAN_Save_Path + model_d_save_name\n",
    "        th.save(discriminator.state_dict(), path)\n",
    "        print(f\"{6*' '}-> GAN-D - {attack_category} - A{adversarial_attack_type}Saved: {model_d_save_name}\")"
   ]
  },
  {
   "cell_type": "markdown",
   "metadata": {
    "colab_type": "text",
    "id": "jQNXCNMEx1bn"
   },
   "source": [
    "## **3.2 Run Generate Adversarial Traffic**"
   ]
  },
  {
   "cell_type": "code",
   "execution_count": 51,
   "metadata": {
    "colab": {},
    "colab_type": "code",
    "id": "I0w_F6zKcgrF"
   },
   "outputs": [],
   "source": [
    "# Hyber Parameters\n",
    "BATCH_SIZE = 256 # Batch size"
   ]
  },
  {
   "cell_type": "code",
   "execution_count": 52,
   "metadata": {
    "colab": {
     "base_uri": "https://localhost:8080/",
     "height": 52
    },
    "colab_type": "code",
    "executionInfo": {
     "elapsed": 871,
     "status": "ok",
     "timestamp": 1595324706482,
     "user": {
      "displayName": "Tien LE KHAC",
      "photoUrl": "https://lh3.googleusercontent.com/a-/AOh14GhATILfEwLuvrRlBGPMrmY7nclZNsxGKzoqqHB_Cg=s64",
      "userId": "18298916241916904857"
     },
     "user_tz": -420
    },
    "id": "HPx41fPd6CiW",
    "outputId": "bdffafe3-2873-4ebf-f49a-9f9d98424944"
   },
   "outputs": [
    {
     "name": "stdout",
     "output_type": "stream",
     "text": [
      "Amount of KDDTest+: \t\t20123\n",
      "Amount of Normal:\t\t9711 (37 batchs - 256 records/batch)\n"
     ]
    }
   ],
   "source": [
    "gan_model_time_created = str(date.today())\n",
    "\n",
    "# Load Testset\n",
    "testset = pd.read_csv(testset_path)\n",
    "print(f\"Amount of KDDTest+: \\t\\t{len(testset)}\")\n",
    "# test_normal\n",
    "test_normal = np.array(testset[testset[\"class\"] == 'Normal'])[:,:-1]\n",
    "# Create batch of normal traffic\n",
    "test_batch_normal = create_batch2(test_normal,BATCH_SIZE).astype('float64')\n",
    "print(f\"Amount of Normal:\\t\\t{len(test_normal)} ({len(test_batch_normal)} batchs - {BATCH_SIZE} records/batch)\")"
   ]
  },
  {
   "cell_type": "code",
   "execution_count": 53,
   "metadata": {
    "colab": {
     "base_uri": "https://localhost:8080/",
     "height": 816
    },
    "colab_type": "code",
    "executionInfo": {
     "elapsed": 6591,
     "status": "ok",
     "timestamp": 1595324715152,
     "user": {
      "displayName": "Tien LE KHAC",
      "photoUrl": "https://lh3.googleusercontent.com/a-/AOh14GhATILfEwLuvrRlBGPMrmY7nclZNsxGKzoqqHB_Cg=s64",
      "userId": "18298916241916904857"
     },
     "user_tz": -420
    },
    "id": "ZhPpd8MCx10u",
    "outputId": "26c8e7dd-d8d9-482d-fc14-c72723b15266"
   },
   "outputs": [
    {
     "name": "stdout",
     "output_type": "stream",
     "text": [
      "======================================== ADVERSARIAL TRAFFIC EVALUATING ========================================\n",
      "================================================================================\n",
      " IDS Model: MLP\n",
      "********************************************************************************\n",
      " Adversarial Attack Type : 4\n",
      "--------------------------------------------------------------------------------\n",
      " - Attack Category: DOS\n",
      "    Loaded IDS Model From: E:/An toàn thông tin/Code/Saved Model/IDSModel/DOS/Machine_Learning/created_date_2023-11-24_MLP.pth\n",
      "    nf              : 24 (num. of nonfunctional features)\n",
      "    GAN-G NOISE DIM : 24\n",
      "    GAN-G INPUT DIM : 24\n",
      "    GAN-G OUTPUT DIM: 24\n",
      "    Amout of DOS:\t7460 (29 batchs - 256 records/batch)\n",
      "    GAN Models Folder: E:/An toàn thông tin/Code/Saved Model/GANModel/Deep_Learning/MLP/DOS/4/\n",
      "\t   0 epochs:\tOrigin DR : 81.14% \t Adversarial DR : 0.59% \t EIR : 99.27%\n",
      "\t  10 epochs:\tOrigin DR : 81.14% \t Adversarial DR : 9.82% \t EIR : 87.90%\n",
      "\t  20 epochs:\tOrigin DR : 81.14% \t Adversarial DR : 0.59% \t EIR : 99.27%\n",
      "\t  30 epochs:\tOrigin DR : 81.14% \t Adversarial DR : 0.35% \t EIR : 99.57%\n",
      "\t  40 epochs:\tOrigin DR : 81.14% \t Adversarial DR : 1.18% \t EIR : 98.54%\n",
      "\t  50 epochs:\tOrigin DR : 81.14% \t Adversarial DR : 0.19% \t EIR : 99.77%\n",
      "\t  60 epochs:\tOrigin DR : 81.14% \t Adversarial DR : 0.33% \t EIR : 99.60%\n",
      "\t  70 epochs:\tOrigin DR : 81.14% \t Adversarial DR : 23.72% \t EIR : 70.77%\n",
      "\t  80 epochs:\tOrigin DR : 81.14% \t Adversarial DR : 0.18% \t EIR : 99.78%\n",
      "\t  90 epochs:\tOrigin DR : 81.14% \t Adversarial DR : 10.44% \t EIR : 87.13%\n",
      "\t 100 epochs:\tOrigin DR : 81.14% \t Adversarial DR : 7.71% \t EIR : 90.50%\n",
      "--------------------------------------------------------------------------------\n",
      " - Attack Category: U2R_AND_R2L\n",
      "    Loaded IDS Model From: E:/An toàn thông tin/Code/Saved Model/IDSModel/U2R_AND_R2L/Machine_Learning/created_date_2023-11-24_MLP.pth\n",
      "    nf              : 18 (num. of nonfunctional features)\n",
      "    GAN-G NOISE DIM : 18\n",
      "    GAN-G INPUT DIM : 18\n",
      "    GAN-G OUTPUT DIM: 18\n",
      "    Amout of U2R_AND_R2L:\t2952 (11 batchs - 256 records/batch)\n",
      "    GAN Models Folder: E:/An toàn thông tin/Code/Saved Model/GANModel/Deep_Learning/MLP/U2R_AND_R2L/4/\n",
      "\t   0 epochs:\tOrigin DR : 7.83% \t Adversarial DR : 0.00% \t EIR : 100.00%\n",
      "\t  10 epochs:\tOrigin DR : 7.83% \t Adversarial DR : 0.00% \t EIR : 100.00%\n",
      "\t  20 epochs:\tOrigin DR : 7.83% \t Adversarial DR : 0.00% \t EIR : 100.00%\n",
      "\t  30 epochs:\tOrigin DR : 7.83% \t Adversarial DR : 0.00% \t EIR : 100.00%\n",
      "\t  40 epochs:\tOrigin DR : 7.83% \t Adversarial DR : 0.00% \t EIR : 100.00%\n",
      "\t  50 epochs:\tOrigin DR : 7.83% \t Adversarial DR : 0.00% \t EIR : 100.00%\n",
      "\t  60 epochs:\tOrigin DR : 7.83% \t Adversarial DR : 0.00% \t EIR : 100.00%\n",
      "\t  70 epochs:\tOrigin DR : 7.83% \t Adversarial DR : 0.00% \t EIR : 100.00%\n",
      "\t  80 epochs:\tOrigin DR : 7.83% \t Adversarial DR : 0.00% \t EIR : 100.00%\n",
      "\t  90 epochs:\tOrigin DR : 7.83% \t Adversarial DR : 0.00% \t EIR : 100.00%\n",
      "\t 100 epochs:\tOrigin DR : 7.83% \t Adversarial DR : 0.00% \t EIR : 100.00%\n"
     ]
    }
   ],
   "source": [
    "# Adversarial Traffic Evaluating\n",
    "print(f\"{40*'='} ADVERSARIAL TRAFFIC EVALUATING {40*'='}\")\n",
    "print(f\"{80*'='}\\n IDS Model: {ids_dl_model_name}\")\n",
    "\n",
    "for adversarial_attack_type in ADVERSARIAL_ATTACK_TYPES:\n",
    "    print(f\"{80*'*'}\\n Adversarial Attack Type : {adversarial_attack_type}\")\n",
    "    for attack_category in ATTACK_CATEGORIES:\n",
    "        print(f\"{80*'-'}\\n - Attack Category: {attack_category}\")\n",
    "        \n",
    "        # Load PyTorch IDS Model\n",
    "        ids_model = load_pytorch_ids_model(ids_dl_model_name, IDS_INPUT_DIM, IDS_OUTPUT_DIM, attack_category, ids_created_date)\n",
    "        # Init GAN-G model\n",
    "        G_OUTPUT_DIM = len(POS_NONFUNCTIONAL_FEATURES[attack_category])     # Generator output is number of nonfunctional feature\n",
    "        print(f\"    nf              : {G_OUTPUT_DIM} (num. of nonfunctional features)\")\n",
    "        if adversarial_attack_type == 4 or adversarial_attack_type == 3:\n",
    "            NOISE_DIM = G_OUTPUT_DIM                                        # Adversarial Attack Type 3,4: Noise dim = nonfunctional feature\n",
    "        G_INPUT_DIM = NOISE_DIM                                             # G_INPUT_DIM = NOISE_DIM\n",
    "        print(f\"    GAN-G NOISE DIM : {NOISE_DIM}\")\n",
    "        print(f\"    GAN-G INPUT DIM : {G_INPUT_DIM}\")\n",
    "        print(f\"    GAN-G OUTPUT DIM: {G_OUTPUT_DIM}\")\n",
    "\n",
    "        generator = init_generator(G_INPUT_DIM,G_OUTPUT_DIM, adversarial_attack_type)\n",
    "        # Load Attack Dataset\n",
    "        test_raw_attack = preprocess_malicious_data(testset, attack_category)\n",
    "        # Create batch of attack traffic\n",
    "        batch_attack = create_batch2(test_raw_attack, BATCH_SIZE)\n",
    "        n_batch_attack = len(batch_attack)\n",
    "        print(f\"{4*' '}Amout of {attack_category}:\\t{len(test_raw_attack)} ({n_batch_attack} batchs - {BATCH_SIZE} records/batch)\")\n",
    "        \n",
    "        # Calc DR through each epoch\n",
    "        gan_g_folder_path = str(f\"{GAN_Model_Path}Deep_Learning/{ids_dl_model_name}/{attack_category}/{adversarial_attack_type}/\")\n",
    "        print(f\"{4*' '}GAN Models Folder: {gan_g_folder_path}\")\n",
    "        for epoch in range(0, MAX_EPOCH + 1, 10):\n",
    "            # Load GAN-G Model\n",
    "            model_g_save_name = f\"time_created_{gan_model_time_created}_GAN_G_{1 if epoch == 0 else epoch}epoch.pth\"\n",
    "            gan_g_model_path = gan_g_folder_path + model_g_save_name\n",
    "            param = th.load(gan_g_model_path,map_location=lambda x,y:x)\n",
    "            generator.load_state_dict(param)\n",
    "\n",
    "            generator.eval()\n",
    "\n",
    "            o_dr,a_dr =[],[]\n",
    "            with th.no_grad():\n",
    "                for idx, bn in enumerate(test_batch_normal):\n",
    "                    normal_b = th.Tensor(bn)\n",
    "                    attack_b = th.Tensor(batch_attack[idx % n_batch_attack])\n",
    "                    # Generate Adversarial Traffic\n",
    "                    adversarial_attack_b = gen_adversarial_attack(generator, NOISE_DIM, attack_b, attack_category, adversarial_attack_type)\n",
    "\n",
    "                    # Calc DR\n",
    "                    origin_dr, adversarial_dr = cal_dr(ids_model, normal_b, attack_b, adversarial_attack_b)\n",
    "                    o_dr.append(origin_dr)\n",
    "                    a_dr.append(adversarial_dr)\n",
    "            eir = 1 - (np.mean(a_dr)/np.mean(o_dr))\n",
    "            print(f\"\\t {epoch:3d} epochs:\\tOrigin DR : {np.mean(o_dr)*100:.2f}% \\t Adversarial DR : {np.mean(a_dr)*100:.2f}% \\t EIR : {eir*100:.2f}%\")"
   ]
  },
  {
   "cell_type": "markdown",
   "metadata": {
    "colab_type": "text",
    "id": "mwWugTozppL5"
   },
   "source": [
    "The Saved Model stored in [Google Drive - GAN Model](https://drive.google.com/drive/u/1/folders/1VNFW-k5SbR0eGsJ_np3U-W3Rcz_n4I8N)\n",
    "\n",
    "The Result of Code stored in [Github - Thesis](https://github.com/thetinybug/thesis-IDSGAN)"
   ]
  }
 ],
 "metadata": {
  "colab": {
   "collapsed_sections": [],
   "name": "2.GG-A4: MLP.ipynb",
   "provenance": [
    {
     "file_id": "1__oEcuLAwPtIYf5J9l75rsRQ1RPYE56v",
     "timestamp": 1593183432956
    },
    {
     "file_id": "1mkhrbHfNqYSDxkiyP7BsFofEaWEWP5fM",
     "timestamp": 1592983611776
    }
   ],
   "toc_visible": true
  },
  "kernelspec": {
   "display_name": "Python 3 (ipykernel)",
   "language": "python",
   "name": "python3"
  },
  "language_info": {
   "codemirror_mode": {
    "name": "ipython",
    "version": 3
   },
   "file_extension": ".py",
   "mimetype": "text/x-python",
   "name": "python",
   "nbconvert_exporter": "python",
   "pygments_lexer": "ipython3",
   "version": "3.11.4"
  }
 },
 "nbformat": 4,
 "nbformat_minor": 4
}
