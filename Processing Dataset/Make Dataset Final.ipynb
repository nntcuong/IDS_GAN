{
 "cells": [
  {
   "cell_type": "markdown",
   "metadata": {
    "colab_type": "text",
    "id": "HfVbgm_IdnMH"
   },
   "source": [
    "# **0.  Khai báo đường dẫn**"
   ]
  },
  {
   "cell_type": "code",
   "execution_count": 19,
   "metadata": {
    "colab": {},
    "colab_type": "code",
    "id": "uW-RHzMwdsG5"
   },
   "outputs": [],
   "source": [
    "# Dataset Path\n",
    "dataset_path = \"E:/An toàn thông tin/Code/Dataset/\"\n",
    "\n",
    "# Dataset preprocessed including attack-type labels\n",
    "trainsets_path = dataset_path + \"NSL-KDD Processed/Separate by Category/Encoded&Normalized/Trainset Separate to 2 Parts/\"\n",
    "testsets_path = dataset_path + \"NSL-KDD Processed/Separate by Category/Encoded&Normalized/Testset/\"\n",
    "\n",
    "# Dataset Final Path\n",
    "final_dataset_path = dataset_path + \"NSL-KDD Processed/Final - For Using/\""
   ]
  },
  {
   "cell_type": "markdown",
   "metadata": {
    "colab_type": "text",
    "id": "DZkqASdBS-QA"
   },
   "source": [
    "#**1. Chuẩn bị**"
   ]
  },
  {
   "cell_type": "markdown",
   "metadata": {
    "colab_type": "text",
    "id": "m27n3nFSTSv2"
   },
   "source": [
    "##**1.1 Import thư viện**"
   ]
  },
  {
   "cell_type": "code",
   "execution_count": 20,
   "metadata": {
    "colab": {},
    "colab_type": "code",
    "id": "YIQ708lZS2lF"
   },
   "outputs": [],
   "source": [
    "# Import Lib\n",
    "import pandas as pd\n",
    "import numpy as np\n",
    "from sklearn.utils import shuffle"
   ]
  },
  {
   "cell_type": "markdown",
   "metadata": {
    "colab_type": "text",
    "id": "k72O0MHLFiYD"
   },
   "source": [
    "##**1.2. Load dataset**\n",
    "Load từng phần của mỗi loại dữ liệu, từ dữ liệu đã chia mỗi category thành 2 phần bằng nhau."
   ]
  },
  {
   "cell_type": "code",
   "execution_count": 21,
   "metadata": {
    "colab": {},
    "colab_type": "code",
    "id": "uC-wFVSIFo7G"
   },
   "outputs": [],
   "source": [
    "# define categories\n",
    "train_categories = ['Normal', 'DOS', 'U2R', 'R2L']\n",
    "test_categories = ['Normal', 'DOS', 'U2R_AND_R2L']\n",
    "\n",
    "# Load dataset\n",
    "# Train\n",
    "trainsets_1 = {category: pd.read_csv(trainsets_path + category + '_1.csv') for category in train_categories}\n",
    "trainsets_2 = {category: pd.read_csv(trainsets_path + category + '_2.csv') for category in train_categories}\n",
    "# Test\n",
    "testsets = {category: pd.read_csv(testsets_path + category + '.csv') for category in test_categories}"
   ]
  },
  {
   "cell_type": "markdown",
   "metadata": {
    "colab_type": "text",
    "id": "v72n0Gu0EPHr"
   },
   "source": [
    "#**2. Tạo bộ dữ liệu cuối từ các bộ dữ liệu đã được chia**\n",
    "##**Train**\n",
    "> - **IDS** = Normal_1 + Malicious_1 (label = Attack Category)\n",
    "> - **GAN**:\n",
    " - **GAN-D**: Normal_2\n",
    " - **GAN-G**: Malicious_2 (label = Attack Category)\n",
    "\n",
    "##**Test**\n",
    "> Đổi label của KDDTest+ thành Attack Category\n"
   ]
  },
  {
   "cell_type": "markdown",
   "metadata": {
    "colab_type": "text",
    "id": "wQ9m3omh3ONM"
   },
   "source": [
    "##**2.1. Train**"
   ]
  },
  {
   "cell_type": "code",
   "execution_count": 22,
   "metadata": {
    "colab": {},
    "colab_type": "code",
    "id": "NdOKt3o43QiO"
   },
   "outputs": [],
   "source": [
    "# Encode label to Attack Category\n",
    "for category in train_categories:\n",
    "    if category == 'U2R' or category == 'R2L':\n",
    "        trainsets_1[category]['class'] = 'U2R_AND_R2L'\n",
    "        trainsets_2[category]['class'] = 'U2R_AND_R2L'\n",
    "    else:\n",
    "        trainsets_1[category]['class'] = category\n",
    "        trainsets_2[category]['class'] = category"
   ]
  },
  {
   "cell_type": "code",
   "execution_count": 23,
   "metadata": {
    "colab": {
     "base_uri": "https://localhost:8080/",
     "height": 323
    },
    "colab_type": "code",
    "executionInfo": {
     "elapsed": 6028,
     "status": "ok",
     "timestamp": 1592320224954,
     "user": {
      "displayName": "Tien LE KHAC",
      "photoUrl": "",
      "userId": "18298916241916904857"
     },
     "user_tz": -420
    },
    "id": "_yuFHfbzkJfP",
    "outputId": "45a8d6e8-fa7a-42f7-f76f-e8404e9377cc"
   },
   "outputs": [
    {
     "name": "stdout",
     "output_type": "stream",
     "text": [
      "**********IDS_TRAINSET**********\n",
      " Shape: (57157, 42)\n",
      "  - Num of Normal:33671\n",
      "  - Num of DOS:22963\n",
      "  - Num of U2R_AND_R2L:523\n",
      "Saved Sucessfully at: E:/An toàn thông tin/Code/Dataset/NSL-KDD Processed/Final - For Using/Trainset/IDS.csv\n",
      "**********GAN-D_TRAINSET**********\n",
      " Shape: (33672, 42)\n",
      "  - Num of Normal:33672\n",
      "  - Num of DOS:0\n",
      "  - Num of U2R_AND_R2L:0\n",
      "Saved Sucessfully at: E:/An toàn thông tin/Code/Dataset/NSL-KDD Processed/Final - For Using/Trainset/GAN-D.csv\n",
      "**********GAN-G_TRAINSET**********\n",
      " Shape: (23488, 42)\n",
      "  - Num of Normal:0\n",
      "  - Num of DOS:22964\n",
      "  - Num of U2R_AND_R2L:524\n",
      "Saved Sucessfully at: E:/An toàn thông tin/Code/Dataset/NSL-KDD Processed/Final - For Using/Trainset/GAN-G.csv\n"
     ]
    }
   ],
   "source": [
    "# Make Trainsets\n",
    "# Make IDS Trainset\n",
    "IDS_Trainset = shuffle(pd.concat(trainsets_1.values(), ignore_index=True)).reset_index(drop=True)\n",
    "\n",
    "# Make GAN Trainset\n",
    "# Discriminator Trainset\n",
    "Discriminator_Trainset = trainsets_2['Normal']\n",
    "# Generator Trainset\n",
    "Generator_Trainset = shuffle(pd.concat([trainsets_2['DOS'], trainsets_2['U2R'], trainsets_2['R2L']], ignore_index=True)).reset_index(drop=True)\n",
    "\n",
    "\n",
    "# Statistic & Save\n",
    "final_trainsets = {'IDS': IDS_Trainset, 'GAN-D': Discriminator_Trainset, 'GAN-G': Generator_Trainset}\n",
    "for dataset_name, dataset in final_trainsets.items():\n",
    "    print(f\"{10*'*'}{dataset_name}_TRAINSET{10*'*'}\")\n",
    "    print(f\" Shape: {dataset.shape}\")\n",
    "    for cat in test_categories:\n",
    "        print(f\"  - Num of {cat}:{len(dataset[dataset['class'] == cat])}\")\n",
    "    dataset_save_path = final_dataset_path+'Trainset/'+dataset_name+'.csv'\n",
    "    dataset.to_csv(dataset_save_path, index=False)\n",
    "    print(f\"Saved Sucessfully at: {dataset_save_path}\")"
   ]
  },
  {
   "cell_type": "markdown",
   "metadata": {
    "colab_type": "text",
    "id": "GlKHwQSZ3S_f"
   },
   "source": [
    "##**2.2. Test**"
   ]
  },
  {
   "cell_type": "code",
   "execution_count": 24,
   "metadata": {
    "colab": {
     "base_uri": "https://localhost:8080/",
     "height": 119
    },
    "colab_type": "code",
    "executionInfo": {
     "elapsed": 2387,
     "status": "ok",
     "timestamp": 1592320845465,
     "user": {
      "displayName": "Tien LE KHAC",
      "photoUrl": "",
      "userId": "18298916241916904857"
     },
     "user_tz": -420
    },
    "id": "LHT5BqIMr_VW",
    "outputId": "b4cea836-57ad-4b07-b442-04ef15783788"
   },
   "outputs": [
    {
     "name": "stdout",
     "output_type": "stream",
     "text": [
      "**********TESTSET**********\n",
      " Shape: (20123, 42)\n",
      "  - Num of Normal:9711\n",
      "  - Num of DOS:7460\n",
      "  - Num of U2R_AND_R2L:2952\n",
      "Saved Sucessfully at: E:/An toàn thông tin/Code/Dataset/NSL-KDD Processed/Final - For Using/Testset/KDDTest+.csv\n"
     ]
    }
   ],
   "source": [
    "# Encode label to Attack Category\n",
    "for category in test_categories:\n",
    "    testsets[category]['class'] = category\n",
    "\n",
    "\n",
    "# Make testset\n",
    "final_testset = shuffle(pd.concat(testsets.values(), ignore_index=True)).reset_index(drop=True)\n",
    "\n",
    "# Statistic & Save\n",
    "print(f\"{10*'*'}TESTSET{10*'*'}\")\n",
    "print(f\" Shape: {final_testset.shape}\")\n",
    "for cat in test_categories:\n",
    "    print(f\"  - Num of {cat}:{len(final_testset[final_testset['class'] == cat])}\")\n",
    "dataset_save_path = final_dataset_path+'Testset/'+'KDDTest+.csv'\n",
    "final_testset.to_csv(dataset_save_path, index=False)\n",
    "print(f\"Saved Sucessfully at: {dataset_save_path}\")"
   ]
  },
  {
   "cell_type": "code",
   "execution_count": null,
   "metadata": {},
   "outputs": [],
   "source": []
  }
 ],
 "metadata": {
  "colab": {
   "authorship_tag": "ABX9TyMvoqR+3XC+PhGMC0CfHH0q",
   "collapsed_sections": [],
   "mount_file_id": "1igRsqMNjNr34Q9ciN9Y790N4yi1t0o5f",
   "name": "Make Dataset Final",
   "provenance": [],
   "toc_visible": true
  },
  "kernelspec": {
   "display_name": "Python 3 (ipykernel)",
   "language": "python",
   "name": "python3"
  },
  "language_info": {
   "codemirror_mode": {
    "name": "ipython",
    "version": 3
   },
   "file_extension": ".py",
   "mimetype": "text/x-python",
   "name": "python",
   "nbconvert_exporter": "python",
   "pygments_lexer": "ipython3",
   "version": "3.11.4"
  }
 },
 "nbformat": 4,
 "nbformat_minor": 4
}
