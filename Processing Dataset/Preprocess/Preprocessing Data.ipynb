{
 "cells": [
  {
   "cell_type": "markdown",
   "metadata": {
    "colab_type": "text",
    "id": "HfVbgm_IdnMH"
   },
   "source": [
    "# **0.  Mount Drive & Khai báo đường dẫn**"
   ]
  },
  {
   "cell_type": "code",
   "execution_count": 68,
   "metadata": {
    "colab": {},
    "colab_type": "code",
    "id": "uW-RHzMwdsG5"
   },
   "outputs": [],
   "source": [
    "# PATH\n",
    "# Dataset Path\n",
    "dataset_path = \"E:/An toàn thông tin/Code/Dataset/\"\n",
    "\n",
    "# Dataset including attack-type labels and difficulty level\n",
    "train_set_source_path = dataset_path + 'NSL-KDD/csv_label&score/KDDTrain+.csv'\n",
    "test_set_source_path = dataset_path + 'NSL-KDD/csv_label&score/KDDTest+.csv'\n",
    "# Dataset Preprocessed Path\n",
    "dataset_preprocessed_path = dataset_path + \"NSL-KDD Preprocessed/Preprocess Encode and Normalize\""
   ]
  },
  {
   "cell_type": "markdown",
   "metadata": {
    "colab_type": "text",
    "id": "DZkqASdBS-QA"
   },
   "source": [
    "#**1. Chuẩn bị**"
   ]
  },
  {
   "cell_type": "markdown",
   "metadata": {
    "colab_type": "text",
    "id": "m27n3nFSTSv2"
   },
   "source": [
    "##**1.1 Import thư viện**"
   ]
  },
  {
   "cell_type": "code",
   "execution_count": 69,
   "metadata": {
    "colab": {},
    "colab_type": "code",
    "id": "YIQ708lZS2lF"
   },
   "outputs": [],
   "source": [
    "# Import Lib\n",
    "import pandas as pd\n",
    "import numpy as np"
   ]
  },
  {
   "cell_type": "markdown",
   "metadata": {
    "colab_type": "text",
    "id": "k72O0MHLFiYD"
   },
   "source": [
    "##**1.2. Load dataset**"
   ]
  },
  {
   "cell_type": "code",
   "execution_count": 70,
   "metadata": {
    "colab": {},
    "colab_type": "code",
    "id": "uC-wFVSIFo7G"
   },
   "outputs": [],
   "source": [
    "#Load Dataset\n",
    "train_set = pd.read_csv(train_set_source_path)\n",
    "\n",
    "# Make a copy of train, test set\n",
    "trainSet4Process = pd.read_csv(train_set_source_path)\n",
    "testSet4Process = pd.read_csv(test_set_source_path)"
   ]
  },
  {
   "cell_type": "markdown",
   "metadata": {
    "colab_type": "text",
    "id": "1aj-UZPbD-mf"
   },
   "source": [
    "# **2. Xử lý dữ liệu**\n",
    "Xử lý các trường non-number: protocol_type, service, flag, class\n",
    "\n",
    "> **Tập train:**\n",
    "* protocol_type: 3\n",
    "* service: 70\n",
    "* flag: 11\n",
    "\n",
    "> **Tập test:**\n",
    "* protocol_type: 3\n",
    "* service: 64\n",
    "* flag: 11\n",
    "\n",
    "> ***==> Sử dụng danh sách giá trị ở tập train để encode (Sử dụng danh sách các giá trị unique trong mỗi feature ở tập Train).***"
   ]
  },
  {
   "cell_type": "markdown",
   "metadata": {
    "colab_type": "text",
    "id": "V-u0IDb8ARBB"
   },
   "source": [
    "## **2.0. Khai báo một số biến toàn cục**"
   ]
  },
  {
   "cell_type": "code",
   "execution_count": 71,
   "metadata": {
    "colab": {},
    "colab_type": "code",
    "id": "L8IxCePmAQSE"
   },
   "outputs": [],
   "source": [
    "# Nonnumeric features: 2, 3, 4, 42\n",
    "NONNUMBERIC_FEATURES = ['protocol_type', 'service', 'flag']\n",
    "\n",
    "# Binary value features: 7, 12, 14, 20, 21, 22\n",
    "BINARY_FEATURES = ['land', 'logged_in', 'root_shell', 'num_outbound_cmds', 'is_host_login', 'is_guest_login']"
   ]
  },
  {
   "cell_type": "markdown",
   "metadata": {
    "colab_type": "text",
    "id": "THgopGhdHvx9"
   },
   "source": [
    "## **2.1 Preprocess data**\n",
    "\n",
    "###**1. Encode data**\n",
    "* Với index là chỉ số của text trong unique_list (services, flags, protocol_types)\n",
    "* Class: \n",
    " * Normal: 0\n",
    " * Annomaly: 1\n",
    "* Ngoài ra các trường có giá trị dạng Binary (1,0) thì chuyển sang dạng object để không cần phải chuẩn hóa (chỉ chuẩn hóa các feature có giá trị là số)\n",
    "\n",
    "###**2. Convert BINARY_FEATURES to object type**\n",
    "* Sau khi tiền dữ lý dữ liệu là bước chuẩn hóa dữ liệu (Normalize data) cho các numberic feature. \n",
    "* Để bỏ qua việc chuẩn hóa các Binary Feature, ta chuyển chúng về dạng object\n",
    "\n",
    "###**3. Del Score Feature**\n",
    "Xóa feature score do không sử dụng"
   ]
  },
  {
   "cell_type": "code",
   "execution_count": 72,
   "metadata": {
    "colab": {
     "base_uri": "https://localhost:8080/",
     "height": 357
    },
    "colab_type": "code",
    "executionInfo": {
     "elapsed": 12560,
     "status": "ok",
     "timestamp": 1592230039930,
     "user": {
      "displayName": "Tien LE KHAC",
      "photoUrl": "",
      "userId": "18298916241916904857"
     },
     "user_tz": -420
    },
    "id": "FSEsjg3ZtJw4",
    "outputId": "7479b1d3-7fd3-4514-f2c7-e59dca300ae7"
   },
   "outputs": [
    {
     "name": "stdout",
     "output_type": "stream",
     "text": [
      "protocol_type\n",
      "['tcp' 'udp' 'icmp']\n",
      "\n",
      "\n",
      "service\n",
      "['ftp_data' 'other' 'private' 'http' 'remote_job' 'name' 'netbios_ns'\n",
      " 'eco_i' 'mtp' 'telnet' 'finger' 'domain_u' 'supdup' 'uucp_path' 'Z39_50'\n",
      " 'smtp' 'csnet_ns' 'uucp' 'netbios_dgm' 'urp_i' 'auth' 'domain' 'ftp'\n",
      " 'bgp' 'ldap' 'ecr_i' 'gopher' 'vmnet' 'systat' 'http_443' 'efs' 'whois'\n",
      " 'imap4' 'iso_tsap' 'echo' 'klogin' 'link' 'sunrpc' 'login' 'kshell'\n",
      " 'sql_net' 'time' 'hostnames' 'exec' 'ntp_u' 'discard' 'nntp' 'courier'\n",
      " 'ctf' 'ssh' 'daytime' 'shell' 'netstat' 'pop_3' 'nnsp' 'IRC' 'pop_2'\n",
      " 'printer' 'tim_i' 'pm_dump' 'red_i' 'netbios_ssn' 'rje' 'X11' 'urh_i'\n",
      " 'http_8001' 'aol' 'http_2784' 'tftp_u' 'harvest']\n",
      "\n",
      "\n",
      "flag\n",
      "['SF' 'S0' 'REJ' 'RSTR' 'SH' 'RSTO' 'S1' 'RSTOS0' 'S3' 'S2' 'OTH']\n",
      "\n",
      "\n"
     ]
    }
   ],
   "source": [
    "# Print non-numberic before preprocess\n",
    "for feature in NONNUMBERIC_FEATURES:\n",
    "    print(\"{}\\n{}\\n\\n\".format(feature, train_set[feature].unique()))"
   ]
  },
  {
   "cell_type": "code",
   "execution_count": 73,
   "metadata": {
    "colab": {},
    "colab_type": "code",
    "id": "F97KafQBD1Iv"
   },
   "outputs": [],
   "source": [
    "# Preprocessing\n",
    "for dataset in [trainSet4Process, testSet4Process]:\n",
    "    # Encode for Non-Numberic Features\n",
    "    for feature in NONNUMBERIC_FEATURES:\n",
    "        listUniqueValues = train_set[feature].unique()\n",
    "        dataset[feature] = dataset[feature].replace(listUniqueValues, range(1, len(listUniqueValues) + 1)).astype(\"int\")\n",
    "    \n",
    "    # Convert BINARY_FEATURES to object type\n",
    "    for feature in BINARY_FEATURES:\n",
    "        dataset[feature] = dataset[feature].astype(\"object\")\n",
    "\n",
    "    # Delete Score Feature\n",
    "    del dataset['score']"
   ]
  },
  {
   "cell_type": "code",
   "execution_count": 74,
   "metadata": {
    "colab": {
     "base_uri": "https://localhost:8080/",
     "height": 1000
    },
    "colab_type": "code",
    "executionInfo": {
     "elapsed": 13075,
     "status": "ok",
     "timestamp": 1592230040478,
     "user": {
      "displayName": "Tien LE KHAC",
      "photoUrl": "",
      "userId": "18298916241916904857"
     },
     "user_tz": -420
    },
    "id": "Eucu89ON-YP8",
    "outputId": "447aef29-305a-421e-98e8-e8158e76fd56"
   },
   "outputs": [
    {
     "name": "stdout",
     "output_type": "stream",
     "text": [
      "====================================================================================================\n",
      "        duration  protocol_type  service  flag  src_bytes  dst_bytes land  \\\n",
      "0              0              1        1     1        491          0    0   \n",
      "1              0              2        2     1        146          0    0   \n",
      "2              0              1        3     2          0          0    0   \n",
      "3              0              1        4     1        232       8153    0   \n",
      "4              0              1        4     1        199        420    0   \n",
      "...          ...            ...      ...   ...        ...        ...  ...   \n",
      "125968         0              1        3     2          0          0    0   \n",
      "125969         8              2        3     1        105        145    0   \n",
      "125970         0              1       16     1       2231        384    0   \n",
      "125971         0              1       36     2          0          0    0   \n",
      "125972         0              1        1     1        151          0    0   \n",
      "\n",
      "        wrong_fragment  urgent  hot  ...  dst_host_srv_count  \\\n",
      "0                    0       0    0  ...                  25   \n",
      "1                    0       0    0  ...                   1   \n",
      "2                    0       0    0  ...                  26   \n",
      "3                    0       0    0  ...                 255   \n",
      "4                    0       0    0  ...                 255   \n",
      "...                ...     ...  ...  ...                 ...   \n",
      "125968               0       0    0  ...                  25   \n",
      "125969               0       0    0  ...                 244   \n",
      "125970               0       0    0  ...                  30   \n",
      "125971               0       0    0  ...                   8   \n",
      "125972               0       0    0  ...                  77   \n",
      "\n",
      "       dst_host_same_srv_rate  dst_host_diff_srv_rate  \\\n",
      "0                        0.17                    0.03   \n",
      "1                        0.00                    0.60   \n",
      "2                        0.10                    0.05   \n",
      "3                        1.00                    0.00   \n",
      "4                        1.00                    0.00   \n",
      "...                       ...                     ...   \n",
      "125968                   0.10                    0.06   \n",
      "125969                   0.96                    0.01   \n",
      "125970                   0.12                    0.06   \n",
      "125971                   0.03                    0.05   \n",
      "125972                   0.30                    0.03   \n",
      "\n",
      "       dst_host_same_src_port_rate  dst_host_srv_diff_host_rate  \\\n",
      "0                             0.17                         0.00   \n",
      "1                             0.88                         0.00   \n",
      "2                             0.00                         0.00   \n",
      "3                             0.03                         0.04   \n",
      "4                             0.00                         0.00   \n",
      "...                            ...                          ...   \n",
      "125968                        0.00                         0.00   \n",
      "125969                        0.01                         0.00   \n",
      "125970                        0.00                         0.00   \n",
      "125971                        0.00                         0.00   \n",
      "125972                        0.30                         0.00   \n",
      "\n",
      "        dst_host_serror_rate  dst_host_srv_serror_rate  dst_host_rerror_rate  \\\n",
      "0                       0.00                      0.00                  0.05   \n",
      "1                       0.00                      0.00                  0.00   \n",
      "2                       1.00                      1.00                  0.00   \n",
      "3                       0.03                      0.01                  0.00   \n",
      "4                       0.00                      0.00                  0.00   \n",
      "...                      ...                       ...                   ...   \n",
      "125968                  1.00                      1.00                  0.00   \n",
      "125969                  0.00                      0.00                  0.00   \n",
      "125970                  0.72                      0.00                  0.01   \n",
      "125971                  1.00                      1.00                  0.00   \n",
      "125972                  0.00                      0.00                  0.00   \n",
      "\n",
      "        dst_host_srv_rerror_rate    class  \n",
      "0                           0.00   normal  \n",
      "1                           0.00   normal  \n",
      "2                           0.00  neptune  \n",
      "3                           0.01   normal  \n",
      "4                           0.00   normal  \n",
      "...                          ...      ...  \n",
      "125968                      0.00  neptune  \n",
      "125969                      0.00   normal  \n",
      "125970                      0.00   normal  \n",
      "125971                      0.00  neptune  \n",
      "125972                      0.00   normal  \n",
      "\n",
      "[125973 rows x 42 columns]\n",
      "\n",
      "protocol_type\n",
      "[1 2 3]\n",
      "\n",
      "\n",
      "service\n",
      "[ 1  2  3  4  5  6  7  8  9 10 11 12 13 14 15 16 17 18 19 20 21 22 23 24\n",
      " 25 26 27 28 29 30 31 32 33 34 35 36 37 38 39 40 41 42 43 44 45 46 47 48\n",
      " 49 50 51 52 53 54 55 56 57 58 59 60 61 62 63 64 65 66 67 68 69 70]\n",
      "\n",
      "\n",
      "flag\n",
      "[ 1  2  3  4  5  6  7  8  9 10 11]\n",
      "\n",
      "\n",
      "====================================================================================================\n",
      "       duration  protocol_type  service  flag  src_bytes  dst_bytes land  \\\n",
      "0             0              1        3     3          0          0    0   \n",
      "1             0              1        3     3          0          0    0   \n",
      "2             2              1        1     1      12983          0    0   \n",
      "3             0              3        8     1         20          0    0   \n",
      "4             1              1       10     6          0         15    0   \n",
      "...         ...            ...      ...   ...        ...        ...  ...   \n",
      "22539         0              1       16     1        794        333    0   \n",
      "22540         0              1        4     1        317        938    0   \n",
      "22541         0              1        4     1      54540       8314    0   \n",
      "22542         0              2       12     1         42         42    0   \n",
      "22543         0              1       38     3          0          0    0   \n",
      "\n",
      "       wrong_fragment  urgent  hot  ...  dst_host_srv_count  \\\n",
      "0                   0       0    0  ...                  10   \n",
      "1                   0       0    0  ...                   1   \n",
      "2                   0       0    0  ...                  86   \n",
      "3                   0       0    0  ...                  57   \n",
      "4                   0       0    0  ...                  86   \n",
      "...               ...     ...  ...  ...                 ...   \n",
      "22539               0       0    0  ...                 141   \n",
      "22540               0       0    0  ...                 255   \n",
      "22541               0       0    2  ...                 255   \n",
      "22542               0       0    0  ...                 252   \n",
      "22543               0       0    0  ...                  21   \n",
      "\n",
      "      dst_host_same_srv_rate  dst_host_diff_srv_rate  \\\n",
      "0                       0.04                    0.06   \n",
      "1                       0.00                    0.06   \n",
      "2                       0.61                    0.04   \n",
      "3                       1.00                    0.00   \n",
      "4                       0.31                    0.17   \n",
      "...                      ...                     ...   \n",
      "22539                   0.72                    0.06   \n",
      "22540                   1.00                    0.00   \n",
      "22541                   1.00                    0.00   \n",
      "22542                   0.99                    0.01   \n",
      "22543                   0.08                    0.03   \n",
      "\n",
      "      dst_host_same_src_port_rate  dst_host_srv_diff_host_rate  \\\n",
      "0                            0.00                         0.00   \n",
      "1                            0.00                         0.00   \n",
      "2                            0.61                         0.02   \n",
      "3                            1.00                         0.28   \n",
      "4                            0.03                         0.02   \n",
      "...                           ...                          ...   \n",
      "22539                        0.01                         0.01   \n",
      "22540                        0.01                         0.01   \n",
      "22541                        0.00                         0.00   \n",
      "22542                        0.00                         0.00   \n",
      "22543                        0.00                         0.00   \n",
      "\n",
      "       dst_host_serror_rate  dst_host_srv_serror_rate  dst_host_rerror_rate  \\\n",
      "0                      0.00                       0.0                  1.00   \n",
      "1                      0.00                       0.0                  1.00   \n",
      "2                      0.00                       0.0                  0.00   \n",
      "3                      0.00                       0.0                  0.00   \n",
      "4                      0.00                       0.0                  0.83   \n",
      "...                     ...                       ...                   ...   \n",
      "22539                  0.01                       0.0                  0.00   \n",
      "22540                  0.01                       0.0                  0.00   \n",
      "22541                  0.00                       0.0                  0.07   \n",
      "22542                  0.00                       0.0                  0.00   \n",
      "22543                  0.00                       0.0                  0.44   \n",
      "\n",
      "       dst_host_srv_rerror_rate    class  \n",
      "0                          1.00  neptune  \n",
      "1                          1.00  neptune  \n",
      "2                          0.00   normal  \n",
      "3                          0.00    saint  \n",
      "4                          0.71    mscan  \n",
      "...                         ...      ...  \n",
      "22539                      0.00   normal  \n",
      "22540                      0.00   normal  \n",
      "22541                      0.07     back  \n",
      "22542                      0.00   normal  \n",
      "22543                      1.00    mscan  \n",
      "\n",
      "[22544 rows x 42 columns]\n",
      "\n",
      "protocol_type\n",
      "[1 3 2]\n",
      "\n",
      "\n",
      "service\n",
      "[ 3  1  8 10  4 16 23 25 54 48 46 26 33 12  9 29 34  2 17 11 18 32  7 37\n",
      " 15 38 21 19 14 28 22  6 57 30 20 39 27 44 42  5 50 40 41 52 43 35 51 60\n",
      " 56 53 49 47 62 59 13 24 55 63 58 31 64 45 36 69]\n",
      "\n",
      "\n",
      "flag\n",
      "[ 3  1  6  2  4  5  9 10  7  8 11]\n",
      "\n",
      "\n"
     ]
    }
   ],
   "source": [
    "# Print data after Preprocessing\n",
    "for dataset in [trainSet4Process, testSet4Process]:\n",
    "    print(\"{}\\n{}\\n\".format(100*'=', dataset))\n",
    "    for feature in NONNUMBERIC_FEATURES:\n",
    "        print(\"{}\\n{}\\n\\n\".format(feature, dataset[feature].unique()))"
   ]
  },
  {
   "cell_type": "markdown",
   "metadata": {
    "colab_type": "text",
    "id": "eXBr-AlUUY2C"
   },
   "source": [
    "## **2.2 Normalize data**\n",
    "Với các giá trị số, chuẩn hóa với hàm Min-Max chuyển giá trị về nằm trong khoảng [0,1]"
   ]
  },
  {
   "cell_type": "code",
   "execution_count": 75,
   "metadata": {
    "colab": {
     "base_uri": "https://localhost:8080/",
     "height": 71
    },
    "colab_type": "code",
    "executionInfo": {
     "elapsed": 13061,
     "status": "ok",
     "timestamp": 1592230040480,
     "user": {
      "displayName": "Tien LE KHAC",
      "photoUrl": "",
      "userId": "18298916241916904857"
     },
     "user_tz": -420
    },
    "id": "UyOXG2hzHp7S",
    "outputId": "75af15d0-d89f-4209-8c30-91950c9c7b2e"
   },
   "outputs": [
    {
     "name": "stdout",
     "output_type": "stream",
     "text": [
      "Number of numberic features: 35\n",
      "['duration', 'protocol_type', 'service', 'flag', 'src_bytes', 'dst_bytes', 'wrong_fragment', 'urgent', 'hot', 'num_failed_logins', 'num_compromised', 'su_attempted', 'num_root', 'num_file_creations', 'num_shells', 'num_access_files', 'count', 'srv_count', 'serror_rate', 'srv_serror_rate', 'rerror_rate', 'srv_rerror_rate', 'same_srv_rate', 'diff_srv_rate', 'srv_diff_host_rate', 'dst_host_count', 'dst_host_srv_count', 'dst_host_same_srv_rate', 'dst_host_diff_srv_rate', 'dst_host_same_src_port_rate', 'dst_host_srv_diff_host_rate', 'dst_host_serror_rate', 'dst_host_srv_serror_rate', 'dst_host_rerror_rate', 'dst_host_srv_rerror_rate']\n"
     ]
    }
   ],
   "source": [
    "# List numberic features\n",
    "numbericFeatures = list(trainSet4Process.select_dtypes(include=['int',\"float\"]).columns)\n",
    "print(\"Number of numberic features: {}\".format(len(numbericFeatures)))\n",
    "print(numbericFeatures)"
   ]
  },
  {
   "cell_type": "code",
   "execution_count": 76,
   "metadata": {
    "colab": {},
    "colab_type": "code",
    "id": "NT8Yx8ZvVtkq"
   },
   "outputs": [],
   "source": [
    "# Normalize with Min-Max\n",
    "for dataset in [trainSet4Process, testSet4Process]:\n",
    "    for numbericFeature in numbericFeatures:\n",
    "        max_ = dataset[numbericFeature].max()\n",
    "        min_ = dataset[numbericFeature].min()\n",
    "        if (max_ != min_):\n",
    "            dataset[numbericFeature] = dataset[numbericFeature].map(lambda x : (x - min_)/(max_ - min_))\n",
    "        else:\n",
    "            print(numbericFeature)"
   ]
  },
  {
   "cell_type": "code",
   "execution_count": 77,
   "metadata": {
    "colab": {
     "base_uri": "https://localhost:8080/",
     "height": 561
    },
    "colab_type": "code",
    "executionInfo": {
     "elapsed": 15095,
     "status": "ok",
     "timestamp": 1592230042538,
     "user": {
      "displayName": "Tien LE KHAC",
      "photoUrl": "",
      "userId": "18298916241916904857"
     },
     "user_tz": -420
    },
    "id": "oH4Dc9hVj9-i",
    "outputId": "0dd3f454-4b76-47cf-b0fb-69825744f4d8"
   },
   "outputs": [
    {
     "name": "stdout",
     "output_type": "stream",
     "text": [
      "====================================================================================================\n",
      "        duration  protocol_type   service  flag     src_bytes     dst_bytes  \\\n",
      "0       0.000000            0.0  0.000000   0.0  3.558064e-07  0.000000e+00   \n",
      "1       0.000000            0.5  0.014493   0.0  1.057999e-07  0.000000e+00   \n",
      "2       0.000000            0.0  0.028986   0.1  0.000000e+00  0.000000e+00   \n",
      "3       0.000000            0.0  0.043478   0.0  1.681203e-07  6.223962e-06   \n",
      "4       0.000000            0.0  0.043478   0.0  1.442067e-07  3.206260e-07   \n",
      "...          ...            ...       ...   ...           ...           ...   \n",
      "125968  0.000000            0.0  0.028986   0.1  0.000000e+00  0.000000e+00   \n",
      "125969  0.000186            0.5  0.028986   0.0  7.608895e-08  1.106923e-07   \n",
      "125970  0.000000            0.0  0.217391   0.0  1.616709e-06  2.931438e-07   \n",
      "125971  0.000000            0.0  0.507246   0.1  0.000000e+00  0.000000e+00   \n",
      "125972  0.000000            0.0  0.000000   0.0  1.094232e-07  0.000000e+00   \n",
      "\n",
      "       land  wrong_fragment  urgent  hot  ...  dst_host_srv_count  \\\n",
      "0         0             0.0     0.0  0.0  ...            0.098039   \n",
      "1         0             0.0     0.0  0.0  ...            0.003922   \n",
      "2         0             0.0     0.0  0.0  ...            0.101961   \n",
      "3         0             0.0     0.0  0.0  ...            1.000000   \n",
      "4         0             0.0     0.0  0.0  ...            1.000000   \n",
      "...     ...             ...     ...  ...  ...                 ...   \n",
      "125968    0             0.0     0.0  0.0  ...            0.098039   \n",
      "125969    0             0.0     0.0  0.0  ...            0.956863   \n",
      "125970    0             0.0     0.0  0.0  ...            0.117647   \n",
      "125971    0             0.0     0.0  0.0  ...            0.031373   \n",
      "125972    0             0.0     0.0  0.0  ...            0.301961   \n",
      "\n",
      "       dst_host_same_srv_rate  dst_host_diff_srv_rate  \\\n",
      "0                        0.17                    0.03   \n",
      "1                        0.00                    0.60   \n",
      "2                        0.10                    0.05   \n",
      "3                        1.00                    0.00   \n",
      "4                        1.00                    0.00   \n",
      "...                       ...                     ...   \n",
      "125968                   0.10                    0.06   \n",
      "125969                   0.96                    0.01   \n",
      "125970                   0.12                    0.06   \n",
      "125971                   0.03                    0.05   \n",
      "125972                   0.30                    0.03   \n",
      "\n",
      "       dst_host_same_src_port_rate  dst_host_srv_diff_host_rate  \\\n",
      "0                             0.17                         0.00   \n",
      "1                             0.88                         0.00   \n",
      "2                             0.00                         0.00   \n",
      "3                             0.03                         0.04   \n",
      "4                             0.00                         0.00   \n",
      "...                            ...                          ...   \n",
      "125968                        0.00                         0.00   \n",
      "125969                        0.01                         0.00   \n",
      "125970                        0.00                         0.00   \n",
      "125971                        0.00                         0.00   \n",
      "125972                        0.30                         0.00   \n",
      "\n",
      "        dst_host_serror_rate  dst_host_srv_serror_rate  dst_host_rerror_rate  \\\n",
      "0                       0.00                      0.00                  0.05   \n",
      "1                       0.00                      0.00                  0.00   \n",
      "2                       1.00                      1.00                  0.00   \n",
      "3                       0.03                      0.01                  0.00   \n",
      "4                       0.00                      0.00                  0.00   \n",
      "...                      ...                       ...                   ...   \n",
      "125968                  1.00                      1.00                  0.00   \n",
      "125969                  0.00                      0.00                  0.00   \n",
      "125970                  0.72                      0.00                  0.01   \n",
      "125971                  1.00                      1.00                  0.00   \n",
      "125972                  0.00                      0.00                  0.00   \n",
      "\n",
      "        dst_host_srv_rerror_rate    class  \n",
      "0                           0.00   normal  \n",
      "1                           0.00   normal  \n",
      "2                           0.00  neptune  \n",
      "3                           0.01   normal  \n",
      "4                           0.00   normal  \n",
      "...                          ...      ...  \n",
      "125968                      0.00  neptune  \n",
      "125969                      0.00   normal  \n",
      "125970                      0.00   normal  \n",
      "125971                      0.00  neptune  \n",
      "125972                      0.00   normal  \n",
      "\n",
      "[125973 rows x 42 columns]\n",
      "\n",
      "====================================================================================================\n",
      "       duration  protocol_type   service  flag     src_bytes  dst_bytes land  \\\n",
      "0      0.000000            0.0  0.029412   0.2  0.000000e+00   0.000000    0   \n",
      "1      0.000000            0.0  0.029412   0.2  0.000000e+00   0.000000    0   \n",
      "2      0.000035            0.0  0.000000   0.0  2.066513e-04   0.000000    0   \n",
      "3      0.000000            1.0  0.102941   0.0  3.183413e-07   0.000000    0   \n",
      "4      0.000017            0.0  0.132353   0.5  0.000000e+00   0.000011    0   \n",
      "...         ...            ...       ...   ...           ...        ...  ...   \n",
      "22539  0.000000            0.0  0.220588   0.0  1.263815e-05   0.000247    0   \n",
      "22540  0.000000            0.0  0.044118   0.0  5.045710e-06   0.000697    0   \n",
      "22541  0.000000            0.0  0.044118   0.0  8.681168e-04   0.006177    0   \n",
      "22542  0.000000            0.5  0.161765   0.0  6.685168e-07   0.000031    0   \n",
      "22543  0.000000            0.0  0.544118   0.2  0.000000e+00   0.000000    0   \n",
      "\n",
      "       wrong_fragment  urgent       hot  ...  dst_host_srv_count  \\\n",
      "0                 0.0     0.0  0.000000  ...            0.039216   \n",
      "1                 0.0     0.0  0.000000  ...            0.003922   \n",
      "2                 0.0     0.0  0.000000  ...            0.337255   \n",
      "3                 0.0     0.0  0.000000  ...            0.223529   \n",
      "4                 0.0     0.0  0.000000  ...            0.337255   \n",
      "...               ...     ...       ...  ...                 ...   \n",
      "22539             0.0     0.0  0.000000  ...            0.552941   \n",
      "22540             0.0     0.0  0.000000  ...            1.000000   \n",
      "22541             0.0     0.0  0.019802  ...            1.000000   \n",
      "22542             0.0     0.0  0.000000  ...            0.988235   \n",
      "22543             0.0     0.0  0.000000  ...            0.082353   \n",
      "\n",
      "      dst_host_same_srv_rate  dst_host_diff_srv_rate  \\\n",
      "0                       0.04                    0.06   \n",
      "1                       0.00                    0.06   \n",
      "2                       0.61                    0.04   \n",
      "3                       1.00                    0.00   \n",
      "4                       0.31                    0.17   \n",
      "...                      ...                     ...   \n",
      "22539                   0.72                    0.06   \n",
      "22540                   1.00                    0.00   \n",
      "22541                   1.00                    0.00   \n",
      "22542                   0.99                    0.01   \n",
      "22543                   0.08                    0.03   \n",
      "\n",
      "      dst_host_same_src_port_rate  dst_host_srv_diff_host_rate  \\\n",
      "0                            0.00                         0.00   \n",
      "1                            0.00                         0.00   \n",
      "2                            0.61                         0.02   \n",
      "3                            1.00                         0.28   \n",
      "4                            0.03                         0.02   \n",
      "...                           ...                          ...   \n",
      "22539                        0.01                         0.01   \n",
      "22540                        0.01                         0.01   \n",
      "22541                        0.00                         0.00   \n",
      "22542                        0.00                         0.00   \n",
      "22543                        0.00                         0.00   \n",
      "\n",
      "       dst_host_serror_rate  dst_host_srv_serror_rate  dst_host_rerror_rate  \\\n",
      "0                      0.00                       0.0                  1.00   \n",
      "1                      0.00                       0.0                  1.00   \n",
      "2                      0.00                       0.0                  0.00   \n",
      "3                      0.00                       0.0                  0.00   \n",
      "4                      0.00                       0.0                  0.83   \n",
      "...                     ...                       ...                   ...   \n",
      "22539                  0.01                       0.0                  0.00   \n",
      "22540                  0.01                       0.0                  0.00   \n",
      "22541                  0.00                       0.0                  0.07   \n",
      "22542                  0.00                       0.0                  0.00   \n",
      "22543                  0.00                       0.0                  0.44   \n",
      "\n",
      "       dst_host_srv_rerror_rate    class  \n",
      "0                          1.00  neptune  \n",
      "1                          1.00  neptune  \n",
      "2                          0.00   normal  \n",
      "3                          0.00    saint  \n",
      "4                          0.71    mscan  \n",
      "...                         ...      ...  \n",
      "22539                      0.00   normal  \n",
      "22540                      0.00   normal  \n",
      "22541                      0.07     back  \n",
      "22542                      0.00   normal  \n",
      "22543                      1.00    mscan  \n",
      "\n",
      "[22544 rows x 42 columns]\n",
      "\n"
     ]
    }
   ],
   "source": [
    "for dataset in [trainSet4Process, testSet4Process]:\n",
    "  print(\"{}\\n{}\\n\".format(100*'=', dataset))"
   ]
  },
  {
   "cell_type": "code",
   "execution_count": null,
   "metadata": {},
   "outputs": [],
   "source": []
  },
  {
   "cell_type": "markdown",
   "metadata": {
    "colab_type": "text",
    "id": "ANPfpvDwVUVQ"
   },
   "source": [
    "#**3. Lưu dataset**"
   ]
  },
  {
   "cell_type": "code",
   "execution_count": 78,
   "metadata": {
    "colab": {},
    "colab_type": "code",
    "id": "BUG18dmgJvTV"
   },
   "outputs": [],
   "source": [
    "# Save Dataset\n",
    "trainSet4Process.to_csv(dataset_preprocessed_path+'KDDTrain+.csv', index=False)\n",
    "testSet4Process.to_csv(dataset_preprocessed_path+'KDDTest+.csv', index=False)"
   ]
  },
  {
   "cell_type": "code",
   "execution_count": null,
   "metadata": {},
   "outputs": [],
   "source": []
  }
 ],
 "metadata": {
  "colab": {
   "authorship_tag": "ABX9TyMlGzEbN/JvEolXMLVDL/64",
   "collapsed_sections": [],
   "mount_file_id": "11nEdakVBNFjzcwcY_9K3SduNwHh-9X5f",
   "name": "Preprocessing Data",
   "provenance": [],
   "toc_visible": true
  },
  "kernelspec": {
   "display_name": "Python 3 (ipykernel)",
   "language": "python",
   "name": "python3"
  },
  "language_info": {
   "codemirror_mode": {
    "name": "ipython",
    "version": 3
   },
   "file_extension": ".py",
   "mimetype": "text/x-python",
   "name": "python",
   "nbconvert_exporter": "python",
   "pygments_lexer": "ipython3",
   "version": "3.11.4"
  }
 },
 "nbformat": 4,
 "nbformat_minor": 4
}
