{
 "cells": [
  {
   "cell_type": "markdown",
   "metadata": {
    "colab_type": "text",
    "id": "HfVbgm_IdnMH"
   },
   "source": [
    "# **1. Paths - Libs**"
   ]
  },
  {
   "cell_type": "markdown",
   "metadata": {
    "colab_type": "text",
    "id": "ZZpwkzARtYWL"
   },
   "source": [
    "## **Paths**"
   ]
  },
  {
   "cell_type": "code",
   "execution_count": 8,
   "metadata": {},
   "outputs": [],
   "source": [
    "%run models.py"
   ]
  },
  {
   "cell_type": "code",
   "execution_count": 9,
   "metadata": {},
   "outputs": [],
   "source": [
    "%run constants.py"
   ]
  },
  {
   "cell_type": "code",
   "execution_count": 10,
   "metadata": {},
   "outputs": [],
   "source": [
    "%run models_gpu.py"
   ]
  },
  {
   "cell_type": "code",
   "execution_count": 11,
   "metadata": {
    "colab": {},
    "colab_type": "code",
    "executionInfo": {
     "elapsed": 1497,
     "status": "ok",
     "timestamp": 1594439957983,
     "user": {
      "displayName": "Tien LE KHAC",
      "photoUrl": "https://lh3.googleusercontent.com/a-/AOh14GhATILfEwLuvrRlBGPMrmY7nclZNsxGKzoqqHB_Cg=s64",
      "userId": "18298916241916904857"
     },
     "user_tz": -420
    },
    "id": "uW-RHzMwdsG5"
   },
   "outputs": [],
   "source": [
    "# Dataset Path\n",
    "DatasetPath = \"E:/An toàn thông tin/Code/Dataset/NSL-KDD Processed/Final - For Using/\"\n",
    "train_dataset_path = DatasetPath + \"Trainset/\" + \"IDS.csv\"\n",
    "test_dataset_path = DatasetPath + \"Testset/\" + \"KDDTest+.csv\"\n",
    "\n",
    "# Save Model Path\n",
    "SavedModelPath = \"E:/An toàn thông tin/Code/Saved Model/IDSModel/\""
   ]
  },
  {
   "cell_type": "markdown",
   "metadata": {
    "colab_type": "text",
    "id": "KqQ6bln4tbyj"
   },
   "source": [
    "##**Libs**"
   ]
  },
  {
   "cell_type": "code",
   "execution_count": 12,
   "metadata": {
    "colab": {},
    "colab_type": "code",
    "executionInfo": {
     "elapsed": 4100,
     "status": "ok",
     "timestamp": 1594439960644,
     "user": {
      "displayName": "Tien LE KHAC",
      "photoUrl": "https://lh3.googleusercontent.com/a-/AOh14GhATILfEwLuvrRlBGPMrmY7nclZNsxGKzoqqHB_Cg=s64",
      "userId": "18298916241916904857"
     },
     "user_tz": -420
    },
    "id": "YIQ708lZS2lF"
   },
   "outputs": [],
   "source": [
    "# IMPORT LIBS\n",
    "import pandas as pd\n",
    "import numpy as np\n",
    "from sklearn.metrics import confusion_matrix\n",
    "from sklearn.utils import shuffle\n",
    "from sklearn.svm import SVC\n",
    "import pickle\n",
    "from constants import *\n",
    "from models import *\n",
    "from models_gpu import *\n",
    "\n",
    "from datetime import date\n",
    "import timeit\n",
    "import os"
   ]
  },
  {
   "cell_type": "markdown",
   "metadata": {
    "colab_type": "text",
    "id": "AEcyndswUIGp"
   },
   "source": [
    "## **Consts**"
   ]
  },
  {
   "cell_type": "code",
   "execution_count": 13,
   "metadata": {
    "colab": {},
    "colab_type": "code",
    "executionInfo": {
     "elapsed": 4089,
     "status": "ok",
     "timestamp": 1594439960646,
     "user": {
      "displayName": "Tien LE KHAC",
      "photoUrl": "https://lh3.googleusercontent.com/a-/AOh14GhATILfEwLuvrRlBGPMrmY7nclZNsxGKzoqqHB_Cg=s64",
      "userId": "18298916241916904857"
     },
     "user_tz": -420
    },
    "id": "ZvUkL-b2US1X"
   },
   "outputs": [],
   "source": [
    "ATTACK_CATEGORIES = ['DOS', 'U2R_AND_R2L']\n",
    "IDS_MODELS = {'DEFAULT': DefaultBlackboxIDS, 'SVM': SVM, 'MLP': MLP, 'LR': LR}"
   ]
  },
  {
   "cell_type": "markdown",
   "metadata": {
    "colab_type": "text",
    "id": "3Ljsym5CVV0f"
   },
   "source": [
    "#**2. Functions**"
   ]
  },
  {
   "cell_type": "markdown",
   "metadata": {
    "colab_type": "text",
    "id": "IWGJRCNY7nV1"
   },
   "source": [
    "## **Processing Data Functions**"
   ]
  },
  {
   "cell_type": "code",
   "execution_count": 14,
   "metadata": {
    "colab": {},
    "colab_type": "code",
    "executionInfo": {
     "elapsed": 4080,
     "status": "ok",
     "timestamp": 1594439960647,
     "user": {
      "displayName": "Tien LE KHAC",
      "photoUrl": "https://lh3.googleusercontent.com/a-/AOh14GhATILfEwLuvrRlBGPMrmY7nclZNsxGKzoqqHB_Cg=s64",
      "userId": "18298916241916904857"
     },
     "user_tz": -420
    },
    "id": "Dj37tVSB5ZmH"
   },
   "outputs": [],
   "source": [
    "# Processing Data\n",
    "# preprocess_data - Hàm tiền xử lý dữ liệu\n",
    "def preprocess_data(dataset, attack_category):\n",
    "    if attack_category not in ATTACK_CATEGORIES:\n",
    "        raise ValueError(\"Preprocess Data: Invalid Attack Category\")\n",
    "    attack_data = dataset[dataset['class'] == attack_category]\n",
    "    normal_data = dataset[dataset['class'] == 'Normal']\n",
    "    # Combine Data\n",
    "    combine_data = shuffle(pd.concat([attack_data, normal_data], ignore_index=True)).reset_index(drop=True)\n",
    "    # Convert class to Binary\n",
    "    combine_data[\"class\"] = combine_data[\"class\"].map(lambda x : 0 if x == \"Normal\" else 1)\n",
    "    # separate data and label\n",
    "    data, label = np.array(combine_data[combine_data.columns[combine_data.columns != \"class\"]]), np.array(combine_data[\"class\"])\n",
    "    return data, label\n",
    "\n",
    "# load_dataset - Load du lieu voi Attack Category\n",
    "def load_dataset(attack_category):\n",
    "    if attack_category not in ATTACK_CATEGORIES:\n",
    "        raise ValueError(\"Preprocess Data: Invalid Attack Category\")\n",
    "    # Load Dataset\n",
    "    train = pd.read_csv(train_dataset_path)\n",
    "    test = pd.read_csv(test_dataset_path)\n",
    "    trainx, trainy = preprocess_data(train, attack_category)\n",
    "    testx, testy = preprocess_data(test, attack_category)\n",
    "    return trainx, trainy, testx, testy"
   ]
  },
  {
   "cell_type": "markdown",
   "metadata": {
    "colab_type": "text",
    "id": "nDp5Uy_HaShp"
   },
   "source": [
    "# **3. Chạy - Run**"
   ]
  },
  {
   "cell_type": "code",
   "execution_count": 15,
   "metadata": {
    "cellView": "both",
    "colab": {},
    "colab_type": "code",
    "executionInfo": {
     "elapsed": 4074,
     "status": "ok",
     "timestamp": 1594439960648,
     "user": {
      "displayName": "Tien LE KHAC",
      "photoUrl": "https://lh3.googleusercontent.com/a-/AOh14GhATILfEwLuvrRlBGPMrmY7nclZNsxGKzoqqHB_Cg=s64",
      "userId": "18298916241916904857"
     },
     "user_tz": -420
    },
    "id": "L0YKhEqBdCnr"
   },
   "outputs": [],
   "source": [
    "ml_ids_model = \"SVM\" #@param [\"SVM\"]"
   ]
  },
  {
   "cell_type": "code",
   "execution_count": 16,
   "metadata": {
    "colab": {
     "base_uri": "https://localhost:8080/",
     "height": 35
    },
    "colab_type": "code",
    "executionInfo": {
     "elapsed": 4045,
     "status": "ok",
     "timestamp": 1594439960648,
     "user": {
      "displayName": "Tien LE KHAC",
      "photoUrl": "https://lh3.googleusercontent.com/a-/AOh14GhATILfEwLuvrRlBGPMrmY7nclZNsxGKzoqqHB_Cg=s64",
      "userId": "18298916241916904857"
     },
     "user_tz": -420
    },
    "id": "CqK_Kl0ZdomE",
    "outputId": "24e0a92c-7e85-4f18-c78f-c58318e00a24"
   },
   "outputs": [
    {
     "data": {
      "text/plain": [
       "'E:/An toàn thông tin/Code/Saved Model/IDSModel/'"
      ]
     },
     "execution_count": 16,
     "metadata": {},
     "output_type": "execute_result"
    }
   ],
   "source": [
    "SavedModelPath"
   ]
  },
  {
   "cell_type": "code",
   "execution_count": 17,
   "metadata": {
    "colab": {
     "base_uri": "https://localhost:8080/",
     "height": 153
    },
    "colab_type": "code",
    "executionInfo": {
     "elapsed": 20113,
     "status": "ok",
     "timestamp": 1594440046273,
     "user": {
      "displayName": "Tien LE KHAC",
      "photoUrl": "https://lh3.googleusercontent.com/a-/AOh14GhATILfEwLuvrRlBGPMrmY7nclZNsxGKzoqqHB_Cg=s64",
      "userId": "18298916241916904857"
     },
     "user_tz": -420
    },
    "id": "wpLSADbqWVZM",
    "outputId": "6e6dcfae-a4b8-4524-8efa-abbc8ed57cc9"
   },
   "outputs": [
    {
     "name": "stdout",
     "output_type": "stream",
     "text": [
      "Attack Category          Accuracy(%)           DR(%)      Runtime(s)\n",
      "-----------------------------------------------------------------\n",
      "DOS                            90.52           79.25           15.82\n",
      "0.9052472191485644\n",
      " > Model Path: /DOS/Machine_Learning/created_date_2023-11-28_sklearn_SVM.pkl\n",
      "U2R_AND_R2L                    76.67            0.20            7.23\n",
      "0.7667219458264234\n",
      " > Model Path: /U2R_AND_R2L/Machine_Learning/created_date_2023-11-28_sklearn_SVM.pkl\n"
     ]
    }
   ],
   "source": [
    "labels = ['Attack Category', 'Accuracy(%)', 'DR(%)', 'Runtime(s)']\n",
    "print(\"{: <20} {: >15} {: >15} {: >15}\".format(*labels))\n",
    "print(65*'-')\n",
    "\n",
    "for attack_category in ATTACK_CATEGORIES:\n",
    "    start = timeit.default_timer()\n",
    "    out_val = []\n",
    "    out_val.append(attack_category)\n",
    "    trainx, trainy, testx, testy = load_dataset(attack_category)\n",
    "    ids = SVC()\n",
    "    ids.fit(trainx, trainy)\n",
    "\n",
    "    score = ids.score(testx, testy)\n",
    "    pred_testy = ids.predict(testx)\n",
    "    tn, fn, fp, tp = confusion_matrix(testy, pred_testy).ravel()\n",
    "    accuracy = (tn + tp)/len(testy)*100\n",
    "    out_val.append(str(f\"{accuracy:.2f}\"))\n",
    "    dr = tp/(tp + fp)*100\n",
    "    out_val.append(str(f\"{dr:.2f}\"))\n",
    "    runtime = str(f\"{timeit.default_timer() - start:.2f}\")\n",
    "    out_val.append(runtime)\n",
    "    print(\"{: <20} {: >15} {: >15} {: >15}\".format(*out_val))\n",
    "    print(score)\n",
    "    # Save Model\n",
    "    save_category_path = attack_category + '/Machine_Learning/'\n",
    "    if not os.path.exists(SavedModelPath + save_category_path):\n",
    "        os.makedirs(SavedModelPath + save_category_path)\n",
    "    \n",
    "    today = str(date.today())\n",
    "    \n",
    "    short_model_path = save_category_path + \"created_date_\" + today + \"_sklearn_\" + ml_ids_model +\".pkl\"\n",
    "    full_model_path = SavedModelPath + short_model_path\n",
    "    with open(full_model_path, 'wb') as file:\n",
    "        pickle.dump(ids, file)\n",
    "        print(f\" > Model Path: /{short_model_path}\")"
   ]
  },
  {
   "cell_type": "markdown",
   "metadata": {
    "colab_type": "text",
    "id": "mwWugTozppL5"
   },
   "source": [
    "The Saved Model stored in [Google Drive - BlackBox IDS Model](https://drive.google.com/drive/u/1/folders/1M-xotvruMlkFNaQWPf9bpBpzgPhPLpiH)  \n",
    "The Result of Code stored in [Github - Thesis](https://github.com/thetinybug/thesis-IDSGAN)"
   ]
  },
  {
   "cell_type": "code",
   "execution_count": null,
   "metadata": {},
   "outputs": [],
   "source": []
  },
  {
   "cell_type": "code",
   "execution_count": null,
   "metadata": {},
   "outputs": [],
   "source": []
  }
 ],
 "metadata": {
  "colab": {
   "collapsed_sections": [],
   "name": "1. IDS/Machine_Learning_IDS/sklearn_SVM.ipynb",
   "provenance": [],
   "toc_visible": true
  },
  "kernelspec": {
   "display_name": "Python 3 (ipykernel)",
   "language": "python",
   "name": "python3"
  },
  "language_info": {
   "codemirror_mode": {
    "name": "ipython",
    "version": 3
   },
   "file_extension": ".py",
   "mimetype": "text/x-python",
   "name": "python",
   "nbconvert_exporter": "python",
   "pygments_lexer": "ipython3",
   "version": "3.11.4"
  }
 },
 "nbformat": 4,
 "nbformat_minor": 4
}
