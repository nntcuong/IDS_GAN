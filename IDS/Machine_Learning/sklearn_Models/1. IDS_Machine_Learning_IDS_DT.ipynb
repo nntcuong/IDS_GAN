{
 "cells": [
  {
   "cell_type": "markdown",
   "metadata": {
    "colab_type": "text",
    "id": "HfVbgm_IdnMH"
   },
   "source": [
    "# **1. Paths - Libs**"
   ]
  },
  {
   "cell_type": "markdown",
   "metadata": {
    "colab_type": "text",
    "id": "ZZpwkzARtYWL"
   },
   "source": [
    "## **Paths**"
   ]
  },
  {
   "cell_type": "code",
   "execution_count": 6,
   "metadata": {},
   "outputs": [],
   "source": [
    "# Dataset Path\n",
    "DatasetPath = \"E:/An toàn thông tin/Code/Dataset/NSL-KDD Processed/Final - For Using/\"\n",
    "train_dataset_path = DatasetPath + \"Trainset/\" + \"IDS.csv\"\n",
    "test_dataset_path = DatasetPath + \"Testset/\" + \"KDDTest+.csv\"\n",
    "\n",
    "# Save Model Path\n",
    "SavedModelPath = \"E:/An toàn thông tin/Code/Saved Model/IDSModel/\""
   ]
  },
  {
   "cell_type": "markdown",
   "metadata": {
    "colab_type": "text",
    "id": "KqQ6bln4tbyj"
   },
   "source": [
    "##**Libs**"
   ]
  },
  {
   "cell_type": "code",
   "execution_count": 7,
   "metadata": {
    "colab": {},
    "colab_type": "code",
    "id": "YIQ708lZS2lF"
   },
   "outputs": [],
   "source": [
    "# IMPORT LIBS\n",
    "import pandas as pd\n",
    "import numpy as np\n",
    "from sklearn.metrics import confusion_matrix\n",
    "from sklearn.utils import shuffle\n",
    "from sklearn.tree import DecisionTreeClassifier\n",
    "import pickle\n",
    "\n",
    "from datetime import date\n",
    "import timeit\n",
    "import os"
   ]
  },
  {
   "cell_type": "code",
   "execution_count": 9,
   "metadata": {},
   "outputs": [],
   "source": [
    "%run models_gpu.py\n"
   ]
  },
  {
   "cell_type": "code",
   "execution_count": 10,
   "metadata": {},
   "outputs": [],
   "source": [
    "import  models_gpu"
   ]
  },
  {
   "cell_type": "markdown",
   "metadata": {
    "colab_type": "text",
    "id": "AEcyndswUIGp"
   },
   "source": [
    "## **Consts**"
   ]
  },
  {
   "cell_type": "code",
   "execution_count": 11,
   "metadata": {
    "colab": {},
    "colab_type": "code",
    "id": "ZvUkL-b2US1X"
   },
   "outputs": [],
   "source": [
    "ATTACK_CATEGORIES = ['DOS', 'U2R_AND_R2L']\n",
    "IDS_MODELS = {'DEFAULT': DefaultBlackboxIDS, 'SVM': SVM, 'MLP': MLP, 'LR': LR}"
   ]
  },
  {
   "cell_type": "markdown",
   "metadata": {
    "colab_type": "text",
    "id": "3Ljsym5CVV0f"
   },
   "source": [
    "#**2. Functions**"
   ]
  },
  {
   "cell_type": "markdown",
   "metadata": {
    "colab_type": "text",
    "id": "IWGJRCNY7nV1"
   },
   "source": [
    "## **Processing Data Functions**"
   ]
  },
  {
   "cell_type": "code",
   "execution_count": 9,
   "metadata": {
    "colab": {},
    "colab_type": "code",
    "id": "Dj37tVSB5ZmH"
   },
   "outputs": [],
   "source": [
    "# Processing Data\n",
    "# preprocess_data - Hàm tiền xử lý dữ liệu\n",
    "def preprocess_data(dataset, attack_category):\n",
    "    if attack_category not in ATTACK_CATEGORIES:\n",
    "        raise ValueError(\"Preprocess Data: Invalid Attack Category\")\n",
    "    attack_data = dataset[dataset['class'] == attack_category]\n",
    "    normal_data = dataset[dataset['class'] == 'Normal']\n",
    "    # Combine Data\n",
    "    combine_data = shuffle(pd.concat([attack_data, normal_data], ignore_index=True)).reset_index(drop=True)\n",
    "    # Convert class to Binary\n",
    "    combine_data[\"class\"] = combine_data[\"class\"].map(lambda x : 0 if x == \"Normal\" else 1)\n",
    "    print(f\"Amount of records: {combine_data.shape[0]}\")\n",
    "    print(f\"Amount of {attack_category} Traffic: {attack_data.shape[0]}\")\n",
    "    print(f\"Amount of Normal Traffic: {normal_data.shape[0]}\")\n",
    "    # separate data and label\n",
    "    data, label = np.array(combine_data[combine_data.columns[combine_data.columns != \"class\"]]), np.array(combine_data[\"class\"])\n",
    "    return data, label\n",
    "\n",
    "# load_dataset - Load du lieu voi Attack Category\n",
    "def load_dataset(attack_category):\n",
    "    if attack_category not in ATTACK_CATEGORIES:\n",
    "        raise ValueError(\"Preprocess Data: Invalid Attack Category\")\n",
    "    # Load Dataset\n",
    "    train = pd.read_csv(train_dataset_path)\n",
    "    test = pd.read_csv(test_dataset_path)\n",
    "    print(\"***TRAINSET***\")\n",
    "    trainx, trainy = preprocess_data(train, attack_category)\n",
    "     print(\"***TESTSET***\")\n",
    "    testx, testy = preprocess_data(test, attack_category)\n",
    "    return trainx, trainy, testx, testy\n",
    "# create_batch1 - Hàm tạo Batch\n",
    "def create_batch1(x,y,batch_size):\n",
    "    a = list(range(len(x)))\n",
    "    np.random.shuffle(a)\n",
    "    x = x[a]\n",
    "    y = y[a]\n",
    "    batch_x = [x[batch_size * i : (i+1)*batch_size,:].tolist() for i in range(len(x)//batch_size)]\n",
    "    batch_y = [y[batch_size * i : (i+1)*batch_size].tolist() for i in range(len(x)//batch_size)]\n",
    "    return batch_x, batch_y "
   ]
  },
  {
   "cell_type": "markdown",
   "metadata": {
    "colab_type": "text",
    "id": "nDp5Uy_HaShp"
   },
   "source": [
    "# **3. Chạy - Run**"
   ]
  },
  {
   "cell_type": "code",
   "execution_count": 10,
   "metadata": {
    "cellView": "both",
    "colab": {},
    "colab_type": "code",
    "id": "L0YKhEqBdCnr"
   },
   "outputs": [],
   "source": [
    "ml_ids_model = \"DT\" #@param [\"DT\"]"
   ]
  },
  {
   "cell_type": "code",
   "execution_count": 11,
   "metadata": {
    "colab": {
     "base_uri": "https://localhost:8080/",
     "height": 35
    },
    "colab_type": "code",
    "executionInfo": {
     "elapsed": 1254,
     "status": "ok",
     "timestamp": 1594198730282,
     "user": {
      "displayName": "Tien LE KHAC",
      "photoUrl": "https://lh3.googleusercontent.com/a-/AOh14GhATILfEwLuvrRlBGPMrmY7nclZNsxGKzoqqHB_Cg=s64",
      "userId": "18298916241916904857"
     },
     "user_tz": -420
    },
    "id": "CqK_Kl0ZdomE",
    "outputId": "804dd5fb-a2f0-4d07-f8ec-36f74bc95289"
   },
   "outputs": [
    {
     "data": {
      "text/plain": [
       "'E:/An toàn thông tin/Code/Saved Model/IDSModel/'"
      ]
     },
     "execution_count": 11,
     "metadata": {},
     "output_type": "execute_result"
    }
   ],
   "source": [
    "SavedModelPath"
   ]
  },
  {
   "cell_type": "code",
   "execution_count": 12,
   "metadata": {
    "colab": {
     "base_uri": "https://localhost:8080/",
     "height": 34
    },
    "colab_type": "code",
    "executionInfo": {
     "elapsed": 2064,
     "status": "ok",
     "timestamp": 1594198731108,
     "user": {
      "displayName": "Tien LE KHAC",
      "photoUrl": "https://lh3.googleusercontent.com/a-/AOh14GhATILfEwLuvrRlBGPMrmY7nclZNsxGKzoqqHB_Cg=s64",
      "userId": "18298916241916904857"
     },
     "user_tz": -420
    },
    "id": "yr2epGMsm0TA",
    "outputId": "6c756cd8-17c2-4058-998d-4cfa148f83eb"
   },
   "outputs": [
    {
     "name": "stdout",
     "output_type": "stream",
     "text": [
      "0.9018694310174131\n"
     ]
    }
   ],
   "source": [
    "trainx, trainy, testx, testy = load_dataset('DOS')\n",
    "\n",
    "dt = DecisionTreeClassifier()\n",
    "dt.fit(trainx, trainy)\n",
    "\n",
    "print(dt.score(testx, testy))"
   ]
  },
  {
   "cell_type": "code",
   "execution_count": 13,
   "metadata": {
    "colab": {
     "base_uri": "https://localhost:8080/",
     "height": 119
    },
    "colab_type": "code",
    "executionInfo": {
     "elapsed": 2445,
     "status": "ok",
     "timestamp": 1594199288399,
     "user": {
      "displayName": "Tien LE KHAC",
      "photoUrl": "https://lh3.googleusercontent.com/a-/AOh14GhATILfEwLuvrRlBGPMrmY7nclZNsxGKzoqqHB_Cg=s64",
      "userId": "18298916241916904857"
     },
     "user_tz": -420
    },
    "id": "wpLSADbqWVZM",
    "outputId": "10164b77-871b-4ffe-9f02-cc6ace6c608e"
   },
   "outputs": [
    {
     "name": "stdout",
     "output_type": "stream",
     "text": [
      "Attack Category          Accuracy(%)           DR(%)      Runtime(s)\n",
      "-----------------------------------------------------------------\n",
      "DOS                            90.18           81.64            0.61\n",
      " > Saved Model to disk: /DOS/Machine_Learning/created_date_2023-11-24_DT.pkl\n",
      "U2R_AND_R2L                    83.59           36.14            0.47\n",
      " > Saved Model to disk: /U2R_AND_R2L/Machine_Learning/created_date_2023-11-24_DT.pkl\n"
     ]
    }
   ],
   "source": [
    "labels = ['Attack Category', 'Accuracy(%)', 'DR(%)', 'Runtime(s)']\n",
    "print(\"{: <20} {: >15} {: >15} {: >15}\".format(*labels))\n",
    "print(65*'-')\n",
    "\n",
    "for attack_category in ATTACK_CATEGORIES:\n",
    "    start = timeit.default_timer()\n",
    "    out_val = []\n",
    "    out_val.append(attack_category)\n",
    "    trainx, trainy, testx, testy = load_dataset(attack_category)\n",
    "    dt = DecisionTreeClassifier()\n",
    "    dt.fit(trainx, trainy)\n",
    "\n",
    "    pred_testy = dt.predict(testx)\n",
    "    tn, fn, fp, tp = confusion_matrix(testy, pred_testy).ravel()\n",
    "    accuracy = (tn + tp)/len(testy)*100\n",
    "    out_val.append(str(f\"{accuracy:.2f}\"))\n",
    "    dr = tp/(tp + fp)*100\n",
    "    out_val.append(str(f\"{dr:.2f}\"))\n",
    "    runtime = str(f\"{timeit.default_timer() - start:.2f}\")\n",
    "    out_val.append(runtime)\n",
    "    print(\"{: <20} {: >15} {: >15} {: >15}\".format(*out_val))\n",
    "    # Save Model\n",
    "    save_category_path = attack_category + '/Machine_Learning/'\n",
    "    if not os.path.exists(SavedModelPath + save_category_path):\n",
    "        os.makedirs(SavedModelPath + save_category_path)\n",
    "    \n",
    "    today = str(date.today())\n",
    "    \n",
    "    short_model_path = save_category_path + \"created_date_\" + today + \"_DT.pkl\"\n",
    "    full_model_path = SavedModelPath + short_model_path\n",
    "    with open(full_model_path, 'wb') as file:\n",
    "        pickle.dump(dt, file)\n",
    "        print(f\" > Saved Model to disk: /{short_model_path}\")"
   ]
  },
  {
   "cell_type": "markdown",
   "metadata": {
    "colab_type": "text",
    "id": "mwWugTozppL5"
   },
   "source": [
    "The Saved Model stored in [Google Drive - BlackBox IDS Model](https://drive.google.com/drive/u/1/folders/1M-xotvruMlkFNaQWPf9bpBpzgPhPLpiH)  \n",
    "The Result of Code stored in [Github - Thesis](https://github.com/thetinybug/thesis-IDSGAN)"
   ]
  }
 ],
 "metadata": {
  "colab": {
   "collapsed_sections": [
    "ZZpwkzARtYWL"
   ],
   "name": "1. IDS/Machine_Learning_IDS/DT.ipynb",
   "provenance": []
  },
  "kernelspec": {
   "display_name": "Python 3 (ipykernel)",
   "language": "python",
   "name": "python3"
  },
  "language_info": {
   "codemirror_mode": {
    "name": "ipython",
    "version": 3
   },
   "file_extension": ".py",
   "mimetype": "text/x-python",
   "name": "python",
   "nbconvert_exporter": "python",
   "pygments_lexer": "ipython3",
   "version": "3.11.4"
  }
 },
 "nbformat": 4,
 "nbformat_minor": 4
}
