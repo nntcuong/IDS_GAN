{
 "cells": [
  {
   "cell_type": "markdown",
   "metadata": {
    "colab_type": "text",
    "id": "HfVbgm_IdnMH"
   },
   "source": [
    "# **1. Paths - Libs**"
   ]
  },
  {
   "cell_type": "markdown",
   "metadata": {
    "colab_type": "text",
    "id": "ZZpwkzARtYWL"
   },
   "source": [
    "## **Paths**"
   ]
  },
  {
   "cell_type": "code",
   "execution_count": 1,
   "metadata": {},
   "outputs": [],
   "source": [
    "# Dataset Path\n",
    "DatasetPath = \"E:/An toàn thông tin/Code/Dataset/NSL-KDD Processed/Final - For Using/\"\n",
    "train_dataset_path = DatasetPath + \"Trainset/\" + \"IDS.csv\"\n",
    "test_dataset_path = DatasetPath + \"Testset/\" + \"KDDTest+.csv\"\n",
    "\n",
    "# Save Model Path\n",
    "SavedModelPath = \"E:/An toàn thông tin/Code/Saved Model/IDSModel/\""
   ]
  },
  {
   "cell_type": "markdown",
   "metadata": {
    "colab_type": "text",
    "id": "KqQ6bln4tbyj"
   },
   "source": [
    "##**Libs**"
   ]
  },
  {
   "cell_type": "code",
   "execution_count": 2,
   "metadata": {
    "colab": {},
    "colab_type": "code",
    "id": "fsyjLcLJts3s"
   },
   "outputs": [],
   "source": [
    "# INSTALL LIBS\n",
    "# !pip3 install numpy adabound torc sklearn matplotlib pandas"
   ]
  },
  {
   "cell_type": "code",
   "execution_count": 3,
   "metadata": {
    "colab": {},
    "colab_type": "code",
    "id": "YIQ708lZS2lF"
   },
   "outputs": [],
   "source": [
    "# IMPORT LIBS\n",
    "import pandas as pd\n",
    "import numpy as np\n",
    "from sklearn.metrics import confusion_matrix\n",
    "from sklearn.utils import shuffle\n",
    "from sklearn.linear_model import LogisticRegression\n",
    "import pickle\n",
    "\n",
    "from datetime import date\n",
    "import timeit\n",
    "import os"
   ]
  },
  {
   "cell_type": "markdown",
   "metadata": {
    "colab_type": "text",
    "id": "AEcyndswUIGp"
   },
   "source": [
    "## **Consts**"
   ]
  },
  {
   "cell_type": "code",
   "execution_count": 4,
   "metadata": {
    "colab": {},
    "colab_type": "code",
    "id": "ZvUkL-b2US1X"
   },
   "outputs": [],
   "source": [
    "ATTACK_CATEGORIES = ['DOS', 'U2R_AND_R2L']"
   ]
  },
  {
   "cell_type": "markdown",
   "metadata": {
    "colab_type": "text",
    "id": "3Ljsym5CVV0f"
   },
   "source": [
    "#**2. Functions**"
   ]
  },
  {
   "cell_type": "markdown",
   "metadata": {
    "colab_type": "text",
    "id": "IWGJRCNY7nV1"
   },
   "source": [
    "## **Processing Data Functions**"
   ]
  },
  {
   "cell_type": "code",
   "execution_count": 5,
   "metadata": {
    "colab": {},
    "colab_type": "code",
    "id": "Dj37tVSB5ZmH"
   },
   "outputs": [],
   "source": [
    "# Processing Data\n",
    "# preprocess_data - Hàm tiền xử lý dữ liệu\n",
    "def preprocess_data(dataset, attack_category):\n",
    "    if attack_category not in ATTACK_CATEGORIES:\n",
    "        raise ValueError(\"Preprocess Data: Invalid Attack Category\")\n",
    "    attack_data = dataset[dataset['class'] == attack_category]\n",
    "    normal_data = dataset[dataset['class'] == 'Normal']\n",
    "    # Combine Data\n",
    "    combine_data = shuffle(pd.concat([attack_data, normal_data], ignore_index=True)).reset_index(drop=True)\n",
    "    # Convert class to Binary\n",
    "    combine_data[\"class\"] = combine_data[\"class\"].map(lambda x : 0 if x == \"Normal\" else 1)\n",
    "    # separate data and label\n",
    "    data, label = np.array(combine_data[combine_data.columns[combine_data.columns != \"class\"]]), np.array(combine_data[\"class\"])\n",
    "    return data, label\n",
    "\n",
    "# load_dataset - Load du lieu voi Attack Category\n",
    "def load_dataset(attack_category):\n",
    "    if attack_category not in ATTACK_CATEGORIES:\n",
    "        raise ValueError(\"Preprocess Data: Invalid Attack Category\")\n",
    "    # Load Dataset\n",
    "    train = pd.read_csv(train_dataset_path)\n",
    "    test = pd.read_csv(test_dataset_path)\n",
    "    trainx, trainy = preprocess_data(train, attack_category)\n",
    "    testx, testy = preprocess_data(test, attack_category)\n",
    "    return trainx, trainy, testx, testy"
   ]
  },
  {
   "cell_type": "markdown",
   "metadata": {
    "colab_type": "text",
    "id": "nDp5Uy_HaShp"
   },
   "source": [
    "# **3. Chạy - Run**"
   ]
  },
  {
   "cell_type": "code",
   "execution_count": 6,
   "metadata": {
    "cellView": "both",
    "colab": {},
    "colab_type": "code",
    "id": "L0YKhEqBdCnr"
   },
   "outputs": [],
   "source": [
    "ml_ids_model = \"LR\" #@param [\"LR\"]"
   ]
  },
  {
   "cell_type": "code",
   "execution_count": 7,
   "metadata": {
    "colab": {
     "base_uri": "https://localhost:8080/",
     "height": 35
    },
    "colab_type": "code",
    "executionInfo": {
     "elapsed": 1050,
     "status": "ok",
     "timestamp": 1594369286166,
     "user": {
      "displayName": "Tien LE KHAC",
      "photoUrl": "https://lh3.googleusercontent.com/a-/AOh14GhATILfEwLuvrRlBGPMrmY7nclZNsxGKzoqqHB_Cg=s64",
      "userId": "18298916241916904857"
     },
     "user_tz": -420
    },
    "id": "CqK_Kl0ZdomE",
    "outputId": "2cdcf100-fc91-48bf-e429-1cab5e1c9d3d"
   },
   "outputs": [
    {
     "data": {
      "text/plain": [
       "'E:/An toàn thông tin/Code/Saved Model/IDSModel/'"
      ]
     },
     "execution_count": 7,
     "metadata": {},
     "output_type": "execute_result"
    }
   ],
   "source": [
    "SavedModelPath"
   ]
  },
  {
   "cell_type": "code",
   "execution_count": 8,
   "metadata": {
    "colab": {
     "base_uri": "https://localhost:8080/",
     "height": 309
    },
    "colab_type": "code",
    "executionInfo": {
     "elapsed": 4223,
     "status": "ok",
     "timestamp": 1594369289361,
     "user": {
      "displayName": "Tien LE KHAC",
      "photoUrl": "https://lh3.googleusercontent.com/a-/AOh14GhATILfEwLuvrRlBGPMrmY7nclZNsxGKzoqqHB_Cg=s64",
      "userId": "18298916241916904857"
     },
     "user_tz": -420
    },
    "id": "wpLSADbqWVZM",
    "outputId": "a86fc22a-8ac7-4b88-f6e6-ad913fcad576"
   },
   "outputs": [
    {
     "name": "stdout",
     "output_type": "stream",
     "text": [
      "Attack Category          Accuracy(%)           DR(%)      Runtime(s)\n",
      "-----------------------------------------------------------------\n"
     ]
    },
    {
     "name": "stderr",
     "output_type": "stream",
     "text": [
      "C:\\Users\\ACER\\AppData\\Roaming\\Python\\Python311\\site-packages\\sklearn\\linear_model\\_logistic.py:460: ConvergenceWarning: lbfgs failed to converge (status=1):\n",
      "STOP: TOTAL NO. of ITERATIONS REACHED LIMIT.\n",
      "\n",
      "Increase the number of iterations (max_iter) or scale the data as shown in:\n",
      "    https://scikit-learn.org/stable/modules/preprocessing.html\n",
      "Please also refer to the documentation for alternative solver options:\n",
      "    https://scikit-learn.org/stable/modules/linear_model.html#logistic-regression\n",
      "  n_iter_i = _check_optimize_result(\n"
     ]
    },
    {
     "name": "stdout",
     "output_type": "stream",
     "text": [
      "DOS                            89.83           79.40            1.31\n",
      "0.8982586919806651\n",
      " > Model Path: /DOS/Machine_Learning/created_date_2023-11-28_LogicticRegression.pkl\n",
      "U2R_AND_R2L                    76.74            0.44            0.83\n",
      "0.7674326778804391\n",
      " > Model Path: /U2R_AND_R2L/Machine_Learning/created_date_2023-11-28_LogicticRegression.pkl\n"
     ]
    }
   ],
   "source": [
    "labels = ['Attack Category', 'Accuracy(%)', 'DR(%)', 'Runtime(s)']\n",
    "print(\"{: <20} {: >15} {: >15} {: >15}\".format(*labels))\n",
    "print(65*'-')\n",
    "\n",
    "for attack_category in ATTACK_CATEGORIES:\n",
    "    start = timeit.default_timer()\n",
    "    out_val = []\n",
    "    out_val.append(attack_category)\n",
    "    trainx, trainy, testx, testy = load_dataset(attack_category)\n",
    "    ids = LogisticRegression()\n",
    "    ids.fit(trainx, trainy)\n",
    "\n",
    "    score = ids.score(testx, testy)\n",
    "    pred_testy = ids.predict(testx)\n",
    "    tn, fn, fp, tp = confusion_matrix(testy, pred_testy).ravel()\n",
    "    accuracy = (tn + tp)/len(testy)*100\n",
    "    out_val.append(str(f\"{accuracy:.2f}\"))\n",
    "    dr = tp/(tp + fp)*100\n",
    "    out_val.append(str(f\"{dr:.2f}\"))\n",
    "    runtime = str(f\"{timeit.default_timer() - start:.2f}\")\n",
    "    out_val.append(runtime)\n",
    "    print(\"{: <20} {: >15} {: >15} {: >15}\".format(*out_val))\n",
    "    print(score)\n",
    "    # Save Model\n",
    "    save_category_path = attack_category + '/Machine_Learning/'\n",
    "    if not os.path.exists(SavedModelPath + save_category_path):\n",
    "        os.makedirs(SavedModelPath + save_category_path)\n",
    "    \n",
    "    today = str(date.today())\n",
    "    \n",
    "    short_model_path = save_category_path + \"created_date_\" + today + \"_\" + \"LogicticRegression.pkl\"\n",
    "    full_model_path = SavedModelPath + short_model_path\n",
    "    with open(full_model_path, 'wb') as file:\n",
    "        pickle.dump(ids, file)\n",
    "        print(f\" > Model Path: /{short_model_path}\")"
   ]
  },
  {
   "cell_type": "markdown",
   "metadata": {
    "colab_type": "text",
    "id": "mwWugTozppL5"
   },
   "source": [
    "The Saved Model stored in [Google Drive - BlackBox IDS Model](https://drive.google.com/drive/u/1/folders/1M-xotvruMlkFNaQWPf9bpBpzgPhPLpiH)  \n",
    "The Result of Code stored in [Github - Thesis](https://github.com/thetinybug/thesis-IDSGAN)"
   ]
  }
 ],
 "metadata": {
  "colab": {
   "collapsed_sections": [],
   "name": "1. IDS/Machine_Learning_IDS/LR.ipynb",
   "provenance": [],
   "toc_visible": true
  },
  "kernelspec": {
   "display_name": "Python 3 (ipykernel)",
   "language": "python",
   "name": "python3"
  },
  "language_info": {
   "codemirror_mode": {
    "name": "ipython",
    "version": 3
   },
   "file_extension": ".py",
   "mimetype": "text/x-python",
   "name": "python",
   "nbconvert_exporter": "python",
   "pygments_lexer": "ipython3",
   "version": "3.11.4"
  }
 },
 "nbformat": 4,
 "nbformat_minor": 4
}
