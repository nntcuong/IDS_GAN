{
 "cells": [
  {
   "cell_type": "markdown",
   "metadata": {
    "colab_type": "text",
    "id": "HfVbgm_IdnMH"
   },
   "source": [
    "# **1. Paths - Libs**"
   ]
  },
  {
   "cell_type": "markdown",
   "metadata": {
    "colab_type": "text",
    "id": "ZZpwkzARtYWL"
   },
   "source": [
    "## **Paths**"
   ]
  },
  {
   "cell_type": "code",
   "execution_count": 1,
   "metadata": {
    "colab": {},
    "colab_type": "code",
    "id": "uW-RHzMwdsG5"
   },
   "outputs": [],
   "source": [
    "# Dataset Path\n",
    "DatasetPath = \"E:/An toàn thông tin/Code/Dataset/NSL-KDD Processed/Final - For Using/\"\n",
    "train_dataset_path = DatasetPath + \"Trainset/\" + \"IDS.csv\"\n",
    "test_dataset_path = DatasetPath + \"Testset/\" + \"KDDTest+.csv\"\n",
    "\n",
    "# Save Model Path\n",
    "SavedModelPath = \"E:/An toàn thông tin/Code/Saved Model/IDSModel/\""
   ]
  },
  {
   "cell_type": "markdown",
   "metadata": {
    "colab_type": "text",
    "id": "KqQ6bln4tbyj"
   },
   "source": [
    "##**Libs**"
   ]
  },
  {
   "cell_type": "code",
   "execution_count": 2,
   "metadata": {
    "colab": {},
    "colab_type": "code",
    "id": "YIQ708lZS2lF"
   },
   "outputs": [],
   "source": [
    "# IMPORT LIBS\n",
    "import pandas as pd\n",
    "import numpy as np\n",
    "import torch as th\n",
    "from torch.autograd import Variable as V\n",
    "import torch.autograd as autograd\n",
    "import torch.nn as nn\n",
    "import torch.nn.functional as F\n",
    "import torch.optim as optim\n",
    "from sklearn.metrics import confusion_matrix\n",
    "from sklearn.utils import shuffle\n",
    "from sklearn.naive_bayes import GaussianNB, MultinomialNB, ComplementNB, BernoulliNB, CategoricalNB\n",
    "import pickle\n",
    "\n",
    "from datetime import date\n",
    "import timeit\n",
    "import os"
   ]
  },
  {
   "cell_type": "markdown",
   "metadata": {
    "colab_type": "text",
    "id": "AEcyndswUIGp"
   },
   "source": [
    "## **Consts**"
   ]
  },
  {
   "cell_type": "code",
   "execution_count": 3,
   "metadata": {
    "colab": {},
    "colab_type": "code",
    "id": "ZvUkL-b2US1X"
   },
   "outputs": [],
   "source": [
    "ATTACK_CATEGORIES = ['DOS', 'U2R_AND_R2L']"
   ]
  },
  {
   "cell_type": "markdown",
   "metadata": {
    "colab_type": "text",
    "id": "3Ljsym5CVV0f"
   },
   "source": [
    "#**2. Functions**"
   ]
  },
  {
   "cell_type": "markdown",
   "metadata": {
    "colab_type": "text",
    "id": "IWGJRCNY7nV1"
   },
   "source": [
    "## **Processing Data Functions**"
   ]
  },
  {
   "cell_type": "code",
   "execution_count": 4,
   "metadata": {
    "colab": {},
    "colab_type": "code",
    "id": "Dj37tVSB5ZmH"
   },
   "outputs": [],
   "source": [
    "# Processing Data\n",
    "# preprocess_data - Hàm tiền xử lý dữ liệu\n",
    "def preprocess_data(dataset, attack_category):\n",
    "    if attack_category not in ATTACK_CATEGORIES:\n",
    "        raise ValueError(\"Preprocess Data: Invalid Attack Category\")\n",
    "    attack_data = dataset[dataset['class'] == attack_category]\n",
    "    normal_data = dataset[dataset['class'] == 'Normal']\n",
    "    # Combine Data\n",
    "    combine_data = shuffle(pd.concat([attack_data, normal_data], ignore_index=True)).reset_index(drop=True)\n",
    "    # Convert class to Binary\n",
    "    combine_data[\"class\"] = combine_data[\"class\"].map(lambda x : 0 if x == \"Normal\" else 1)\n",
    "    # print(f\"Amount of records: {combine_data.shape[0]}\")\n",
    "    # print(f\"Amount of {attack_category} Traffic: {attack_data.shape[0]}\")\n",
    "    # print(f\"Amount of Normal Traffic: {normal_data.shape[0]}\")\n",
    "    # separate data and label\n",
    "    data, label = np.array(combine_data[combine_data.columns[combine_data.columns != \"class\"]]), np.array(combine_data[\"class\"])\n",
    "    return data, label\n",
    "\n",
    "# load_dataset - Load du lieu voi Attack Category\n",
    "def load_dataset(attack_category):\n",
    "    if attack_category not in ATTACK_CATEGORIES:\n",
    "        raise ValueError(\"Preprocess Data: Invalid Attack Category\")\n",
    "    # Load Dataset\n",
    "    train = pd.read_csv(train_dataset_path)\n",
    "    test = pd.read_csv(test_dataset_path)\n",
    "    # Preprocess Data\n",
    "    # print(\"***TRAINSET***\")\n",
    "    trainx, trainy = preprocess_data(train, attack_category)\n",
    "    # print(\"***TESTSET***\")\n",
    "    testx, testy = preprocess_data(test, attack_category)\n",
    "    return trainx, trainy, testx, testy"
   ]
  },
  {
   "cell_type": "markdown",
   "metadata": {
    "colab_type": "text",
    "id": "nDp5Uy_HaShp"
   },
   "source": [
    "# **3. Chạy - Run**"
   ]
  },
  {
   "cell_type": "code",
   "execution_count": 5,
   "metadata": {
    "cellView": "form",
    "colab": {},
    "colab_type": "code",
    "id": "L0YKhEqBdCnr"
   },
   "outputs": [],
   "source": [
    "ml_ids_model = \"NB\" #@param [\"NB\"]"
   ]
  },
  {
   "cell_type": "code",
   "execution_count": 6,
   "metadata": {
    "colab": {
     "base_uri": "https://localhost:8080/",
     "height": 35
    },
    "colab_type": "code",
    "executionInfo": {
     "elapsed": 1795,
     "status": "ok",
     "timestamp": 1594196470274,
     "user": {
      "displayName": "Tien LE KHAC",
      "photoUrl": "https://lh3.googleusercontent.com/a-/AOh14GhATILfEwLuvrRlBGPMrmY7nclZNsxGKzoqqHB_Cg=s64",
      "userId": "18298916241916904857"
     },
     "user_tz": -420
    },
    "id": "CqK_Kl0ZdomE",
    "outputId": "4d83c10b-9128-47c9-fd85-e5a9a443a862"
   },
   "outputs": [
    {
     "data": {
      "text/plain": [
       "'E:/An toàn thông tin/Code/Saved Model/IDSModel/'"
      ]
     },
     "execution_count": 6,
     "metadata": {},
     "output_type": "execute_result"
    }
   ],
   "source": [
    "SavedModelPath"
   ]
  },
  {
   "cell_type": "code",
   "execution_count": 7,
   "metadata": {
    "colab": {
     "base_uri": "https://localhost:8080/",
     "height": 425
    },
    "colab_type": "code",
    "executionInfo": {
     "elapsed": 5421,
     "status": "ok",
     "timestamp": 1594197380141,
     "user": {
      "displayName": "Tien LE KHAC",
      "photoUrl": "https://lh3.googleusercontent.com/a-/AOh14GhATILfEwLuvrRlBGPMrmY7nclZNsxGKzoqqHB_Cg=s64",
      "userId": "18298916241916904857"
     },
     "user_tz": -420
    },
    "id": "wpLSADbqWVZM",
    "outputId": "ed1670e0-31b0-4b89-abd8-293d47e14a11"
   },
   "outputs": [
    {
     "name": "stdout",
     "output_type": "stream",
     "text": [
      "====================================================================================================\n",
      " ATTACK CATEGORY: DOS\n",
      "     NB Model                 Accuracy(%)           DR(%)      Runtime(s)\n",
      "     -----------------------------------------------------------------\n",
      "     GaussianNB                     78.68           78.36            0.53\n",
      "      > Saved Model to disk: /DOS/Machine_Learning/NB/created_date_2023-11-27_GaussianNB.pkl\n",
      "     MultinomialNB                  85.99           69.71            0.44\n",
      "      > Saved Model to disk: /DOS/Machine_Learning/NB/created_date_2023-11-27_MultinomialNB.pkl\n",
      "     ComplementNB                   86.04           70.01            0.41\n",
      "      > Saved Model to disk: /DOS/Machine_Learning/NB/created_date_2023-11-27_ComplementNB.pkl\n",
      "     BernoulliNB                    86.93           71.17            0.42\n",
      "      > Saved Model to disk: /DOS/Machine_Learning/NB/created_date_2023-11-27_BernoulliNB.pkl\n",
      "====================================================================================================\n",
      " ATTACK CATEGORY: U2R_AND_R2L\n",
      "     NB Model                 Accuracy(%)           DR(%)      Runtime(s)\n",
      "     -----------------------------------------------------------------\n",
      "     GaussianNB                     39.18           78.05            0.38\n",
      "      > Saved Model to disk: /U2R_AND_R2L/Machine_Learning/NB/created_date_2023-11-27_GaussianNB.pkl\n",
      "     MultinomialNB                  76.80            0.71            0.36\n",
      "      > Saved Model to disk: /U2R_AND_R2L/Machine_Learning/NB/created_date_2023-11-27_MultinomialNB.pkl\n",
      "     ComplementNB                   82.89           41.26            0.35\n",
      "      > Saved Model to disk: /U2R_AND_R2L/Machine_Learning/NB/created_date_2023-11-27_ComplementNB.pkl\n",
      "     BernoulliNB                    80.87           19.92            0.38\n",
      "      > Saved Model to disk: /U2R_AND_R2L/Machine_Learning/NB/created_date_2023-11-27_BernoulliNB.pkl\n"
     ]
    }
   ],
   "source": [
    "NBMODELS1 = {'GaussianNB' :GaussianNB, 'MultinomialNB' :MultinomialNB, 'ComplementNB' :ComplementNB, 'BernoulliNB' :BernoulliNB}\n",
    "\n",
    "for attack_category in ATTACK_CATEGORIES:\n",
    "    print(f\"{100* '='}\\n ATTACK CATEGORY: {attack_category}\")\n",
    "    labels = ['NB Model', 'Accuracy(%)', 'DR(%)', 'Runtime(s)']\n",
    "    print(\"     {: <20} {: >15} {: >15} {: >15}\".format(*labels))\n",
    "    print('    ', 65*'-')\n",
    "    for model_name, nb_model in NBMODELS1.items():\n",
    "        start = timeit.default_timer()\n",
    "        out_val = []\n",
    "        out_val.append(model_name)\n",
    "        \n",
    "        trainx, trainy, testx, testy = load_dataset(attack_category)\n",
    "        nb = nb_model()\n",
    "        nb.fit(trainx, trainy)\n",
    "\n",
    "        pred_testy = nb.predict(testx)\n",
    "        tn, fn, fp, tp = confusion_matrix(testy, pred_testy).ravel()\n",
    "        accuracy = (tn + tp)/len(testy)*100\n",
    "        out_val.append(str(f\"{accuracy:.2f}\"))\n",
    "        dr = tp/(tp + fp)*100\n",
    "        out_val.append(str(f\"{dr:.2f}\"))\n",
    "        runtime = str(f\"{timeit.default_timer() - start:.2f}\")\n",
    "        out_val.append(runtime)\n",
    "        print(\"     {: <20} {: >15} {: >15} {: >15}\".format(*out_val))\n",
    "        # Save Model\n",
    "        save_category_path = attack_category + '/Machine_Learning/' + ml_ids_model + '/'\n",
    "        if not os.path.exists(SavedModelPath + save_category_path):\n",
    "            os.makedirs(SavedModelPath + save_category_path)\n",
    "        \n",
    "        today = str(date.today())\n",
    "        \n",
    "        short_model_path = save_category_path + \"created_date_\" + today + \"_\" + model_name + \".pkl\"\n",
    "        full_model_path = SavedModelPath + short_model_path\n",
    "        with open(full_model_path, 'wb') as file:\n",
    "            pickle.dump(nb, file)\n",
    "            print(f\"      > Saved Model to disk: /{short_model_path}\")\n",
    "\n"
   ]
  },
  {
   "cell_type": "markdown",
   "metadata": {
    "colab_type": "text",
    "id": "dWwXC6NahMXo"
   },
   "source": [
    "***--> Cant not run with CategoricalNB***"
   ]
  },
  {
   "cell_type": "markdown",
   "metadata": {
    "colab_type": "text",
    "id": "mwWugTozppL5"
   },
   "source": [
    "The Saved Model stored in [Google Drive - BlackBox IDS Model](https://drive.google.com/drive/u/1/folders/1M-xotvruMlkFNaQWPf9bpBpzgPhPLpiH)  \n",
    "The Result of Code stored in [Github - Thesis](https://github.com/thetinybug/thesis-IDSGAN)"
   ]
  }
 ],
 "metadata": {
  "colab": {
   "collapsed_sections": [
    "ZZpwkzARtYWL"
   ],
   "name": "1. IDS/Machine_Learning_IDS/NB.ipynb",
   "provenance": []
  },
  "kernelspec": {
   "display_name": "Python 3 (ipykernel)",
   "language": "python",
   "name": "python3"
  },
  "language_info": {
   "codemirror_mode": {
    "name": "ipython",
    "version": 3
   },
   "file_extension": ".py",
   "mimetype": "text/x-python",
   "name": "python",
   "nbconvert_exporter": "python",
   "pygments_lexer": "ipython3",
   "version": "3.11.4"
  }
 },
 "nbformat": 4,
 "nbformat_minor": 4
}
